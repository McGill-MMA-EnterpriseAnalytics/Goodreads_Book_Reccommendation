{
 "cells": [
  {
   "attachments": {},
   "cell_type": "markdown",
   "metadata": {},
   "source": [
    "Login information for goodreads"
   ]
  },
  {
   "cell_type": "code",
   "execution_count": 1,
   "metadata": {},
   "outputs": [],
   "source": [
    "import requests\n",
    "from pprint import pprint\n",
    "import datetime\n",
    "from bs4 import BeautifulSoup\n",
    "import pandas as pd\n",
    "import re\n",
    "cookies = {\n",
    "    'ccsid': '027-9406763-1350835',\n",
    "    '__qca': 'P0-867993267-1671835417644',\n",
    "    'p': 'BFnM5Q76wF0shLrczPEWD6Ai6glvalBOI0HQnM7wAheYffUa',\n",
    "    'likely_has_account': 'true',\n",
    "    'srb_8': '0_ar',\n",
    "    'locale': 'en',\n",
    "    'csm-sid': '438-4025740-7454350',\n",
    "    'allow_behavioral_targeting': 'true',\n",
    "    'session-id': '147-4067731-5921029',\n",
    "    'lc-main': 'en_US',\n",
    "    'logged_out_browsing_page_count': '2',\n",
    "    'ubid-main': '131-6414756-0108314',\n",
    "    'csm-hit': 'tb:9FKSJEW3PZPAQZKSV74Z+s-9FKSJEW3PZPAQZKSV74Z|1675549894918&t:1675549894919&adb:adblk_yes',\n",
    "    'session-id-time': '2306269930l',\n",
    "    'session-token': 'fmlMtndkzGiWYItedsruMqFs9+7dbrKkjWxwS050IWs57BCY8RQJGXxU8qPn+6lNucog+VtoV/qrLn6eBpe8GwFqeSA75LzytrwlvgKScLWr62XYbJJg36UcoVnTCNaBAUkT+jhZdWNLpHXEQ/T3fsq03ctsMB7GChLcVrF/10rEk0ETQ5LmuUN5ordUvBjgbgf/wLazQPbG5Ia8rmhh/Gyptwz9N0ilyQSLx5h7pVc1fl4z+U3O3seFJdO2xI8M',\n",
    "    'x-main': '\"QKUGsTWzgOIn1MQ?MLW6M7?W9sXe6vT8lOfYIRdLo30O9fDyRRuxqM6Up6QliSso\"',\n",
    "    'at-main': 'Atza|IwEBIE9-j0Q56LUPug78YuRWyKfqUI-71kqBUKBSv9o0pgXoEdWRTp3QanY2PVmzS5kuRKhJ-2Qf2Y2Xza8aOzNTehTteyzG_d1HL64CDYGBvcFiM3J3K6q-_iEKTHPqIuFGTC7GBQffrkFancRYWCUTNK7ii9qpL1Qvc-lEAmj5xJFsos2I98msXxsTvgVFMUfr1rhJK6CfvkpCAIziz2lPcltlQCWaFsR10_Le_ytyKVYeIZ18m-F1bXhhejn7mTwQJl0',\n",
    "    'sess-at-main': '\"f/c/JR/xicYEmsJ7sGnJySc4uAQ6ojXuaOFFChXMGho=\"',\n",
    "    '_session_id2': '64c06a0ae25fee31093af8a3bf3f79e1',\n",
    "}\n",
    "\n",
    "headers = {\n",
    "    'Accept': 'text/html,application/xhtml+xml,application/xml;q=0.9,image/avif,image/webp,image/apng,*/*;q=0.8,application/signed-exchange;v=b3;q=0.9',\n",
    "    'Accept-Language': 'en-US,en;q=0.9',\n",
    "    'Cache-Control': 'max-age=0',\n",
    "    'Connection': 'keep-alive',\n",
    "    # 'Cookie': 'ccsid=027-9406763-1350835; __qca=P0-867993267-1671835417644; p=BFnM5Q76wF0shLrczPEWD6Ai6glvalBOI0HQnM7wAheYffUa; likely_has_account=true; srb_8=0_ar; locale=en; csm-sid=438-4025740-7454350; allow_behavioral_targeting=true; session-id=147-4067731-5921029; lc-main=en_US; logged_out_browsing_page_count=2; ubid-main=131-6414756-0108314; csm-hit=tb:9FKSJEW3PZPAQZKSV74Z+s-9FKSJEW3PZPAQZKSV74Z|1675549894918&t:1675549894919&adb:adblk_yes; session-id-time=2306269930l; session-token=fmlMtndkzGiWYItedsruMqFs9+7dbrKkjWxwS050IWs57BCY8RQJGXxU8qPn+6lNucog+VtoV/qrLn6eBpe8GwFqeSA75LzytrwlvgKScLWr62XYbJJg36UcoVnTCNaBAUkT+jhZdWNLpHXEQ/T3fsq03ctsMB7GChLcVrF/10rEk0ETQ5LmuUN5ordUvBjgbgf/wLazQPbG5Ia8rmhh/Gyptwz9N0ilyQSLx5h7pVc1fl4z+U3O3seFJdO2xI8M; x-main=\"QKUGsTWzgOIn1MQ?MLW6M7?W9sXe6vT8lOfYIRdLo30O9fDyRRuxqM6Up6QliSso\"; at-main=Atza|IwEBIE9-j0Q56LUPug78YuRWyKfqUI-71kqBUKBSv9o0pgXoEdWRTp3QanY2PVmzS5kuRKhJ-2Qf2Y2Xza8aOzNTehTteyzG_d1HL64CDYGBvcFiM3J3K6q-_iEKTHPqIuFGTC7GBQffrkFancRYWCUTNK7ii9qpL1Qvc-lEAmj5xJFsos2I98msXxsTvgVFMUfr1rhJK6CfvkpCAIziz2lPcltlQCWaFsR10_Le_ytyKVYeIZ18m-F1bXhhejn7mTwQJl0; sess-at-main=\"f/c/JR/xicYEmsJ7sGnJySc4uAQ6ojXuaOFFChXMGho=\"; _session_id2=64c06a0ae25fee31093af8a3bf3f79e1',\n",
    "    'If-None-Match': 'W/\"087d62f3d9fcbed8836cb66e1e0c2bef\"',\n",
    "    'Referer': 'https://www.goodreads.com/',\n",
    "    'Sec-Fetch-Dest': 'document',\n",
    "    'Sec-Fetch-Mode': 'navigate',\n",
    "    'Sec-Fetch-Site': 'same-origin',\n",
    "    'Sec-Fetch-User': '?1',\n",
    "    'Upgrade-Insecure-Requests': '1',\n",
    "    'User-Agent': 'Mozilla/5.0 (Macintosh; Intel Mac OS X 10_15_7) AppleWebKit/537.36 (KHTML, like Gecko) Chrome/109.0.0.0 Safari/537.36',\n",
    "    'sec-ch-ua': '\"Not_A Brand\";v=\"99\", \"Google Chrome\";v=\"109\", \"Chromium\";v=\"109\"',\n",
    "    'sec-ch-ua-mobile': '?0',\n",
    "    'sec-ch-ua-platform': '\"macOS\"',\n",
    "}\n",
    "\n",
    "params = {\n",
    "    'ref': 'nav_comm_people',\n",
    "}"
   ]
  },
  {
   "cell_type": "code",
   "execution_count": 2,
   "metadata": {},
   "outputs": [],
   "source": [
    "user_types = ['https://www.goodreads.com/user/best_reviewers', 'https://www.goodreads.com/user/top_reviewers','https://www.goodreads.com/user/top_readers']\n",
    "countries = ['?country=CA','?country=all','?country=US','?country=US','?country=AU','?country=SC', '?country=NZ','?country=IE','?country=GB', '?country=SG', '?country=GB','?country=DO', '?country=TT', '?country=MT', '?country=BB','?country=LC','?country=GY']\n",
    "time_frame = ['&duration=w','&duration=m', '&duration=y','&duration=a']"
   ]
  },
  {
   "cell_type": "code",
   "execution_count": 3,
   "metadata": {},
   "outputs": [],
   "source": [
    "users = set()\n",
    "for type in user_types: \n",
    "    for country in countries:\n",
    "        for time in time_frame:\n",
    "            url = type+country+time\n",
    "            response = requests.get(url, params=params, cookies=cookies, headers=headers)\n",
    "            soup = BeautifulSoup(response.content, 'html.parser')\n",
    "            tab = soup.find(\"table\",{\"class\":\"tableList\"})\n",
    "            if tab is None:\n",
    "                continue\n",
    "            else:\n",
    "                trs = tab.find_all('tr')\n",
    "                for t in trs: \n",
    "                    s = t.find_all('td')[1].find('a',href = True)['href']\n",
    "                    user_id = re.findall(r'\\d+',s)[0]\n",
    "                    users.add(user_id)"
   ]
  },
  {
   "cell_type": "code",
   "execution_count": 4,
   "metadata": {},
   "outputs": [
    {
     "data": {
      "text/plain": [
       "7840"
      ]
     },
     "execution_count": 4,
     "metadata": {},
     "output_type": "execute_result"
    }
   ],
   "source": [
    "len(users)"
   ]
  }
 ],
 "metadata": {
  "kernelspec": {
   "display_name": "base",
   "language": "python",
   "name": "python3"
  },
  "language_info": {
   "codemirror_mode": {
    "name": "ipython",
    "version": 3
   },
   "file_extension": ".py",
   "mimetype": "text/x-python",
   "name": "python",
   "nbconvert_exporter": "python",
   "pygments_lexer": "ipython3",
   "version": "3.8.8 (default, Apr 13 2021, 12:59:45) \n[Clang 10.0.0 ]"
  },
  "orig_nbformat": 4,
  "vscode": {
   "interpreter": {
    "hash": "40d3a090f54c6569ab1632332b64b2c03c39dcf918b08424e98f38b5ae0af88f"
   }
  }
 },
 "nbformat": 4,
 "nbformat_minor": 2
}
