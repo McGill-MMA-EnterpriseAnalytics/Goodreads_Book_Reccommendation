{
 "cells": [
  {
   "cell_type": "code",
   "execution_count": 2,
   "metadata": {},
   "outputs": [],
   "source": [
    "# Asynchronous\n",
    "import nest_asyncio\n",
    "nest_asyncio.apply()\n",
    "import asyncio\n",
    "import aiohttp\n",
    "import json\n",
    "\n",
    "import tqdm.asyncio\n",
    "import requests\n",
    "from pprint import pprint\n",
    "import datetime\n",
    "from bs4 import BeautifulSoup\n",
    "\n",
    "import pandas as pd\n",
    "import numpy as np\n",
    "import json\n",
    "\n",
    "import re\n",
    "cookies = {\n",
    "    'ccsid': '027-9406763-1350835',\n",
    "    '__qca': 'P0-867993267-1671835417644',\n",
    "    'p': 'BFnM5Q76wF0shLrczPEWD6Ai6glvalBOI0HQnM7wAheYffUa',\n",
    "    'likely_has_account': 'true',\n",
    "    'srb_8': '0_ar',\n",
    "    'locale': 'en',\n",
    "    'csm-sid': '438-4025740-7454350',\n",
    "    'allow_behavioral_targeting': 'true',\n",
    "    'session-id': '147-4067731-5921029',\n",
    "    'lc-main': 'en_US',\n",
    "    'logged_out_browsing_page_count': '2',\n",
    "    'ubid-main': '131-6414756-0108314',\n",
    "    'csm-hit': 'tb:9FKSJEW3PZPAQZKSV74Z+s-9FKSJEW3PZPAQZKSV74Z|1675549894918&t:1675549894919&adb:adblk_yes',\n",
    "    'session-id-time': '2306269930l',\n",
    "    'session-token': 'fmlMtndkzGiWYItedsruMqFs9+7dbrKkjWxwS050IWs57BCY8RQJGXxU8qPn+6lNucog+VtoV/qrLn6eBpe8GwFqeSA75LzytrwlvgKScLWr62XYbJJg36UcoVnTCNaBAUkT+jhZdWNLpHXEQ/T3fsq03ctsMB7GChLcVrF/10rEk0ETQ5LmuUN5ordUvBjgbgf/wLazQPbG5Ia8rmhh/Gyptwz9N0ilyQSLx5h7pVc1fl4z+U3O3seFJdO2xI8M',\n",
    "    'x-main': '\"QKUGsTWzgOIn1MQ?MLW6M7?W9sXe6vT8lOfYIRdLo30O9fDyRRuxqM6Up6QliSso\"',\n",
    "    'at-main': 'Atza|IwEBIE9-j0Q56LUPug78YuRWyKfqUI-71kqBUKBSv9o0pgXoEdWRTp3QanY2PVmzS5kuRKhJ-2Qf2Y2Xza8aOzNTehTteyzG_d1HL64CDYGBvcFiM3J3K6q-_iEKTHPqIuFGTC7GBQffrkFancRYWCUTNK7ii9qpL1Qvc-lEAmj5xJFsos2I98msXxsTvgVFMUfr1rhJK6CfvkpCAIziz2lPcltlQCWaFsR10_Le_ytyKVYeIZ18m-F1bXhhejn7mTwQJl0',\n",
    "    'sess-at-main': '\"f/c/JR/xicYEmsJ7sGnJySc4uAQ6ojXuaOFFChXMGho=\"',\n",
    "    '_session_id2': '64c06a0ae25fee31093af8a3bf3f79e1',\n",
    "}\n",
    "\n",
    "headers = {\n",
    "    'Accept': 'text/html,application/xhtml+xml,application/xml;q=0.9,image/avif,image/webp,image/apng,/;q=0.8,application/signed-exchange;v=b3;q=0.9',\n",
    "    'Accept-Language': 'en-US,en;q=0.9',\n",
    "    'Cache-Control': 'max-age=0',\n",
    "    'Connection': 'keep-alive',\n",
    "    # 'Cookie': 'ccsid=027-9406763-1350835; __qca=P0-867993267-1671835417644; p=BFnM5Q76wF0shLrczPEWD6Ai6glvalBOI0HQnM7wAheYffUa; likely_has_account=true; srb_8=0_ar; locale=en; csm-sid=438-4025740-7454350; allow_behavioral_targeting=true; session-id=147-4067731-5921029; lc-main=en_US; logged_out_browsing_page_count=2; ubid-main=131-6414756-0108314; csm-hit=tb:9FKSJEW3PZPAQZKSV74Z+s-9FKSJEW3PZPAQZKSV74Z|1675549894918&t:1675549894919&adb:adblk_yes; session-id-time=2306269930l; session-token=fmlMtndkzGiWYItedsruMqFs9+7dbrKkjWxwS050IWs57BCY8RQJGXxU8qPn+6lNucog+VtoV/qrLn6eBpe8GwFqeSA75LzytrwlvgKScLWr62XYbJJg36UcoVnTCNaBAUkT+jhZdWNLpHXEQ/T3fsq03ctsMB7GChLcVrF/10rEk0ETQ5LmuUN5ordUvBjgbgf/wLazQPbG5Ia8rmhh/Gyptwz9N0ilyQSLx5h7pVc1fl4z+U3O3seFJdO2xI8M; x-main=\"QKUGsTWzgOIn1MQ?MLW6M7?W9sXe6vT8lOfYIRdLo30O9fDyRRuxqM6Up6QliSso\"; at-main=Atza|IwEBIE9-j0Q56LUPug78YuRWyKfqUI-71kqBUKBSv9o0pgXoEdWRTp3QanY2PVmzS5kuRKhJ-2Qf2Y2Xza8aOzNTehTteyzG_d1HL64CDYGBvcFiM3J3K6q-_iEKTHPqIuFGTC7GBQffrkFancRYWCUTNK7ii9qpL1Qvc-lEAmj5xJFsos2I98msXxsTvgVFMUfr1rhJK6CfvkpCAIziz2lPcltlQCWaFsR10_Le_ytyKVYeIZ18m-F1bXhhejn7mTwQJl0; sess-at-main=\"f/c/JR/xicYEmsJ7sGnJySc4uAQ6ojXuaOFFChXMGho=\"; _session_id2=64c06a0ae25fee31093af8a3bf3f79e1',\n",
    "    'If-None-Match': 'W/\"087d62f3d9fcbed8836cb66e1e0c2bef\"',\n",
    "    'Referer': 'https://www.goodreads.com/',\n",
    "    'Sec-Fetch-Dest': 'document',\n",
    "    'Sec-Fetch-Mode': 'navigate',\n",
    "    'Sec-Fetch-Site': 'same-origin',\n",
    "    'Sec-Fetch-User': '?1',\n",
    "    'Upgrade-Insecure-Requests': '1',\n",
    "    'User-Agent': 'Mozilla/5.0 (Macintosh; Intel Mac OS X 10_15_7) AppleWebKit/537.36 (KHTML, like Gecko) Chrome/109.0.0.0 Safari/537.36',\n",
    "    'sec-ch-ua': '\"Not_A Brand\";v=\"99\", \"Google Chrome\";v=\"109\", \"Chromium\";v=\"109\"',\n",
    "    'sec-ch-ua-mobile': '?0',\n",
    "    'sec-ch-ua-platform': '\"macOS\"',\n",
    "}\n",
    "\n",
    "params = {\n",
    "    'ref': 'nav_comm_people',\n",
    "}\n"
   ]
  },
  {
   "cell_type": "code",
   "execution_count": 3,
   "metadata": {},
   "outputs": [],
   "source": [
    "f = open('reviews_urls.json')\n",
    "review_urls = json.load(f)\n",
    "# review_urls = review_urls[1001:10000]"
   ]
  },
  {
   "cell_type": "code",
   "execution_count": 4,
   "metadata": {},
   "outputs": [
    {
     "name": "stderr",
     "output_type": "stream",
     "text": [
      " 28%|██▊       | 9548/33593 [23:19<51:16,  7.82it/s]  "
     ]
    },
    {
     "name": "stdout",
     "output_type": "stream",
     "text": [
      "Error occured while fetching data from https://www.goodreads.com/review/list/47771249?page=11: Cannot connect to host www.goodreads.com:443 ssl:default [An established connection was aborted by the software in your host machine]\n",
      "Error occured while fetching data from https://www.goodreads.com/review/list/47771249?page=73: Cannot connect to host www.goodreads.com:443 ssl:default [An established connection was aborted by the software in your host machine]\n",
      "Error occured while fetching data from https://www.goodreads.com/review/list/161079361?page=1: Cannot connect to host www.goodreads.com:443 ssl:default [An established connection was aborted by the software in your host machine]\n"
     ]
    },
    {
     "name": "stderr",
     "output_type": "stream",
     "text": [
      " 29%|██▊       | 9591/33593 [23:24<51:28,  7.77it/s]"
     ]
    },
    {
     "name": "stdout",
     "output_type": "stream",
     "text": [
      "Error occured while fetching data from https://www.goodreads.com/review/list/11889829?page=111: Cannot connect to host www.goodreads.com:443 ssl:default [An established connection was aborted by the software in your host machine]\n",
      "Error occured while fetching data from https://www.goodreads.com/review/list/128640?page=187: Cannot connect to host www.goodreads.com:443 ssl:default [An established connection was aborted by the software in your host machine]\n",
      "Error occured while fetching data from https://www.goodreads.com/review/list/128640?page=263: Cannot connect to host www.goodreads.com:443 ssl:default [An established connection was aborted by the software in your host machine]\n",
      "Error occured while fetching data from https://www.goodreads.com/review/list/11889829?page=49: Cannot connect to host www.goodreads.com:443 ssl:default [An established connection was aborted by the software in your host machine]\n",
      "Error occured while fetching data from https://www.goodreads.com/review/list/11889829?page=157: Cannot connect to host www.goodreads.com:443 ssl:default [An established connection was aborted by the software in your host machine]\n"
     ]
    },
    {
     "name": "stderr",
     "output_type": "stream",
     "text": [
      " 29%|██▉       | 9668/33593 [23:34<50:32,  7.89it/s]"
     ]
    },
    {
     "name": "stdout",
     "output_type": "stream",
     "text": [
      "Error occured while fetching data from https://www.goodreads.com/review/list/71802807?page=48: Cannot connect to host www.goodreads.com:443 ssl:default [An established connection was aborted by the software in your host machine]\n",
      "Error occured while fetching data from https://www.goodreads.com/review/list/71802807?page=51: Cannot connect to host www.goodreads.com:443 ssl:default [An established connection was aborted by the software in your host machine]\n",
      "Error occured while fetching data from https://www.goodreads.com/review/list/71802807?page=170: Cannot connect to host www.goodreads.com:443 ssl:default [An established connection was aborted by the software in your host machine]\n",
      "Error occured while fetching data from https://www.goodreads.com/review/list/71802807?page=163: Cannot connect to host www.goodreads.com:443 ssl:default [An established connection was aborted by the software in your host machine]\n",
      "Error occured while fetching data from https://www.goodreads.com/review/list/156160753?page=2: Cannot connect to host www.goodreads.com:443 ssl:default [An established connection was aborted by the software in your host machine]\n"
     ]
    },
    {
     "name": "stderr",
     "output_type": "stream",
     "text": [
      " 29%|██▉       | 9742/33593 [23:42<48:36,  8.18it/s]"
     ]
    },
    {
     "name": "stdout",
     "output_type": "stream",
     "text": [
      "Error occured while fetching data from https://www.goodreads.com/review/list/49071166?page=15: Cannot connect to host www.goodreads.com:443 ssl:default [An established connection was aborted by the software in your host machine]\n",
      "Error occured while fetching data from https://www.goodreads.com/review/list/49071166?page=8: Cannot connect to host www.goodreads.com:443 ssl:default [An established connection was aborted by the software in your host machine]\n",
      "Error occured while fetching data from https://www.goodreads.com/review/list/49071166?page=21: Cannot connect to host www.goodreads.com:443 ssl:default [An established connection was aborted by the software in your host machine]\n",
      "Error occured while fetching data from https://www.goodreads.com/review/list/20710404?page=2: Cannot connect to host www.goodreads.com:443 ssl:default [An established connection was aborted by the software in your host machine]\n",
      "Error occured while fetching data from https://www.goodreads.com/review/list/148436384?page=1: Cannot connect to host www.goodreads.com:443 ssl:default [An established connection was aborted by the software in your host machine]\n",
      "Error occured while fetching data from https://www.goodreads.com/review/list/20710404?page=3: Cannot connect to host www.goodreads.com:443 ssl:default [An established connection was aborted by the software in your host machine]\n",
      "Error occured while fetching data from https://www.goodreads.com/review/list/20710404?page=1: Cannot connect to host www.goodreads.com:443 ssl:default [An established connection was aborted by the software in your host machine]\n"
     ]
    },
    {
     "name": "stderr",
     "output_type": "stream",
     "text": [
      " 29%|██▉       | 9770/33593 [23:45<45:37,  8.70it/s]"
     ]
    },
    {
     "name": "stdout",
     "output_type": "stream",
     "text": [
      "Error occured while fetching data from https://www.goodreads.com/review/list/16496589?page=46: Cannot connect to host www.goodreads.com:443 ssl:default [An established connection was aborted by the software in your host machine]\n",
      "Error occured while fetching data from https://www.goodreads.com/review/list/16496589?page=22: Cannot connect to host www.goodreads.com:443 ssl:default [An established connection was aborted by the software in your host machine]\n",
      "Error occured while fetching data from https://www.goodreads.com/review/list/58080819?page=107: Cannot connect to host www.goodreads.com:443 ssl:default [An established connection was aborted by the software in your host machine]\n",
      "Error occured while fetching data from https://www.goodreads.com/review/list/16496589?page=5: Cannot connect to host www.goodreads.com:443 ssl:default [An established connection was aborted by the software in your host machine]\n",
      "Error occured while fetching data from https://www.goodreads.com/review/list/16496589?page=93: Cannot connect to host www.goodreads.com:443 ssl:default [An established connection was aborted by the software in your host machine]\n",
      "Error occured while fetching data from https://www.goodreads.com/review/list/58080819?page=59: Cannot connect to host www.goodreads.com:443 ssl:default [An established connection was aborted by the software in your host machine]\n",
      "Error occured while fetching data from https://www.goodreads.com/review/list/16496589?page=6: Cannot connect to host www.goodreads.com:443 ssl:default [An established connection was aborted by the software in your host machine]\n",
      "Error occured while fetching data from https://www.goodreads.com/review/list/58080819?page=9: Cannot connect to host www.goodreads.com:443 ssl:default [An established connection was aborted by the software in your host machine]\n",
      "Error occured while fetching data from https://www.goodreads.com/review/list/58080819?page=23: Cannot connect to host www.goodreads.com:443 ssl:default [An established connection was aborted by the software in your host machine]\n",
      "Error occured while fetching data from https://www.goodreads.com/review/list/58080819?page=71: Cannot connect to host www.goodreads.com:443 ssl:default [An established connection was aborted by the software in your host machine]\n"
     ]
    },
    {
     "name": "stderr",
     "output_type": "stream",
     "text": [
      " 29%|██▉       | 9834/33593 [23:53<47:13,  8.38it/s]"
     ]
    },
    {
     "name": "stdout",
     "output_type": "stream",
     "text": [
      "Error occured while fetching data from https://www.goodreads.com/review/list/129663193?page=14: Cannot connect to host www.goodreads.com:443 ssl:default [An established connection was aborted by the software in your host machine]\n",
      "Error occured while fetching data from https://www.goodreads.com/review/list/156929647?page=2: Cannot connect to host www.goodreads.com:443 ssl:default [An established connection was aborted by the software in your host machine]\n",
      "Error occured while fetching data from https://www.goodreads.com/review/list/140276917?page=4: Cannot connect to host www.goodreads.com:443 ssl:default [An established connection was aborted by the software in your host machine]\n",
      "Error occured while fetching data from https://www.goodreads.com/review/list/140276917?page=11: Cannot connect to host www.goodreads.com:443 ssl:default [An established connection was aborted by the software in your host machine]\n",
      "Error occured while fetching data from https://www.goodreads.com/review/list/140276917?page=7: Cannot connect to host www.goodreads.com:443 ssl:default [An established connection was aborted by the software in your host machine]\n",
      "Error occured while fetching data from https://www.goodreads.com/review/list/140276917?page=8: Cannot connect to host www.goodreads.com:443 ssl:default [An established connection was aborted by the software in your host machine]\n",
      "Error occured while fetching data from https://www.goodreads.com/review/list/140276917?page=6: Cannot connect to host www.goodreads.com:443 ssl:default [An established connection was aborted by the software in your host machine]\n"
     ]
    },
    {
     "name": "stderr",
     "output_type": "stream",
     "text": [
      " 29%|██▉       | 9871/33593 [23:56<43:16,  9.14it/s]"
     ]
    },
    {
     "name": "stdout",
     "output_type": "stream",
     "text": [
      "Error occured while fetching data from https://www.goodreads.com/review/list/126505666?page=7: Cannot connect to host www.goodreads.com:443 ssl:default [An established connection was aborted by the software in your host machine]\n",
      "Error occured while fetching data from https://www.goodreads.com/review/list/153612606?page=5: Cannot connect to host www.goodreads.com:443 ssl:default [An established connection was aborted by the software in your host machine]\n",
      "Error occured while fetching data from https://www.goodreads.com/review/list/153612606?page=3: Cannot connect to host www.goodreads.com:443 ssl:default [An established connection was aborted by the software in your host machine]\n",
      "Error occured while fetching data from https://www.goodreads.com/review/list/156929647?page=1: Cannot connect to host www.goodreads.com:443 ssl:default [An established connection was aborted by the software in your host machine]\n",
      "Error occured while fetching data from https://www.goodreads.com/review/list/126505666?page=3: Cannot connect to host www.goodreads.com:443 ssl:default [An established connection was aborted by the software in your host machine]\n",
      "Error occured while fetching data from https://www.goodreads.com/review/list/105191338?page=13: Cannot connect to host www.goodreads.com:443 ssl:default [An established connection was aborted by the software in your host machine]\n",
      "Error occured while fetching data from https://www.goodreads.com/review/list/156929647?page=9: Cannot connect to host www.goodreads.com:443 ssl:default [An established connection was aborted by the software in your host machine]\n",
      "Error occured while fetching data from https://www.goodreads.com/review/list/21017422?page=23: Cannot connect to host www.goodreads.com:443 ssl:default [An established connection was aborted by the software in your host machine]\n",
      "Error occured while fetching data from https://www.goodreads.com/review/list/153612606?page=7: Cannot connect to host www.goodreads.com:443 ssl:default [An established connection was aborted by the software in your host machine]\n",
      "Error occured while fetching data from https://www.goodreads.com/review/list/126505666?page=2: Cannot connect to host www.goodreads.com:443 ssl:default [An established connection was aborted by the software in your host machine]\n",
      "Error occured while fetching data from https://www.goodreads.com/review/list/153612606?page=11: Cannot connect to host www.goodreads.com:443 ssl:default [An established connection was aborted by the software in your host machine]\n",
      "Error occured while fetching data from https://www.goodreads.com/review/list/126505666?page=1: Cannot connect to host www.goodreads.com:443 ssl:default [An established connection was aborted by the software in your host machine]\n",
      "Error occured while fetching data from https://www.goodreads.com/review/list/126505666?page=5: Cannot connect to host www.goodreads.com:443 ssl:default [An established connection was aborted by the software in your host machine]\n",
      "Error occured while fetching data from https://www.goodreads.com/review/list/156929647?page=5: Cannot connect to host www.goodreads.com:443 ssl:default [An established connection was aborted by the software in your host machine]\n",
      "Error occured while fetching data from https://www.goodreads.com/review/list/156929647?page=7: Cannot connect to host www.goodreads.com:443 ssl:default [An established connection was aborted by the software in your host machine]\n"
     ]
    },
    {
     "name": "stderr",
     "output_type": "stream",
     "text": [
      " 29%|██▉       | 9896/33593 [23:59<42:04,  9.39it/s]"
     ]
    },
    {
     "name": "stdout",
     "output_type": "stream",
     "text": [
      "Error occured while fetching data from https://www.goodreads.com/review/list/125080390?page=23: Cannot connect to host www.goodreads.com:443 ssl:default [An established connection was aborted by the software in your host machine]\n",
      "Error occured while fetching data from https://www.goodreads.com/review/list/125080390?page=24: Cannot connect to host www.goodreads.com:443 ssl:default [An established connection was aborted by the software in your host machine]\n"
     ]
    },
    {
     "name": "stderr",
     "output_type": "stream",
     "text": [
      " 30%|██▉       | 10023/33593 [24:20<2:16:24,  2.88it/s]"
     ]
    },
    {
     "name": "stdout",
     "output_type": "stream",
     "text": [
      "Error occured while fetching data from https://www.goodreads.com/review/list/5604583?page=67: Cannot connect to host www.goodreads.com:443 ssl:default [None]\n",
      "Error occured while fetching data from https://www.goodreads.com/review/list/55985996?page=5: Cannot connect to host www.goodreads.com:443 ssl:default [None]\n",
      "Error occured while fetching data from https://www.goodreads.com/review/list/5604583?page=52: Cannot connect to host www.goodreads.com:443 ssl:default [None]\n",
      "Error occured while fetching data from https://www.goodreads.com/review/list/5604583?page=30: Cannot connect to host www.goodreads.com:443 ssl:default [None]\n",
      "Error occured while fetching data from https://www.goodreads.com/review/list/51509558?page=15: Cannot connect to host www.goodreads.com:443 ssl:default [None]\n"
     ]
    },
    {
     "name": "stderr",
     "output_type": "stream",
     "text": [
      " 30%|██▉       | 10047/33593 [24:23<1:27:38,  4.48it/s]"
     ]
    },
    {
     "name": "stdout",
     "output_type": "stream",
     "text": [
      "Error occured while fetching data from https://www.goodreads.com/review/list/55985996?page=4: Server disconnected\n",
      "Error occured while fetching data from https://www.goodreads.com/review/list/133451964?page=11: Cannot connect to host www.goodreads.com:443 ssl:default [An established connection was aborted by the software in your host machine]\n",
      "Error occured while fetching data from https://www.goodreads.com/review/list/133451964?page=17: Cannot connect to host www.goodreads.com:443 ssl:default [An established connection was aborted by the software in your host machine]\n",
      "Error occured while fetching data from https://www.goodreads.com/review/list/133451964?page=12: Cannot connect to host www.goodreads.com:443 ssl:default [An established connection was aborted by the software in your host machine]\n",
      "Error occured while fetching data from https://www.goodreads.com/review/list/133451964?page=16: Cannot connect to host www.goodreads.com:443 ssl:default [An established connection was aborted by the software in your host machine]\n",
      "Error occured while fetching data from https://www.goodreads.com/review/list/133451964?page=7: Cannot connect to host www.goodreads.com:443 ssl:default [An established connection was aborted by the software in your host machine]\n"
     ]
    },
    {
     "name": "stderr",
     "output_type": "stream",
     "text": [
      " 30%|███       | 10105/33593 [24:26<47:18,  8.27it/s]  "
     ]
    },
    {
     "name": "stdout",
     "output_type": "stream",
     "text": [
      "Error occured while fetching data from https://www.goodreads.com/review/list/105003147?page=26: Cannot connect to host www.goodreads.com:443 ssl:default [An established connection was aborted by the software in your host machine]\n",
      "Error occured while fetching data from https://www.goodreads.com/review/list/105003147?page=36: Cannot connect to host www.goodreads.com:443 ssl:default [An established connection was aborted by the software in your host machine]\n",
      "Error occured while fetching data from https://www.goodreads.com/review/list/105003147?page=19: Cannot connect to host www.goodreads.com:443 ssl:default [An established connection was aborted by the software in your host machine]\n"
     ]
    },
    {
     "name": "stderr",
     "output_type": "stream",
     "text": [
      " 30%|███       | 10159/33593 [24:36<56:51,  6.87it/s]  "
     ]
    },
    {
     "name": "stdout",
     "output_type": "stream",
     "text": [
      "Error occured while fetching data from https://www.goodreads.com/review/list/68538597?page=14: Cannot connect to host www.goodreads.com:443 ssl:default [An established connection was aborted by the software in your host machine]\n",
      "Error occured while fetching data from https://www.goodreads.com/review/list/14534785?page=163: Cannot connect to host www.goodreads.com:443 ssl:default [An established connection was aborted by the software in your host machine]\n",
      "Error occured while fetching data from https://www.goodreads.com/review/list/14534785?page=78: Cannot connect to host www.goodreads.com:443 ssl:default [An established connection was aborted by the software in your host machine]\n"
     ]
    },
    {
     "name": "stderr",
     "output_type": "stream",
     "text": [
      " 30%|███       | 10218/33593 [24:45<56:01,  6.95it/s]"
     ]
    },
    {
     "name": "stdout",
     "output_type": "stream",
     "text": [
      "Error occured while fetching data from https://www.goodreads.com/review/list/67861858?page=60: Cannot connect to host www.goodreads.com:443 ssl:default [An established connection was aborted by the software in your host machine]\n",
      "Error occured while fetching data from https://www.goodreads.com/review/list/161491730?page=3: Cannot connect to host www.goodreads.com:443 ssl:default [An established connection was aborted by the software in your host machine]\n",
      "Error occured while fetching data from https://www.goodreads.com/review/list/67861858?page=10: Cannot connect to host www.goodreads.com:443 ssl:default [An established connection was aborted by the software in your host machine]\n",
      "Error occured while fetching data from https://www.goodreads.com/review/list/67861858?page=7: Cannot connect to host www.goodreads.com:443 ssl:default [An established connection was aborted by the software in your host machine]\n",
      "Error occured while fetching data from https://www.goodreads.com/review/list/67861858?page=66: Cannot connect to host www.goodreads.com:443 ssl:default [An established connection was aborted by the software in your host machine]\n",
      "Error occured while fetching data from https://www.goodreads.com/review/list/81210201?page=2: Cannot connect to host www.goodreads.com:443 ssl:default [An established connection was aborted by the software in your host machine]\n",
      "Error occured while fetching data from https://www.goodreads.com/review/list/68538597?page=46: Cannot connect to host www.goodreads.com:443 ssl:default [An established connection was aborted by the software in your host machine]\n",
      "Error occured while fetching data from https://www.goodreads.com/review/list/81210201?page=1: Cannot connect to host www.goodreads.com:443 ssl:default [An established connection was aborted by the software in your host machine]\n"
     ]
    },
    {
     "name": "stderr",
     "output_type": "stream",
     "text": [
      " 31%|███       | 10293/33593 [24:47<29:47, 13.04it/s]"
     ]
    },
    {
     "name": "stdout",
     "output_type": "stream",
     "text": [
      "Error occured while fetching data from https://www.goodreads.com/review/list/91667532?page=9: Cannot connect to host www.goodreads.com:443 ssl:default [An established connection was aborted by the software in your host machine]\n",
      "Error occured while fetching data from https://www.goodreads.com/review/list/91667532?page=10: Cannot connect to host www.goodreads.com:443 ssl:default [An established connection was aborted by the software in your host machine]\n",
      "Error occured while fetching data from https://www.goodreads.com/review/list/91667532?page=4: Cannot connect to host www.goodreads.com:443 ssl:default [An established connection was aborted by the software in your host machine]\n",
      "Error occured while fetching data from https://www.goodreads.com/review/list/146265298?page=6: Cannot connect to host www.goodreads.com:443 ssl:default [An established connection was aborted by the software in your host machine]\n",
      "Error occured while fetching data from https://www.goodreads.com/review/list/67861858?page=61: Cannot connect to host www.goodreads.com:443 ssl:default [An established connection was aborted by the software in your host machine]\n",
      "Error occured while fetching data from https://www.goodreads.com/review/list/91667532?page=6: Cannot connect to host www.goodreads.com:443 ssl:default [An established connection was aborted by the software in your host machine]\n",
      "Error occured while fetching data from https://www.goodreads.com/review/list/30585460?page=9: Cannot connect to host www.goodreads.com:443 ssl:default [An established connection was aborted by the software in your host machine]\n",
      "Error occured while fetching data from https://www.goodreads.com/review/list/91667532?page=1: Cannot connect to host www.goodreads.com:443 ssl:default [An established connection was aborted by the software in your host machine]\n",
      "Error occured while fetching data from https://www.goodreads.com/review/list/30585460?page=11: Cannot connect to host www.goodreads.com:443 ssl:default [An established connection was aborted by the software in your host machine]\n"
     ]
    },
    {
     "name": "stderr",
     "output_type": "stream",
     "text": [
      " 31%|███       | 10377/33593 [25:04<1:13:39,  5.25it/s]"
     ]
    },
    {
     "name": "stdout",
     "output_type": "stream",
     "text": [
      "Error occured while fetching data from https://www.goodreads.com/review/list/3264457?page=120: Cannot connect to host www.goodreads.com:443 ssl:default [An established connection was aborted by the software in your host machine]\n",
      "Error occured while fetching data from https://www.goodreads.com/review/list/73494872?page=223: Cannot connect to host www.goodreads.com:443 ssl:default [An established connection was aborted by the software in your host machine]\n"
     ]
    },
    {
     "name": "stderr",
     "output_type": "stream",
     "text": [
      " 31%|███       | 10448/33593 [25:14<1:01:15,  6.30it/s]"
     ]
    },
    {
     "name": "stdout",
     "output_type": "stream",
     "text": [
      "Error occured while fetching data from https://www.goodreads.com/review/list/35855553?page=268: Cannot connect to host www.goodreads.com:443 ssl:default [An established connection was aborted by the software in your host machine]\n",
      "Error occured while fetching data from https://www.goodreads.com/review/list/73494872?page=267: Cannot connect to host www.goodreads.com:443 ssl:default [An established connection was aborted by the software in your host machine]\n",
      "Error occured while fetching data from https://www.goodreads.com/review/list/73494872?page=30: Cannot connect to host www.goodreads.com:443 ssl:default [An established connection was aborted by the software in your host machine]\n",
      "Error occured while fetching data from https://www.goodreads.com/review/list/51479064?page=236: Cannot connect to host www.goodreads.com:443 ssl:default [An established connection was aborted by the software in your host machine]\n",
      "Error occured while fetching data from https://www.goodreads.com/review/list/73494872?page=258: Cannot connect to host www.goodreads.com:443 ssl:default [An established connection was aborted by the software in your host machine]\n",
      "Error occured while fetching data from https://www.goodreads.com/review/list/3264457?page=90: Cannot connect to host www.goodreads.com:443 ssl:default [An established connection was aborted by the software in your host machine]\n",
      "Error occured while fetching data from https://www.goodreads.com/review/list/3264457?page=22: Cannot connect to host www.goodreads.com:443 ssl:default [An established connection was aborted by the software in your host machine]\n",
      "Error occured while fetching data from https://www.goodreads.com/review/list/35855553?page=139: Cannot connect to host www.goodreads.com:443 ssl:default [An established connection was aborted by the software in your host machine]\n",
      "Error occured while fetching data from https://www.goodreads.com/review/list/51479064?page=13: Cannot connect to host www.goodreads.com:443 ssl:default [An established connection was aborted by the software in your host machine]\n",
      "Error occured while fetching data from https://www.goodreads.com/review/list/51479064?page=33: Cannot connect to host www.goodreads.com:443 ssl:default [An established connection was aborted by the software in your host machine]\n",
      "Error occured while fetching data from https://www.goodreads.com/review/list/73494872?page=100: Cannot connect to host www.goodreads.com:443 ssl:default [An established connection was aborted by the software in your host machine]\n",
      "Error occured while fetching data from https://www.goodreads.com/review/list/35855553?page=17: Cannot connect to host www.goodreads.com:443 ssl:default [An established connection was aborted by the software in your host machine]\n",
      "Error occured while fetching data from https://www.goodreads.com/review/list/51479064?page=82: Cannot connect to host www.goodreads.com:443 ssl:default [An established connection was aborted by the software in your host machine]\n",
      "Error occured while fetching data from https://www.goodreads.com/review/list/3264457?page=152: Cannot connect to host www.goodreads.com:443 ssl:default [An established connection was aborted by the software in your host machine]\n",
      "Error occured while fetching data from https://www.goodreads.com/review/list/35855553?page=181: Cannot connect to host www.goodreads.com:443 ssl:default [An established connection was aborted by the software in your host machine]\n",
      "Error occured while fetching data from https://www.goodreads.com/review/list/35855553?page=29: Cannot connect to host www.goodreads.com:443 ssl:default [An established connection was aborted by the software in your host machine]\n"
     ]
    },
    {
     "name": "stderr",
     "output_type": "stream",
     "text": [
      " 31%|███       | 10480/33593 [25:19<58:39,  6.57it/s]  "
     ]
    },
    {
     "name": "stdout",
     "output_type": "stream",
     "text": [
      "Error occured while fetching data from https://www.goodreads.com/review/list/161096393?page=12: Cannot connect to host www.goodreads.com:443 ssl:default [An established connection was aborted by the software in your host machine]\n",
      "Error occured while fetching data from https://www.goodreads.com/review/list/161096393?page=5: Cannot connect to host www.goodreads.com:443 ssl:default [An established connection was aborted by the software in your host machine]\n"
     ]
    },
    {
     "name": "stderr",
     "output_type": "stream",
     "text": [
      " 32%|███▏      | 10616/33593 [25:36<49:42,  7.70it/s]  "
     ]
    },
    {
     "name": "stdout",
     "output_type": "stream",
     "text": [
      "Error occured while fetching data from https://www.goodreads.com/review/list/15055195?page=75: Cannot connect to host www.goodreads.com:443 ssl:default [An established connection was aborted by the software in your host machine]\n"
     ]
    },
    {
     "name": "stderr",
     "output_type": "stream",
     "text": [
      " 32%|███▏      | 10689/33593 [25:47<52:12,  7.31it/s]"
     ]
    },
    {
     "name": "stdout",
     "output_type": "stream",
     "text": [
      "Error occured while fetching data from https://www.goodreads.com/review/list/160576236?page=11: Cannot connect to host www.goodreads.com:443 ssl:default [An established connection was aborted by the software in your host machine]\n",
      "Error occured while fetching data from https://www.goodreads.com/review/list/137595632?page=8: Cannot connect to host www.goodreads.com:443 ssl:default [An established connection was aborted by the software in your host machine]\n",
      "Error occured while fetching data from https://www.goodreads.com/review/list/15055195?page=103: Cannot connect to host www.goodreads.com:443 ssl:default [An established connection was aborted by the software in your host machine]\n",
      "Error occured while fetching data from https://www.goodreads.com/review/list/137595632?page=5: Cannot connect to host www.goodreads.com:443 ssl:default [An established connection was aborted by the software in your host machine]\n",
      "Error occured while fetching data from https://www.goodreads.com/review/list/137595632?page=6: Cannot connect to host www.goodreads.com:443 ssl:default [An established connection was aborted by the software in your host machine]\n",
      "Error occured while fetching data from https://www.goodreads.com/review/list/137595632?page=1: Cannot connect to host www.goodreads.com:443 ssl:default [An established connection was aborted by the software in your host machine]\n",
      "Error occured while fetching data from https://www.goodreads.com/review/list/137595632?page=2: Cannot connect to host www.goodreads.com:443 ssl:default [An established connection was aborted by the software in your host machine]\n",
      "Error occured while fetching data from https://www.goodreads.com/review/list/147990923?page=4: Cannot connect to host www.goodreads.com:443 ssl:default [An established connection was aborted by the software in your host machine]\n",
      "Error occured while fetching data from https://www.goodreads.com/review/list/147990923?page=3: Cannot connect to host www.goodreads.com:443 ssl:default [An established connection was aborted by the software in your host machine]\n",
      "Error occured while fetching data from https://www.goodreads.com/review/list/147990923?page=2: Cannot connect to host www.goodreads.com:443 ssl:default [An established connection was aborted by the software in your host machine]\n",
      "Error occured while fetching data from https://www.goodreads.com/review/list/147990923?page=1: Cannot connect to host www.goodreads.com:443 ssl:default [An established connection was aborted by the software in your host machine]\n",
      "Error occured while fetching data from https://www.goodreads.com/review/list/45832607?page=4: Cannot connect to host www.goodreads.com:443 ssl:default [An established connection was aborted by the software in your host machine]\n",
      "Error occured while fetching data from https://www.goodreads.com/review/list/45832607?page=9: Cannot connect to host www.goodreads.com:443 ssl:default [An established connection was aborted by the software in your host machine]\n",
      "Error occured while fetching data from https://www.goodreads.com/review/list/45832607?page=7: Cannot connect to host www.goodreads.com:443 ssl:default [An established connection was aborted by the software in your host machine]\n",
      "Error occured while fetching data from https://www.goodreads.com/review/list/4800103?page=33: Cannot connect to host www.goodreads.com:443 ssl:default [An established connection was aborted by the software in your host machine]\n",
      "Error occured while fetching data from https://www.goodreads.com/review/list/45832607?page=5: Cannot connect to host www.goodreads.com:443 ssl:default [An established connection was aborted by the software in your host machine]\n",
      "Error occured while fetching data from https://www.goodreads.com/review/list/45832607?page=10: Cannot connect to host www.goodreads.com:443 ssl:default [An established connection was aborted by the software in your host machine]\n",
      "Error occured while fetching data from https://www.goodreads.com/review/list/160576236?page=7: Cannot connect to host www.goodreads.com:443 ssl:default [An established connection was aborted by the software in your host machine]\n"
     ]
    },
    {
     "name": "stderr",
     "output_type": "stream",
     "text": [
      " 32%|███▏      | 10767/33593 [25:52<35:29, 10.72it/s]"
     ]
    },
    {
     "name": "stdout",
     "output_type": "stream",
     "text": [
      "Error occured while fetching data from https://www.goodreads.com/review/list/31036873?page=14: Cannot connect to host www.goodreads.com:443 ssl:default [An established connection was aborted by the software in your host machine]\n"
     ]
    },
    {
     "name": "stderr",
     "output_type": "stream",
     "text": [
      " 32%|███▏      | 10777/33593 [25:59<58:04,  6.55it/s]"
     ]
    },
    {
     "name": "stdout",
     "output_type": "stream",
     "text": [
      "Error occured while fetching data from https://www.goodreads.com/review/list/31036873?page=12: Cannot connect to host www.goodreads.com:443 ssl:default [An established connection was aborted by the software in your host machine]\n"
     ]
    },
    {
     "name": "stderr",
     "output_type": "stream",
     "text": [
      " 32%|███▏      | 10860/33593 [26:10<52:50,  7.17it/s]"
     ]
    },
    {
     "name": "stdout",
     "output_type": "stream",
     "text": [
      "Error occured while fetching data from https://www.goodreads.com/review/list/26464437?page=92: Cannot connect to host www.goodreads.com:443 ssl:default [An established connection was aborted by the software in your host machine]\n"
     ]
    },
    {
     "name": "stderr",
     "output_type": "stream",
     "text": [
      " 32%|███▏      | 10898/33593 [26:15<52:44,  7.17it/s]"
     ]
    },
    {
     "name": "stdout",
     "output_type": "stream",
     "text": [
      "Error occured while fetching data from https://www.goodreads.com/review/list/141878657?page=132: Cannot connect to host www.goodreads.com:443 ssl:default [An established connection was aborted by the software in your host machine]\n",
      "Error occured while fetching data from https://www.goodreads.com/review/list/18944510?page=28: Cannot connect to host www.goodreads.com:443 ssl:default [An established connection was aborted by the software in your host machine]\n",
      "Error occured while fetching data from https://www.goodreads.com/review/list/141878657?page=124: Cannot connect to host www.goodreads.com:443 ssl:default [An established connection was aborted by the software in your host machine]\n",
      "Error occured while fetching data from https://www.goodreads.com/review/list/62200237?page=55: Cannot connect to host www.goodreads.com:443 ssl:default [An established connection was aborted by the software in your host machine]\n",
      "Error occured while fetching data from https://www.goodreads.com/review/list/143482220?page=23: Cannot connect to host www.goodreads.com:443 ssl:default [An established connection was aborted by the software in your host machine]\n",
      "Error occured while fetching data from https://www.goodreads.com/review/list/143482220?page=27: Cannot connect to host www.goodreads.com:443 ssl:default [An established connection was aborted by the software in your host machine]\n",
      "Error occured while fetching data from https://www.goodreads.com/review/list/141878657?page=114: Cannot connect to host www.goodreads.com:443 ssl:default [An established connection was aborted by the software in your host machine]\n",
      "Error occured while fetching data from https://www.goodreads.com/review/list/143482220?page=4: Cannot connect to host www.goodreads.com:443 ssl:default [An established connection was aborted by the software in your host machine]\n",
      "Error occured while fetching data from https://www.goodreads.com/review/list/62200237?page=262: Cannot connect to host www.goodreads.com:443 ssl:default [An established connection was aborted by the software in your host machine]\n",
      "Error occured while fetching data from https://www.goodreads.com/review/list/141878657?page=17: Cannot connect to host www.goodreads.com:443 ssl:default [An established connection was aborted by the software in your host machine]\n",
      "Error occured while fetching data from https://www.goodreads.com/review/list/62200237?page=59: Cannot connect to host www.goodreads.com:443 ssl:default [An established connection was aborted by the software in your host machine]\n",
      "Error occured while fetching data from https://www.goodreads.com/review/list/62200237?page=309: Cannot connect to host www.goodreads.com:443 ssl:default [An established connection was aborted by the software in your host machine]\n",
      "Error occured while fetching data from https://www.goodreads.com/review/list/141878657?page=87: Cannot connect to host www.goodreads.com:443 ssl:default [An established connection was aborted by the software in your host machine]\n",
      "Error occured while fetching data from https://www.goodreads.com/review/list/18944510?page=17: Cannot connect to host www.goodreads.com:443 ssl:default [An established connection was aborted by the software in your host machine]\n",
      "Error occured while fetching data from https://www.goodreads.com/review/list/62200237?page=223: Cannot connect to host www.goodreads.com:443 ssl:default [An established connection was aborted by the software in your host machine]\n",
      "Error occured while fetching data from https://www.goodreads.com/review/list/18944510?page=18: Cannot connect to host www.goodreads.com:443 ssl:default [An established connection was aborted by the software in your host machine]\n",
      "Error occured while fetching data from https://www.goodreads.com/review/list/18944510?page=8: Cannot connect to host www.goodreads.com:443 ssl:default [An established connection was aborted by the software in your host machine]\n",
      "Error occured while fetching data from https://www.goodreads.com/review/list/124642718?page=22: Cannot connect to host www.goodreads.com:443 ssl:default [An established connection was aborted by the software in your host machine]\n"
     ]
    },
    {
     "name": "stderr",
     "output_type": "stream",
     "text": [
      " 33%|███▎      | 11023/33593 [26:31<48:30,  7.75it/s]"
     ]
    },
    {
     "name": "stdout",
     "output_type": "stream",
     "text": [
      "Error occured while fetching data from https://www.goodreads.com/review/list/20658145?page=72: Cannot connect to host www.goodreads.com:443 ssl:default [An established connection was aborted by the software in your host machine]\n",
      "Error occured while fetching data from https://www.goodreads.com/review/list/88364644?page=20: Cannot connect to host www.goodreads.com:443 ssl:default [An established connection was aborted by the software in your host machine]\n"
     ]
    },
    {
     "name": "stderr",
     "output_type": "stream",
     "text": [
      " 33%|███▎      | 11101/33593 [26:41<50:02,  7.49it/s]"
     ]
    },
    {
     "name": "stdout",
     "output_type": "stream",
     "text": [
      "Error occured while fetching data from https://www.goodreads.com/review/list/36541357?page=1: Cannot connect to host www.goodreads.com:443 ssl:default [An established connection was aborted by the software in your host machine]\n",
      "Error occured while fetching data from https://www.goodreads.com/review/list/36541357?page=9: Cannot connect to host www.goodreads.com:443 ssl:default [An established connection was aborted by the software in your host machine]\n",
      "Error occured while fetching data from https://www.goodreads.com/review/list/36541357?page=4: Cannot connect to host www.goodreads.com:443 ssl:default [An established connection was aborted by the software in your host machine]\n",
      "Error occured while fetching data from https://www.goodreads.com/review/list/36541357?page=8: Cannot connect to host www.goodreads.com:443 ssl:default [An established connection was aborted by the software in your host machine]\n",
      "Error occured while fetching data from https://www.goodreads.com/review/list/36541357?page=6: Cannot connect to host www.goodreads.com:443 ssl:default [An established connection was aborted by the software in your host machine]\n",
      "Error occured while fetching data from https://www.goodreads.com/review/list/3953053?page=19: Cannot connect to host www.goodreads.com:443 ssl:default [An established connection was aborted by the software in your host machine]\n",
      "Error occured while fetching data from https://www.goodreads.com/review/list/3953053?page=13: Cannot connect to host www.goodreads.com:443 ssl:default [An established connection was aborted by the software in your host machine]\n",
      "Error occured while fetching data from https://www.goodreads.com/review/list/3953053?page=22: Cannot connect to host www.goodreads.com:443 ssl:default [An established connection was aborted by the software in your host machine]\n",
      "Error occured while fetching data from https://www.goodreads.com/review/list/5902457?page=2: Cannot connect to host www.goodreads.com:443 ssl:default [An established connection was aborted by the software in your host machine]\n",
      "Error occured while fetching data from https://www.goodreads.com/review/list/3953053?page=11: Cannot connect to host www.goodreads.com:443 ssl:default [An established connection was aborted by the software in your host machine]\n",
      "Error occured while fetching data from https://www.goodreads.com/review/list/111067723?page=10: Cannot connect to host www.goodreads.com:443 ssl:default [An established connection was aborted by the software in your host machine]\n",
      "Error occured while fetching data from https://www.goodreads.com/review/list/3953053?page=4: Cannot connect to host www.goodreads.com:443 ssl:default [An established connection was aborted by the software in your host machine]\n",
      "Error occured while fetching data from https://www.goodreads.com/review/list/111067723?page=20: Cannot connect to host www.goodreads.com:443 ssl:default [An established connection was aborted by the software in your host machine]\n",
      "Error occured while fetching data from https://www.goodreads.com/review/list/70419236?page=20: Cannot connect to host www.goodreads.com:443 ssl:default [An established connection was aborted by the software in your host machine]\n",
      "Error occured while fetching data from https://www.goodreads.com/review/list/78833763?page=15: Cannot connect to host www.goodreads.com:443 ssl:default [An established connection was aborted by the software in your host machine]\n",
      "Error occured while fetching data from https://www.goodreads.com/review/list/78833763?page=11: Cannot connect to host www.goodreads.com:443 ssl:default [An established connection was aborted by the software in your host machine]\n",
      "Error occured while fetching data from https://www.goodreads.com/review/list/78833763?page=14: Cannot connect to host www.goodreads.com:443 ssl:default [An established connection was aborted by the software in your host machine]\n",
      "Error occured while fetching data from https://www.goodreads.com/review/list/78833763?page=12: Cannot connect to host www.goodreads.com:443 ssl:default [An established connection was aborted by the software in your host machine]\n",
      "Error occured while fetching data from https://www.goodreads.com/review/list/78833763?page=5: Cannot connect to host www.goodreads.com:443 ssl:default [An established connection was aborted by the software in your host machine]\n"
     ]
    },
    {
     "name": "stderr",
     "output_type": "stream",
     "text": [
      " 34%|███▎      | 11301/33593 [27:05<46:25,  8.00it/s]"
     ]
    },
    {
     "name": "stdout",
     "output_type": "stream",
     "text": [
      "Error occured while fetching data from https://www.goodreads.com/review/list/3972045?page=85: Cannot connect to host www.goodreads.com:443 ssl:default [An established connection was aborted by the software in your host machine]\n"
     ]
    },
    {
     "name": "stderr",
     "output_type": "stream",
     "text": [
      " 34%|███▎      | 11337/33593 [27:10<46:07,  8.04it/s]"
     ]
    },
    {
     "name": "stdout",
     "output_type": "stream",
     "text": [
      "Error occured while fetching data from https://www.goodreads.com/review/list/27509022?page=3: Cannot connect to host www.goodreads.com:443 ssl:default [An established connection was aborted by the software in your host machine]\n",
      "Error occured while fetching data from https://www.goodreads.com/review/list/152961004?page=9: Cannot connect to host www.goodreads.com:443 ssl:default [An established connection was aborted by the software in your host machine]\n",
      "Error occured while fetching data from https://www.goodreads.com/review/list/3972045?page=152: Cannot connect to host www.goodreads.com:443 ssl:default [An established connection was aborted by the software in your host machine]\n",
      "Error occured while fetching data from https://www.goodreads.com/review/list/129396772?page=6: Cannot connect to host www.goodreads.com:443 ssl:default [An established connection was aborted by the software in your host machine]\n",
      "Error occured while fetching data from https://www.goodreads.com/review/list/27509022?page=5: Cannot connect to host www.goodreads.com:443 ssl:default [An established connection was aborted by the software in your host machine]\n",
      "Error occured while fetching data from https://www.goodreads.com/review/list/129396772?page=10: Cannot connect to host www.goodreads.com:443 ssl:default [An established connection was aborted by the software in your host machine]\n",
      "Error occured while fetching data from https://www.goodreads.com/review/list/27509022?page=4: Cannot connect to host www.goodreads.com:443 ssl:default [An established connection was aborted by the software in your host machine]\n",
      "Error occured while fetching data from https://www.goodreads.com/review/list/129396772?page=4: Cannot connect to host www.goodreads.com:443 ssl:default [An established connection was aborted by the software in your host machine]\n",
      "Error occured while fetching data from https://www.goodreads.com/review/list/129396772?page=7: Cannot connect to host www.goodreads.com:443 ssl:default [An established connection was aborted by the software in your host machine]\n",
      "Error occured while fetching data from https://www.goodreads.com/review/list/42928310?page=4: Cannot connect to host www.goodreads.com:443 ssl:default [An established connection was aborted by the software in your host machine]\n",
      "Error occured while fetching data from https://www.goodreads.com/review/list/27509022?page=1: Cannot connect to host www.goodreads.com:443 ssl:default [An established connection was aborted by the software in your host machine]\n",
      "Error occured while fetching data from https://www.goodreads.com/review/list/42928310?page=5: Cannot connect to host www.goodreads.com:443 ssl:default [An established connection was aborted by the software in your host machine]\n",
      "Error occured while fetching data from https://www.goodreads.com/review/list/42928310?page=20: Cannot connect to host www.goodreads.com:443 ssl:default [An established connection was aborted by the software in your host machine]\n",
      "Error occured while fetching data from https://www.goodreads.com/review/list/42928310?page=10: Cannot connect to host www.goodreads.com:443 ssl:default [An established connection was aborted by the software in your host machine]\n",
      "Error occured while fetching data from https://www.goodreads.com/review/list/42928310?page=27: Cannot connect to host www.goodreads.com:443 ssl:default [An established connection was aborted by the software in your host machine]\n",
      "Error occured while fetching data from https://www.goodreads.com/review/list/152961004?page=8: Cannot connect to host www.goodreads.com:443 ssl:default [An established connection was aborted by the software in your host machine]\n",
      "Error occured while fetching data from https://www.goodreads.com/review/list/152961004?page=1: Cannot connect to host www.goodreads.com:443 ssl:default [An established connection was aborted by the software in your host machine]\n",
      "Error occured while fetching data from https://www.goodreads.com/review/list/152961004?page=2: Cannot connect to host www.goodreads.com:443 ssl:default [An established connection was aborted by the software in your host machine]\n",
      "Error occured while fetching data from https://www.goodreads.com/review/list/3972045?page=173: Cannot connect to host www.goodreads.com:443 ssl:default [An established connection was aborted by the software in your host machine]\n",
      "Error occured while fetching data from https://www.goodreads.com/review/list/152961004?page=14: Cannot connect to host www.goodreads.com:443 ssl:default [An established connection was aborted by the software in your host machine]\n",
      "Error occured while fetching data from https://www.goodreads.com/review/list/27509022?page=2: Cannot connect to host www.goodreads.com:443 ssl:default [An established connection was aborted by the software in your host machine]\n"
     ]
    },
    {
     "name": "stderr",
     "output_type": "stream",
     "text": [
      " 34%|███▍      | 11545/33593 [27:37<49:23,  7.44it/s]"
     ]
    },
    {
     "name": "stdout",
     "output_type": "stream",
     "text": [
      "Error occured while fetching data from https://www.goodreads.com/review/list/64601337?page=7: Cannot connect to host www.goodreads.com:443 ssl:default [An established connection was aborted by the software in your host machine]\n",
      "Error occured while fetching data from https://www.goodreads.com/review/list/135776037?page=24: Cannot connect to host www.goodreads.com:443 ssl:default [An established connection was aborted by the software in your host machine]\n",
      "Error occured while fetching data from https://www.goodreads.com/review/list/64601337?page=2: Cannot connect to host www.goodreads.com:443 ssl:default [An established connection was aborted by the software in your host machine]\n",
      "Error occured while fetching data from https://www.goodreads.com/review/list/66513638?page=2: Cannot connect to host www.goodreads.com:443 ssl:default [An established connection was aborted by the software in your host machine]\n",
      "Error occured while fetching data from https://www.goodreads.com/review/list/36678668?page=5: Cannot connect to host www.goodreads.com:443 ssl:default [An established connection was aborted by the software in your host machine]\n",
      "Error occured while fetching data from https://www.goodreads.com/review/list/36131306?page=2: Cannot connect to host www.goodreads.com:443 ssl:default [An established connection was aborted by the software in your host machine]\n",
      "Error occured while fetching data from https://www.goodreads.com/review/list/135776037?page=4: Cannot connect to host www.goodreads.com:443 ssl:default [An established connection was aborted by the software in your host machine]\n",
      "Error occured while fetching data from https://www.goodreads.com/review/list/135776037?page=12: Cannot connect to host www.goodreads.com:443 ssl:default [An established connection was aborted by the software in your host machine]\n",
      "Error occured while fetching data from https://www.goodreads.com/review/list/135776037?page=11: Cannot connect to host www.goodreads.com:443 ssl:default [An established connection was aborted by the software in your host machine]\n",
      "Error occured while fetching data from https://www.goodreads.com/review/list/135776037?page=25: Cannot connect to host www.goodreads.com:443 ssl:default [An established connection was aborted by the software in your host machine]\n",
      "Error occured while fetching data from https://www.goodreads.com/review/list/111059491?page=17: Cannot connect to host www.goodreads.com:443 ssl:default [An established connection was aborted by the software in your host machine]\n",
      "Error occured while fetching data from https://www.goodreads.com/review/list/111059491?page=18: Cannot connect to host www.goodreads.com:443 ssl:default [An established connection was aborted by the software in your host machine]\n",
      "Error occured while fetching data from https://www.goodreads.com/review/list/111059491?page=14: Cannot connect to host www.goodreads.com:443 ssl:default [An established connection was aborted by the software in your host machine]\n",
      "Error occured while fetching data from https://www.goodreads.com/review/list/111059491?page=12: Cannot connect to host www.goodreads.com:443 ssl:default [An established connection was aborted by the software in your host machine]\n",
      "Error occured while fetching data from https://www.goodreads.com/review/list/36678668?page=10: Cannot connect to host www.goodreads.com:443 ssl:default [An established connection was aborted by the software in your host machine]\n",
      "Error occured while fetching data from https://www.goodreads.com/review/list/111059491?page=8: Cannot connect to host www.goodreads.com:443 ssl:default [An established connection was aborted by the software in your host machine]\n",
      "Error occured while fetching data from https://www.goodreads.com/review/list/36678668?page=1: Cannot connect to host www.goodreads.com:443 ssl:default [An established connection was aborted by the software in your host machine]\n",
      "Error occured while fetching data from https://www.goodreads.com/review/list/66513638?page=6: Cannot connect to host www.goodreads.com:443 ssl:default [An established connection was aborted by the software in your host machine]\n",
      "Error occured while fetching data from https://www.goodreads.com/review/list/66513638?page=7: Cannot connect to host www.goodreads.com:443 ssl:default [An established connection was aborted by the software in your host machine]\n",
      "Error occured while fetching data from https://www.goodreads.com/review/list/36678668?page=9: Cannot connect to host www.goodreads.com:443 ssl:default [An established connection was aborted by the software in your host machine]\n",
      "Error occured while fetching data from https://www.goodreads.com/review/list/66513638?page=8: Cannot connect to host www.goodreads.com:443 ssl:default [An established connection was aborted by the software in your host machine]\n",
      "Error occured while fetching data from https://www.goodreads.com/review/list/36678668?page=3: Cannot connect to host www.goodreads.com:443 ssl:default [An established connection was aborted by the software in your host machine]\n"
     ]
    },
    {
     "name": "stderr",
     "output_type": "stream",
     "text": [
      " 35%|███▌      | 11782/33593 [28:08<48:27,  7.50it/s]"
     ]
    },
    {
     "name": "stdout",
     "output_type": "stream",
     "text": [
      "Error occured while fetching data from https://www.goodreads.com/review/list/142521837?page=2: Cannot connect to host www.goodreads.com:443 ssl:default [An established connection was aborted by the software in your host machine]\n"
     ]
    },
    {
     "name": "stderr",
     "output_type": "stream",
     "text": [
      " 35%|███▌      | 11823/33593 [28:15<51:41,  7.02it/s]"
     ]
    },
    {
     "name": "stdout",
     "output_type": "stream",
     "text": [
      "Error occured while fetching data from https://www.goodreads.com/review/list/7538374?page=27: Cannot connect to host www.goodreads.com:443 ssl:default [An established connection was aborted by the software in your host machine]\n",
      "Error occured while fetching data from https://www.goodreads.com/review/list/7538374?page=11: Cannot connect to host www.goodreads.com:443 ssl:default [An established connection was aborted by the software in your host machine]\n",
      "Error occured while fetching data from https://www.goodreads.com/review/list/142521837?page=12: Cannot connect to host www.goodreads.com:443 ssl:default [An established connection was aborted by the software in your host machine]\n",
      "Error occured while fetching data from https://www.goodreads.com/review/list/55231162?page=11: Cannot connect to host www.goodreads.com:443 ssl:default [An established connection was aborted by the software in your host machine]\n",
      "Error occured while fetching data from https://www.goodreads.com/review/list/142521837?page=10: Cannot connect to host www.goodreads.com:443 ssl:default [An established connection was aborted by the software in your host machine]\n",
      "Error occured while fetching data from https://www.goodreads.com/review/list/55231162?page=8: Cannot connect to host www.goodreads.com:443 ssl:default [An established connection was aborted by the software in your host machine]\n",
      "Error occured while fetching data from https://www.goodreads.com/review/list/142521837?page=8: Cannot connect to host www.goodreads.com:443 ssl:default [An established connection was aborted by the software in your host machine]\n",
      "Error occured while fetching data from https://www.goodreads.com/review/list/55231162?page=12: Cannot connect to host www.goodreads.com:443 ssl:default [An established connection was aborted by the software in your host machine]\n",
      "Error occured while fetching data from https://www.goodreads.com/review/list/55231162?page=10: Cannot connect to host www.goodreads.com:443 ssl:default [An established connection was aborted by the software in your host machine]\n",
      "Error occured while fetching data from https://www.goodreads.com/review/list/159943524?page=6: Cannot connect to host www.goodreads.com:443 ssl:default [An established connection was aborted by the software in your host machine]\n",
      "Error occured while fetching data from https://www.goodreads.com/review/list/159943524?page=38: Cannot connect to host www.goodreads.com:443 ssl:default [An established connection was aborted by the software in your host machine]\n",
      "Error occured while fetching data from https://www.goodreads.com/review/list/159943524?page=17: Cannot connect to host www.goodreads.com:443 ssl:default [An established connection was aborted by the software in your host machine]\n",
      "Error occured while fetching data from https://www.goodreads.com/review/list/159943524?page=2: Cannot connect to host www.goodreads.com:443 ssl:default [An established connection was aborted by the software in your host machine]\n",
      "Error occured while fetching data from https://www.goodreads.com/review/list/159943524?page=22: Cannot connect to host www.goodreads.com:443 ssl:default [An established connection was aborted by the software in your host machine]\n",
      "Error occured while fetching data from https://www.goodreads.com/review/list/70101107?page=11: Cannot connect to host www.goodreads.com:443 ssl:default [An established connection was aborted by the software in your host machine]\n",
      "Error occured while fetching data from https://www.goodreads.com/review/list/70101107?page=2: Cannot connect to host www.goodreads.com:443 ssl:default [An established connection was aborted by the software in your host machine]\n",
      "Error occured while fetching data from https://www.goodreads.com/review/list/70101107?page=19: Cannot connect to host www.goodreads.com:443 ssl:default [An established connection was aborted by the software in your host machine]\n",
      "Error occured while fetching data from https://www.goodreads.com/review/list/70101107?page=12: Cannot connect to host www.goodreads.com:443 ssl:default [An established connection was aborted by the software in your host machine]\n",
      "Error occured while fetching data from https://www.goodreads.com/review/list/70101107?page=1: Cannot connect to host www.goodreads.com:443 ssl:default [An established connection was aborted by the software in your host machine]\n",
      "Error occured while fetching data from https://www.goodreads.com/review/list/142521837?page=15: Cannot connect to host www.goodreads.com:443 ssl:default [An established connection was aborted by the software in your host machine]\n",
      "Error occured while fetching data from https://www.goodreads.com/review/list/55231162?page=15: Cannot connect to host www.goodreads.com:443 ssl:default [An established connection was aborted by the software in your host machine]\n"
     ]
    },
    {
     "name": "stderr",
     "output_type": "stream",
     "text": [
      " 36%|███▌      | 12073/33593 [28:47<49:09,  7.30it/s]"
     ]
    },
    {
     "name": "stdout",
     "output_type": "stream",
     "text": [
      "Error occured while fetching data from https://www.goodreads.com/review/list/14201049?page=40: Cannot connect to host www.goodreads.com:443 ssl:default [An established connection was aborted by the software in your host machine]\n",
      "Error occured while fetching data from https://www.goodreads.com/review/list/146761949?page=31: Cannot connect to host www.goodreads.com:443 ssl:default [An established connection was aborted by the software in your host machine]\n",
      "Error occured while fetching data from https://www.goodreads.com/review/list/14201049?page=46: Cannot connect to host www.goodreads.com:443 ssl:default [An established connection was aborted by the software in your host machine]\n",
      "Error occured while fetching data from https://www.goodreads.com/review/list/146761949?page=26: Cannot connect to host www.goodreads.com:443 ssl:default [An established connection was aborted by the software in your host machine]\n",
      "Error occured while fetching data from https://www.goodreads.com/review/list/6273941?page=93: Cannot connect to host www.goodreads.com:443 ssl:default [An established connection was aborted by the software in your host machine]\n",
      "Error occured while fetching data from https://www.goodreads.com/review/list/146761949?page=29: Cannot connect to host www.goodreads.com:443 ssl:default [An established connection was aborted by the software in your host machine]\n",
      "Error occured while fetching data from https://www.goodreads.com/review/list/14201049?page=74: Cannot connect to host www.goodreads.com:443 ssl:default [An established connection was aborted by the software in your host machine]\n",
      "Error occured while fetching data from https://www.goodreads.com/review/list/14201049?page=69: Cannot connect to host www.goodreads.com:443 ssl:default [An established connection was aborted by the software in your host machine]\n",
      "Error occured while fetching data from https://www.goodreads.com/review/list/6273941?page=108: Cannot connect to host www.goodreads.com:443 ssl:default [An established connection was aborted by the software in your host machine]\n",
      "Error occured while fetching data from https://www.goodreads.com/review/list/14201049?page=7: Cannot connect to host www.goodreads.com:443 ssl:default [An established connection was aborted by the software in your host machine]\n",
      "Error occured while fetching data from https://www.goodreads.com/review/list/3868340?page=134: Cannot connect to host www.goodreads.com:443 ssl:default [An established connection was aborted by the software in your host machine]\n",
      "Error occured while fetching data from https://www.goodreads.com/review/list/3868340?page=199: Cannot connect to host www.goodreads.com:443 ssl:default [An established connection was aborted by the software in your host machine]\n",
      "Error occured while fetching data from https://www.goodreads.com/review/list/3868340?page=175: Cannot connect to host www.goodreads.com:443 ssl:default [An established connection was aborted by the software in your host machine]\n",
      "Error occured while fetching data from https://www.goodreads.com/review/list/3868340?page=172: Cannot connect to host www.goodreads.com:443 ssl:default [An established connection was aborted by the software in your host machine]\n",
      "Error occured while fetching data from https://www.goodreads.com/review/list/3868340?page=144: Cannot connect to host www.goodreads.com:443 ssl:default [An established connection was aborted by the software in your host machine]\n",
      "Error occured while fetching data from https://www.goodreads.com/review/list/160343510?page=1: Cannot connect to host www.goodreads.com:443 ssl:default [An established connection was aborted by the software in your host machine]\n",
      "Error occured while fetching data from https://www.goodreads.com/review/list/160343510?page=2: Cannot connect to host www.goodreads.com:443 ssl:default [An established connection was aborted by the software in your host machine]\n",
      "Error occured while fetching data from https://www.goodreads.com/review/list/97745086?page=64: Cannot connect to host www.goodreads.com:443 ssl:default [An established connection was aborted by the software in your host machine]\n",
      "Error occured while fetching data from https://www.goodreads.com/review/list/160343510?page=3: Cannot connect to host www.goodreads.com:443 ssl:default [An established connection was aborted by the software in your host machine]\n",
      "Error occured while fetching data from https://www.goodreads.com/review/list/6273941?page=61: Cannot connect to host www.goodreads.com:443 ssl:default [An established connection was aborted by the software in your host machine]\n",
      "Error occured while fetching data from https://www.goodreads.com/review/list/146761949?page=34: Cannot connect to host www.goodreads.com:443 ssl:default [An established connection was aborted by the software in your host machine]\n",
      "Error occured while fetching data from https://www.goodreads.com/review/list/146761949?page=36: Cannot connect to host www.goodreads.com:443 ssl:default [An established connection was aborted by the software in your host machine]\n"
     ]
    },
    {
     "name": "stderr",
     "output_type": "stream",
     "text": [
      " 37%|███▋      | 12326/33593 [29:21<49:42,  7.13it/s]"
     ]
    },
    {
     "name": "stdout",
     "output_type": "stream",
     "text": [
      "Error occured while fetching data from https://www.goodreads.com/review/list/24386108?page=5: Cannot connect to host www.goodreads.com:443 ssl:default [An established connection was aborted by the software in your host machine]\n"
     ]
    },
    {
     "name": "stderr",
     "output_type": "stream",
     "text": [
      " 37%|███▋      | 12360/33593 [29:25<48:31,  7.29it/s]"
     ]
    },
    {
     "name": "stdout",
     "output_type": "stream",
     "text": [
      "Error occured while fetching data from https://www.goodreads.com/review/list/73119395?page=7: Cannot connect to host www.goodreads.com:443 ssl:default [None]\n",
      "Error occured while fetching data from https://www.goodreads.com/review/list/75389154?page=11: Cannot connect to host www.goodreads.com:443 ssl:default [An established connection was aborted by the software in your host machine]\n",
      "Error occured while fetching data from https://www.goodreads.com/review/list/75389154?page=8: Cannot connect to host www.goodreads.com:443 ssl:default [An established connection was aborted by the software in your host machine]\n",
      "Error occured while fetching data from https://www.goodreads.com/review/list/75389154?page=16: Cannot connect to host www.goodreads.com:443 ssl:default [An established connection was aborted by the software in your host machine]\n",
      "Error occured while fetching data from https://www.goodreads.com/review/list/24117178?page=8: Cannot connect to host www.goodreads.com:443 ssl:default [An established connection was aborted by the software in your host machine]\n",
      "Error occured while fetching data from https://www.goodreads.com/review/list/73119395?page=6: Cannot connect to host www.goodreads.com:443 ssl:default [An established connection was aborted by the software in your host machine]\n",
      "Error occured while fetching data from https://www.goodreads.com/review/list/24117178?page=9: Cannot connect to host www.goodreads.com:443 ssl:default [An established connection was aborted by the software in your host machine]\n",
      "Error occured while fetching data from https://www.goodreads.com/review/list/73119395?page=9: Cannot connect to host www.goodreads.com:443 ssl:default [An established connection was aborted by the software in your host machine]\n",
      "Error occured while fetching data from https://www.goodreads.com/review/list/24117178?page=24: Cannot connect to host www.goodreads.com:443 ssl:default [An established connection was aborted by the software in your host machine]\n",
      "Error occured while fetching data from https://www.goodreads.com/review/list/24117178?page=26: Cannot connect to host www.goodreads.com:443 ssl:default [An established connection was aborted by the software in your host machine]\n",
      "Error occured while fetching data from https://www.goodreads.com/review/list/24117178?page=30: Cannot connect to host www.goodreads.com:443 ssl:default [An established connection was aborted by the software in your host machine]\n",
      "Error occured while fetching data from https://www.goodreads.com/review/list/73119395?page=1: Cannot connect to host www.goodreads.com:443 ssl:default [An established connection was aborted by the software in your host machine]\n",
      "Error occured while fetching data from https://www.goodreads.com/review/list/75389154?page=22: Cannot connect to host www.goodreads.com:443 ssl:default [An established connection was aborted by the software in your host machine]\n",
      "Error occured while fetching data from https://www.goodreads.com/review/list/89123022?page=4: Cannot connect to host www.goodreads.com:443 ssl:default [An established connection was aborted by the software in your host machine]\n",
      "Error occured while fetching data from https://www.goodreads.com/review/list/161047181?page=25: Cannot connect to host www.goodreads.com:443 ssl:default [An established connection was aborted by the software in your host machine]\n",
      "Error occured while fetching data from https://www.goodreads.com/review/list/161047181?page=15: Cannot connect to host www.goodreads.com:443 ssl:default [An established connection was aborted by the software in your host machine]\n",
      "Error occured while fetching data from https://www.goodreads.com/review/list/161047181?page=17: Cannot connect to host www.goodreads.com:443 ssl:default [An established connection was aborted by the software in your host machine]\n",
      "Error occured while fetching data from https://www.goodreads.com/review/list/161047181?page=9: Cannot connect to host www.goodreads.com:443 ssl:default [An established connection was aborted by the software in your host machine]\n",
      "Error occured while fetching data from https://www.goodreads.com/review/list/161047181?page=22: Cannot connect to host www.goodreads.com:443 ssl:default [An established connection was aborted by the software in your host machine]\n",
      "Error occured while fetching data from https://www.goodreads.com/review/list/75389154?page=4: Cannot connect to host www.goodreads.com:443 ssl:default [An established connection was aborted by the software in your host machine]\n",
      "Error occured while fetching data from https://www.goodreads.com/review/list/73119395?page=11: Cannot connect to host www.goodreads.com:443 ssl:default [An established connection was aborted by the software in your host machine]\n"
     ]
    },
    {
     "name": "stderr",
     "output_type": "stream",
     "text": [
      " 37%|███▋      | 12575/33593 [29:52<45:38,  7.67it/s]"
     ]
    },
    {
     "name": "stdout",
     "output_type": "stream",
     "text": [
      "Error occured while fetching data from https://www.goodreads.com/review/list/2164884?page=259: Cannot connect to host www.goodreads.com:443 ssl:default [An established connection was aborted by the software in your host machine]\n",
      "Error occured while fetching data from https://www.goodreads.com/review/list/2164884?page=356: Cannot connect to host www.goodreads.com:443 ssl:default [An established connection was aborted by the software in your host machine]\n",
      "Error occured while fetching data from https://www.goodreads.com/review/list/51045069?page=5: Cannot connect to host www.goodreads.com:443 ssl:default [An established connection was aborted by the software in your host machine]\n",
      "Error occured while fetching data from https://www.goodreads.com/review/list/48950455?page=8: Cannot connect to host www.goodreads.com:443 ssl:default [An established connection was aborted by the software in your host machine]\n",
      "Error occured while fetching data from https://www.goodreads.com/review/list/51045069?page=18: Cannot connect to host www.goodreads.com:443 ssl:default [An established connection was aborted by the software in your host machine]\n",
      "Error occured while fetching data from https://www.goodreads.com/review/list/2164884?page=184: Cannot connect to host www.goodreads.com:443 ssl:default [An established connection was aborted by the software in your host machine]\n",
      "Error occured while fetching data from https://www.goodreads.com/review/list/51045069?page=13: Cannot connect to host www.goodreads.com:443 ssl:default [An established connection was aborted by the software in your host machine]\n",
      "Error occured while fetching data from https://www.goodreads.com/review/list/51045069?page=11: Cannot connect to host www.goodreads.com:443 ssl:default [An established connection was aborted by the software in your host machine]\n",
      "Error occured while fetching data from https://www.goodreads.com/review/list/67405281?page=25: Cannot connect to host www.goodreads.com:443 ssl:default [An established connection was aborted by the software in your host machine]\n",
      "Error occured while fetching data from https://www.goodreads.com/review/list/2164884?page=383: Cannot connect to host www.goodreads.com:443 ssl:default [An established connection was aborted by the software in your host machine]\n",
      "Error occured while fetching data from https://www.goodreads.com/review/list/67405281?page=15: Cannot connect to host www.goodreads.com:443 ssl:default [An established connection was aborted by the software in your host machine]\n",
      "Error occured while fetching data from https://www.goodreads.com/review/list/67405281?page=11: Cannot connect to host www.goodreads.com:443 ssl:default [An established connection was aborted by the software in your host machine]\n",
      "Error occured while fetching data from https://www.goodreads.com/review/list/67405281?page=5: Cannot connect to host www.goodreads.com:443 ssl:default [An established connection was aborted by the software in your host machine]\n",
      "Error occured while fetching data from https://www.goodreads.com/review/list/67405281?page=1: Cannot connect to host www.goodreads.com:443 ssl:default [An established connection was aborted by the software in your host machine]\n",
      "Error occured while fetching data from https://www.goodreads.com/review/list/63564798?page=15: Cannot connect to host www.goodreads.com:443 ssl:default [An established connection was aborted by the software in your host machine]\n",
      "Error occured while fetching data from https://www.goodreads.com/review/list/63564798?page=32: Cannot connect to host www.goodreads.com:443 ssl:default [An established connection was aborted by the software in your host machine]\n",
      "Error occured while fetching data from https://www.goodreads.com/review/list/63564798?page=27: Cannot connect to host www.goodreads.com:443 ssl:default [An established connection was aborted by the software in your host machine]\n",
      "Error occured while fetching data from https://www.goodreads.com/review/list/2164884?page=396: Cannot connect to host www.goodreads.com:443 ssl:default [An established connection was aborted by the software in your host machine]\n",
      "Error occured while fetching data from https://www.goodreads.com/review/list/63564798?page=7: Cannot connect to host www.goodreads.com:443 ssl:default [An established connection was aborted by the software in your host machine]\n",
      "Error occured while fetching data from https://www.goodreads.com/review/list/63564798?page=16: Cannot connect to host www.goodreads.com:443 ssl:default [An established connection was aborted by the software in your host machine]\n",
      "Error occured while fetching data from https://www.goodreads.com/review/list/51045069?page=32: Cannot connect to host www.goodreads.com:443 ssl:default [An established connection was aborted by the software in your host machine]\n"
     ]
    },
    {
     "name": "stderr",
     "output_type": "stream",
     "text": [
      " 37%|███▋      | 12594/33593 [29:54<45:08,  7.75it/s]"
     ]
    },
    {
     "name": "stdout",
     "output_type": "stream",
     "text": [
      "Error occured while fetching data from https://www.goodreads.com/review/list/48950455?page=6: Cannot connect to host www.goodreads.com:443 ssl:default [An established connection was aborted by the software in your host machine]\n"
     ]
    },
    {
     "name": "stderr",
     "output_type": "stream",
     "text": [
      " 38%|███▊      | 12831/33593 [30:24<50:59,  6.79it/s]"
     ]
    },
    {
     "name": "stdout",
     "output_type": "stream",
     "text": [
      "Error occured while fetching data from https://www.goodreads.com/review/list/150870849?page=7: Cannot connect to host www.goodreads.com:443 ssl:default [An established connection was aborted by the software in your host machine]\n",
      "Error occured while fetching data from https://www.goodreads.com/review/list/5947959?page=3: Cannot connect to host www.goodreads.com:443 ssl:default [An established connection was aborted by the software in your host machine]\n",
      "Error occured while fetching data from https://www.goodreads.com/review/list/14368615?page=25: Cannot connect to host www.goodreads.com:443 ssl:default [None]\n",
      "Error occured while fetching data from https://www.goodreads.com/review/list/14368615?page=24: Cannot connect to host www.goodreads.com:443 ssl:default [None]\n",
      "Error occured while fetching data from https://www.goodreads.com/review/list/14368615?page=23: Cannot connect to host www.goodreads.com:443 ssl:default [None]\n",
      "Error occured while fetching data from https://www.goodreads.com/review/list/160422658?page=23: Cannot connect to host www.goodreads.com:443 ssl:default [None]\n",
      "Error occured while fetching data from https://www.goodreads.com/review/list/160422658?page=31: Cannot connect to host www.goodreads.com:443 ssl:default [None]\n",
      "Error occured while fetching data from https://www.goodreads.com/review/list/160422658?page=1: Cannot connect to host www.goodreads.com:443 ssl:default [None]\n",
      "Error occured while fetching data from https://www.goodreads.com/review/list/160422658?page=14: Cannot connect to host www.goodreads.com:443 ssl:default [None]\n",
      "Error occured while fetching data from https://www.goodreads.com/review/list/160422658?page=35: Cannot connect to host www.goodreads.com:443 ssl:default [None]\n",
      "Error occured while fetching data from https://www.goodreads.com/review/list/14368615?page=12: Cannot connect to host www.goodreads.com:443 ssl:default [None]\n",
      "Error occured while fetching data from https://www.goodreads.com/review/list/4448531?page=43: Cannot connect to host www.goodreads.com:443 ssl:default [None]\n"
     ]
    },
    {
     "name": "stderr",
     "output_type": "stream",
     "text": [
      " 38%|███▊      | 12858/33593 [30:30<58:24,  5.92it/s]"
     ]
    },
    {
     "name": "stdout",
     "output_type": "stream",
     "text": [
      "Error occured while fetching data from https://www.goodreads.com/review/list/4448531?page=26: Cannot connect to host www.goodreads.com:443 ssl:default [None]\n",
      "Error occured while fetching data from https://www.goodreads.com/review/list/4448531?page=9: Cannot connect to host www.goodreads.com:443 ssl:default [None]\n",
      "Error occured while fetching data from https://www.goodreads.com/review/list/4448531?page=1: Cannot connect to host www.goodreads.com:443 ssl:default [None]\n",
      "Error occured while fetching data from https://www.goodreads.com/review/list/13654626?page=13: Cannot connect to host www.goodreads.com:443 ssl:default [None]\n",
      "Error occured while fetching data from https://www.goodreads.com/review/list/13654626?page=18: Cannot connect to host www.goodreads.com:443 ssl:default [None]\n",
      "Error occured while fetching data from https://www.goodreads.com/review/list/13654626?page=5: Cannot connect to host www.goodreads.com:443 ssl:default [None]\n",
      "Error occured while fetching data from https://www.goodreads.com/review/list/13654626?page=9: Cannot connect to host www.goodreads.com:443 ssl:default [None]\n",
      "Error occured while fetching data from https://www.goodreads.com/review/list/13654626?page=11: Cannot connect to host www.goodreads.com:443 ssl:default [None]\n",
      "Error occured while fetching data from https://www.goodreads.com/review/list/14368615?page=15: Cannot connect to host www.goodreads.com:443 ssl:default [None]\n",
      "Error occured while fetching data from https://www.goodreads.com/review/list/4448531?page=18: Cannot connect to host www.goodreads.com:443 ssl:default [An established connection was aborted by the software in your host machine]\n"
     ]
    },
    {
     "name": "stderr",
     "output_type": "stream",
     "text": [
      " 39%|███▉      | 13100/33593 [31:02<48:00,  7.12it/s]"
     ]
    },
    {
     "name": "stdout",
     "output_type": "stream",
     "text": [
      "Error occured while fetching data from https://www.goodreads.com/review/list/24247940?page=70: Cannot connect to host www.goodreads.com:443 ssl:default [An established connection was aborted by the software in your host machine]\n",
      "Error occured while fetching data from https://www.goodreads.com/review/list/94414688?page=38: Cannot connect to host www.goodreads.com:443 ssl:default [An established connection was aborted by the software in your host machine]\n",
      "Error occured while fetching data from https://www.goodreads.com/review/list/4714821?page=175: Cannot connect to host www.goodreads.com:443 ssl:default [An established connection was aborted by the software in your host machine]\n",
      "Error occured while fetching data from https://www.goodreads.com/review/list/4714821?page=118: Cannot connect to host www.goodreads.com:443 ssl:default [An established connection was aborted by the software in your host machine]\n",
      "Error occured while fetching data from https://www.goodreads.com/review/list/27895221?page=224: Cannot connect to host www.goodreads.com:443 ssl:default [An established connection was aborted by the software in your host machine]\n",
      "Error occured while fetching data from https://www.goodreads.com/review/list/27895221?page=81: Cannot connect to host www.goodreads.com:443 ssl:default [An established connection was aborted by the software in your host machine]\n",
      "Error occured while fetching data from https://www.goodreads.com/review/list/27895221?page=230: Cannot connect to host www.goodreads.com:443 ssl:default [An established connection was aborted by the software in your host machine]\n",
      "Error occured while fetching data from https://www.goodreads.com/review/list/161312656?page=1: Cannot connect to host www.goodreads.com:443 ssl:default [An established connection was aborted by the software in your host machine]\n",
      "Error occured while fetching data from https://www.goodreads.com/review/list/4714821?page=120: Cannot connect to host www.goodreads.com:443 ssl:default [An established connection was aborted by the software in your host machine]\n",
      "Error occured while fetching data from https://www.goodreads.com/review/list/35629359?page=3: Cannot connect to host www.goodreads.com:443 ssl:default [An established connection was aborted by the software in your host machine]\n",
      "Error occured while fetching data from https://www.goodreads.com/review/list/161312656?page=2: Cannot connect to host www.goodreads.com:443 ssl:default [An established connection was aborted by the software in your host machine]\n",
      "Error occured while fetching data from https://www.goodreads.com/review/list/27895221?page=251: Cannot connect to host www.goodreads.com:443 ssl:default [An established connection was aborted by the software in your host machine]\n",
      "Error occured while fetching data from https://www.goodreads.com/review/list/35629359?page=2: Cannot connect to host www.goodreads.com:443 ssl:default [An established connection was aborted by the software in your host machine]\n",
      "Error occured while fetching data from https://www.goodreads.com/review/list/27895221?page=41: Cannot connect to host www.goodreads.com:443 ssl:default [An established connection was aborted by the software in your host machine]\n",
      "Error occured while fetching data from https://www.goodreads.com/review/list/24247940?page=73: Cannot connect to host www.goodreads.com:443 ssl:default [An established connection was aborted by the software in your host machine]\n",
      "Error occured while fetching data from https://www.goodreads.com/review/list/4714821?page=8: Cannot connect to host www.goodreads.com:443 ssl:default [An established connection was aborted by the software in your host machine]\n",
      "Error occured while fetching data from https://www.goodreads.com/review/list/35629359?page=1: Cannot connect to host www.goodreads.com:443 ssl:default [An established connection was aborted by the software in your host machine]\n",
      "Error occured while fetching data from https://www.goodreads.com/review/list/94414688?page=126: Cannot connect to host www.goodreads.com:443 ssl:default [An established connection was aborted by the software in your host machine]\n",
      "Error occured while fetching data from https://www.goodreads.com/review/list/4714821?page=107: Cannot connect to host www.goodreads.com:443 ssl:default [An established connection was aborted by the software in your host machine]\n",
      "Error occured while fetching data from https://www.goodreads.com/review/list/161312656?page=3: Cannot connect to host www.goodreads.com:443 ssl:default [An established connection was aborted by the software in your host machine]\n",
      "Error occured while fetching data from https://www.goodreads.com/review/list/94414688?page=96: Cannot connect to host www.goodreads.com:443 ssl:default [An established connection was aborted by the software in your host machine]\n",
      "Error occured while fetching data from https://www.goodreads.com/review/list/94414688?page=69: Cannot connect to host www.goodreads.com:443 ssl:default [An established connection was aborted by the software in your host machine]\n"
     ]
    },
    {
     "name": "stderr",
     "output_type": "stream",
     "text": [
      " 40%|███▉      | 13377/33593 [31:39<48:24,  6.96it/s]"
     ]
    },
    {
     "name": "stdout",
     "output_type": "stream",
     "text": [
      "Error occured while fetching data from https://www.goodreads.com/review/list/5448792?page=32: Cannot connect to host www.goodreads.com:443 ssl:default [An established connection was aborted by the software in your host machine]\n",
      "Error occured while fetching data from https://www.goodreads.com/review/list/5448792?page=19: Cannot connect to host www.goodreads.com:443 ssl:default [An established connection was aborted by the software in your host machine]\n",
      "Error occured while fetching data from https://www.goodreads.com/review/list/11828431?page=48: Cannot connect to host www.goodreads.com:443 ssl:default [An established connection was aborted by the software in your host machine]\n",
      "Error occured while fetching data from https://www.goodreads.com/review/list/11828431?page=39: Cannot connect to host www.goodreads.com:443 ssl:default [An established connection was aborted by the software in your host machine]\n",
      "Error occured while fetching data from https://www.goodreads.com/review/list/5455280?page=73: Cannot connect to host www.goodreads.com:443 ssl:default [An established connection was aborted by the software in your host machine]\n",
      "Error occured while fetching data from https://www.goodreads.com/review/list/11828431?page=43: Cannot connect to host www.goodreads.com:443 ssl:default [An established connection was aborted by the software in your host machine]\n",
      "Error occured while fetching data from https://www.goodreads.com/review/list/11828431?page=41: Cannot connect to host www.goodreads.com:443 ssl:default [An established connection was aborted by the software in your host machine]\n",
      "Error occured while fetching data from https://www.goodreads.com/review/list/11828431?page=36: Cannot connect to host www.goodreads.com:443 ssl:default [An established connection was aborted by the software in your host machine]\n",
      "Error occured while fetching data from https://www.goodreads.com/review/list/16526940?page=38: Cannot connect to host www.goodreads.com:443 ssl:default [An established connection was aborted by the software in your host machine]\n",
      "Error occured while fetching data from https://www.goodreads.com/review/list/5455280?page=149: Cannot connect to host www.goodreads.com:443 ssl:default [An established connection was aborted by the software in your host machine]\n",
      "Error occured while fetching data from https://www.goodreads.com/review/list/49306256?page=12: Cannot connect to host www.goodreads.com:443 ssl:default [An established connection was aborted by the software in your host machine]\n",
      "Error occured while fetching data from https://www.goodreads.com/review/list/5455280?page=25: Cannot connect to host www.goodreads.com:443 ssl:default [An established connection was aborted by the software in your host machine]\n",
      "Error occured while fetching data from https://www.goodreads.com/review/list/16526940?page=37: Cannot connect to host www.goodreads.com:443 ssl:default [An established connection was aborted by the software in your host machine]\n",
      "Error occured while fetching data from https://www.goodreads.com/review/list/49306256?page=3: Cannot connect to host www.goodreads.com:443 ssl:default [An established connection was aborted by the software in your host machine]\n",
      "Error occured while fetching data from https://www.goodreads.com/review/list/16526940?page=5: Cannot connect to host www.goodreads.com:443 ssl:default [An established connection was aborted by the software in your host machine]\n",
      "Error occured while fetching data from https://www.goodreads.com/review/list/128112762?page=9: Cannot connect to host www.goodreads.com:443 ssl:default [An established connection was aborted by the software in your host machine]\n",
      "Error occured while fetching data from https://www.goodreads.com/review/list/16526940?page=33: Cannot connect to host www.goodreads.com:443 ssl:default [An established connection was aborted by the software in your host machine]\n",
      "Error occured while fetching data from https://www.goodreads.com/review/list/16526940?page=25: Cannot connect to host www.goodreads.com:443 ssl:default [An established connection was aborted by the software in your host machine]\n",
      "Error occured while fetching data from https://www.goodreads.com/review/list/49306256?page=32: Cannot connect to host www.goodreads.com:443 ssl:default [An established connection was aborted by the software in your host machine]\n",
      "Error occured while fetching data from https://www.goodreads.com/review/list/49306256?page=2: Cannot connect to host www.goodreads.com:443 ssl:default [An established connection was aborted by the software in your host machine]\n",
      "Error occured while fetching data from https://www.goodreads.com/review/list/5455280?page=164: Cannot connect to host www.goodreads.com:443 ssl:default [An established connection was aborted by the software in your host machine]\n",
      "Error occured while fetching data from https://www.goodreads.com/review/list/5455280?page=47: Cannot connect to host www.goodreads.com:443 ssl:default [An established connection was aborted by the software in your host machine]\n"
     ]
    },
    {
     "name": "stderr",
     "output_type": "stream",
     "text": [
      " 41%|████      | 13610/33593 [32:09<50:42,  6.57it/s]"
     ]
    },
    {
     "name": "stdout",
     "output_type": "stream",
     "text": [
      "Error occured while fetching data from https://www.goodreads.com/review/list/62688833?page=2: Cannot connect to host www.goodreads.com:443 ssl:default [An established connection was aborted by the software in your host machine]\n",
      "Error occured while fetching data from https://www.goodreads.com/review/list/20234777?page=74: Cannot connect to host www.goodreads.com:443 ssl:default [An established connection was aborted by the software in your host machine]\n",
      "Error occured while fetching data from https://www.goodreads.com/review/list/20234777?page=16: Cannot connect to host www.goodreads.com:443 ssl:default [An established connection was aborted by the software in your host machine]\n",
      "Error occured while fetching data from https://www.goodreads.com/review/list/62688833?page=1: Cannot connect to host www.goodreads.com:443 ssl:default [An established connection was aborted by the software in your host machine]\n",
      "Error occured while fetching data from https://www.goodreads.com/review/list/20234777?page=93: Cannot connect to host www.goodreads.com:443 ssl:default [An established connection was aborted by the software in your host machine]\n",
      "Error occured while fetching data from https://www.goodreads.com/review/list/160570706?page=3: Cannot connect to host www.goodreads.com:443 ssl:default [An established connection was aborted by the software in your host machine]\n",
      "Error occured while fetching data from https://www.goodreads.com/review/list/160570706?page=2: Cannot connect to host www.goodreads.com:443 ssl:default [An established connection was aborted by the software in your host machine]\n",
      "Error occured while fetching data from https://www.goodreads.com/review/list/160570706?page=1: Cannot connect to host www.goodreads.com:443 ssl:default [An established connection was aborted by the software in your host machine]\n",
      "Error occured while fetching data from https://www.goodreads.com/review/list/142851695?page=5: Cannot connect to host www.goodreads.com:443 ssl:default [An established connection was aborted by the software in your host machine]\n",
      "Error occured while fetching data from https://www.goodreads.com/review/list/142851695?page=4: Cannot connect to host www.goodreads.com:443 ssl:default [An established connection was aborted by the software in your host machine]\n",
      "Error occured while fetching data from https://www.goodreads.com/review/list/142851695?page=3: Cannot connect to host www.goodreads.com:443 ssl:default [An established connection was aborted by the software in your host machine]\n",
      "Error occured while fetching data from https://www.goodreads.com/review/list/142851695?page=2: Cannot connect to host www.goodreads.com:443 ssl:default [An established connection was aborted by the software in your host machine]\n",
      "Error occured while fetching data from https://www.goodreads.com/review/list/142851695?page=1: Cannot connect to host www.goodreads.com:443 ssl:default [An established connection was aborted by the software in your host machine]\n",
      "Error occured while fetching data from https://www.goodreads.com/review/list/20234777?page=91: Cannot connect to host www.goodreads.com:443 ssl:default [An established connection was aborted by the software in your host machine]\n",
      "Error occured while fetching data from https://www.goodreads.com/review/list/52537298?page=169: Cannot connect to host www.goodreads.com:443 ssl:default [An established connection was aborted by the software in your host machine]\n",
      "Error occured while fetching data from https://www.goodreads.com/review/list/161144871?page=1: Cannot connect to host www.goodreads.com:443 ssl:default [An established connection was aborted by the software in your host machine]\n",
      "Error occured while fetching data from https://www.goodreads.com/review/list/62688833?page=4: Cannot connect to host www.goodreads.com:443 ssl:default [An established connection was aborted by the software in your host machine]\n",
      "Error occured while fetching data from https://www.goodreads.com/review/list/62688833?page=3: Cannot connect to host www.goodreads.com:443 ssl:default [An established connection was aborted by the software in your host machine]\n",
      "Error occured while fetching data from https://www.goodreads.com/review/list/52537298?page=71: Cannot connect to host www.goodreads.com:443 ssl:default [An established connection was aborted by the software in your host machine]\n",
      "Error occured while fetching data from https://www.goodreads.com/review/list/52537298?page=152: Cannot connect to host www.goodreads.com:443 ssl:default [An established connection was aborted by the software in your host machine]\n",
      "Error occured while fetching data from https://www.goodreads.com/review/list/52537298?page=41: Cannot connect to host www.goodreads.com:443 ssl:default [An established connection was aborted by the software in your host machine]\n",
      "Error occured while fetching data from https://www.goodreads.com/review/list/20234777?page=105: Cannot connect to host www.goodreads.com:443 ssl:default [An established connection was aborted by the software in your host machine]\n"
     ]
    },
    {
     "name": "stderr",
     "output_type": "stream",
     "text": [
      " 41%|████      | 13857/33593 [32:41<43:45,  7.52it/s]"
     ]
    },
    {
     "name": "stdout",
     "output_type": "stream",
     "text": [
      "Error occured while fetching data from https://www.goodreads.com/review/list/12196388?page=2: Cannot connect to host www.goodreads.com:443 ssl:default [An established connection was aborted by the software in your host machine]\n"
     ]
    },
    {
     "name": "stderr",
     "output_type": "stream",
     "text": [
      " 41%|████▏     | 13900/33593 [32:47<44:42,  7.34it/s]"
     ]
    },
    {
     "name": "stdout",
     "output_type": "stream",
     "text": [
      "Error occured while fetching data from https://www.goodreads.com/review/list/4527498?page=4: Cannot connect to host www.goodreads.com:443 ssl:default [An established connection was aborted by the software in your host machine]\n",
      "Error occured while fetching data from https://www.goodreads.com/review/list/151314063?page=30: Cannot connect to host www.goodreads.com:443 ssl:default [An established connection was aborted by the software in your host machine]\n",
      "Error occured while fetching data from https://www.goodreads.com/review/list/151314063?page=31: Cannot connect to host www.goodreads.com:443 ssl:default [An established connection was aborted by the software in your host machine]\n",
      "Error occured while fetching data from https://www.goodreads.com/review/list/4527498?page=8: Cannot connect to host www.goodreads.com:443 ssl:default [An established connection was aborted by the software in your host machine]\n",
      "Error occured while fetching data from https://www.goodreads.com/review/list/151314063?page=19: Cannot connect to host www.goodreads.com:443 ssl:default [An established connection was aborted by the software in your host machine]\n",
      "Error occured while fetching data from https://www.goodreads.com/review/list/4527498?page=2: Cannot connect to host www.goodreads.com:443 ssl:default [An established connection was aborted by the software in your host machine]\n",
      "Error occured while fetching data from https://www.goodreads.com/review/list/76484849?page=7: Cannot connect to host www.goodreads.com:443 ssl:default [An established connection was aborted by the software in your host machine]\n",
      "Error occured while fetching data from https://www.goodreads.com/review/list/76484849?page=2: Cannot connect to host www.goodreads.com:443 ssl:default [An established connection was aborted by the software in your host machine]\n",
      "Error occured while fetching data from https://www.goodreads.com/review/list/151314063?page=11: Cannot connect to host www.goodreads.com:443 ssl:default [An established connection was aborted by the software in your host machine]\n",
      "Error occured while fetching data from https://www.goodreads.com/review/list/32656710?page=1: Cannot connect to host www.goodreads.com:443 ssl:default [An established connection was aborted by the software in your host machine]\n",
      "Error occured while fetching data from https://www.goodreads.com/review/list/76484849?page=3: Cannot connect to host www.goodreads.com:443 ssl:default [An established connection was aborted by the software in your host machine]\n",
      "Error occured while fetching data from https://www.goodreads.com/review/list/63164992?page=8: Cannot connect to host www.goodreads.com:443 ssl:default [An established connection was aborted by the software in your host machine]\n",
      "Error occured while fetching data from https://www.goodreads.com/review/list/151314063?page=2: Cannot connect to host www.goodreads.com:443 ssl:default [An established connection was aborted by the software in your host machine]\n",
      "Error occured while fetching data from https://www.goodreads.com/review/list/63164992?page=17: Cannot connect to host www.goodreads.com:443 ssl:default [An established connection was aborted by the software in your host machine]\n",
      "Error occured while fetching data from https://www.goodreads.com/review/list/4527498?page=6: Cannot connect to host www.goodreads.com:443 ssl:default [An established connection was aborted by the software in your host machine]\n",
      "Error occured while fetching data from https://www.goodreads.com/review/list/63164992?page=16: Cannot connect to host www.goodreads.com:443 ssl:default [An established connection was aborted by the software in your host machine]\n",
      "Error occured while fetching data from https://www.goodreads.com/review/list/63164992?page=4: Cannot connect to host www.goodreads.com:443 ssl:default [An established connection was aborted by the software in your host machine]\n",
      "Error occured while fetching data from https://www.goodreads.com/review/list/63164992?page=2: Cannot connect to host www.goodreads.com:443 ssl:default [An established connection was aborted by the software in your host machine]\n",
      "Error occured while fetching data from https://www.goodreads.com/review/list/76484849?page=6: Cannot connect to host www.goodreads.com:443 ssl:default [An established connection was aborted by the software in your host machine]\n",
      "Error occured while fetching data from https://www.goodreads.com/review/list/4527498?page=7: Cannot connect to host www.goodreads.com:443 ssl:default [An established connection was aborted by the software in your host machine]\n",
      "Error occured while fetching data from https://www.goodreads.com/review/list/76484849?page=5: Cannot connect to host www.goodreads.com:443 ssl:default [An established connection was aborted by the software in your host machine]\n"
     ]
    },
    {
     "name": "stderr",
     "output_type": "stream",
     "text": [
      " 42%|████▏     | 14104/33593 [33:14<43:26,  7.48it/s]"
     ]
    },
    {
     "name": "stdout",
     "output_type": "stream",
     "text": [
      "Error occured while fetching data from https://www.goodreads.com/review/list/1831318?page=1320: Cannot connect to host www.goodreads.com:443 ssl:default [An established connection was aborted by the software in your host machine]\n",
      "Error occured while fetching data from https://www.goodreads.com/review/list/15107182?page=33: Cannot connect to host www.goodreads.com:443 ssl:default [An established connection was aborted by the software in your host machine]\n",
      "Error occured while fetching data from https://www.goodreads.com/review/list/1831318?page=1949: Cannot connect to host www.goodreads.com:443 ssl:default [An established connection was aborted by the software in your host machine]\n",
      "Error occured while fetching data from https://www.goodreads.com/review/list/15107182?page=73: Cannot connect to host www.goodreads.com:443 ssl:default [An established connection was aborted by the software in your host machine]\n",
      "Error occured while fetching data from https://www.goodreads.com/review/list/15107182?page=70: Cannot connect to host www.goodreads.com:443 ssl:default [An established connection was aborted by the software in your host machine]\n",
      "Error occured while fetching data from https://www.goodreads.com/review/list/51041100?page=57: Cannot connect to host www.goodreads.com:443 ssl:default [An established connection was aborted by the software in your host machine]\n",
      "Error occured while fetching data from https://www.goodreads.com/review/list/51041100?page=77: Cannot connect to host www.goodreads.com:443 ssl:default [An established connection was aborted by the software in your host machine]\n",
      "Error occured while fetching data from https://www.goodreads.com/review/list/1831318?page=2843: Cannot connect to host www.goodreads.com:443 ssl:default [An established connection was aborted by the software in your host machine]\n",
      "Error occured while fetching data from https://www.goodreads.com/review/list/51041100?page=11: Cannot connect to host www.goodreads.com:443 ssl:default [An established connection was aborted by the software in your host machine]\n",
      "Error occured while fetching data from https://www.goodreads.com/review/list/51041100?page=33: Cannot connect to host www.goodreads.com:443 ssl:default [An established connection was aborted by the software in your host machine]\n",
      "Error occured while fetching data from https://www.goodreads.com/review/list/51041100?page=32: Cannot connect to host www.goodreads.com:443 ssl:default [An established connection was aborted by the software in your host machine]\n",
      "Error occured while fetching data from https://www.goodreads.com/review/list/23494569?page=78: Cannot connect to host www.goodreads.com:443 ssl:default [An established connection was aborted by the software in your host machine]\n",
      "Error occured while fetching data from https://www.goodreads.com/review/list/23494569?page=79: Cannot connect to host www.goodreads.com:443 ssl:default [An established connection was aborted by the software in your host machine]\n",
      "Error occured while fetching data from https://www.goodreads.com/review/list/1831318?page=3573: Cannot connect to host www.goodreads.com:443 ssl:default [An established connection was aborted by the software in your host machine]\n",
      "Error occured while fetching data from https://www.goodreads.com/review/list/23494569?page=29: Cannot connect to host www.goodreads.com:443 ssl:default [An established connection was aborted by the software in your host machine]\n",
      "Error occured while fetching data from https://www.goodreads.com/review/list/23494569?page=87: Cannot connect to host www.goodreads.com:443 ssl:default [An established connection was aborted by the software in your host machine]\n",
      "Error occured while fetching data from https://www.goodreads.com/review/list/52398255?page=40: Cannot connect to host www.goodreads.com:443 ssl:default [An established connection was aborted by the software in your host machine]\n",
      "Error occured while fetching data from https://www.goodreads.com/review/list/23494569?page=76: Cannot connect to host www.goodreads.com:443 ssl:default [An established connection was aborted by the software in your host machine]\n",
      "Error occured while fetching data from https://www.goodreads.com/review/list/5939972?page=20: Cannot connect to host www.goodreads.com:443 ssl:default [An established connection was aborted by the software in your host machine]\n",
      "Error occured while fetching data from https://www.goodreads.com/review/list/1831318?page=1866: Cannot connect to host www.goodreads.com:443 ssl:default [An established connection was aborted by the software in your host machine]\n",
      "Error occured while fetching data from https://www.goodreads.com/review/list/15107182?page=63: Cannot connect to host www.goodreads.com:443 ssl:default [An established connection was aborted by the software in your host machine]\n",
      "Error occured while fetching data from https://www.goodreads.com/review/list/15107182?page=37: Cannot connect to host www.goodreads.com:443 ssl:default [An established connection was aborted by the software in your host machine]\n"
     ]
    },
    {
     "name": "stderr",
     "output_type": "stream",
     "text": [
      " 43%|████▎     | 14372/33593 [33:48<44:37,  7.18it/s]"
     ]
    },
    {
     "name": "stdout",
     "output_type": "stream",
     "text": [
      "Error occured while fetching data from https://www.goodreads.com/review/list/2641352?page=18: Cannot connect to host www.goodreads.com:443 ssl:default [An established connection was aborted by the software in your host machine]\n"
     ]
    },
    {
     "name": "stderr",
     "output_type": "stream",
     "text": [
      " 43%|████▎     | 14443/33593 [33:59<46:25,  6.87it/s]"
     ]
    },
    {
     "name": "stdout",
     "output_type": "stream",
     "text": [
      "Error occured while fetching data from https://www.goodreads.com/review/list/2641352?page=64: Cannot connect to host www.goodreads.com:443 ssl:default [An established connection was aborted by the software in your host machine]\n",
      "Error occured while fetching data from https://www.goodreads.com/review/list/2641352?page=48: Cannot connect to host www.goodreads.com:443 ssl:default [An established connection was aborted by the software in your host machine]\n",
      "Error occured while fetching data from https://www.goodreads.com/review/list/2641352?page=152: Cannot connect to host www.goodreads.com:443 ssl:default [An established connection was aborted by the software in your host machine]\n",
      "Error occured while fetching data from https://www.goodreads.com/review/list/2641352?page=114: Cannot connect to host www.goodreads.com:443 ssl:default [An established connection was aborted by the software in your host machine]\n",
      "Error occured while fetching data from https://www.goodreads.com/review/list/73125995?page=131: Cannot connect to host www.goodreads.com:443 ssl:default [An established connection was aborted by the software in your host machine]\n",
      "Error occured while fetching data from https://www.goodreads.com/review/list/73125995?page=155: Cannot connect to host www.goodreads.com:443 ssl:default [An established connection was aborted by the software in your host machine]\n",
      "Error occured while fetching data from https://www.goodreads.com/review/list/73125995?page=184: Cannot connect to host www.goodreads.com:443 ssl:default [An established connection was aborted by the software in your host machine]\n",
      "Error occured while fetching data from https://www.goodreads.com/review/list/73125995?page=259: Cannot connect to host www.goodreads.com:443 ssl:default [An established connection was aborted by the software in your host machine]\n",
      "Error occured while fetching data from https://www.goodreads.com/review/list/73125995?page=203: Cannot connect to host www.goodreads.com:443 ssl:default [An established connection was aborted by the software in your host machine]\n",
      "Error occured while fetching data from https://www.goodreads.com/review/list/32532051?page=1: Cannot connect to host www.goodreads.com:443 ssl:default [An established connection was aborted by the software in your host machine]\n",
      "Error occured while fetching data from https://www.goodreads.com/review/list/32532051?page=47: Cannot connect to host www.goodreads.com:443 ssl:default [An established connection was aborted by the software in your host machine]\n",
      "Error occured while fetching data from https://www.goodreads.com/review/list/32532051?page=213: Cannot connect to host www.goodreads.com:443 ssl:default [An established connection was aborted by the software in your host machine]\n",
      "Error occured while fetching data from https://www.goodreads.com/review/list/32532051?page=15: Cannot connect to host www.goodreads.com:443 ssl:default [An established connection was aborted by the software in your host machine]\n",
      "Error occured while fetching data from https://www.goodreads.com/review/list/32532051?page=84: Cannot connect to host www.goodreads.com:443 ssl:default [An established connection was aborted by the software in your host machine]\n",
      "Error occured while fetching data from https://www.goodreads.com/review/list/32726092?page=457: Cannot connect to host www.goodreads.com:443 ssl:default [An established connection was aborted by the software in your host machine]\n",
      "Error occured while fetching data from https://www.goodreads.com/review/list/32726092?page=524: Cannot connect to host www.goodreads.com:443 ssl:default [An established connection was aborted by the software in your host machine]\n",
      "Error occured while fetching data from https://www.goodreads.com/review/list/32726092?page=614: Cannot connect to host www.goodreads.com:443 ssl:default [An established connection was aborted by the software in your host machine]\n",
      "Error occured while fetching data from https://www.goodreads.com/review/list/32726092?page=45: Cannot connect to host www.goodreads.com:443 ssl:default [An established connection was aborted by the software in your host machine]\n",
      "Error occured while fetching data from https://www.goodreads.com/review/list/32726092?page=526: Cannot connect to host www.goodreads.com:443 ssl:default [An established connection was aborted by the software in your host machine]\n",
      "Error occured while fetching data from https://www.goodreads.com/review/list/22888935?page=169: Cannot connect to host www.goodreads.com:443 ssl:default [An established connection was aborted by the software in your host machine]\n",
      "Error occured while fetching data from https://www.goodreads.com/review/list/22888935?page=133: Cannot connect to host www.goodreads.com:443 ssl:default [An established connection was aborted by the software in your host machine]\n"
     ]
    },
    {
     "name": "stderr",
     "output_type": "stream",
     "text": [
      " 43%|████▎     | 14610/33593 [34:20<42:13,  7.49it/s]"
     ]
    },
    {
     "name": "stdout",
     "output_type": "stream",
     "text": [
      "Error occured while fetching data from https://www.goodreads.com/review/list/25332714?page=3: Cannot connect to host www.goodreads.com:443 ssl:default [An established connection was aborted by the software in your host machine]\n"
     ]
    },
    {
     "name": "stderr",
     "output_type": "stream",
     "text": [
      " 44%|████▎     | 14652/33593 [34:24<38:23,  8.22it/s]"
     ]
    },
    {
     "name": "stdout",
     "output_type": "stream",
     "text": [
      "Error occured while fetching data from https://www.goodreads.com/review/list/91121795?page=4: Cannot connect to host www.goodreads.com:443 ssl:default [An established connection was aborted by the software in your host machine]\n",
      "Error occured while fetching data from https://www.goodreads.com/review/list/91121795?page=5: Cannot connect to host www.goodreads.com:443 ssl:default [An established connection was aborted by the software in your host machine]\n",
      "Error occured while fetching data from https://www.goodreads.com/review/list/9588468?page=10: Cannot connect to host www.goodreads.com:443 ssl:default [An established connection was aborted by the software in your host machine]\n",
      "Error occured while fetching data from https://www.goodreads.com/review/list/91121795?page=12: Cannot connect to host www.goodreads.com:443 ssl:default [An established connection was aborted by the software in your host machine]\n",
      "Error occured while fetching data from https://www.goodreads.com/review/list/9588468?page=5: Cannot connect to host www.goodreads.com:443 ssl:default [An established connection was aborted by the software in your host machine]\n",
      "Error occured while fetching data from https://www.goodreads.com/review/list/91121795?page=2: Cannot connect to host www.goodreads.com:443 ssl:default [An established connection was aborted by the software in your host machine]\n",
      "Error occured while fetching data from https://www.goodreads.com/review/list/17996251?page=4: Cannot connect to host www.goodreads.com:443 ssl:default [An established connection was aborted by the software in your host machine]\n",
      "Error occured while fetching data from https://www.goodreads.com/review/list/91121795?page=14: Cannot connect to host www.goodreads.com:443 ssl:default [An established connection was aborted by the software in your host machine]\n",
      "Error occured while fetching data from https://www.goodreads.com/review/list/17996251?page=15: Cannot connect to host www.goodreads.com:443 ssl:default [An established connection was aborted by the software in your host machine]\n",
      "Error occured while fetching data from https://www.goodreads.com/review/list/120010005?page=6: Cannot connect to host www.goodreads.com:443 ssl:default [An established connection was aborted by the software in your host machine]\n",
      "Error occured while fetching data from https://www.goodreads.com/review/list/17996251?page=12: Cannot connect to host www.goodreads.com:443 ssl:default [An established connection was aborted by the software in your host machine]\n",
      "Error occured while fetching data from https://www.goodreads.com/review/list/120010005?page=16: Cannot connect to host www.goodreads.com:443 ssl:default [An established connection was aborted by the software in your host machine]\n",
      "Error occured while fetching data from https://www.goodreads.com/review/list/17996251?page=5: Cannot connect to host www.goodreads.com:443 ssl:default [An established connection was aborted by the software in your host machine]\n",
      "Error occured while fetching data from https://www.goodreads.com/review/list/9588468?page=15: Cannot connect to host www.goodreads.com:443 ssl:default [An established connection was aborted by the software in your host machine]\n",
      "Error occured while fetching data from https://www.goodreads.com/review/list/17996251?page=1: Cannot connect to host www.goodreads.com:443 ssl:default [An established connection was aborted by the software in your host machine]\n",
      "Error occured while fetching data from https://www.goodreads.com/review/list/145141487?page=8: Cannot connect to host www.goodreads.com:443 ssl:default [An established connection was aborted by the software in your host machine]\n",
      "Error occured while fetching data from https://www.goodreads.com/review/list/120010005?page=18: Cannot connect to host www.goodreads.com:443 ssl:default [An established connection was aborted by the software in your host machine]\n",
      "Error occured while fetching data from https://www.goodreads.com/review/list/145141487?page=5: Cannot connect to host www.goodreads.com:443 ssl:default [An established connection was aborted by the software in your host machine]\n",
      "Error occured while fetching data from https://www.goodreads.com/review/list/145141487?page=14: Cannot connect to host www.goodreads.com:443 ssl:default [An established connection was aborted by the software in your host machine]\n",
      "Error occured while fetching data from https://www.goodreads.com/review/list/145141487?page=1: Cannot connect to host www.goodreads.com:443 ssl:default [An established connection was aborted by the software in your host machine]\n",
      "Error occured while fetching data from https://www.goodreads.com/review/list/145141487?page=27: Cannot connect to host www.goodreads.com:443 ssl:default [An established connection was aborted by the software in your host machine]\n"
     ]
    },
    {
     "name": "stderr",
     "output_type": "stream",
     "text": [
      " 44%|████▍     | 14870/33593 [34:52<37:45,  8.26it/s]"
     ]
    },
    {
     "name": "stdout",
     "output_type": "stream",
     "text": [
      "Error occured while fetching data from https://www.goodreads.com/review/list/79747552?page=6: Cannot connect to host www.goodreads.com:443 ssl:default [An established connection was aborted by the software in your host machine]\n",
      "Error occured while fetching data from https://www.goodreads.com/review/list/97980816?page=2: Cannot connect to host www.goodreads.com:443 ssl:default [An established connection was aborted by the software in your host machine]\n",
      "Error occured while fetching data from https://www.goodreads.com/review/list/161082089?page=27: Cannot connect to host www.goodreads.com:443 ssl:default [An established connection was aborted by the software in your host machine]\n",
      "Error occured while fetching data from https://www.goodreads.com/review/list/14124403?page=2: Cannot connect to host www.goodreads.com:443 ssl:default [An established connection was aborted by the software in your host machine]\n",
      "Error occured while fetching data from https://www.goodreads.com/review/list/14124403?page=3: Cannot connect to host www.goodreads.com:443 ssl:default [An established connection was aborted by the software in your host machine]\n",
      "Error occured while fetching data from https://www.goodreads.com/review/list/161082089?page=18: Cannot connect to host www.goodreads.com:443 ssl:default [An established connection was aborted by the software in your host machine]\n",
      "Error occured while fetching data from https://www.goodreads.com/review/list/134952782?page=2: Cannot connect to host www.goodreads.com:443 ssl:default [An established connection was aborted by the software in your host machine]\n",
      "Error occured while fetching data from https://www.goodreads.com/review/list/19195953?page=5: Cannot connect to host www.goodreads.com:443 ssl:default [An established connection was aborted by the software in your host machine]\n",
      "Error occured while fetching data from https://www.goodreads.com/review/list/134952782?page=1: Cannot connect to host www.goodreads.com:443 ssl:default [An established connection was aborted by the software in your host machine]\n",
      "Error occured while fetching data from https://www.goodreads.com/review/list/134952782?page=4: Cannot connect to host www.goodreads.com:443 ssl:default [An established connection was aborted by the software in your host machine]\n",
      "Error occured while fetching data from https://www.goodreads.com/review/list/134952782?page=6: Cannot connect to host www.goodreads.com:443 ssl:default [An established connection was aborted by the software in your host machine]\n",
      "Error occured while fetching data from https://www.goodreads.com/review/list/134952782?page=5: Cannot connect to host www.goodreads.com:443 ssl:default [An established connection was aborted by the software in your host machine]\n",
      "Error occured while fetching data from https://www.goodreads.com/review/list/19195953?page=14: Cannot connect to host www.goodreads.com:443 ssl:default [An established connection was aborted by the software in your host machine]\n",
      "Error occured while fetching data from https://www.goodreads.com/review/list/14124403?page=1: Cannot connect to host www.goodreads.com:443 ssl:default [An established connection was aborted by the software in your host machine]\n",
      "Error occured while fetching data from https://www.goodreads.com/review/list/19195953?page=7: Cannot connect to host www.goodreads.com:443 ssl:default [An established connection was aborted by the software in your host machine]\n",
      "Error occured while fetching data from https://www.goodreads.com/review/list/53477686?page=1: Cannot connect to host www.goodreads.com:443 ssl:default [An established connection was aborted by the software in your host machine]\n",
      "Error occured while fetching data from https://www.goodreads.com/review/list/19195953?page=9: Cannot connect to host www.goodreads.com:443 ssl:default [An established connection was aborted by the software in your host machine]\n",
      "Error occured while fetching data from https://www.goodreads.com/review/list/79747552?page=7: Cannot connect to host www.goodreads.com:443 ssl:default [An established connection was aborted by the software in your host machine]\n",
      "Error occured while fetching data from https://www.goodreads.com/review/list/79747552?page=10: Cannot connect to host www.goodreads.com:443 ssl:default [An established connection was aborted by the software in your host machine]\n",
      "Error occured while fetching data from https://www.goodreads.com/review/list/79747552?page=4: Cannot connect to host www.goodreads.com:443 ssl:default [An established connection was aborted by the software in your host machine]\n",
      "Error occured while fetching data from https://www.goodreads.com/review/list/19195953?page=12: Cannot connect to host www.goodreads.com:443 ssl:default [An established connection was aborted by the software in your host machine]\n",
      "Error occured while fetching data from https://www.goodreads.com/review/list/79747552?page=11: Cannot connect to host www.goodreads.com:443 ssl:default [An established connection was aborted by the software in your host machine]\n"
     ]
    },
    {
     "name": "stderr",
     "output_type": "stream",
     "text": [
      " 45%|████▍     | 15092/33593 [35:23<43:36,  7.07it/s]"
     ]
    },
    {
     "name": "stdout",
     "output_type": "stream",
     "text": [
      "Error occured while fetching data from https://www.goodreads.com/review/list/80115954?page=63: Cannot connect to host www.goodreads.com:443 ssl:default [An established connection was aborted by the software in your host machine]\n"
     ]
    },
    {
     "name": "stderr",
     "output_type": "stream",
     "text": [
      " 45%|████▌     | 15136/33593 [35:29<43:52,  7.01it/s]"
     ]
    },
    {
     "name": "stdout",
     "output_type": "stream",
     "text": [
      "Error occured while fetching data from https://www.goodreads.com/review/list/21868582?page=62: Cannot connect to host www.goodreads.com:443 ssl:default [An established connection was aborted by the software in your host machine]\n",
      "Error occured while fetching data from https://www.goodreads.com/review/list/45528116?page=40: Cannot connect to host www.goodreads.com:443 ssl:default [An established connection was aborted by the software in your host machine]\n",
      "Error occured while fetching data from https://www.goodreads.com/review/list/45528116?page=32: Cannot connect to host www.goodreads.com:443 ssl:default [An established connection was aborted by the software in your host machine]\n",
      "Error occured while fetching data from https://www.goodreads.com/review/list/45528116?page=30: Cannot connect to host www.goodreads.com:443 ssl:default [An established connection was aborted by the software in your host machine]\n",
      "Error occured while fetching data from https://www.goodreads.com/review/list/45528116?page=42: Cannot connect to host www.goodreads.com:443 ssl:default [An established connection was aborted by the software in your host machine]\n",
      "Error occured while fetching data from https://www.goodreads.com/review/list/45528116?page=10: Cannot connect to host www.goodreads.com:443 ssl:default [An established connection was aborted by the software in your host machine]\n",
      "Error occured while fetching data from https://www.goodreads.com/review/list/114185833?page=9: Cannot connect to host www.goodreads.com:443 ssl:default [An established connection was aborted by the software in your host machine]\n",
      "Error occured while fetching data from https://www.goodreads.com/review/list/114185833?page=28: Cannot connect to host www.goodreads.com:443 ssl:default [An established connection was aborted by the software in your host machine]\n",
      "Error occured while fetching data from https://www.goodreads.com/review/list/114185833?page=39: Cannot connect to host www.goodreads.com:443 ssl:default [An established connection was aborted by the software in your host machine]\n",
      "Error occured while fetching data from https://www.goodreads.com/review/list/114185833?page=54: Cannot connect to host www.goodreads.com:443 ssl:default [An established connection was aborted by the software in your host machine]\n",
      "Error occured while fetching data from https://www.goodreads.com/review/list/114185833?page=18: Cannot connect to host www.goodreads.com:443 ssl:default [An established connection was aborted by the software in your host machine]\n",
      "Error occured while fetching data from https://www.goodreads.com/review/list/82438277?page=30: Cannot connect to host www.goodreads.com:443 ssl:default [An established connection was aborted by the software in your host machine]\n",
      "Error occured while fetching data from https://www.goodreads.com/review/list/82438277?page=16: Cannot connect to host www.goodreads.com:443 ssl:default [An established connection was aborted by the software in your host machine]\n",
      "Error occured while fetching data from https://www.goodreads.com/review/list/82438277?page=22: Cannot connect to host www.goodreads.com:443 ssl:default [An established connection was aborted by the software in your host machine]\n",
      "Error occured while fetching data from https://www.goodreads.com/review/list/82438277?page=7: Cannot connect to host www.goodreads.com:443 ssl:default [An established connection was aborted by the software in your host machine]\n",
      "Error occured while fetching data from https://www.goodreads.com/review/list/120874620?page=24: Cannot connect to host www.goodreads.com:443 ssl:default [An established connection was aborted by the software in your host machine]\n",
      "Error occured while fetching data from https://www.goodreads.com/review/list/82438277?page=21: Cannot connect to host www.goodreads.com:443 ssl:default [An established connection was aborted by the software in your host machine]\n",
      "Error occured while fetching data from https://www.goodreads.com/review/list/120874620?page=33: Cannot connect to host www.goodreads.com:443 ssl:default [An established connection was aborted by the software in your host machine]\n",
      "Error occured while fetching data from https://www.goodreads.com/review/list/120874620?page=42: Cannot connect to host www.goodreads.com:443 ssl:default [An established connection was aborted by the software in your host machine]\n",
      "Error occured while fetching data from https://www.goodreads.com/review/list/120874620?page=45: Cannot connect to host www.goodreads.com:443 ssl:default [An established connection was aborted by the software in your host machine]\n",
      "Error occured while fetching data from https://www.goodreads.com/review/list/120874620?page=7: Cannot connect to host www.goodreads.com:443 ssl:default [An established connection was aborted by the software in your host machine]\n"
     ]
    },
    {
     "name": "stderr",
     "output_type": "stream",
     "text": [
      " 46%|████▌     | 15342/33593 [35:57<42:00,  7.24it/s]"
     ]
    },
    {
     "name": "stdout",
     "output_type": "stream",
     "text": [
      "Error occured while fetching data from https://www.goodreads.com/review/list/125230913?page=2: Cannot connect to host www.goodreads.com:443 ssl:default [An established connection was aborted by the software in your host machine]\n",
      "Error occured while fetching data from https://www.goodreads.com/review/list/125230913?page=7: Cannot connect to host www.goodreads.com:443 ssl:default [An established connection was aborted by the software in your host machine]\n",
      "Error occured while fetching data from https://www.goodreads.com/review/list/89665831?page=4: Cannot connect to host www.goodreads.com:443 ssl:default [An established connection was aborted by the software in your host machine]\n",
      "Error occured while fetching data from https://www.goodreads.com/review/list/160483350?page=4: Cannot connect to host www.goodreads.com:443 ssl:default [An established connection was aborted by the software in your host machine]\n",
      "Error occured while fetching data from https://www.goodreads.com/review/list/89665831?page=7: Cannot connect to host www.goodreads.com:443 ssl:default [An established connection was aborted by the software in your host machine]\n",
      "Error occured while fetching data from https://www.goodreads.com/review/list/160483350?page=7: Cannot connect to host www.goodreads.com:443 ssl:default [An established connection was aborted by the software in your host machine]\n",
      "Error occured while fetching data from https://www.goodreads.com/review/list/160483350?page=14: Cannot connect to host www.goodreads.com:443 ssl:default [An established connection was aborted by the software in your host machine]\n",
      "Error occured while fetching data from https://www.goodreads.com/review/list/125230913?page=5: Cannot connect to host www.goodreads.com:443 ssl:default [An established connection was aborted by the software in your host machine]\n",
      "Error occured while fetching data from https://www.goodreads.com/review/list/160483350?page=13: Cannot connect to host www.goodreads.com:443 ssl:default [An established connection was aborted by the software in your host machine]\n",
      "Error occured while fetching data from https://www.goodreads.com/review/list/160483350?page=6: Cannot connect to host www.goodreads.com:443 ssl:default [An established connection was aborted by the software in your host machine]\n",
      "Error occured while fetching data from https://www.goodreads.com/review/list/147671054?page=1: Cannot connect to host www.goodreads.com:443 ssl:default [An established connection was aborted by the software in your host machine]\n",
      "Error occured while fetching data from https://www.goodreads.com/review/list/147671054?page=2: Cannot connect to host www.goodreads.com:443 ssl:default [An established connection was aborted by the software in your host machine]\n",
      "Error occured while fetching data from https://www.goodreads.com/review/list/147671054?page=3: Cannot connect to host www.goodreads.com:443 ssl:default [An established connection was aborted by the software in your host machine]\n",
      "Error occured while fetching data from https://www.goodreads.com/review/list/68962523?page=1: Cannot connect to host www.goodreads.com:443 ssl:default [An established connection was aborted by the software in your host machine]\n",
      "Error occured while fetching data from https://www.goodreads.com/review/list/68962523?page=2: Cannot connect to host www.goodreads.com:443 ssl:default [An established connection was aborted by the software in your host machine]\n",
      "Error occured while fetching data from https://www.goodreads.com/review/list/125230913?page=3: Cannot connect to host www.goodreads.com:443 ssl:default [An established connection was aborted by the software in your host machine]\n",
      "Error occured while fetching data from https://www.goodreads.com/review/list/68962523?page=3: Cannot connect to host www.goodreads.com:443 ssl:default [An established connection was aborted by the software in your host machine]\n",
      "Error occured while fetching data from https://www.goodreads.com/review/list/68962523?page=4: Cannot connect to host www.goodreads.com:443 ssl:default [An established connection was aborted by the software in your host machine]\n",
      "Error occured while fetching data from https://www.goodreads.com/review/list/25611602?page=148: Cannot connect to host www.goodreads.com:443 ssl:default [An established connection was aborted by the software in your host machine]\n",
      "Error occured while fetching data from https://www.goodreads.com/review/list/89665831?page=6: Cannot connect to host www.goodreads.com:443 ssl:default [An established connection was aborted by the software in your host machine]\n",
      "Error occured while fetching data from https://www.goodreads.com/review/list/89665831?page=1: Cannot connect to host www.goodreads.com:443 ssl:default [An established connection was aborted by the software in your host machine]\n",
      "Error occured while fetching data from https://www.goodreads.com/review/list/89665831?page=3: Cannot connect to host www.goodreads.com:443 ssl:default [An established connection was aborted by the software in your host machine]\n"
     ]
    },
    {
     "name": "stderr",
     "output_type": "stream",
     "text": [
      " 46%|████▋     | 15595/33593 [36:29<38:55,  7.71it/s]"
     ]
    },
    {
     "name": "stdout",
     "output_type": "stream",
     "text": [
      "Error occured while fetching data from https://www.goodreads.com/review/list/108298774?page=3: Cannot connect to host www.goodreads.com:443 ssl:default [An established connection was aborted by the software in your host machine]\n"
     ]
    },
    {
     "name": "stderr",
     "output_type": "stream",
     "text": [
      " 47%|████▋     | 15629/33593 [36:33<39:06,  7.66it/s]"
     ]
    },
    {
     "name": "stdout",
     "output_type": "stream",
     "text": [
      "Error occured while fetching data from https://www.goodreads.com/review/list/15220034?page=20: Cannot connect to host www.goodreads.com:443 ssl:default [An established connection was aborted by the software in your host machine]\n",
      "Error occured while fetching data from https://www.goodreads.com/review/list/43234084?page=30: Cannot connect to host www.goodreads.com:443 ssl:default [An established connection was aborted by the software in your host machine]\n",
      "Error occured while fetching data from https://www.goodreads.com/review/list/43234084?page=9: Cannot connect to host www.goodreads.com:443 ssl:default [An established connection was aborted by the software in your host machine]\n",
      "Error occured while fetching data from https://www.goodreads.com/review/list/43234084?page=12: Cannot connect to host www.goodreads.com:443 ssl:default [An established connection was aborted by the software in your host machine]\n",
      "Error occured while fetching data from https://www.goodreads.com/review/list/43234084?page=32: Cannot connect to host www.goodreads.com:443 ssl:default [An established connection was aborted by the software in your host machine]\n",
      "Error occured while fetching data from https://www.goodreads.com/review/list/15220034?page=19: Cannot connect to host www.goodreads.com:443 ssl:default [An established connection was aborted by the software in your host machine]\n",
      "Error occured while fetching data from https://www.goodreads.com/review/list/43234084?page=20: Cannot connect to host www.goodreads.com:443 ssl:default [An established connection was aborted by the software in your host machine]\n",
      "Error occured while fetching data from https://www.goodreads.com/review/list/145496512?page=17: Cannot connect to host www.goodreads.com:443 ssl:default [An established connection was aborted by the software in your host machine]\n",
      "Error occured while fetching data from https://www.goodreads.com/review/list/160512180?page=4: Cannot connect to host www.goodreads.com:443 ssl:default [An established connection was aborted by the software in your host machine]\n",
      "Error occured while fetching data from https://www.goodreads.com/review/list/15220034?page=5: Cannot connect to host www.goodreads.com:443 ssl:default [An established connection was aborted by the software in your host machine]\n",
      "Error occured while fetching data from https://www.goodreads.com/review/list/145496512?page=12: Cannot connect to host www.goodreads.com:443 ssl:default [An established connection was aborted by the software in your host machine]\n",
      "Error occured while fetching data from https://www.goodreads.com/review/list/160512180?page=12: Cannot connect to host www.goodreads.com:443 ssl:default [An established connection was aborted by the software in your host machine]\n",
      "Error occured while fetching data from https://www.goodreads.com/review/list/108298774?page=5: Cannot connect to host www.goodreads.com:443 ssl:default [An established connection was aborted by the software in your host machine]\n",
      "Error occured while fetching data from https://www.goodreads.com/review/list/160512180?page=20: Cannot connect to host www.goodreads.com:443 ssl:default [An established connection was aborted by the software in your host machine]\n",
      "Error occured while fetching data from https://www.goodreads.com/review/list/160512180?page=8: Cannot connect to host www.goodreads.com:443 ssl:default [An established connection was aborted by the software in your host machine]\n",
      "Error occured while fetching data from https://www.goodreads.com/review/list/160512180?page=22: Cannot connect to host www.goodreads.com:443 ssl:default [An established connection was aborted by the software in your host machine]\n",
      "Error occured while fetching data from https://www.goodreads.com/review/list/108298774?page=4: Cannot connect to host www.goodreads.com:443 ssl:default [An established connection was aborted by the software in your host machine]\n",
      "Error occured while fetching data from https://www.goodreads.com/review/list/145496512?page=1: Cannot connect to host www.goodreads.com:443 ssl:default [An established connection was aborted by the software in your host machine]\n",
      "Error occured while fetching data from https://www.goodreads.com/review/list/15220034?page=21: Cannot connect to host www.goodreads.com:443 ssl:default [An established connection was aborted by the software in your host machine]\n",
      "Error occured while fetching data from https://www.goodreads.com/review/list/145496512?page=14: Cannot connect to host www.goodreads.com:443 ssl:default [An established connection was aborted by the software in your host machine]\n",
      "Error occured while fetching data from https://www.goodreads.com/review/list/145496512?page=15: Cannot connect to host www.goodreads.com:443 ssl:default [An established connection was aborted by the software in your host machine]\n"
     ]
    },
    {
     "name": "stderr",
     "output_type": "stream",
     "text": [
      " 47%|████▋     | 15855/33593 [37:04<40:04,  7.38it/s]"
     ]
    },
    {
     "name": "stdout",
     "output_type": "stream",
     "text": [
      "Error occured while fetching data from https://www.goodreads.com/review/list/33517922?page=39: Cannot connect to host www.goodreads.com:443 ssl:default [An established connection was aborted by the software in your host machine]\n",
      "Error occured while fetching data from https://www.goodreads.com/review/list/5355846?page=5: Cannot connect to host www.goodreads.com:443 ssl:default [An established connection was aborted by the software in your host machine]\n",
      "Error occured while fetching data from https://www.goodreads.com/review/list/33517922?page=107: Cannot connect to host www.goodreads.com:443 ssl:default [An established connection was aborted by the software in your host machine]\n",
      "Error occured while fetching data from https://www.goodreads.com/review/list/79368875?page=16: Cannot connect to host www.goodreads.com:443 ssl:default [An established connection was aborted by the software in your host machine]\n",
      "Error occured while fetching data from https://www.goodreads.com/review/list/28146945?page=46: Cannot connect to host www.goodreads.com:443 ssl:default [An established connection was aborted by the software in your host machine]\n",
      "Error occured while fetching data from https://www.goodreads.com/review/list/33517922?page=22: Cannot connect to host www.goodreads.com:443 ssl:default [An established connection was aborted by the software in your host machine]\n",
      "Error occured while fetching data from https://www.goodreads.com/review/list/79368875?page=66: Cannot connect to host www.goodreads.com:443 ssl:default [An established connection was aborted by the software in your host machine]\n",
      "Error occured while fetching data from https://www.goodreads.com/review/list/33517922?page=89: Cannot connect to host www.goodreads.com:443 ssl:default [An established connection was aborted by the software in your host machine]\n",
      "Error occured while fetching data from https://www.goodreads.com/review/list/5355846?page=249: Cannot connect to host www.goodreads.com:443 ssl:default [An established connection was aborted by the software in your host machine]\n",
      "Error occured while fetching data from https://www.goodreads.com/review/list/33517922?page=75: Cannot connect to host www.goodreads.com:443 ssl:default [An established connection was aborted by the software in your host machine]\n",
      "Error occured while fetching data from https://www.goodreads.com/review/list/28146945?page=1: Cannot connect to host www.goodreads.com:443 ssl:default [An established connection was aborted by the software in your host machine]\n",
      "Error occured while fetching data from https://www.goodreads.com/review/list/5355846?page=145: Cannot connect to host www.goodreads.com:443 ssl:default [An established connection was aborted by the software in your host machine]\n",
      "Error occured while fetching data from https://www.goodreads.com/review/list/23441110?page=55: Cannot connect to host www.goodreads.com:443 ssl:default [An established connection was aborted by the software in your host machine]\n",
      "Error occured while fetching data from https://www.goodreads.com/review/list/28146945?page=4: Cannot connect to host www.goodreads.com:443 ssl:default [An established connection was aborted by the software in your host machine]\n",
      "Error occured while fetching data from https://www.goodreads.com/review/list/5355846?page=194: Cannot connect to host www.goodreads.com:443 ssl:default [An established connection was aborted by the software in your host machine]\n",
      "Error occured while fetching data from https://www.goodreads.com/review/list/23441110?page=84: Cannot connect to host www.goodreads.com:443 ssl:default [An established connection was aborted by the software in your host machine]\n",
      "Error occured while fetching data from https://www.goodreads.com/review/list/23441110?page=44: Cannot connect to host www.goodreads.com:443 ssl:default [An established connection was aborted by the software in your host machine]\n",
      "Error occured while fetching data from https://www.goodreads.com/review/list/50461373?page=5: Cannot connect to host www.goodreads.com:443 ssl:default [An established connection was aborted by the software in your host machine]\n",
      "Error occured while fetching data from https://www.goodreads.com/review/list/28146945?page=19: Cannot connect to host www.goodreads.com:443 ssl:default [An established connection was aborted by the software in your host machine]\n",
      "Error occured while fetching data from https://www.goodreads.com/review/list/28146945?page=5: Cannot connect to host www.goodreads.com:443 ssl:default [An established connection was aborted by the software in your host machine]\n",
      "Error occured while fetching data from https://www.goodreads.com/review/list/23441110?page=22: Cannot connect to host www.goodreads.com:443 ssl:default [An established connection was aborted by the software in your host machine]\n",
      "Error occured while fetching data from https://www.goodreads.com/review/list/23441110?page=98: Cannot connect to host www.goodreads.com:443 ssl:default [An established connection was aborted by the software in your host machine]\n"
     ]
    },
    {
     "name": "stderr",
     "output_type": "stream",
     "text": [
      " 48%|████▊     | 16124/33593 [37:40<41:17,  7.05it/s]"
     ]
    },
    {
     "name": "stdout",
     "output_type": "stream",
     "text": [
      "Error occured while fetching data from https://www.goodreads.com/review/list/150942445?page=4: Cannot connect to host www.goodreads.com:443 ssl:default [An established connection was aborted by the software in your host machine]\n",
      "Error occured while fetching data from https://www.goodreads.com/review/list/11411702?page=114: Cannot connect to host www.goodreads.com:443 ssl:default [An established connection was aborted by the software in your host machine]\n",
      "Error occured while fetching data from https://www.goodreads.com/review/list/150942445?page=1: Cannot connect to host www.goodreads.com:443 ssl:default [An established connection was aborted by the software in your host machine]\n",
      "Error occured while fetching data from https://www.goodreads.com/review/list/11411702?page=60: Cannot connect to host www.goodreads.com:443 ssl:default [An established connection was aborted by the software in your host machine]\n",
      "Error occured while fetching data from https://www.goodreads.com/review/list/160804054?page=1: Cannot connect to host www.goodreads.com:443 ssl:default [An established connection was aborted by the software in your host machine]\n",
      "Error occured while fetching data from https://www.goodreads.com/review/list/150942445?page=2: Cannot connect to host www.goodreads.com:443 ssl:default [An established connection was aborted by the software in your host machine]\n",
      "Error occured while fetching data from https://www.goodreads.com/review/list/4231989?page=185: Cannot connect to host www.goodreads.com:443 ssl:default [An established connection was aborted by the software in your host machine]\n",
      "Error occured while fetching data from https://www.goodreads.com/review/list/11411702?page=159: Cannot connect to host www.goodreads.com:443 ssl:default [An established connection was aborted by the software in your host machine]\n",
      "Error occured while fetching data from https://www.goodreads.com/review/list/11411702?page=221: Cannot connect to host www.goodreads.com:443 ssl:default [An established connection was aborted by the software in your host machine]\n",
      "Error occured while fetching data from https://www.goodreads.com/review/list/150942445?page=3: Cannot connect to host www.goodreads.com:443 ssl:default [An established connection was aborted by the software in your host machine]\n",
      "Error occured while fetching data from https://www.goodreads.com/review/list/2990642?page=25: Cannot connect to host www.goodreads.com:443 ssl:default [An established connection was aborted by the software in your host machine]\n",
      "Error occured while fetching data from https://www.goodreads.com/review/list/2990642?page=91: Cannot connect to host www.goodreads.com:443 ssl:default [An established connection was aborted by the software in your host machine]\n",
      "Error occured while fetching data from https://www.goodreads.com/review/list/4231989?page=271: Cannot connect to host www.goodreads.com:443 ssl:default [An established connection was aborted by the software in your host machine]\n",
      "Error occured while fetching data from https://www.goodreads.com/review/list/4231989?page=54: Cannot connect to host www.goodreads.com:443 ssl:default [An established connection was aborted by the software in your host machine]\n",
      "Error occured while fetching data from https://www.goodreads.com/review/list/4231989?page=40: Cannot connect to host www.goodreads.com:443 ssl:default [An established connection was aborted by the software in your host machine]\n",
      "Error occured while fetching data from https://www.goodreads.com/review/list/160804054?page=5: Cannot connect to host www.goodreads.com:443 ssl:default [An established connection was aborted by the software in your host machine]\n",
      "Error occured while fetching data from https://www.goodreads.com/review/list/2990642?page=135: Cannot connect to host www.goodreads.com:443 ssl:default [An established connection was aborted by the software in your host machine]\n",
      "Error occured while fetching data from https://www.goodreads.com/review/list/160804054?page=4: Cannot connect to host www.goodreads.com:443 ssl:default [An established connection was aborted by the software in your host machine]\n",
      "Error occured while fetching data from https://www.goodreads.com/review/list/160804054?page=3: Cannot connect to host www.goodreads.com:443 ssl:default [An established connection was aborted by the software in your host machine]\n",
      "Error occured while fetching data from https://www.goodreads.com/review/list/11411702?page=121: Cannot connect to host www.goodreads.com:443 ssl:default [An established connection was aborted by the software in your host machine]\n",
      "Error occured while fetching data from https://www.goodreads.com/review/list/160804054?page=2: Cannot connect to host www.goodreads.com:443 ssl:default [An established connection was aborted by the software in your host machine]\n",
      "Error occured while fetching data from https://www.goodreads.com/review/list/4231989?page=128: Cannot connect to host www.goodreads.com:443 ssl:default [An established connection was aborted by the software in your host machine]\n"
     ]
    },
    {
     "name": "stderr",
     "output_type": "stream",
     "text": [
      " 49%|████▉     | 16392/33593 [38:16<43:14,  6.63it/s]"
     ]
    },
    {
     "name": "stdout",
     "output_type": "stream",
     "text": [
      "Error occured while fetching data from https://www.goodreads.com/review/list/161320714?page=13: Cannot connect to host www.goodreads.com:443 ssl:default [An established connection was aborted by the software in your host machine]\n"
     ]
    },
    {
     "name": "stderr",
     "output_type": "stream",
     "text": [
      " 49%|████▉     | 16430/33593 [38:21<40:44,  7.02it/s]"
     ]
    },
    {
     "name": "stdout",
     "output_type": "stream",
     "text": [
      "Error occured while fetching data from https://www.goodreads.com/review/list/160886929?page=28: Cannot connect to host www.goodreads.com:443 ssl:default [An established connection was aborted by the software in your host machine]\n",
      "Error occured while fetching data from https://www.goodreads.com/review/list/16346416?page=4: Cannot connect to host www.goodreads.com:443 ssl:default [An established connection was aborted by the software in your host machine]\n",
      "Error occured while fetching data from https://www.goodreads.com/review/list/160886929?page=57: Cannot connect to host www.goodreads.com:443 ssl:default [An established connection was aborted by the software in your host machine]\n",
      "Error occured while fetching data from https://www.goodreads.com/review/list/16346416?page=1: Cannot connect to host www.goodreads.com:443 ssl:default [An established connection was aborted by the software in your host machine]\n",
      "Error occured while fetching data from https://www.goodreads.com/review/list/11538192?page=3: Cannot connect to host www.goodreads.com:443 ssl:default [An established connection was aborted by the software in your host machine]\n",
      "Error occured while fetching data from https://www.goodreads.com/review/list/161320714?page=10: Cannot connect to host www.goodreads.com:443 ssl:default [An established connection was aborted by the software in your host machine]\n",
      "Error occured while fetching data from https://www.goodreads.com/review/list/61429807?page=2: Cannot connect to host www.goodreads.com:443 ssl:default [An established connection was aborted by the software in your host machine]\n",
      "Error occured while fetching data from https://www.goodreads.com/review/list/61429807?page=4: Cannot connect to host www.goodreads.com:443 ssl:default [An established connection was aborted by the software in your host machine]\n",
      "Error occured while fetching data from https://www.goodreads.com/review/list/61429807?page=24: Cannot connect to host www.goodreads.com:443 ssl:default [An established connection was aborted by the software in your host machine]\n",
      "Error occured while fetching data from https://www.goodreads.com/review/list/11538192?page=7: Cannot connect to host www.goodreads.com:443 ssl:default [An established connection was aborted by the software in your host machine]\n",
      "Error occured while fetching data from https://www.goodreads.com/review/list/11538192?page=1: Cannot connect to host www.goodreads.com:443 ssl:default [An established connection was aborted by the software in your host machine]\n",
      "Error occured while fetching data from https://www.goodreads.com/review/list/11538192?page=2: Cannot connect to host www.goodreads.com:443 ssl:default [An established connection was aborted by the software in your host machine]\n",
      "Error occured while fetching data from https://www.goodreads.com/review/list/16346416?page=13: Cannot connect to host www.goodreads.com:443 ssl:default [An established connection was aborted by the software in your host machine]\n",
      "Error occured while fetching data from https://www.goodreads.com/review/list/160886929?page=66: Cannot connect to host www.goodreads.com:443 ssl:default [An established connection was aborted by the software in your host machine]\n",
      "Error occured while fetching data from https://www.goodreads.com/review/list/61429807?page=3: Cannot connect to host www.goodreads.com:443 ssl:default [An established connection was aborted by the software in your host machine]\n",
      "Error occured while fetching data from https://www.goodreads.com/review/list/61429807?page=23: Cannot connect to host www.goodreads.com:443 ssl:default [An established connection was aborted by the software in your host machine]\n",
      "Error occured while fetching data from https://www.goodreads.com/review/list/16346416?page=9: Cannot connect to host www.goodreads.com:443 ssl:default [An established connection was aborted by the software in your host machine]\n",
      "Error occured while fetching data from https://www.goodreads.com/review/list/16346416?page=5: Cannot connect to host www.goodreads.com:443 ssl:default [An established connection was aborted by the software in your host machine]\n",
      "Error occured while fetching data from https://www.goodreads.com/review/list/160886929?page=110: Cannot connect to host www.goodreads.com:443 ssl:default [An established connection was aborted by the software in your host machine]\n",
      "Error occured while fetching data from https://www.goodreads.com/review/list/160886929?page=30: Cannot connect to host www.goodreads.com:443 ssl:default [An established connection was aborted by the software in your host machine]\n",
      "Error occured while fetching data from https://www.goodreads.com/review/list/11538192?page=4: Cannot connect to host www.goodreads.com:443 ssl:default [An established connection was aborted by the software in your host machine]\n"
     ]
    },
    {
     "name": "stderr",
     "output_type": "stream",
     "text": [
      " 49%|████▉     | 16620/33593 [38:47<40:22,  7.01it/s]"
     ]
    },
    {
     "name": "stdout",
     "output_type": "stream",
     "text": [
      "Error occured while fetching data from https://www.goodreads.com/review/list/11743021?page=2: Cannot connect to host www.goodreads.com:443 ssl:default [An established connection was aborted by the software in your host machine]\n",
      "Error occured while fetching data from https://www.goodreads.com/review/list/160267932?page=7: Cannot connect to host www.goodreads.com:443 ssl:default [An established connection was aborted by the software in your host machine]\n",
      "Error occured while fetching data from https://www.goodreads.com/review/list/162018212?page=3: Cannot connect to host www.goodreads.com:443 ssl:default [An established connection was aborted by the software in your host machine]\n",
      "Error occured while fetching data from https://www.goodreads.com/review/list/160267932?page=10: Cannot connect to host www.goodreads.com:443 ssl:default [An established connection was aborted by the software in your host machine]\n",
      "Error occured while fetching data from https://www.goodreads.com/review/list/162018212?page=4: Cannot connect to host www.goodreads.com:443 ssl:default [An established connection was aborted by the software in your host machine]\n",
      "Error occured while fetching data from https://www.goodreads.com/review/list/38393081?page=57: Cannot connect to host www.goodreads.com:443 ssl:default [An established connection was aborted by the software in your host machine]\n",
      "Error occured while fetching data from https://www.goodreads.com/review/list/160267932?page=3: Cannot connect to host www.goodreads.com:443 ssl:default [An established connection was aborted by the software in your host machine]\n",
      "Error occured while fetching data from https://www.goodreads.com/review/list/162018212?page=11: Cannot connect to host www.goodreads.com:443 ssl:default [An established connection was aborted by the software in your host machine]\n",
      "Error occured while fetching data from https://www.goodreads.com/review/list/160267932?page=12: Cannot connect to host www.goodreads.com:443 ssl:default [An established connection was aborted by the software in your host machine]\n",
      "Error occured while fetching data from https://www.goodreads.com/review/list/162018212?page=8: Cannot connect to host www.goodreads.com:443 ssl:default [An established connection was aborted by the software in your host machine]\n",
      "Error occured while fetching data from https://www.goodreads.com/review/list/148191286?page=12: Cannot connect to host www.goodreads.com:443 ssl:default [An established connection was aborted by the software in your host machine]\n",
      "Error occured while fetching data from https://www.goodreads.com/review/list/148191286?page=3: Cannot connect to host www.goodreads.com:443 ssl:default [An established connection was aborted by the software in your host machine]\n",
      "Error occured while fetching data from https://www.goodreads.com/review/list/148191286?page=21: Cannot connect to host www.goodreads.com:443 ssl:default [An established connection was aborted by the software in your host machine]\n",
      "Error occured while fetching data from https://www.goodreads.com/review/list/148191286?page=24: Cannot connect to host www.goodreads.com:443 ssl:default [An established connection was aborted by the software in your host machine]\n",
      "Error occured while fetching data from https://www.goodreads.com/review/list/161204018?page=7: Cannot connect to host www.goodreads.com:443 ssl:default [An established connection was aborted by the software in your host machine]\n",
      "Error occured while fetching data from https://www.goodreads.com/review/list/161204018?page=6: Cannot connect to host www.goodreads.com:443 ssl:default [An established connection was aborted by the software in your host machine]\n",
      "Error occured while fetching data from https://www.goodreads.com/review/list/161204018?page=1: Cannot connect to host www.goodreads.com:443 ssl:default [An established connection was aborted by the software in your host machine]\n",
      "Error occured while fetching data from https://www.goodreads.com/review/list/162018212?page=1: Cannot connect to host www.goodreads.com:443 ssl:default [An established connection was aborted by the software in your host machine]\n",
      "Error occured while fetching data from https://www.goodreads.com/review/list/161204018?page=4: Cannot connect to host www.goodreads.com:443 ssl:default [An established connection was aborted by the software in your host machine]\n",
      "Error occured while fetching data from https://www.goodreads.com/review/list/161204018?page=2: Cannot connect to host www.goodreads.com:443 ssl:default [An established connection was aborted by the software in your host machine]\n",
      "Error occured while fetching data from https://www.goodreads.com/review/list/160267932?page=21: Cannot connect to host www.goodreads.com:443 ssl:default [An established connection was aborted by the software in your host machine]\n",
      "Error occured while fetching data from https://www.goodreads.com/review/list/148191286?page=28: Cannot connect to host www.goodreads.com:443 ssl:default [An established connection was aborted by the software in your host machine]\n"
     ]
    },
    {
     "name": "stderr",
     "output_type": "stream",
     "text": [
      " 50%|█████     | 16895/33593 [39:24<39:35,  7.03it/s]"
     ]
    },
    {
     "name": "stdout",
     "output_type": "stream",
     "text": [
      "Error occured while fetching data from https://www.goodreads.com/review/list/135776394?page=10: Cannot connect to host www.goodreads.com:443 ssl:default [An established connection was aborted by the software in your host machine]\n",
      "Error occured while fetching data from https://www.goodreads.com/review/list/135776394?page=8: Cannot connect to host www.goodreads.com:443 ssl:default [An established connection was aborted by the software in your host machine]\n",
      "Error occured while fetching data from https://www.goodreads.com/review/list/107957384?page=11: Cannot connect to host www.goodreads.com:443 ssl:default [An established connection was aborted by the software in your host machine]\n",
      "Error occured while fetching data from https://www.goodreads.com/review/list/135776394?page=2: Cannot connect to host www.goodreads.com:443 ssl:default [An established connection was aborted by the software in your host machine]\n",
      "Error occured while fetching data from https://www.goodreads.com/review/list/135776394?page=3: Cannot connect to host www.goodreads.com:443 ssl:default [An established connection was aborted by the software in your host machine]\n",
      "Error occured while fetching data from https://www.goodreads.com/review/list/95702250?page=3: Cannot connect to host www.goodreads.com:443 ssl:default [An established connection was aborted by the software in your host machine]\n",
      "Error occured while fetching data from https://www.goodreads.com/review/list/95702250?page=9: Cannot connect to host www.goodreads.com:443 ssl:default [An established connection was aborted by the software in your host machine]\n",
      "Error occured while fetching data from https://www.goodreads.com/review/list/95702250?page=6: Cannot connect to host www.goodreads.com:443 ssl:default [An established connection was aborted by the software in your host machine]\n",
      "Error occured while fetching data from https://www.goodreads.com/review/list/95702250?page=5: Cannot connect to host www.goodreads.com:443 ssl:default [An established connection was aborted by the software in your host machine]\n",
      "Error occured while fetching data from https://www.goodreads.com/review/list/3091651?page=2: Cannot connect to host www.goodreads.com:443 ssl:default [An established connection was aborted by the software in your host machine]\n",
      "Error occured while fetching data from https://www.goodreads.com/review/list/3091651?page=4: Cannot connect to host www.goodreads.com:443 ssl:default [An established connection was aborted by the software in your host machine]\n",
      "Error occured while fetching data from https://www.goodreads.com/review/list/3091651?page=5: Cannot connect to host www.goodreads.com:443 ssl:default [An established connection was aborted by the software in your host machine]\n",
      "Error occured while fetching data from https://www.goodreads.com/review/list/3091651?page=6: Cannot connect to host www.goodreads.com:443 ssl:default [An established connection was aborted by the software in your host machine]\n",
      "Error occured while fetching data from https://www.goodreads.com/review/list/3091651?page=3: Cannot connect to host www.goodreads.com:443 ssl:default [An established connection was aborted by the software in your host machine]\n",
      "Error occured while fetching data from https://www.goodreads.com/review/list/21927491?page=2: Cannot connect to host www.goodreads.com:443 ssl:default [An established connection was aborted by the software in your host machine]\n",
      "Error occured while fetching data from https://www.goodreads.com/review/list/21927491?page=1: Cannot connect to host www.goodreads.com:443 ssl:default [An established connection was aborted by the software in your host machine]\n",
      "Error occured while fetching data from https://www.goodreads.com/review/list/107957384?page=8: Cannot connect to host www.goodreads.com:443 ssl:default [An established connection was aborted by the software in your host machine]\n",
      "Error occured while fetching data from https://www.goodreads.com/review/list/107957384?page=5: Cannot connect to host www.goodreads.com:443 ssl:default [An established connection was aborted by the software in your host machine]\n",
      "Error occured while fetching data from https://www.goodreads.com/review/list/107957384?page=10: Cannot connect to host www.goodreads.com:443 ssl:default [An established connection was aborted by the software in your host machine]\n",
      "Error occured while fetching data from https://www.goodreads.com/review/list/107957384?page=7: Cannot connect to host www.goodreads.com:443 ssl:default [An established connection was aborted by the software in your host machine]\n",
      "Error occured while fetching data from https://www.goodreads.com/review/list/135776394?page=4: Cannot connect to host www.goodreads.com:443 ssl:default [An established connection was aborted by the software in your host machine]\n",
      "Error occured while fetching data from https://www.goodreads.com/review/list/95702250?page=1: Cannot connect to host www.goodreads.com:443 ssl:default [An established connection was aborted by the software in your host machine]\n"
     ]
    },
    {
     "name": "stderr",
     "output_type": "stream",
     "text": [
      " 51%|█████     | 17140/33593 [39:57<37:41,  7.27it/s]"
     ]
    },
    {
     "name": "stdout",
     "output_type": "stream",
     "text": [
      "Error occured while fetching data from https://www.goodreads.com/review/list/134494208?page=32: Cannot connect to host www.goodreads.com:443 ssl:default [An established connection was aborted by the software in your host machine]\n"
     ]
    },
    {
     "name": "stderr",
     "output_type": "stream",
     "text": [
      " 51%|█████     | 17176/33593 [40:01<36:12,  7.56it/s]"
     ]
    },
    {
     "name": "stdout",
     "output_type": "stream",
     "text": [
      "Error occured while fetching data from https://www.goodreads.com/review/list/88289482?page=90: Cannot connect to host www.goodreads.com:443 ssl:default [An established connection was aborted by the software in your host machine]\n",
      "Error occured while fetching data from https://www.goodreads.com/review/list/4729639?page=14: Cannot connect to host www.goodreads.com:443 ssl:default [An established connection was aborted by the software in your host machine]\n",
      "Error occured while fetching data from https://www.goodreads.com/review/list/4729639?page=26: Cannot connect to host www.goodreads.com:443 ssl:default [An established connection was aborted by the software in your host machine]\n",
      "Error occured while fetching data from https://www.goodreads.com/review/list/4729639?page=42: Cannot connect to host www.goodreads.com:443 ssl:default [An established connection was aborted by the software in your host machine]\n",
      "Error occured while fetching data from https://www.goodreads.com/review/list/4729639?page=38: Cannot connect to host www.goodreads.com:443 ssl:default [An established connection was aborted by the software in your host machine]\n",
      "Error occured while fetching data from https://www.goodreads.com/review/list/4729639?page=12: Cannot connect to host www.goodreads.com:443 ssl:default [An established connection was aborted by the software in your host machine]\n",
      "Error occured while fetching data from https://www.goodreads.com/review/list/94798672?page=2: Cannot connect to host www.goodreads.com:443 ssl:default [An established connection was aborted by the software in your host machine]\n",
      "Error occured while fetching data from https://www.goodreads.com/review/list/94798672?page=13: Cannot connect to host www.goodreads.com:443 ssl:default [An established connection was aborted by the software in your host machine]\n",
      "Error occured while fetching data from https://www.goodreads.com/review/list/94798672?page=12: Cannot connect to host www.goodreads.com:443 ssl:default [An established connection was aborted by the software in your host machine]\n",
      "Error occured while fetching data from https://www.goodreads.com/review/list/94798672?page=4: Cannot connect to host www.goodreads.com:443 ssl:default [An established connection was aborted by the software in your host machine]\n",
      "Error occured while fetching data from https://www.goodreads.com/review/list/94798672?page=16: Cannot connect to host www.goodreads.com:443 ssl:default [An established connection was aborted by the software in your host machine]\n",
      "Error occured while fetching data from https://www.goodreads.com/review/list/116329223?page=12: Cannot connect to host www.goodreads.com:443 ssl:default [An established connection was aborted by the software in your host machine]\n",
      "Error occured while fetching data from https://www.goodreads.com/review/list/116329223?page=14: Cannot connect to host www.goodreads.com:443 ssl:default [An established connection was aborted by the software in your host machine]\n",
      "Error occured while fetching data from https://www.goodreads.com/review/list/88289482?page=29: Cannot connect to host www.goodreads.com:443 ssl:default [An established connection was aborted by the software in your host machine]\n",
      "Error occured while fetching data from https://www.goodreads.com/review/list/88289482?page=60: Cannot connect to host www.goodreads.com:443 ssl:default [An established connection was aborted by the software in your host machine]\n",
      "Error occured while fetching data from https://www.goodreads.com/review/list/116329223?page=16: Cannot connect to host www.goodreads.com:443 ssl:default [An established connection was aborted by the software in your host machine]\n",
      "Error occured while fetching data from https://www.goodreads.com/review/list/88289482?page=5: Cannot connect to host www.goodreads.com:443 ssl:default [An established connection was aborted by the software in your host machine]\n",
      "Error occured while fetching data from https://www.goodreads.com/review/list/88289482?page=74: Cannot connect to host www.goodreads.com:443 ssl:default [An established connection was aborted by the software in your host machine]\n",
      "Error occured while fetching data from https://www.goodreads.com/review/list/116329223?page=27: Cannot connect to host www.goodreads.com:443 ssl:default [An established connection was aborted by the software in your host machine]\n",
      "Error occured while fetching data from https://www.goodreads.com/review/list/116329223?page=20: Cannot connect to host www.goodreads.com:443 ssl:default [An established connection was aborted by the software in your host machine]\n",
      "Error occured while fetching data from https://www.goodreads.com/review/list/134494208?page=4: Cannot connect to host www.goodreads.com:443 ssl:default [An established connection was aborted by the software in your host machine]\n"
     ]
    },
    {
     "name": "stderr",
     "output_type": "stream",
     "text": [
      " 52%|█████▏    | 17382/33593 [40:30<37:18,  7.24it/s]"
     ]
    },
    {
     "name": "stdout",
     "output_type": "stream",
     "text": [
      "Error occured while fetching data from https://www.goodreads.com/review/list/113802330?page=5: Cannot connect to host www.goodreads.com:443 ssl:default [An established connection was aborted by the software in your host machine]\n",
      "Error occured while fetching data from https://www.goodreads.com/review/list/113802330?page=3: Cannot connect to host www.goodreads.com:443 ssl:default [An established connection was aborted by the software in your host machine]\n",
      "Error occured while fetching data from https://www.goodreads.com/review/list/110275992?page=9: Cannot connect to host www.goodreads.com:443 ssl:default [An established connection was aborted by the software in your host machine]\n",
      "Error occured while fetching data from https://www.goodreads.com/review/list/113802330?page=6: Cannot connect to host www.goodreads.com:443 ssl:default [An established connection was aborted by the software in your host machine]\n",
      "Error occured while fetching data from https://www.goodreads.com/review/list/110275992?page=2: Cannot connect to host www.goodreads.com:443 ssl:default [An established connection was aborted by the software in your host machine]\n",
      "Error occured while fetching data from https://www.goodreads.com/review/list/159560109?page=2: Cannot connect to host www.goodreads.com:443 ssl:default [An established connection was aborted by the software in your host machine]\n",
      "Error occured while fetching data from https://www.goodreads.com/review/list/114976189?page=12: Cannot connect to host www.goodreads.com:443 ssl:default [An established connection was aborted by the software in your host machine]\n",
      "Error occured while fetching data from https://www.goodreads.com/review/list/159560109?page=3: Cannot connect to host www.goodreads.com:443 ssl:default [An established connection was aborted by the software in your host machine]\n",
      "Error occured while fetching data from https://www.goodreads.com/review/list/159560109?page=5: Cannot connect to host www.goodreads.com:443 ssl:default [An established connection was aborted by the software in your host machine]\n",
      "Error occured while fetching data from https://www.goodreads.com/review/list/81432722?page=4: Cannot connect to host www.goodreads.com:443 ssl:default [An established connection was aborted by the software in your host machine]\n",
      "Error occured while fetching data from https://www.goodreads.com/review/list/126036840?page=5: Cannot connect to host www.goodreads.com:443 ssl:default [An established connection was aborted by the software in your host machine]\n",
      "Error occured while fetching data from https://www.goodreads.com/review/list/113802330?page=4: Cannot connect to host www.goodreads.com:443 ssl:default [An established connection was aborted by the software in your host machine]\n",
      "Error occured while fetching data from https://www.goodreads.com/review/list/159560109?page=4: Cannot connect to host www.goodreads.com:443 ssl:default [An established connection was aborted by the software in your host machine]\n",
      "Error occured while fetching data from https://www.goodreads.com/review/list/159560109?page=6: Cannot connect to host www.goodreads.com:443 ssl:default [An established connection was aborted by the software in your host machine]\n",
      "Error occured while fetching data from https://www.goodreads.com/review/list/81432722?page=18: Cannot connect to host www.goodreads.com:443 ssl:default [An established connection was aborted by the software in your host machine]\n",
      "Error occured while fetching data from https://www.goodreads.com/review/list/81432722?page=50: Cannot connect to host www.goodreads.com:443 ssl:default [An established connection was aborted by the software in your host machine]\n",
      "Error occured while fetching data from https://www.goodreads.com/review/list/126036840?page=4: Cannot connect to host www.goodreads.com:443 ssl:default [An established connection was aborted by the software in your host machine]\n",
      "Error occured while fetching data from https://www.goodreads.com/review/list/126036840?page=2: Cannot connect to host www.goodreads.com:443 ssl:default [An established connection was aborted by the software in your host machine]\n",
      "Error occured while fetching data from https://www.goodreads.com/review/list/81432722?page=37: Cannot connect to host www.goodreads.com:443 ssl:default [An established connection was aborted by the software in your host machine]\n",
      "Error occured while fetching data from https://www.goodreads.com/review/list/81432722?page=40: Cannot connect to host www.goodreads.com:443 ssl:default [An established connection was aborted by the software in your host machine]\n",
      "Error occured while fetching data from https://www.goodreads.com/review/list/113802330?page=7: Cannot connect to host www.goodreads.com:443 ssl:default [An established connection was aborted by the software in your host machine]\n",
      "Error occured while fetching data from https://www.goodreads.com/review/list/126036840?page=3: Cannot connect to host www.goodreads.com:443 ssl:default [An established connection was aborted by the software in your host machine]\n"
     ]
    },
    {
     "name": "stderr",
     "output_type": "stream",
     "text": [
      " 52%|█████▏    | 17622/33593 [41:03<36:32,  7.29it/s]"
     ]
    },
    {
     "name": "stdout",
     "output_type": "stream",
     "text": [
      "Error occured while fetching data from https://www.goodreads.com/review/list/30928827?page=6: Cannot connect to host www.goodreads.com:443 ssl:default [An established connection was aborted by the software in your host machine]\n"
     ]
    },
    {
     "name": "stderr",
     "output_type": "stream",
     "text": [
      " 53%|█████▎    | 17658/33593 [41:07<35:31,  7.48it/s]"
     ]
    },
    {
     "name": "stdout",
     "output_type": "stream",
     "text": [
      "Error occured while fetching data from https://www.goodreads.com/review/list/90458690?page=10: Cannot connect to host www.goodreads.com:443 ssl:default [An established connection was aborted by the software in your host machine]\n",
      "Error occured while fetching data from https://www.goodreads.com/review/list/18356584?page=6: Cannot connect to host www.goodreads.com:443 ssl:default [An established connection was aborted by the software in your host machine]\n",
      "Error occured while fetching data from https://www.goodreads.com/review/list/90458690?page=4: Cannot connect to host www.goodreads.com:443 ssl:default [An established connection was aborted by the software in your host machine]\n",
      "Error occured while fetching data from https://www.goodreads.com/review/list/18356584?page=18: Cannot connect to host www.goodreads.com:443 ssl:default [An established connection was aborted by the software in your host machine]\n",
      "Error occured while fetching data from https://www.goodreads.com/review/list/18356584?page=5: Cannot connect to host www.goodreads.com:443 ssl:default [An established connection was aborted by the software in your host machine]\n",
      "Error occured while fetching data from https://www.goodreads.com/review/list/18356584?page=20: Cannot connect to host www.goodreads.com:443 ssl:default [An established connection was aborted by the software in your host machine]\n",
      "Error occured while fetching data from https://www.goodreads.com/review/list/137221653?page=3: Cannot connect to host www.goodreads.com:443 ssl:default [An established connection was aborted by the software in your host machine]\n",
      "Error occured while fetching data from https://www.goodreads.com/review/list/137221653?page=8: Cannot connect to host www.goodreads.com:443 ssl:default [An established connection was aborted by the software in your host machine]\n",
      "Error occured while fetching data from https://www.goodreads.com/review/list/137221653?page=6: Cannot connect to host www.goodreads.com:443 ssl:default [An established connection was aborted by the software in your host machine]\n",
      "Error occured while fetching data from https://www.goodreads.com/review/list/137221653?page=5: Cannot connect to host www.goodreads.com:443 ssl:default [An established connection was aborted by the software in your host machine]\n",
      "Error occured while fetching data from https://www.goodreads.com/review/list/137221653?page=18: Cannot connect to host www.goodreads.com:443 ssl:default [An established connection was aborted by the software in your host machine]\n",
      "Error occured while fetching data from https://www.goodreads.com/review/list/4674014?page=267: Cannot connect to host www.goodreads.com:443 ssl:default [An established connection was aborted by the software in your host machine]\n",
      "Error occured while fetching data from https://www.goodreads.com/review/list/4674014?page=23: Cannot connect to host www.goodreads.com:443 ssl:default [An established connection was aborted by the software in your host machine]\n",
      "Error occured while fetching data from https://www.goodreads.com/review/list/4674014?page=145: Cannot connect to host www.goodreads.com:443 ssl:default [An established connection was aborted by the software in your host machine]\n",
      "Error occured while fetching data from https://www.goodreads.com/review/list/4674014?page=46: Cannot connect to host www.goodreads.com:443 ssl:default [An established connection was aborted by the software in your host machine]\n",
      "Error occured while fetching data from https://www.goodreads.com/review/list/4674014?page=194: Cannot connect to host www.goodreads.com:443 ssl:default [An established connection was aborted by the software in your host machine]\n",
      "Error occured while fetching data from https://www.goodreads.com/review/list/90458690?page=3: Cannot connect to host www.goodreads.com:443 ssl:default [An established connection was aborted by the software in your host machine]\n",
      "Error occured while fetching data from https://www.goodreads.com/review/list/90458690?page=2: Cannot connect to host www.goodreads.com:443 ssl:default [An established connection was aborted by the software in your host machine]\n",
      "Error occured while fetching data from https://www.goodreads.com/review/list/30928827?page=9: Cannot connect to host www.goodreads.com:443 ssl:default [An established connection was aborted by the software in your host machine]\n",
      "Error occured while fetching data from https://www.goodreads.com/review/list/90458690?page=6: Cannot connect to host www.goodreads.com:443 ssl:default [An established connection was aborted by the software in your host machine]\n",
      "Error occured while fetching data from https://www.goodreads.com/review/list/30928827?page=4: Cannot connect to host www.goodreads.com:443 ssl:default [An established connection was aborted by the software in your host machine]\n"
     ]
    },
    {
     "name": "stderr",
     "output_type": "stream",
     "text": [
      " 53%|█████▎    | 17892/33593 [41:40<35:56,  7.28it/s]"
     ]
    },
    {
     "name": "stdout",
     "output_type": "stream",
     "text": [
      "Error occured while fetching data from https://www.goodreads.com/review/list/48197003?page=30: Cannot connect to host www.goodreads.com:443 ssl:default [An established connection was aborted by the software in your host machine]\n",
      "Error occured while fetching data from https://www.goodreads.com/review/list/48197003?page=45: Cannot connect to host www.goodreads.com:443 ssl:default [An established connection was aborted by the software in your host machine]\n",
      "Error occured while fetching data from https://www.goodreads.com/review/list/7708524?page=55: Cannot connect to host www.goodreads.com:443 ssl:default [An established connection was aborted by the software in your host machine]\n",
      "Error occured while fetching data from https://www.goodreads.com/review/list/7708524?page=70: Cannot connect to host www.goodreads.com:443 ssl:default [An established connection was aborted by the software in your host machine]\n",
      "Error occured while fetching data from https://www.goodreads.com/review/list/7708524?page=1: Cannot connect to host www.goodreads.com:443 ssl:default [An established connection was aborted by the software in your host machine]\n",
      "Error occured while fetching data from https://www.goodreads.com/review/list/7708524?page=22: Cannot connect to host www.goodreads.com:443 ssl:default [An established connection was aborted by the software in your host machine]\n",
      "Error occured while fetching data from https://www.goodreads.com/review/list/33034520?page=26: Cannot connect to host www.goodreads.com:443 ssl:default [An established connection was aborted by the software in your host machine]\n",
      "Error occured while fetching data from https://www.goodreads.com/review/list/33034520?page=29: Cannot connect to host www.goodreads.com:443 ssl:default [An established connection was aborted by the software in your host machine]\n",
      "Error occured while fetching data from https://www.goodreads.com/review/list/33034520?page=57: Cannot connect to host www.goodreads.com:443 ssl:default [An established connection was aborted by the software in your host machine]\n",
      "Error occured while fetching data from https://www.goodreads.com/review/list/33034520?page=10: Cannot connect to host www.goodreads.com:443 ssl:default [An established connection was aborted by the software in your host machine]\n",
      "Error occured while fetching data from https://www.goodreads.com/review/list/33034520?page=50: Cannot connect to host www.goodreads.com:443 ssl:default [An established connection was aborted by the software in your host machine]\n",
      "Error occured while fetching data from https://www.goodreads.com/review/list/26510054?page=62: Cannot connect to host www.goodreads.com:443 ssl:default [An established connection was aborted by the software in your host machine]\n",
      "Error occured while fetching data from https://www.goodreads.com/review/list/26510054?page=45: Cannot connect to host www.goodreads.com:443 ssl:default [An established connection was aborted by the software in your host machine]\n",
      "Error occured while fetching data from https://www.goodreads.com/review/list/26510054?page=63: Cannot connect to host www.goodreads.com:443 ssl:default [An established connection was aborted by the software in your host machine]\n",
      "Error occured while fetching data from https://www.goodreads.com/review/list/26510054?page=44: Cannot connect to host www.goodreads.com:443 ssl:default [An established connection was aborted by the software in your host machine]\n",
      "Error occured while fetching data from https://www.goodreads.com/review/list/26510054?page=20: Cannot connect to host www.goodreads.com:443 ssl:default [An established connection was aborted by the software in your host machine]\n",
      "Error occured while fetching data from https://www.goodreads.com/review/list/146319861?page=43: Cannot connect to host www.goodreads.com:443 ssl:default [An established connection was aborted by the software in your host machine]\n",
      "Error occured while fetching data from https://www.goodreads.com/review/list/146319861?page=77: Cannot connect to host www.goodreads.com:443 ssl:default [An established connection was aborted by the software in your host machine]\n",
      "Error occured while fetching data from https://www.goodreads.com/review/list/146319861?page=59: Cannot connect to host www.goodreads.com:443 ssl:default [An established connection was aborted by the software in your host machine]\n",
      "Error occured while fetching data from https://www.goodreads.com/review/list/7708524?page=15: Cannot connect to host www.goodreads.com:443 ssl:default [An established connection was aborted by the software in your host machine]\n",
      "Error occured while fetching data from https://www.goodreads.com/review/list/76326842?page=3: Cannot connect to host www.goodreads.com:443 ssl:default [An established connection was aborted by the software in your host machine]\n",
      "Error occured while fetching data from https://www.goodreads.com/review/list/48197003?page=26: Cannot connect to host www.goodreads.com:443 ssl:default [An established connection was aborted by the software in your host machine]\n"
     ]
    },
    {
     "name": "stderr",
     "output_type": "stream",
     "text": [
      " 53%|█████▎    | 17966/33593 [41:50<36:36,  7.11it/s]"
     ]
    },
    {
     "name": "stdout",
     "output_type": "stream",
     "text": [
      "Error occured while fetching data from https://www.goodreads.com/review/list/160074357?page=7: Cannot connect to host www.goodreads.com:443 ssl:default [An established connection was aborted by the software in your host machine]\n"
     ]
    },
    {
     "name": "stderr",
     "output_type": "stream",
     "text": [
      " 54%|█████▎    | 18032/33593 [41:55<29:21,  8.83it/s]"
     ]
    },
    {
     "name": "stdout",
     "output_type": "stream",
     "text": [
      "Error occured while fetching data from https://www.goodreads.com/review/list/118742934?page=48: Cannot connect to host www.goodreads.com:443 ssl:default [An established connection was aborted by the software in your host machine]\n"
     ]
    },
    {
     "name": "stderr",
     "output_type": "stream",
     "text": [
      " 54%|█████▍    | 18129/33593 [42:10<33:59,  7.58it/s]"
     ]
    },
    {
     "name": "stdout",
     "output_type": "stream",
     "text": [
      "Error occured while fetching data from https://www.goodreads.com/review/list/66895031?page=7: Cannot connect to host www.goodreads.com:443 ssl:default [An established connection was aborted by the software in your host machine]\n",
      "Error occured while fetching data from https://www.goodreads.com/review/list/158698228?page=5: Cannot connect to host www.goodreads.com:443 ssl:default [An established connection was aborted by the software in your host machine]\n",
      "Error occured while fetching data from https://www.goodreads.com/review/list/66895031?page=4: Cannot connect to host www.goodreads.com:443 ssl:default [An established connection was aborted by the software in your host machine]\n",
      "Error occured while fetching data from https://www.goodreads.com/review/list/89971324?page=1: Cannot connect to host www.goodreads.com:443 ssl:default [An established connection was aborted by the software in your host machine]\n",
      "Error occured while fetching data from https://www.goodreads.com/review/list/66895031?page=5: Cannot connect to host www.goodreads.com:443 ssl:default [An established connection was aborted by the software in your host machine]\n",
      "Error occured while fetching data from https://www.goodreads.com/review/list/89971324?page=3: Cannot connect to host www.goodreads.com:443 ssl:default [An established connection was aborted by the software in your host machine]\n",
      "Error occured while fetching data from https://www.goodreads.com/review/list/89971324?page=7: Cannot connect to host www.goodreads.com:443 ssl:default [An established connection was aborted by the software in your host machine]\n",
      "Error occured while fetching data from https://www.goodreads.com/review/list/66895031?page=1: Cannot connect to host www.goodreads.com:443 ssl:default [An established connection was aborted by the software in your host machine]\n",
      "Error occured while fetching data from https://www.goodreads.com/review/list/89971324?page=2: Cannot connect to host www.goodreads.com:443 ssl:default [An established connection was aborted by the software in your host machine]\n",
      "Error occured while fetching data from https://www.goodreads.com/review/list/89971324?page=6: Cannot connect to host www.goodreads.com:443 ssl:default [An established connection was aborted by the software in your host machine]\n",
      "Error occured while fetching data from https://www.goodreads.com/review/list/160283674?page=11: Cannot connect to host www.goodreads.com:443 ssl:default [An established connection was aborted by the software in your host machine]\n",
      "Error occured while fetching data from https://www.goodreads.com/review/list/66895031?page=2: Cannot connect to host www.goodreads.com:443 ssl:default [An established connection was aborted by the software in your host machine]\n",
      "Error occured while fetching data from https://www.goodreads.com/review/list/160283674?page=9: Cannot connect to host www.goodreads.com:443 ssl:default [An established connection was aborted by the software in your host machine]\n",
      "Error occured while fetching data from https://www.goodreads.com/review/list/160283674?page=1: Cannot connect to host www.goodreads.com:443 ssl:default [An established connection was aborted by the software in your host machine]\n",
      "Error occured while fetching data from https://www.goodreads.com/review/list/160283674?page=6: Cannot connect to host www.goodreads.com:443 ssl:default [An established connection was aborted by the software in your host machine]\n",
      "Error occured while fetching data from https://www.goodreads.com/review/list/160283674?page=3: Cannot connect to host www.goodreads.com:443 ssl:default [An established connection was aborted by the software in your host machine]\n",
      "Error occured while fetching data from https://www.goodreads.com/review/list/114909208?page=4: Cannot connect to host www.goodreads.com:443 ssl:default [An established connection was aborted by the software in your host machine]\n",
      "Error occured while fetching data from https://www.goodreads.com/review/list/114909208?page=5: Cannot connect to host www.goodreads.com:443 ssl:default [An established connection was aborted by the software in your host machine]\n",
      "Error occured while fetching data from https://www.goodreads.com/review/list/114909208?page=3: Cannot connect to host www.goodreads.com:443 ssl:default [An established connection was aborted by the software in your host machine]\n",
      "Error occured while fetching data from https://www.goodreads.com/review/list/158698228?page=8: Cannot connect to host www.goodreads.com:443 ssl:default [An established connection was aborted by the software in your host machine]\n",
      "Error occured while fetching data from https://www.goodreads.com/review/list/114909208?page=6: Cannot connect to host www.goodreads.com:443 ssl:default [An established connection was aborted by the software in your host machine]\n",
      "Error occured while fetching data from https://www.goodreads.com/review/list/114909208?page=2: Cannot connect to host www.goodreads.com:443 ssl:default [An established connection was aborted by the software in your host machine]\n",
      "Error occured while fetching data from https://www.goodreads.com/review/list/158698228?page=1: Cannot connect to host www.goodreads.com:443 ssl:default [An established connection was aborted by the software in your host machine]\n",
      "Error occured while fetching data from https://www.goodreads.com/review/list/7361020?page=87: Cannot connect to host www.goodreads.com:443 ssl:default [An established connection was aborted by the software in your host machine]\n",
      "Error occured while fetching data from https://www.goodreads.com/review/list/158698228?page=6: Cannot connect to host www.goodreads.com:443 ssl:default [An established connection was aborted by the software in your host machine]\n"
     ]
    },
    {
     "name": "stderr",
     "output_type": "stream",
     "text": [
      " 54%|█████▍    | 18156/33593 [42:14<34:54,  7.37it/s]"
     ]
    },
    {
     "name": "stdout",
     "output_type": "stream",
     "text": [
      "Error occured while fetching data from https://www.goodreads.com/review/list/135220626?page=7: Cannot connect to host www.goodreads.com:443 ssl:default [An established connection was aborted by the software in your host machine]\n",
      "Error occured while fetching data from https://www.goodreads.com/review/list/135220626?page=3: Cannot connect to host www.goodreads.com:443 ssl:default [An established connection was aborted by the software in your host machine]\n",
      "Error occured while fetching data from https://www.goodreads.com/review/list/135220626?page=11: Cannot connect to host www.goodreads.com:443 ssl:default [An established connection was aborted by the software in your host machine]\n",
      "Error occured while fetching data from https://www.goodreads.com/review/list/161476958?page=9: Cannot connect to host www.goodreads.com:443 ssl:default [An established connection was aborted by the software in your host machine]\n"
     ]
    },
    {
     "name": "stderr",
     "output_type": "stream",
     "text": [
      " 54%|█████▍    | 18189/33593 [42:18<34:03,  7.54it/s]"
     ]
    },
    {
     "name": "stdout",
     "output_type": "stream",
     "text": [
      "Error occured while fetching data from https://www.goodreads.com/review/list/5126172?page=143: Cannot connect to host www.goodreads.com:443 ssl:default [An established connection was aborted by the software in your host machine]\n",
      "Error occured while fetching data from https://www.goodreads.com/review/list/5126172?page=199: Cannot connect to host www.goodreads.com:443 ssl:default [An established connection was aborted by the software in your host machine]\n",
      "Error occured while fetching data from https://www.goodreads.com/review/list/5126172?page=158: Cannot connect to host www.goodreads.com:443 ssl:default [An established connection was aborted by the software in your host machine]\n",
      "Error occured while fetching data from https://www.goodreads.com/review/list/5126172?page=27: Cannot connect to host www.goodreads.com:443 ssl:default [An established connection was aborted by the software in your host machine]\n"
     ]
    },
    {
     "name": "stderr",
     "output_type": "stream",
     "text": [
      " 54%|█████▍    | 18274/33593 [42:25<27:51,  9.17it/s]"
     ]
    },
    {
     "name": "stdout",
     "output_type": "stream",
     "text": [
      "Error occured while fetching data from https://www.goodreads.com/review/list/1170391?page=80: Cannot connect to host www.goodreads.com:443 ssl:default [An established connection was aborted by the software in your host machine]\n",
      "Error occured while fetching data from https://www.goodreads.com/review/list/26571839?page=25: Cannot connect to host www.goodreads.com:443 ssl:default [An established connection was aborted by the software in your host machine]\n"
     ]
    },
    {
     "name": "stderr",
     "output_type": "stream",
     "text": [
      " 54%|█████▍    | 18304/33593 [42:28<26:52,  9.48it/s]"
     ]
    },
    {
     "name": "stdout",
     "output_type": "stream",
     "text": [
      "Error occured while fetching data from https://www.goodreads.com/review/list/116142211?page=1: Cannot connect to host www.goodreads.com:443 ssl:default [An established connection was aborted by the software in your host machine]\n",
      "Error occured while fetching data from https://www.goodreads.com/review/list/116142211?page=6: Cannot connect to host www.goodreads.com:443 ssl:default [An established connection was aborted by the software in your host machine]\n",
      "Error occured while fetching data from https://www.goodreads.com/review/list/10980741?page=9: Cannot connect to host www.goodreads.com:443 ssl:default [An established connection was aborted by the software in your host machine]\n",
      "Error occured while fetching data from https://www.goodreads.com/review/list/10980741?page=37: Cannot connect to host www.goodreads.com:443 ssl:default [An established connection was aborted by the software in your host machine]\n",
      "Error occured while fetching data from https://www.goodreads.com/review/list/26571839?page=17: Cannot connect to host www.goodreads.com:443 ssl:default [An established connection was aborted by the software in your host machine]\n",
      "Error occured while fetching data from https://www.goodreads.com/review/list/116142211?page=3: Cannot connect to host www.goodreads.com:443 ssl:default [An established connection was aborted by the software in your host machine]\n"
     ]
    },
    {
     "name": "stderr",
     "output_type": "stream",
     "text": [
      " 55%|█████▍    | 18349/33593 [42:32<25:00, 10.16it/s]"
     ]
    },
    {
     "name": "stdout",
     "output_type": "stream",
     "text": [
      "Error occured while fetching data from https://www.goodreads.com/review/list/161021569?page=15: Cannot connect to host www.goodreads.com:443 ssl:default [An established connection was aborted by the software in your host machine]\n",
      "Error occured while fetching data from https://www.goodreads.com/review/list/161021569?page=5: Cannot connect to host www.goodreads.com:443 ssl:default [An established connection was aborted by the software in your host machine]\n",
      "Error occured while fetching data from https://www.goodreads.com/review/list/161021569?page=17: Cannot connect to host www.goodreads.com:443 ssl:default [An established connection was aborted by the software in your host machine]\n",
      "Error occured while fetching data from https://www.goodreads.com/review/list/161021569?page=21: Cannot connect to host www.goodreads.com:443 ssl:default [An established connection was aborted by the software in your host machine]\n",
      "Error occured while fetching data from https://www.goodreads.com/review/list/56099834?page=24: Server disconnected\n",
      "Error occured while fetching data from https://www.goodreads.com/review/list/106888726?page=18: Server disconnected\n",
      "Error occured while fetching data from https://www.goodreads.com/review/list/69100898?page=19: Server disconnected\n",
      "Error occured while fetching data from https://www.goodreads.com/review/list/106888726?page=11: Server disconnected\n",
      "Error occured while fetching data from https://www.goodreads.com/review/list/69100898?page=10: Server disconnected\n",
      "Error occured while fetching data from https://www.goodreads.com/review/list/52743618?page=16: Server disconnected\n",
      "Error occured while fetching data from https://www.goodreads.com/review/list/56099834?page=21: Server disconnected\n",
      "Error occured while fetching data from https://www.goodreads.com/review/list/531153?page=328: Server disconnected\n",
      "Error occured while fetching data from https://www.goodreads.com/review/list/531153?page=312: Server disconnected\n",
      "Error occured while fetching data from https://www.goodreads.com/review/list/106888726?page=16: Server disconnected\n",
      "Error occured while fetching data from https://www.goodreads.com/review/list/531153?page=275: Server disconnected\n",
      "Error occured while fetching data from https://www.goodreads.com/review/list/106888726?page=4: Server disconnected\n",
      "Error occured while fetching data from https://www.goodreads.com/review/list/56099834?page=3: Server disconnected\n",
      "Error occured while fetching data from https://www.goodreads.com/review/list/56099834?page=23: Server disconnected\n",
      "Error occured while fetching data from https://www.goodreads.com/review/list/531153?page=137: Server disconnected\n",
      "Error occured while fetching data from https://www.goodreads.com/review/list/52743618?page=5: Server disconnected\n",
      "Error occured while fetching data from https://www.goodreads.com/review/list/52743618?page=10: Server disconnected\n",
      "Error occured while fetching data from https://www.goodreads.com/review/list/52743618?page=1: Server disconnected\n",
      "Error occured while fetching data from https://www.goodreads.com/review/list/56099834?page=2: Server disconnected\n",
      "Error occured while fetching data from https://www.goodreads.com/review/list/69100898?page=16: Server disconnected\n",
      "Error occured while fetching data from https://www.goodreads.com/review/list/52743618?page=14: Server disconnected\n",
      "Error occured while fetching data from https://www.goodreads.com/review/list/69100898?page=1: Server disconnected\n",
      "Error occured while fetching data from https://www.goodreads.com/review/list/531153?page=54: Server disconnected\n",
      "Error occured while fetching data from https://www.goodreads.com/review/list/106888726?page=12: Server disconnected\n"
     ]
    },
    {
     "name": "stderr",
     "output_type": "stream",
     "text": [
      " 55%|█████▍    | 18453/33593 [42:46<43:19,  5.82it/s]"
     ]
    },
    {
     "name": "stdout",
     "output_type": "stream",
     "text": [
      "Error occured while fetching data from https://www.goodreads.com/review/list/12785148?page=48: [WinError 10053] An established connection was aborted by the software in your host machine\n"
     ]
    },
    {
     "name": "stderr",
     "output_type": "stream",
     "text": [
      " 55%|█████▍    | 18476/33593 [42:50<43:56,  5.73it/s]"
     ]
    },
    {
     "name": "stdout",
     "output_type": "stream",
     "text": [
      "Error occured while fetching data from https://www.goodreads.com/review/list/95975558?page=1: Server disconnected\n",
      "Error occured while fetching data from https://www.goodreads.com/review/list/36356777?page=5: Server disconnected\n",
      "Error occured while fetching data from https://www.goodreads.com/review/list/36356777?page=4: Server disconnected\n",
      "Error occured while fetching data from https://www.goodreads.com/review/list/146791148?page=5: Server disconnected\n",
      "Error occured while fetching data from https://www.goodreads.com/review/list/36356777?page=2: Server disconnected\n",
      "Error occured while fetching data from https://www.goodreads.com/review/list/36356777?page=3: Server disconnected\n",
      "Error occured while fetching data from https://www.goodreads.com/review/list/36356777?page=1: Server disconnected\n",
      "Error occured while fetching data from https://www.goodreads.com/review/list/106059347?page=2: Cannot connect to host www.goodreads.com:443 ssl:default [An established connection was aborted by the software in your host machine]\n",
      "Error occured while fetching data from https://www.goodreads.com/review/list/106059347?page=1: Cannot connect to host www.goodreads.com:443 ssl:default [An established connection was aborted by the software in your host machine]\n",
      "Error occured while fetching data from https://www.goodreads.com/review/list/72319690?page=2: Cannot connect to host www.goodreads.com:443 ssl:default [An established connection was aborted by the software in your host machine]\n",
      "Error occured while fetching data from https://www.goodreads.com/review/list/32718713?page=1: Cannot connect to host www.goodreads.com:443 ssl:default [An established connection was aborted by the software in your host machine]\n",
      "Error occured while fetching data from https://www.goodreads.com/review/list/161198488?page=1: Cannot connect to host www.goodreads.com:443 ssl:default [An established connection was aborted by the software in your host machine]\n",
      "Error occured while fetching data from https://www.goodreads.com/review/list/146791148?page=2: Cannot connect to host www.goodreads.com:443 ssl:default [An established connection was aborted by the software in your host machine]\n",
      "Error occured while fetching data from https://www.goodreads.com/review/list/146791148?page=6: Cannot connect to host www.goodreads.com:443 ssl:default [An established connection was aborted by the software in your host machine]\n",
      "Error occured while fetching data from https://www.goodreads.com/review/list/160893191?page=7: Cannot connect to host www.goodreads.com:443 ssl:default [An established connection was aborted by the software in your host machine]\n",
      "Error occured while fetching data from https://www.goodreads.com/review/list/146791148?page=4: Cannot connect to host www.goodreads.com:443 ssl:default [An established connection was aborted by the software in your host machine]\n",
      "Error occured while fetching data from https://www.goodreads.com/review/list/160893191?page=9: Cannot connect to host www.goodreads.com:443 ssl:default [An established connection was aborted by the software in your host machine]\n",
      "Error occured while fetching data from https://www.goodreads.com/review/list/160893191?page=8: Cannot connect to host www.goodreads.com:443 ssl:default [An established connection was aborted by the software in your host machine]\n",
      "Error occured while fetching data from https://www.goodreads.com/review/list/160893191?page=4: Cannot connect to host www.goodreads.com:443 ssl:default [An established connection was aborted by the software in your host machine]\n",
      "Error occured while fetching data from https://www.goodreads.com/review/list/106059347?page=3: Cannot connect to host www.goodreads.com:443 ssl:default [An established connection was aborted by the software in your host machine]\n",
      "Error occured while fetching data from https://www.goodreads.com/review/list/160893191?page=13: Cannot connect to host www.goodreads.com:443 ssl:default [An established connection was aborted by the software in your host machine]\n",
      "Error occured while fetching data from https://www.goodreads.com/review/list/150024346?page=2: Cannot connect to host www.goodreads.com:443 ssl:default [An established connection was aborted by the software in your host machine]\n",
      "Error occured while fetching data from https://www.goodreads.com/review/list/150024346?page=6: Cannot connect to host www.goodreads.com:443 ssl:default [An established connection was aborted by the software in your host machine]\n",
      "Error occured while fetching data from https://www.goodreads.com/review/list/150024346?page=1: Cannot connect to host www.goodreads.com:443 ssl:default [An established connection was aborted by the software in your host machine]\n",
      "Error occured while fetching data from https://www.goodreads.com/review/list/150024346?page=3: Cannot connect to host www.goodreads.com:443 ssl:default [An established connection was aborted by the software in your host machine]\n",
      "Error occured while fetching data from https://www.goodreads.com/review/list/72319690?page=8: Cannot connect to host www.goodreads.com:443 ssl:default [An established connection was aborted by the software in your host machine]\n",
      "Error occured while fetching data from https://www.goodreads.com/review/list/150024346?page=5: Cannot connect to host www.goodreads.com:443 ssl:default [An established connection was aborted by the software in your host machine]\n",
      "Error occured while fetching data from https://www.goodreads.com/review/list/72319690?page=3: Cannot connect to host www.goodreads.com:443 ssl:default [An established connection was aborted by the software in your host machine]\n",
      "Error occured while fetching data from https://www.goodreads.com/review/list/145311063?page=2: Cannot connect to host www.goodreads.com:443 ssl:default [An established connection was aborted by the software in your host machine]\n",
      "Error occured while fetching data from https://www.goodreads.com/review/list/145311063?page=1: Cannot connect to host www.goodreads.com:443 ssl:default [An established connection was aborted by the software in your host machine]\n",
      "Error occured while fetching data from https://www.goodreads.com/review/list/72319690?page=7: Cannot connect to host www.goodreads.com:443 ssl:default [An established connection was aborted by the software in your host machine]\n"
     ]
    },
    {
     "name": "stderr",
     "output_type": "stream",
     "text": [
      " 55%|█████▌    | 18505/33593 [42:53<36:36,  6.87it/s]"
     ]
    },
    {
     "name": "stdout",
     "output_type": "stream",
     "text": [
      "Error occured while fetching data from https://www.goodreads.com/review/list/5815457?page=7: Cannot connect to host www.goodreads.com:443 ssl:default [An established connection was aborted by the software in your host machine]\n",
      "Error occured while fetching data from https://www.goodreads.com/review/list/5815457?page=6: Cannot connect to host www.goodreads.com:443 ssl:default [An established connection was aborted by the software in your host machine]\n"
     ]
    },
    {
     "name": "stderr",
     "output_type": "stream",
     "text": [
      " 55%|█████▌    | 18534/33593 [42:57<34:19,  7.31it/s]"
     ]
    },
    {
     "name": "stdout",
     "output_type": "stream",
     "text": [
      "Error occured while fetching data from https://www.goodreads.com/review/list/34033552?page=11: Cannot connect to host www.goodreads.com:443 ssl:default [An established connection was aborted by the software in your host machine]\n"
     ]
    },
    {
     "name": "stderr",
     "output_type": "stream",
     "text": [
      " 55%|█████▌    | 18582/33593 [43:02<31:41,  7.89it/s]"
     ]
    },
    {
     "name": "stdout",
     "output_type": "stream",
     "text": [
      "Error occured while fetching data from https://www.goodreads.com/review/list/4466866?page=13: Cannot connect to host www.goodreads.com:443 ssl:default [An established connection was aborted by the software in your host machine]\n",
      "Error occured while fetching data from https://www.goodreads.com/review/list/4466866?page=1: Cannot connect to host www.goodreads.com:443 ssl:default [An established connection was aborted by the software in your host machine]\n"
     ]
    },
    {
     "name": "stderr",
     "output_type": "stream",
     "text": [
      " 55%|█████▌    | 18640/33593 [43:10<32:14,  7.73it/s]"
     ]
    },
    {
     "name": "stdout",
     "output_type": "stream",
     "text": [
      "Error occured while fetching data from https://www.goodreads.com/review/list/161347789?page=4: Cannot connect to host www.goodreads.com:443 ssl:default [An established connection was aborted by the software in your host machine]\n",
      "Error occured while fetching data from https://www.goodreads.com/review/list/161347789?page=2: Cannot connect to host www.goodreads.com:443 ssl:default [An established connection was aborted by the software in your host machine]\n",
      "Error occured while fetching data from https://www.goodreads.com/review/list/161347789?page=3: Cannot connect to host www.goodreads.com:443 ssl:default [An established connection was aborted by the software in your host machine]\n",
      "Error occured while fetching data from https://www.goodreads.com/review/list/161347789?page=1: Cannot connect to host www.goodreads.com:443 ssl:default [An established connection was aborted by the software in your host machine]\n",
      "Error occured while fetching data from https://www.goodreads.com/review/list/25890676?page=16: Cannot connect to host www.goodreads.com:443 ssl:default [An established connection was aborted by the software in your host machine]\n"
     ]
    },
    {
     "name": "stderr",
     "output_type": "stream",
     "text": [
      " 56%|█████▌    | 18664/33593 [43:13<31:22,  7.93it/s]"
     ]
    },
    {
     "name": "stdout",
     "output_type": "stream",
     "text": [
      "Error occured while fetching data from https://www.goodreads.com/review/list/66512925?page=13: Cannot connect to host www.goodreads.com:443 ssl:default [An established connection was aborted by the software in your host machine]\n",
      "Error occured while fetching data from https://www.goodreads.com/review/list/149841767?page=6: Cannot connect to host www.goodreads.com:443 ssl:default [An established connection was aborted by the software in your host machine]\n",
      "Error occured while fetching data from https://www.goodreads.com/review/list/7264121?page=17: Cannot connect to host www.goodreads.com:443 ssl:default [An established connection was aborted by the software in your host machine]\n",
      "Error occured while fetching data from https://www.goodreads.com/review/list/66512925?page=2: Cannot connect to host www.goodreads.com:443 ssl:default [An established connection was aborted by the software in your host machine]\n",
      "Error occured while fetching data from https://www.goodreads.com/review/list/66512925?page=7: Cannot connect to host www.goodreads.com:443 ssl:default [An established connection was aborted by the software in your host machine]\n",
      "Error occured while fetching data from https://www.goodreads.com/review/list/55429129?page=9: Cannot connect to host www.goodreads.com:443 ssl:default [An established connection was aborted by the software in your host machine]\n",
      "Error occured while fetching data from https://www.goodreads.com/review/list/122547345?page=1: Cannot connect to host www.goodreads.com:443 ssl:default [An established connection was aborted by the software in your host machine]\n",
      "Error occured while fetching data from https://www.goodreads.com/review/list/154250248?page=6: Cannot connect to host www.goodreads.com:443 ssl:default [An established connection was aborted by the software in your host machine]\n",
      "Error occured while fetching data from https://www.goodreads.com/review/list/154250248?page=11: Cannot connect to host www.goodreads.com:443 ssl:default [An established connection was aborted by the software in your host machine]\n",
      "Error occured while fetching data from https://www.goodreads.com/review/list/160846373?page=2: Cannot connect to host www.goodreads.com:443 ssl:default [An established connection was aborted by the software in your host machine]\n",
      "Error occured while fetching data from https://www.goodreads.com/review/list/160846373?page=15: Cannot connect to host www.goodreads.com:443 ssl:default [An established connection was aborted by the software in your host machine]\n",
      "Error occured while fetching data from https://www.goodreads.com/review/list/149841767?page=9: Cannot connect to host www.goodreads.com:443 ssl:default [An established connection was aborted by the software in your host machine]\n",
      "Error occured while fetching data from https://www.goodreads.com/review/list/136563265?page=16: Cannot connect to host www.goodreads.com:443 ssl:default [An established connection was aborted by the software in your host machine]\n",
      "Error occured while fetching data from https://www.goodreads.com/review/list/122547345?page=5: Cannot connect to host www.goodreads.com:443 ssl:default [An established connection was aborted by the software in your host machine]\n",
      "Error occured while fetching data from https://www.goodreads.com/review/list/160846373?page=14: Cannot connect to host www.goodreads.com:443 ssl:default [An established connection was aborted by the software in your host machine]\n",
      "Error occured while fetching data from https://www.goodreads.com/review/list/122547345?page=4: Cannot connect to host www.goodreads.com:443 ssl:default [An established connection was aborted by the software in your host machine]\n",
      "Error occured while fetching data from https://www.goodreads.com/review/list/136563265?page=17: Cannot connect to host www.goodreads.com:443 ssl:default [An established connection was aborted by the software in your host machine]\n",
      "Error occured while fetching data from https://www.goodreads.com/review/list/25890676?page=95: Cannot connect to host www.goodreads.com:443 ssl:default [An established connection was aborted by the software in your host machine]\n",
      "Error occured while fetching data from https://www.goodreads.com/review/list/55429129?page=7: Cannot connect to host www.goodreads.com:443 ssl:default [An established connection was aborted by the software in your host machine]\n",
      "Error occured while fetching data from https://www.goodreads.com/review/list/55429129?page=3: Cannot connect to host www.goodreads.com:443 ssl:default [An established connection was aborted by the software in your host machine]\n",
      "Error occured while fetching data from https://www.goodreads.com/review/list/160846373?page=4: Cannot connect to host www.goodreads.com:443 ssl:default [An established connection was aborted by the software in your host machine]\n",
      "Error occured while fetching data from https://www.goodreads.com/review/list/55429129?page=6: Cannot connect to host www.goodreads.com:443 ssl:default [An established connection was aborted by the software in your host machine]\n",
      "Error occured while fetching data from https://www.goodreads.com/review/list/66512925?page=6: Cannot connect to host www.goodreads.com:443 ssl:default [An established connection was aborted by the software in your host machine]\n",
      "Error occured while fetching data from https://www.goodreads.com/review/list/66512925?page=4: Cannot connect to host www.goodreads.com:443 ssl:default [An established connection was aborted by the software in your host machine]\n",
      "Error occured while fetching data from https://www.goodreads.com/review/list/55429129?page=1: Cannot connect to host www.goodreads.com:443 ssl:default [An established connection was aborted by the software in your host machine]\n",
      "Error occured while fetching data from https://www.goodreads.com/review/list/122547345?page=6: Cannot connect to host www.goodreads.com:443 ssl:default [An established connection was aborted by the software in your host machine]\n",
      "Error occured while fetching data from https://www.goodreads.com/review/list/136563265?page=3: Cannot connect to host www.goodreads.com:443 ssl:default [An established connection was aborted by the software in your host machine]\n",
      "Error occured while fetching data from https://www.goodreads.com/review/list/122547345?page=2: Cannot connect to host www.goodreads.com:443 ssl:default [An established connection was aborted by the software in your host machine]\n",
      "Error occured while fetching data from https://www.goodreads.com/review/list/149841767?page=19: Cannot connect to host www.goodreads.com:443 ssl:default [An established connection was aborted by the software in your host machine]\n",
      "Error occured while fetching data from https://www.goodreads.com/review/list/160846373?page=6: Cannot connect to host www.goodreads.com:443 ssl:default [An established connection was aborted by the software in your host machine]\n",
      "Error occured while fetching data from https://www.goodreads.com/review/list/154250248?page=1: Cannot connect to host www.goodreads.com:443 ssl:default [An established connection was aborted by the software in your host machine]\n",
      "Error occured while fetching data from https://www.goodreads.com/review/list/149841767?page=21: Cannot connect to host www.goodreads.com:443 ssl:default [An established connection was aborted by the software in your host machine]\n",
      "Error occured while fetching data from https://www.goodreads.com/review/list/149841767?page=23: Cannot connect to host www.goodreads.com:443 ssl:default [An established connection was aborted by the software in your host machine]\n"
     ]
    },
    {
     "name": "stderr",
     "output_type": "stream",
     "text": [
      " 56%|█████▌    | 18694/33593 [43:18<33:58,  7.31it/s]"
     ]
    },
    {
     "name": "stdout",
     "output_type": "stream",
     "text": [
      "Error occured while fetching data from https://www.goodreads.com/review/list/4622890?page=251: Cannot connect to host www.goodreads.com:443 ssl:default [An established connection was aborted by the software in your host machine]\n",
      "Error occured while fetching data from https://www.goodreads.com/review/list/4622890?page=54: Cannot connect to host www.goodreads.com:443 ssl:default [An established connection was aborted by the software in your host machine]\n",
      "Error occured while fetching data from https://www.goodreads.com/review/list/4622890?page=175: Cannot connect to host www.goodreads.com:443 ssl:default [An established connection was aborted by the software in your host machine]\n",
      "Error occured while fetching data from https://www.goodreads.com/review/list/4622890?page=287: Cannot connect to host www.goodreads.com:443 ssl:default [An established connection was aborted by the software in your host machine]\n"
     ]
    },
    {
     "name": "stderr",
     "output_type": "stream",
     "text": [
      " 56%|█████▌    | 18783/33593 [43:21<16:50, 14.66it/s]"
     ]
    },
    {
     "name": "stdout",
     "output_type": "stream",
     "text": [
      "Error occured while fetching data from https://www.goodreads.com/review/list/6152723?page=37: Cannot connect to host www.goodreads.com:443 ssl:default [An established connection was aborted by the software in your host machine]\n",
      "Error occured while fetching data from https://www.goodreads.com/review/list/6152723?page=26: Cannot connect to host www.goodreads.com:443 ssl:default [An established connection was aborted by the software in your host machine]\n",
      "Error occured while fetching data from https://www.goodreads.com/review/list/121112807?page=19: Cannot connect to host www.goodreads.com:443 ssl:default [An established connection was aborted by the software in your host machine]\n",
      "Error occured while fetching data from https://www.goodreads.com/review/list/6152723?page=13: Cannot connect to host www.goodreads.com:443 ssl:default [An established connection was aborted by the software in your host machine]\n"
     ]
    },
    {
     "name": "stderr",
     "output_type": "stream",
     "text": [
      " 56%|█████▌    | 18880/33593 [43:37<42:46,  5.73it/s]"
     ]
    },
    {
     "name": "stdout",
     "output_type": "stream",
     "text": [
      "Error occured while fetching data from https://www.goodreads.com/review/list/161478173?page=6: [WinError 10053] An established connection was aborted by the software in your host machine\n",
      "Error occured while fetching data from https://www.goodreads.com/review/list/23628395?page=1: [WinError 10053] An established connection was aborted by the software in your host machine\n",
      "Error occured while fetching data from https://www.goodreads.com/review/list/13379493?page=7: [WinError 10053] An established connection was aborted by the software in your host machine\n",
      "Error occured while fetching data from https://www.goodreads.com/review/list/13379493?page=15: [WinError 10053] An established connection was aborted by the software in your host machine\n",
      "Error occured while fetching data from https://www.goodreads.com/review/list/132737090?page=27: Server disconnected\n",
      "Error occured while fetching data from https://www.goodreads.com/review/list/23628395?page=3: [WinError 10053] An established connection was aborted by the software in your host machine\n",
      "Error occured while fetching data from https://www.goodreads.com/review/list/13379493?page=13: [WinError 10053] An established connection was aborted by the software in your host machine\n",
      "Error occured while fetching data from https://www.goodreads.com/review/list/143322384?page=3: [WinError 10053] An established connection was aborted by the software in your host machine\n",
      "Error occured while fetching data from https://www.goodreads.com/review/list/13379493?page=12: [WinError 10053] An established connection was aborted by the software in your host machine\n",
      "Error occured while fetching data from https://www.goodreads.com/review/list/161478173?page=4: [WinError 10053] An established connection was aborted by the software in your host machine\n",
      "Error occured while fetching data from https://www.goodreads.com/review/list/13379493?page=11: [WinError 10053] An established connection was aborted by the software in your host machine\n",
      "Error occured while fetching data from https://www.goodreads.com/review/list/22712345?page=3: [WinError 10053] An established connection was aborted by the software in your host machine\n",
      "Error occured while fetching data from https://www.goodreads.com/review/list/23628395?page=2: [WinError 10053] An established connection was aborted by the software in your host machine\n",
      "Error occured while fetching data from https://www.goodreads.com/review/list/22712345?page=2: [WinError 10053] An established connection was aborted by the software in your host machine\n",
      "Error occured while fetching data from https://www.goodreads.com/review/list/159665796?page=4: [WinError 10053] An established connection was aborted by the software in your host machine\n",
      "Error occured while fetching data from https://www.goodreads.com/review/list/159665796?page=3: [WinError 10053] An established connection was aborted by the software in your host machine\n",
      "Error occured while fetching data from https://www.goodreads.com/review/list/160405799?page=12: [WinError 10053] An established connection was aborted by the software in your host machine\n",
      "Error occured while fetching data from https://www.goodreads.com/review/list/160405799?page=9: [WinError 10053] An established connection was aborted by the software in your host machine\n",
      "Error occured while fetching data from https://www.goodreads.com/review/list/158066442?page=17: Server disconnected\n",
      "Error occured while fetching data from https://www.goodreads.com/review/list/158066442?page=24: Server disconnected\n",
      "Error occured while fetching data from https://www.goodreads.com/review/list/160405799?page=11: [WinError 10053] An established connection was aborted by the software in your host machine\n",
      "Error occured while fetching data from https://www.goodreads.com/review/list/107401834?page=1: [WinError 10053] An established connection was aborted by the software in your host machine\n",
      "Error occured while fetching data from https://www.goodreads.com/review/list/158066442?page=22: Server disconnected\n",
      "Error occured while fetching data from https://www.goodreads.com/review/list/126568496?page=5: [WinError 10053] An established connection was aborted by the software in your host machine\n",
      "Error occured while fetching data from https://www.goodreads.com/review/list/161478173?page=7: [WinError 10053] An established connection was aborted by the software in your host machine\n",
      "Error occured while fetching data from https://www.goodreads.com/review/list/161478173?page=2: [WinError 10053] An established connection was aborted by the software in your host machine\n",
      "Error occured while fetching data from https://www.goodreads.com/review/list/107401834?page=2: [WinError 10053] An established connection was aborted by the software in your host machine\n",
      "Error occured while fetching data from https://www.goodreads.com/review/list/22712345?page=1: [WinError 10053] An established connection was aborted by the software in your host machine\n",
      "Error occured while fetching data from https://www.goodreads.com/review/list/159665796?page=1: [WinError 10053] An established connection was aborted by the software in your host machine\n",
      "Error occured while fetching data from https://www.goodreads.com/review/list/159665796?page=2: [WinError 10053] An established connection was aborted by the software in your host machine\n",
      "Error occured while fetching data from https://www.goodreads.com/review/list/160405799?page=7: [WinError 10053] An established connection was aborted by the software in your host machine\n",
      "Error occured while fetching data from https://www.goodreads.com/review/list/161478173?page=8: [WinError 10053] An established connection was aborted by the software in your host machine\n"
     ]
    },
    {
     "name": "stderr",
     "output_type": "stream",
     "text": [
      " 56%|█████▋    | 18897/33593 [43:41<48:06,  5.09it/s]"
     ]
    },
    {
     "name": "stdout",
     "output_type": "stream",
     "text": [
      "Error occured while fetching data from https://www.goodreads.com/review/list/39507790?page=9: Server disconnected\n"
     ]
    },
    {
     "name": "stderr",
     "output_type": "stream",
     "text": [
      " 56%|█████▋    | 18917/33593 [43:45<49:10,  4.97it/s]"
     ]
    },
    {
     "name": "stdout",
     "output_type": "stream",
     "text": [
      "Error occured while fetching data from https://www.goodreads.com/review/list/8446886?page=49: Server disconnected\n",
      "Error occured while fetching data from https://www.goodreads.com/review/list/8446886?page=52: Server disconnected\n",
      "Error occured while fetching data from https://www.goodreads.com/review/list/8446886?page=41: Server disconnected\n"
     ]
    },
    {
     "name": "stderr",
     "output_type": "stream",
     "text": [
      " 56%|█████▋    | 18976/33593 [43:49<27:49,  8.76it/s]"
     ]
    },
    {
     "name": "stdout",
     "output_type": "stream",
     "text": [
      "Error occured while fetching data from https://www.goodreads.com/review/list/22615673?page=1: Cannot connect to host www.goodreads.com:443 ssl:default [An established connection was aborted by the software in your host machine]\n"
     ]
    },
    {
     "name": "stderr",
     "output_type": "stream",
     "text": [
      " 57%|█████▋    | 19006/33593 [43:54<31:42,  7.67it/s]"
     ]
    },
    {
     "name": "stdout",
     "output_type": "stream",
     "text": [
      "Error occured while fetching data from https://www.goodreads.com/review/list/143539766?page=139: Cannot connect to host www.goodreads.com:443 ssl:default [An established connection was aborted by the software in your host machine]\n",
      "Error occured while fetching data from https://www.goodreads.com/review/list/160841091?page=1: Cannot connect to host www.goodreads.com:443 ssl:default [An established connection was aborted by the software in your host machine]\n"
     ]
    },
    {
     "name": "stderr",
     "output_type": "stream",
     "text": [
      " 57%|█████▋    | 19064/33593 [43:59<26:36,  9.10it/s]"
     ]
    },
    {
     "name": "stdout",
     "output_type": "stream",
     "text": [
      "Error occured while fetching data from https://www.goodreads.com/review/list/146692384?page=10: Cannot connect to host www.goodreads.com:443 ssl:default [An established connection was aborted by the software in your host machine]\n",
      "Error occured while fetching data from https://www.goodreads.com/review/list/40783551?page=8: Cannot connect to host www.goodreads.com:443 ssl:default [An established connection was aborted by the software in your host machine]\n",
      "Error occured while fetching data from https://www.goodreads.com/review/list/150638046?page=18: Cannot connect to host www.goodreads.com:443 ssl:default [An established connection was aborted by the software in your host machine]\n",
      "Error occured while fetching data from https://www.goodreads.com/review/list/40783551?page=1: Cannot connect to host www.goodreads.com:443 ssl:default [An established connection was aborted by the software in your host machine]\n",
      "Error occured while fetching data from https://www.goodreads.com/review/list/40783551?page=7: Cannot connect to host www.goodreads.com:443 ssl:default [An established connection was aborted by the software in your host machine]\n",
      "Error occured while fetching data from https://www.goodreads.com/review/list/40783551?page=2: Cannot connect to host www.goodreads.com:443 ssl:default [An established connection was aborted by the software in your host machine]\n",
      "Error occured while fetching data from https://www.goodreads.com/review/list/146692384?page=11: Cannot connect to host www.goodreads.com:443 ssl:default [An established connection was aborted by the software in your host machine]\n",
      "Error occured while fetching data from https://www.goodreads.com/review/list/146692384?page=2: Cannot connect to host www.goodreads.com:443 ssl:default [An established connection was aborted by the software in your host machine]\n",
      "Error occured while fetching data from https://www.goodreads.com/review/list/3957090?page=13: Cannot connect to host www.goodreads.com:443 ssl:default [An established connection was aborted by the software in your host machine]\n",
      "Error occured while fetching data from https://www.goodreads.com/review/list/3957090?page=7: Cannot connect to host www.goodreads.com:443 ssl:default [An established connection was aborted by the software in your host machine]\n",
      "Error occured while fetching data from https://www.goodreads.com/review/list/3957090?page=9: Cannot connect to host www.goodreads.com:443 ssl:default [An established connection was aborted by the software in your host machine]\n",
      "Error occured while fetching data from https://www.goodreads.com/review/list/21679362?page=31: Cannot connect to host www.goodreads.com:443 ssl:default [An established connection was aborted by the software in your host machine]\n",
      "Error occured while fetching data from https://www.goodreads.com/review/list/151735549?page=24: Cannot connect to host www.goodreads.com:443 ssl:default [An established connection was aborted by the software in your host machine]\n",
      "Error occured while fetching data from https://www.goodreads.com/review/list/21679362?page=79: Cannot connect to host www.goodreads.com:443 ssl:default [An established connection was aborted by the software in your host machine]\n",
      "Error occured while fetching data from https://www.goodreads.com/review/list/21679362?page=64: Cannot connect to host www.goodreads.com:443 ssl:default [An established connection was aborted by the software in your host machine]\n",
      "Error occured while fetching data from https://www.goodreads.com/review/list/21679362?page=32: Cannot connect to host www.goodreads.com:443 ssl:default [An established connection was aborted by the software in your host machine]\n",
      "Error occured while fetching data from https://www.goodreads.com/review/list/146692384?page=5: Cannot connect to host www.goodreads.com:443 ssl:default [An established connection was aborted by the software in your host machine]\n",
      "Error occured while fetching data from https://www.goodreads.com/review/list/151735549?page=33: Cannot connect to host www.goodreads.com:443 ssl:default [An established connection was aborted by the software in your host machine]\n",
      "Error occured while fetching data from https://www.goodreads.com/review/list/146692384?page=1: Cannot connect to host www.goodreads.com:443 ssl:default [An established connection was aborted by the software in your host machine]\n",
      "Error occured while fetching data from https://www.goodreads.com/review/list/155106530?page=6: Cannot connect to host www.goodreads.com:443 ssl:default [An established connection was aborted by the software in your host machine]\n",
      "Error occured while fetching data from https://www.goodreads.com/review/list/21679362?page=17: Cannot connect to host www.goodreads.com:443 ssl:default [An established connection was aborted by the software in your host machine]\n",
      "Error occured while fetching data from https://www.goodreads.com/review/list/155106530?page=3: Cannot connect to host www.goodreads.com:443 ssl:default [An established connection was aborted by the software in your host machine]\n",
      "Error occured while fetching data from https://www.goodreads.com/review/list/155106530?page=1: Cannot connect to host www.goodreads.com:443 ssl:default [An established connection was aborted by the software in your host machine]\n",
      "Error occured while fetching data from https://www.goodreads.com/review/list/150638046?page=19: Cannot connect to host www.goodreads.com:443 ssl:default [An established connection was aborted by the software in your host machine]\n",
      "Error occured while fetching data from https://www.goodreads.com/review/list/150638046?page=21: Cannot connect to host www.goodreads.com:443 ssl:default [An established connection was aborted by the software in your host machine]\n",
      "Error occured while fetching data from https://www.goodreads.com/review/list/155106530?page=2: Cannot connect to host www.goodreads.com:443 ssl:default [An established connection was aborted by the software in your host machine]\n",
      "Error occured while fetching data from https://www.goodreads.com/review/list/150638046?page=6: Cannot connect to host www.goodreads.com:443 ssl:default [An established connection was aborted by the software in your host machine]\n",
      "Error occured while fetching data from https://www.goodreads.com/review/list/155106530?page=5: Cannot connect to host www.goodreads.com:443 ssl:default [An established connection was aborted by the software in your host machine]\n",
      "Error occured while fetching data from https://www.goodreads.com/review/list/151735549?page=20: Cannot connect to host www.goodreads.com:443 ssl:default [An established connection was aborted by the software in your host machine]\n",
      "Error occured while fetching data from https://www.goodreads.com/review/list/150638046?page=15: Cannot connect to host www.goodreads.com:443 ssl:default [An established connection was aborted by the software in your host machine]\n",
      "Error occured while fetching data from https://www.goodreads.com/review/list/151735549?page=6: Cannot connect to host www.goodreads.com:443 ssl:default [An established connection was aborted by the software in your host machine]\n",
      "Error occured while fetching data from https://www.goodreads.com/review/list/40783551?page=3: Cannot connect to host www.goodreads.com:443 ssl:default [An established connection was aborted by the software in your host machine]\n",
      "Error occured while fetching data from https://www.goodreads.com/review/list/151735549?page=7: Cannot connect to host www.goodreads.com:443 ssl:default [An established connection was aborted by the software in your host machine]\n"
     ]
    },
    {
     "name": "stderr",
     "output_type": "stream",
     "text": [
      " 57%|█████▋    | 19164/33593 [44:07<16:31, 14.55it/s]"
     ]
    },
    {
     "name": "stdout",
     "output_type": "stream",
     "text": [
      "Error occured while fetching data from https://www.goodreads.com/review/list/3957090?page=20: Cannot connect to host www.goodreads.com:443 ssl:default [An established connection was aborted by the software in your host machine]\n",
      "Error occured while fetching data from https://www.goodreads.com/review/list/143981117?page=20: Cannot connect to host www.goodreads.com:443 ssl:default [An established connection was aborted by the software in your host machine]\n",
      "Error occured while fetching data from https://www.goodreads.com/review/list/31849663?page=71: Cannot connect to host www.goodreads.com:443 ssl:default [An established connection was aborted by the software in your host machine]\n",
      "Error occured while fetching data from https://www.goodreads.com/review/list/31849663?page=89: Cannot connect to host www.goodreads.com:443 ssl:default [An established connection was aborted by the software in your host machine]\n",
      "Error occured while fetching data from https://www.goodreads.com/review/list/84240714?page=1: Cannot connect to host www.goodreads.com:443 ssl:default [An established connection was aborted by the software in your host machine]\n"
     ]
    },
    {
     "name": "stderr",
     "output_type": "stream",
     "text": [
      " 57%|█████▋    | 19178/33593 [44:11<23:37, 10.17it/s]"
     ]
    },
    {
     "name": "stdout",
     "output_type": "stream",
     "text": [
      "Error occured while fetching data from https://www.goodreads.com/review/list/84240714?page=2: Server disconnected\n",
      "Error occured while fetching data from https://www.goodreads.com/review/list/48629058?page=18: Cannot connect to host www.goodreads.com:443 ssl:default [An established connection was aborted by the software in your host machine]\n",
      "Error occured while fetching data from https://www.goodreads.com/review/list/31849663?page=16: Cannot connect to host www.goodreads.com:443 ssl:default [An established connection was aborted by the software in your host machine]\n"
     ]
    },
    {
     "name": "stderr",
     "output_type": "stream",
     "text": [
      " 57%|█████▋    | 19189/33593 [44:15<34:28,  6.96it/s]"
     ]
    },
    {
     "name": "stdout",
     "output_type": "stream",
     "text": [
      "Error occured while fetching data from https://www.goodreads.com/review/list/16907451?page=138: Cannot connect to host www.goodreads.com:443 ssl:default [None]\n",
      "Error occured while fetching data from https://www.goodreads.com/review/list/16907451?page=31: Cannot connect to host www.goodreads.com:443 ssl:default [None]\n"
     ]
    },
    {
     "name": "stderr",
     "output_type": "stream",
     "text": [
      " 57%|█████▋    | 19250/33593 [44:23<32:08,  7.44it/s]"
     ]
    },
    {
     "name": "stdout",
     "output_type": "stream",
     "text": [
      "Error occured while fetching data from https://www.goodreads.com/review/list/91992483?page=2: Cannot connect to host www.goodreads.com:443 ssl:default [An established connection was aborted by the software in your host machine]\n",
      "Error occured while fetching data from https://www.goodreads.com/review/list/91992483?page=1: Cannot connect to host www.goodreads.com:443 ssl:default [An established connection was aborted by the software in your host machine]\n",
      "Error occured while fetching data from https://www.goodreads.com/review/list/134539248?page=5: Cannot connect to host www.goodreads.com:443 ssl:default [An established connection was aborted by the software in your host machine]\n",
      "Error occured while fetching data from https://www.goodreads.com/review/list/134539248?page=8: Cannot connect to host www.goodreads.com:443 ssl:default [An established connection was aborted by the software in your host machine]\n",
      "Error occured while fetching data from https://www.goodreads.com/review/list/134539248?page=1: Cannot connect to host www.goodreads.com:443 ssl:default [An established connection was aborted by the software in your host machine]\n",
      "Error occured while fetching data from https://www.goodreads.com/review/list/134539248?page=2: Cannot connect to host www.goodreads.com:443 ssl:default [An established connection was aborted by the software in your host machine]\n",
      "Error occured while fetching data from https://www.goodreads.com/review/list/134539248?page=6: Cannot connect to host www.goodreads.com:443 ssl:default [An established connection was aborted by the software in your host machine]\n",
      "Error occured while fetching data from https://www.goodreads.com/review/list/145516426?page=3: Cannot connect to host www.goodreads.com:443 ssl:default [An established connection was aborted by the software in your host machine]\n",
      "Error occured while fetching data from https://www.goodreads.com/review/list/145516426?page=1: Cannot connect to host www.goodreads.com:443 ssl:default [An established connection was aborted by the software in your host machine]\n",
      "Error occured while fetching data from https://www.goodreads.com/review/list/145516426?page=9: Cannot connect to host www.goodreads.com:443 ssl:default [An established connection was aborted by the software in your host machine]\n",
      "Error occured while fetching data from https://www.goodreads.com/review/list/145516426?page=6: Cannot connect to host www.goodreads.com:443 ssl:default [An established connection was aborted by the software in your host machine]\n",
      "Error occured while fetching data from https://www.goodreads.com/review/list/146124533?page=8: Cannot connect to host www.goodreads.com:443 ssl:default [An established connection was aborted by the software in your host machine]\n",
      "Error occured while fetching data from https://www.goodreads.com/review/list/146124533?page=5: Cannot connect to host www.goodreads.com:443 ssl:default [An established connection was aborted by the software in your host machine]\n",
      "Error occured while fetching data from https://www.goodreads.com/review/list/146124533?page=7: Cannot connect to host www.goodreads.com:443 ssl:default [An established connection was aborted by the software in your host machine]\n",
      "Error occured while fetching data from https://www.goodreads.com/review/list/146124533?page=2: Cannot connect to host www.goodreads.com:443 ssl:default [An established connection was aborted by the software in your host machine]\n",
      "Error occured while fetching data from https://www.goodreads.com/review/list/146124533?page=4: Cannot connect to host www.goodreads.com:443 ssl:default [An established connection was aborted by the software in your host machine]\n",
      "Error occured while fetching data from https://www.goodreads.com/review/list/100767121?page=5: Cannot connect to host www.goodreads.com:443 ssl:default [An established connection was aborted by the software in your host machine]\n",
      "Error occured while fetching data from https://www.goodreads.com/review/list/100767121?page=4: Cannot connect to host www.goodreads.com:443 ssl:default [An established connection was aborted by the software in your host machine]\n",
      "Error occured while fetching data from https://www.goodreads.com/review/list/100767121?page=2: Cannot connect to host www.goodreads.com:443 ssl:default [An established connection was aborted by the software in your host machine]\n",
      "Error occured while fetching data from https://www.goodreads.com/review/list/100767121?page=3: Cannot connect to host www.goodreads.com:443 ssl:default [An established connection was aborted by the software in your host machine]\n",
      "Error occured while fetching data from https://www.goodreads.com/review/list/2999941?page=25: Cannot connect to host www.goodreads.com:443 ssl:default [An established connection was aborted by the software in your host machine]\n",
      "Error occured while fetching data from https://www.goodreads.com/review/list/100767121?page=1: Cannot connect to host www.goodreads.com:443 ssl:default [An established connection was aborted by the software in your host machine]\n",
      "Error occured while fetching data from https://www.goodreads.com/review/list/145516426?page=8: Cannot connect to host www.goodreads.com:443 ssl:default [An established connection was aborted by the software in your host machine]\n"
     ]
    },
    {
     "name": "stderr",
     "output_type": "stream",
     "text": [
      " 57%|█████▋    | 19268/33593 [44:25<33:21,  7.16it/s]"
     ]
    },
    {
     "name": "stdout",
     "output_type": "stream",
     "text": [
      "Error occured while fetching data from https://www.goodreads.com/review/list/109860431?page=1: Cannot connect to host www.goodreads.com:443 ssl:default [An established connection was aborted by the software in your host machine]\n",
      "Error occured while fetching data from https://www.goodreads.com/review/list/152005166?page=3: Cannot connect to host www.goodreads.com:443 ssl:default [An established connection was aborted by the software in your host machine]\n",
      "Error occured while fetching data from https://www.goodreads.com/review/list/75683723?page=3: Cannot connect to host www.goodreads.com:443 ssl:default [An established connection was aborted by the software in your host machine]\n",
      "Error occured while fetching data from https://www.goodreads.com/review/list/109860431?page=5: Cannot connect to host www.goodreads.com:443 ssl:default [An established connection was aborted by the software in your host machine]\n",
      "Error occured while fetching data from https://www.goodreads.com/review/list/75683723?page=1: Cannot connect to host www.goodreads.com:443 ssl:default [An established connection was aborted by the software in your host machine]\n",
      "Error occured while fetching data from https://www.goodreads.com/review/list/109860431?page=3: Cannot connect to host www.goodreads.com:443 ssl:default [An established connection was aborted by the software in your host machine]\n",
      "Error occured while fetching data from https://www.goodreads.com/review/list/152005166?page=4: Cannot connect to host www.goodreads.com:443 ssl:default [An established connection was aborted by the software in your host machine]\n",
      "Error occured while fetching data from https://www.goodreads.com/review/list/152005166?page=1: Cannot connect to host www.goodreads.com:443 ssl:default [An established connection was aborted by the software in your host machine]\n",
      "Error occured while fetching data from https://www.goodreads.com/review/list/55915008?page=6: Cannot connect to host www.goodreads.com:443 ssl:default [An established connection was aborted by the software in your host machine]\n",
      "Error occured while fetching data from https://www.goodreads.com/review/list/109860431?page=4: Cannot connect to host www.goodreads.com:443 ssl:default [An established connection was aborted by the software in your host machine]\n",
      "Error occured while fetching data from https://www.goodreads.com/review/list/109860431?page=6: Cannot connect to host www.goodreads.com:443 ssl:default [An established connection was aborted by the software in your host machine]\n",
      "Error occured while fetching data from https://www.goodreads.com/review/list/152005166?page=6: Cannot connect to host www.goodreads.com:443 ssl:default [An established connection was aborted by the software in your host machine]\n",
      "Error occured while fetching data from https://www.goodreads.com/review/list/152005166?page=2: Cannot connect to host www.goodreads.com:443 ssl:default [An established connection was aborted by the software in your host machine]\n"
     ]
    },
    {
     "name": "stderr",
     "output_type": "stream",
     "text": [
      " 57%|█████▋    | 19303/33593 [44:29<30:52,  7.72it/s]"
     ]
    },
    {
     "name": "stdout",
     "output_type": "stream",
     "text": [
      "Error occured while fetching data from https://www.goodreads.com/review/list/142184385?page=17: Cannot connect to host www.goodreads.com:443 ssl:default [An established connection was aborted by the software in your host machine]\n",
      "Error occured while fetching data from https://www.goodreads.com/review/list/142184385?page=6: Cannot connect to host www.goodreads.com:443 ssl:default [An established connection was aborted by the software in your host machine]\n",
      "Error occured while fetching data from https://www.goodreads.com/review/list/142184385?page=30: Cannot connect to host www.goodreads.com:443 ssl:default [An established connection was aborted by the software in your host machine]\n",
      "Error occured while fetching data from https://www.goodreads.com/review/list/142184385?page=31: Cannot connect to host www.goodreads.com:443 ssl:default [An established connection was aborted by the software in your host machine]\n",
      "Error occured while fetching data from https://www.goodreads.com/review/list/142184385?page=7: Cannot connect to host www.goodreads.com:443 ssl:default [An established connection was aborted by the software in your host machine]\n"
     ]
    },
    {
     "name": "stderr",
     "output_type": "stream",
     "text": [
      " 58%|█████▊    | 19408/33593 [44:40<26:42,  8.85it/s]"
     ]
    },
    {
     "name": "stdout",
     "output_type": "stream",
     "text": [
      "Error occured while fetching data from https://www.goodreads.com/review/list/114520715?page=38: Server disconnected\n",
      "Error occured while fetching data from https://www.goodreads.com/review/list/128475263?page=20: Server disconnected\n",
      "Error occured while fetching data from https://www.goodreads.com/review/list/19395982?page=71: Cannot connect to host www.goodreads.com:443 ssl:default [An established connection was aborted by the software in your host machine]\n",
      "Error occured while fetching data from https://www.goodreads.com/review/list/114520715?page=43: Cannot connect to host www.goodreads.com:443 ssl:default [An established connection was aborted by the software in your host machine]\n",
      "Error occured while fetching data from https://www.goodreads.com/review/list/114520715?page=9: Cannot connect to host www.goodreads.com:443 ssl:default [An established connection was aborted by the software in your host machine]\n",
      "Error occured while fetching data from https://www.goodreads.com/review/list/19395982?page=28: Cannot connect to host www.goodreads.com:443 ssl:default [An established connection was aborted by the software in your host machine]\n"
     ]
    },
    {
     "name": "stderr",
     "output_type": "stream",
     "text": [
      " 58%|█████▊    | 19438/33593 [44:44<29:19,  8.05it/s]"
     ]
    },
    {
     "name": "stdout",
     "output_type": "stream",
     "text": [
      "Error occured while fetching data from https://www.goodreads.com/review/list/142757019?page=3: Cannot connect to host www.goodreads.com:443 ssl:default [An established connection was aborted by the software in your host machine]\n",
      "Error occured while fetching data from https://www.goodreads.com/review/list/142757019?page=2: Cannot connect to host www.goodreads.com:443 ssl:default [An established connection was aborted by the software in your host machine]\n",
      "Error occured while fetching data from https://www.goodreads.com/review/list/109401138?page=5: Cannot connect to host www.goodreads.com:443 ssl:default [An established connection was aborted by the software in your host machine]\n",
      "Error occured while fetching data from https://www.goodreads.com/review/list/138144964?page=1: Cannot connect to host www.goodreads.com:443 ssl:default [An established connection was aborted by the software in your host machine]\n",
      "Error occured while fetching data from https://www.goodreads.com/review/list/138144964?page=7: Cannot connect to host www.goodreads.com:443 ssl:default [An established connection was aborted by the software in your host machine]\n",
      "Error occured while fetching data from https://www.goodreads.com/review/list/39286461?page=3: Cannot connect to host www.goodreads.com:443 ssl:default [An established connection was aborted by the software in your host machine]\n",
      "Error occured while fetching data from https://www.goodreads.com/review/list/109401138?page=3: Cannot connect to host www.goodreads.com:443 ssl:default [An established connection was aborted by the software in your host machine]\n",
      "Error occured while fetching data from https://www.goodreads.com/review/list/151952964?page=15: Cannot connect to host www.goodreads.com:443 ssl:default [An established connection was aborted by the software in your host machine]\n",
      "Error occured while fetching data from https://www.goodreads.com/review/list/109401138?page=8: Cannot connect to host www.goodreads.com:443 ssl:default [An established connection was aborted by the software in your host machine]\n",
      "Error occured while fetching data from https://www.goodreads.com/review/list/39286461?page=4: Cannot connect to host www.goodreads.com:443 ssl:default [An established connection was aborted by the software in your host machine]\n",
      "Error occured while fetching data from https://www.goodreads.com/review/list/138144964?page=16: Cannot connect to host www.goodreads.com:443 ssl:default [An established connection was aborted by the software in your host machine]\n",
      "Error occured while fetching data from https://www.goodreads.com/review/list/39286461?page=2: Cannot connect to host www.goodreads.com:443 ssl:default [An established connection was aborted by the software in your host machine]\n",
      "Error occured while fetching data from https://www.goodreads.com/review/list/111460713?page=3: Cannot connect to host www.goodreads.com:443 ssl:default [An established connection was aborted by the software in your host machine]\n",
      "Error occured while fetching data from https://www.goodreads.com/review/list/151952964?page=17: Cannot connect to host www.goodreads.com:443 ssl:default [An established connection was aborted by the software in your host machine]\n",
      "Error occured while fetching data from https://www.goodreads.com/review/list/39286461?page=1: Cannot connect to host www.goodreads.com:443 ssl:default [An established connection was aborted by the software in your host machine]\n",
      "Error occured while fetching data from https://www.goodreads.com/review/list/51921618?page=2: Cannot connect to host www.goodreads.com:443 ssl:default [An established connection was aborted by the software in your host machine]\n",
      "Error occured while fetching data from https://www.goodreads.com/review/list/51921618?page=1: Cannot connect to host www.goodreads.com:443 ssl:default [An established connection was aborted by the software in your host machine]\n",
      "Error occured while fetching data from https://www.goodreads.com/review/list/142757019?page=4: Cannot connect to host www.goodreads.com:443 ssl:default [An established connection was aborted by the software in your host machine]\n",
      "Error occured while fetching data from https://www.goodreads.com/review/list/138144964?page=2: Cannot connect to host www.goodreads.com:443 ssl:default [An established connection was aborted by the software in your host machine]\n",
      "Error occured while fetching data from https://www.goodreads.com/review/list/142757019?page=1: Cannot connect to host www.goodreads.com:443 ssl:default [An established connection was aborted by the software in your host machine]\n",
      "Error occured while fetching data from https://www.goodreads.com/review/list/138144964?page=11: Cannot connect to host www.goodreads.com:443 ssl:default [An established connection was aborted by the software in your host machine]\n",
      "Error occured while fetching data from https://www.goodreads.com/review/list/109401138?page=1: Cannot connect to host www.goodreads.com:443 ssl:default [An established connection was aborted by the software in your host machine]\n",
      "Error occured while fetching data from https://www.goodreads.com/review/list/109401138?page=6: Cannot connect to host www.goodreads.com:443 ssl:default [An established connection was aborted by the software in your host machine]\n"
     ]
    },
    {
     "name": "stderr",
     "output_type": "stream",
     "text": [
      " 58%|█████▊    | 19491/33593 [44:49<23:28, 10.01it/s]"
     ]
    },
    {
     "name": "stdout",
     "output_type": "stream",
     "text": [
      "Error occured while fetching data from https://www.goodreads.com/review/list/3807107?page=1: Cannot connect to host www.goodreads.com:443 ssl:default [An established connection was aborted by the software in your host machine]\n",
      "Error occured while fetching data from https://www.goodreads.com/review/list/33733273?page=8: Cannot connect to host www.goodreads.com:443 ssl:default [An established connection was aborted by the software in your host machine]\n",
      "Error occured while fetching data from https://www.goodreads.com/review/list/3807107?page=9: Cannot connect to host www.goodreads.com:443 ssl:default [An established connection was aborted by the software in your host machine]\n",
      "Error occured while fetching data from https://www.goodreads.com/review/list/3807107?page=18: Cannot connect to host www.goodreads.com:443 ssl:default [An established connection was aborted by the software in your host machine]\n",
      "Error occured while fetching data from https://www.goodreads.com/review/list/33594321?page=23: Cannot connect to host www.goodreads.com:443 ssl:default [An established connection was aborted by the software in your host machine]\n",
      "Error occured while fetching data from https://www.goodreads.com/review/list/33594321?page=38: Cannot connect to host www.goodreads.com:443 ssl:default [An established connection was aborted by the software in your host machine]\n"
     ]
    },
    {
     "name": "stderr",
     "output_type": "stream",
     "text": [
      " 82%|████████▏ | 27539/33593 [1:04:45<14:56,  6.75it/s]"
     ]
    },
    {
     "name": "stdout",
     "output_type": "stream",
     "text": [
      "Error occured while fetching data from https://www.goodreads.com/review/list/73768036?page=57: Cannot connect to host www.goodreads.com:443 ssl:default [An established connection was aborted by the software in your host machine]\n",
      "Error occured while fetching data from https://www.goodreads.com/review/list/152007815?page=6: Cannot connect to host www.goodreads.com:443 ssl:default [An established connection was aborted by the software in your host machine]\n",
      "Error occured while fetching data from https://www.goodreads.com/review/list/28575736?page=1: Cannot connect to host www.goodreads.com:443 ssl:default [An established connection was aborted by the software in your host machine]\n"
     ]
    },
    {
     "name": "stderr",
     "output_type": "stream",
     "text": [
      " 83%|████████▎ | 27719/33593 [1:05:10<13:56,  7.02it/s]"
     ]
    },
    {
     "name": "stdout",
     "output_type": "stream",
     "text": [
      "Error occured while fetching data from https://www.goodreads.com/review/list/141242259?page=1: Cannot connect to host www.goodreads.com:443 ssl:default [An established connection was aborted by the software in your host machine]\n",
      "Error occured while fetching data from https://www.goodreads.com/review/list/160324336?page=2: Cannot connect to host www.goodreads.com:443 ssl:default [An established connection was aborted by the software in your host machine]\n",
      "Error occured while fetching data from https://www.goodreads.com/review/list/127890665?page=6: Cannot connect to host www.goodreads.com:443 ssl:default [An established connection was aborted by the software in your host machine]\n"
     ]
    },
    {
     "name": "stderr",
     "output_type": "stream",
     "text": [
      " 83%|████████▎ | 27755/33593 [1:05:15<14:05,  6.90it/s]"
     ]
    },
    {
     "name": "stdout",
     "output_type": "stream",
     "text": [
      "Error occured while fetching data from https://www.goodreads.com/review/list/31666207?page=11: Cannot connect to host www.goodreads.com:443 ssl:default [An established connection was aborted by the software in your host machine]\n",
      "Error occured while fetching data from https://www.goodreads.com/review/list/160324336?page=4: Cannot connect to host www.goodreads.com:443 ssl:default [An established connection was aborted by the software in your host machine]\n",
      "Error occured while fetching data from https://www.goodreads.com/review/list/31666207?page=21: Cannot connect to host www.goodreads.com:443 ssl:default [An established connection was aborted by the software in your host machine]\n",
      "Error occured while fetching data from https://www.goodreads.com/review/list/51106307?page=29: Cannot connect to host www.goodreads.com:443 ssl:default [An established connection was aborted by the software in your host machine]\n",
      "Error occured while fetching data from https://www.goodreads.com/review/list/31666207?page=3: Cannot connect to host www.goodreads.com:443 ssl:default [An established connection was aborted by the software in your host machine]\n",
      "Error occured while fetching data from https://www.goodreads.com/review/list/160324336?page=3: Cannot connect to host www.goodreads.com:443 ssl:default [An established connection was aborted by the software in your host machine]\n",
      "Error occured while fetching data from https://www.goodreads.com/review/list/31666207?page=16: Cannot connect to host www.goodreads.com:443 ssl:default [An established connection was aborted by the software in your host machine]\n"
     ]
    },
    {
     "name": "stderr",
     "output_type": "stream",
     "text": [
      " 83%|████████▎ | 27842/33593 [1:05:26<13:08,  7.30it/s]"
     ]
    },
    {
     "name": "stdout",
     "output_type": "stream",
     "text": [
      "Error occured while fetching data from https://www.goodreads.com/review/list/28575750?page=57: Cannot connect to host www.goodreads.com:443 ssl:default [An established connection was aborted by the software in your host machine]\n"
     ]
    },
    {
     "name": "stderr",
     "output_type": "stream",
     "text": [
      " 83%|████████▎ | 27897/33593 [1:05:33<12:42,  7.47it/s]"
     ]
    },
    {
     "name": "stdout",
     "output_type": "stream",
     "text": [
      "Error occured while fetching data from https://www.goodreads.com/review/list/13287052?page=29: Cannot connect to host www.goodreads.com:443 ssl:default [An established connection was aborted by the software in your host machine]\n",
      "Error occured while fetching data from https://www.goodreads.com/review/list/13287052?page=62: Cannot connect to host www.goodreads.com:443 ssl:default [An established connection was aborted by the software in your host machine]\n",
      "Error occured while fetching data from https://www.goodreads.com/review/list/13287052?page=46: Cannot connect to host www.goodreads.com:443 ssl:default [An established connection was aborted by the software in your host machine]\n"
     ]
    },
    {
     "name": "stderr",
     "output_type": "stream",
     "text": [
      " 83%|████████▎ | 27980/33593 [1:05:43<11:49,  7.91it/s]"
     ]
    },
    {
     "name": "stdout",
     "output_type": "stream",
     "text": [
      "Error occured while fetching data from https://www.goodreads.com/review/list/2618194?page=570: Cannot connect to host www.goodreads.com:443 ssl:default [An established connection was aborted by the software in your host machine]\n",
      "Error occured while fetching data from https://www.goodreads.com/review/list/138188097?page=12: Cannot connect to host www.goodreads.com:443 ssl:default [An established connection was aborted by the software in your host machine]\n",
      "Error occured while fetching data from https://www.goodreads.com/review/list/68433094?page=42: Cannot connect to host www.goodreads.com:443 ssl:default [An established connection was aborted by the software in your host machine]\n",
      "Error occured while fetching data from https://www.goodreads.com/review/list/2618194?page=373: Cannot connect to host www.goodreads.com:443 ssl:default [An established connection was aborted by the software in your host machine]\n",
      "Error occured while fetching data from https://www.goodreads.com/review/list/68433094?page=3: Cannot connect to host www.goodreads.com:443 ssl:default [An established connection was aborted by the software in your host machine]\n",
      "Error occured while fetching data from https://www.goodreads.com/review/list/68433094?page=53: Cannot connect to host www.goodreads.com:443 ssl:default [An established connection was aborted by the software in your host machine]\n",
      "Error occured while fetching data from https://www.goodreads.com/review/list/2618194?page=230: Cannot connect to host www.goodreads.com:443 ssl:default [An established connection was aborted by the software in your host machine]\n",
      "Error occured while fetching data from https://www.goodreads.com/review/list/2618194?page=65: Cannot connect to host www.goodreads.com:443 ssl:default [An established connection was aborted by the software in your host machine]\n",
      "Error occured while fetching data from https://www.goodreads.com/review/list/2618194?page=534: Cannot connect to host www.goodreads.com:443 ssl:default [An established connection was aborted by the software in your host machine]\n"
     ]
    },
    {
     "name": "stderr",
     "output_type": "stream",
     "text": [
      " 83%|████████▎ | 28045/33593 [1:05:52<11:43,  7.89it/s]"
     ]
    },
    {
     "name": "stdout",
     "output_type": "stream",
     "text": [
      "Error occured while fetching data from https://www.goodreads.com/review/list/118613972?page=7: Cannot connect to host www.goodreads.com:443 ssl:default [An established connection was aborted by the software in your host machine]\n",
      "Error occured while fetching data from https://www.goodreads.com/review/list/100813945?page=85: Cannot connect to host www.goodreads.com:443 ssl:default [An established connection was aborted by the software in your host machine]\n",
      "Error occured while fetching data from https://www.goodreads.com/review/list/118613972?page=1: Cannot connect to host www.goodreads.com:443 ssl:default [An established connection was aborted by the software in your host machine]\n",
      "Error occured while fetching data from https://www.goodreads.com/review/list/100813945?page=98: Cannot connect to host www.goodreads.com:443 ssl:default [An established connection was aborted by the software in your host machine]\n",
      "Error occured while fetching data from https://www.goodreads.com/review/list/138188097?page=16: Cannot connect to host www.goodreads.com:443 ssl:default [An established connection was aborted by the software in your host machine]\n",
      "Error occured while fetching data from https://www.goodreads.com/review/list/118613972?page=12: Cannot connect to host www.goodreads.com:443 ssl:default [An established connection was aborted by the software in your host machine]\n"
     ]
    },
    {
     "name": "stderr",
     "output_type": "stream",
     "text": [
      " 84%|████████▎ | 28114/33593 [1:06:02<12:24,  7.36it/s]"
     ]
    },
    {
     "name": "stdout",
     "output_type": "stream",
     "text": [
      "Error occured while fetching data from https://www.goodreads.com/review/list/4125660?page=136: Cannot connect to host www.goodreads.com:443 ssl:default [An established connection was aborted by the software in your host machine]\n",
      "Error occured while fetching data from https://www.goodreads.com/review/list/4125660?page=74: Cannot connect to host www.goodreads.com:443 ssl:default [An established connection was aborted by the software in your host machine]\n",
      "Error occured while fetching data from https://www.goodreads.com/review/list/4125660?page=114: Cannot connect to host www.goodreads.com:443 ssl:default [An established connection was aborted by the software in your host machine]\n",
      "Error occured while fetching data from https://www.goodreads.com/review/list/43572334?page=1: Cannot connect to host www.goodreads.com:443 ssl:default [An established connection was aborted by the software in your host machine]\n",
      "Error occured while fetching data from https://www.goodreads.com/review/list/161139197?page=4: Cannot connect to host www.goodreads.com:443 ssl:default [An established connection was aborted by the software in your host machine]\n",
      "Error occured while fetching data from https://www.goodreads.com/review/list/43572334?page=2: Cannot connect to host www.goodreads.com:443 ssl:default [An established connection was aborted by the software in your host machine]\n"
     ]
    },
    {
     "name": "stderr",
     "output_type": "stream",
     "text": [
      " 84%|████████▍ | 28165/33593 [1:06:08<11:49,  7.65it/s]"
     ]
    },
    {
     "name": "stdout",
     "output_type": "stream",
     "text": [
      "Error occured while fetching data from https://www.goodreads.com/review/list/56123140?page=25: Cannot connect to host www.goodreads.com:443 ssl:default [An established connection was aborted by the software in your host machine]\n",
      "Error occured while fetching data from https://www.goodreads.com/review/list/56123140?page=13: Cannot connect to host www.goodreads.com:443 ssl:default [An established connection was aborted by the software in your host machine]\n",
      "Error occured while fetching data from https://www.goodreads.com/review/list/62687400?page=7: Cannot connect to host www.goodreads.com:443 ssl:default [An established connection was aborted by the software in your host machine]\n",
      "Error occured while fetching data from https://www.goodreads.com/review/list/72020884?page=221: Cannot connect to host www.goodreads.com:443 ssl:default [An established connection was aborted by the software in your host machine]\n",
      "Error occured while fetching data from https://www.goodreads.com/review/list/56123140?page=15: Cannot connect to host www.goodreads.com:443 ssl:default [An established connection was aborted by the software in your host machine]\n",
      "Error occured while fetching data from https://www.goodreads.com/review/list/72020884?page=13: Cannot connect to host www.goodreads.com:443 ssl:default [An established connection was aborted by the software in your host machine]\n",
      "Error occured while fetching data from https://www.goodreads.com/review/list/72020884?page=92: Cannot connect to host www.goodreads.com:443 ssl:default [An established connection was aborted by the software in your host machine]\n",
      "Error occured while fetching data from https://www.goodreads.com/review/list/62687400?page=2: Cannot connect to host www.goodreads.com:443 ssl:default [An established connection was aborted by the software in your host machine]\n"
     ]
    },
    {
     "name": "stderr",
     "output_type": "stream",
     "text": [
      " 84%|████████▍ | 28235/33593 [1:06:17<11:14,  7.94it/s]"
     ]
    },
    {
     "name": "stdout",
     "output_type": "stream",
     "text": [
      "Error occured while fetching data from https://www.goodreads.com/review/list/5885760?page=61: Cannot connect to host www.goodreads.com:443 ssl:default [An established connection was aborted by the software in your host machine]\n",
      "Error occured while fetching data from https://www.goodreads.com/review/list/53982134?page=16: Cannot connect to host www.goodreads.com:443 ssl:default [An established connection was aborted by the software in your host machine]\n",
      "Error occured while fetching data from https://www.goodreads.com/review/list/33513471?page=58: Cannot connect to host www.goodreads.com:443 ssl:default [An established connection was aborted by the software in your host machine]\n"
     ]
    },
    {
     "name": "stderr",
     "output_type": "stream",
     "text": [
      " 84%|████████▍ | 28267/33593 [1:06:21<10:50,  8.19it/s]"
     ]
    },
    {
     "name": "stdout",
     "output_type": "stream",
     "text": [
      "Error occured while fetching data from https://www.goodreads.com/review/list/71259209?page=45: Cannot connect to host www.goodreads.com:443 ssl:default [An established connection was aborted by the software in your host machine]\n",
      "Error occured while fetching data from https://www.goodreads.com/review/list/5793303?page=88: Cannot connect to host www.goodreads.com:443 ssl:default [An established connection was aborted by the software in your host machine]\n",
      "Error occured while fetching data from https://www.goodreads.com/review/list/71259209?page=42: Cannot connect to host www.goodreads.com:443 ssl:default [An established connection was aborted by the software in your host machine]\n",
      "Error occured while fetching data from https://www.goodreads.com/review/list/53982134?page=31: Cannot connect to host www.goodreads.com:443 ssl:default [An established connection was aborted by the software in your host machine]\n",
      "Error occured while fetching data from https://www.goodreads.com/review/list/407712?page=47: Cannot connect to host www.goodreads.com:443 ssl:default [An established connection was aborted by the software in your host machine]\n",
      "Error occured while fetching data from https://www.goodreads.com/review/list/29416538?page=22: Cannot connect to host www.goodreads.com:443 ssl:default [An established connection was aborted by the software in your host machine]\n",
      "Error occured while fetching data from https://www.goodreads.com/review/list/71259209?page=177: Cannot connect to host www.goodreads.com:443 ssl:default [An established connection was aborted by the software in your host machine]\n",
      "Error occured while fetching data from https://www.goodreads.com/review/list/29416538?page=46: Cannot connect to host www.goodreads.com:443 ssl:default [An established connection was aborted by the software in your host machine]\n",
      "Error occured while fetching data from https://www.goodreads.com/review/list/29416538?page=36: Cannot connect to host www.goodreads.com:443 ssl:default [An established connection was aborted by the software in your host machine]\n",
      "Error occured while fetching data from https://www.goodreads.com/review/list/29416538?page=15: Cannot connect to host www.goodreads.com:443 ssl:default [An established connection was aborted by the software in your host machine]\n",
      "Error occured while fetching data from https://www.goodreads.com/review/list/29416538?page=10: Cannot connect to host www.goodreads.com:443 ssl:default [An established connection was aborted by the software in your host machine]\n",
      "Error occured while fetching data from https://www.goodreads.com/review/list/53982134?page=61: Cannot connect to host www.goodreads.com:443 ssl:default [An established connection was aborted by the software in your host machine]\n",
      "Error occured while fetching data from https://www.goodreads.com/review/list/5793303?page=109: Cannot connect to host www.goodreads.com:443 ssl:default [An established connection was aborted by the software in your host machine]\n",
      "Error occured while fetching data from https://www.goodreads.com/review/list/5793303?page=21: Cannot connect to host www.goodreads.com:443 ssl:default [An established connection was aborted by the software in your host machine]\n"
     ]
    },
    {
     "name": "stderr",
     "output_type": "stream",
     "text": [
      " 84%|████████▍ | 28304/33593 [1:06:25<10:17,  8.57it/s]"
     ]
    },
    {
     "name": "stdout",
     "output_type": "stream",
     "text": [
      "Error occured while fetching data from https://www.goodreads.com/review/list/109127120?page=1: Cannot connect to host www.goodreads.com:443 ssl:default [An established connection was aborted by the software in your host machine]\n"
     ]
    },
    {
     "name": "stderr",
     "output_type": "stream",
     "text": [
      " 84%|████████▍ | 28371/33593 [1:06:33<10:35,  8.21it/s]"
     ]
    },
    {
     "name": "stdout",
     "output_type": "stream",
     "text": [
      "Error occured while fetching data from https://www.goodreads.com/review/list/151064881?page=11: Cannot connect to host www.goodreads.com:443 ssl:default [An established connection was aborted by the software in your host machine]\n",
      "Error occured while fetching data from https://www.goodreads.com/review/list/66849114?page=6: Cannot connect to host www.goodreads.com:443 ssl:default [An established connection was aborted by the software in your host machine]\n",
      "Error occured while fetching data from https://www.goodreads.com/review/list/66849114?page=15: Cannot connect to host www.goodreads.com:443 ssl:default [An established connection was aborted by the software in your host machine]\n",
      "Error occured while fetching data from https://www.goodreads.com/review/list/66849114?page=12: Cannot connect to host www.goodreads.com:443 ssl:default [An established connection was aborted by the software in your host machine]\n",
      "Error occured while fetching data from https://www.goodreads.com/review/list/66849114?page=16: Cannot connect to host www.goodreads.com:443 ssl:default [An established connection was aborted by the software in your host machine]\n",
      "Error occured while fetching data from https://www.goodreads.com/review/list/66849114?page=2: Cannot connect to host www.goodreads.com:443 ssl:default [An established connection was aborted by the software in your host machine]\n",
      "Error occured while fetching data from https://www.goodreads.com/review/list/151064881?page=19: Cannot connect to host www.goodreads.com:443 ssl:default [An established connection was aborted by the software in your host machine]\n",
      "Error occured while fetching data from https://www.goodreads.com/review/list/151064881?page=23: Cannot connect to host www.goodreads.com:443 ssl:default [An established connection was aborted by the software in your host machine]\n",
      "Error occured while fetching data from https://www.goodreads.com/review/list/74721564?page=5: Cannot connect to host www.goodreads.com:443 ssl:default [An established connection was aborted by the software in your host machine]\n"
     ]
    },
    {
     "name": "stderr",
     "output_type": "stream",
     "text": [
      " 85%|████████▍ | 28399/33593 [1:06:36<10:14,  8.45it/s]"
     ]
    },
    {
     "name": "stdout",
     "output_type": "stream",
     "text": [
      "Error occured while fetching data from https://www.goodreads.com/review/list/5884312?page=28: Cannot connect to host www.goodreads.com:443 ssl:default [An established connection was aborted by the software in your host machine]\n",
      "Error occured while fetching data from https://www.goodreads.com/review/list/32642996?page=7: Cannot connect to host www.goodreads.com:443 ssl:default [An established connection was aborted by the software in your host machine]\n",
      "Error occured while fetching data from https://www.goodreads.com/review/list/32642996?page=4: Cannot connect to host www.goodreads.com:443 ssl:default [An established connection was aborted by the software in your host machine]\n",
      "Error occured while fetching data from https://www.goodreads.com/review/list/113897280?page=3: Cannot connect to host www.goodreads.com:443 ssl:default [An established connection was aborted by the software in your host machine]\n",
      "Error occured while fetching data from https://www.goodreads.com/review/list/113897280?page=5: Cannot connect to host www.goodreads.com:443 ssl:default [An established connection was aborted by the software in your host machine]\n",
      "Error occured while fetching data from https://www.goodreads.com/review/list/113897280?page=1: Cannot connect to host www.goodreads.com:443 ssl:default [An established connection was aborted by the software in your host machine]\n",
      "Error occured while fetching data from https://www.goodreads.com/review/list/32642996?page=3: Cannot connect to host www.goodreads.com:443 ssl:default [An established connection was aborted by the software in your host machine]\n",
      "Error occured while fetching data from https://www.goodreads.com/review/list/32642996?page=6: Cannot connect to host www.goodreads.com:443 ssl:default [An established connection was aborted by the software in your host machine]\n",
      "Error occured while fetching data from https://www.goodreads.com/review/list/32642996?page=2: Cannot connect to host www.goodreads.com:443 ssl:default [An established connection was aborted by the software in your host machine]\n"
     ]
    },
    {
     "name": "stderr",
     "output_type": "stream",
     "text": [
      " 85%|████████▍ | 28430/33593 [1:06:41<10:53,  7.90it/s]"
     ]
    },
    {
     "name": "stdout",
     "output_type": "stream",
     "text": [
      "Error occured while fetching data from https://www.goodreads.com/review/list/27452843?page=8: Cannot connect to host www.goodreads.com:443 ssl:default [An established connection was aborted by the software in your host machine]\n",
      "Error occured while fetching data from https://www.goodreads.com/review/list/27452843?page=46: Cannot connect to host www.goodreads.com:443 ssl:default [An established connection was aborted by the software in your host machine]\n",
      "Error occured while fetching data from https://www.goodreads.com/review/list/27452843?page=58: Cannot connect to host www.goodreads.com:443 ssl:default [An established connection was aborted by the software in your host machine]\n",
      "Error occured while fetching data from https://www.goodreads.com/review/list/27452843?page=44: Cannot connect to host www.goodreads.com:443 ssl:default [An established connection was aborted by the software in your host machine]\n"
     ]
    },
    {
     "name": "stderr",
     "output_type": "stream",
     "text": [
      " 85%|████████▍ | 28503/33593 [1:06:49<09:58,  8.50it/s]"
     ]
    },
    {
     "name": "stdout",
     "output_type": "stream",
     "text": [
      "Error occured while fetching data from https://www.goodreads.com/review/list/133361726?page=4: Cannot connect to host www.goodreads.com:443 ssl:default [An established connection was aborted by the software in your host machine]\n",
      "Error occured while fetching data from https://www.goodreads.com/review/list/133361726?page=2: Cannot connect to host www.goodreads.com:443 ssl:default [An established connection was aborted by the software in your host machine]\n",
      "Error occured while fetching data from https://www.goodreads.com/review/list/22083101?page=101: Cannot connect to host www.goodreads.com:443 ssl:default [An established connection was aborted by the software in your host machine]\n"
     ]
    },
    {
     "name": "stderr",
     "output_type": "stream",
     "text": [
      " 85%|████████▍ | 28527/33593 [1:06:51<09:22,  9.01it/s]"
     ]
    },
    {
     "name": "stdout",
     "output_type": "stream",
     "text": [
      "Error occured while fetching data from https://www.goodreads.com/review/list/2324650?page=104: Cannot connect to host www.goodreads.com:443 ssl:default [An established connection was aborted by the software in your host machine]\n",
      "Error occured while fetching data from https://www.goodreads.com/review/list/5626931?page=400: Cannot connect to host www.goodreads.com:443 ssl:default [An established connection was aborted by the software in your host machine]\n",
      "Error occured while fetching data from https://www.goodreads.com/review/list/2324650?page=44: Cannot connect to host www.goodreads.com:443 ssl:default [An established connection was aborted by the software in your host machine]\n",
      "Error occured while fetching data from https://www.goodreads.com/review/list/5626931?page=297: Cannot connect to host www.goodreads.com:443 ssl:default [An established connection was aborted by the software in your host machine]\n",
      "Error occured while fetching data from https://www.goodreads.com/review/list/5626931?page=827: Cannot connect to host www.goodreads.com:443 ssl:default [An established connection was aborted by the software in your host machine]\n",
      "Error occured while fetching data from https://www.goodreads.com/review/list/2324650?page=13: Cannot connect to host www.goodreads.com:443 ssl:default [An established connection was aborted by the software in your host machine]\n",
      "Error occured while fetching data from https://www.goodreads.com/review/list/92439377?page=16: Cannot connect to host www.goodreads.com:443 ssl:default [An established connection was aborted by the software in your host machine]\n",
      "Error occured while fetching data from https://www.goodreads.com/review/list/66383514?page=171: Cannot connect to host www.goodreads.com:443 ssl:default [An established connection was aborted by the software in your host machine]\n",
      "Error occured while fetching data from https://www.goodreads.com/review/list/66383514?page=208: Cannot connect to host www.goodreads.com:443 ssl:default [An established connection was aborted by the software in your host machine]\n",
      "Error occured while fetching data from https://www.goodreads.com/review/list/66383514?page=146: Cannot connect to host www.goodreads.com:443 ssl:default [An established connection was aborted by the software in your host machine]\n",
      "Error occured while fetching data from https://www.goodreads.com/review/list/5626931?page=63: Cannot connect to host www.goodreads.com:443 ssl:default [An established connection was aborted by the software in your host machine]\n",
      "Error occured while fetching data from https://www.goodreads.com/review/list/5626931?page=422: Cannot connect to host www.goodreads.com:443 ssl:default [An established connection was aborted by the software in your host machine]\n",
      "Error occured while fetching data from https://www.goodreads.com/review/list/2324650?page=24: Cannot connect to host www.goodreads.com:443 ssl:default [An established connection was aborted by the software in your host machine]\n",
      "Error occured while fetching data from https://www.goodreads.com/review/list/92439377?page=21: Cannot connect to host www.goodreads.com:443 ssl:default [An established connection was aborted by the software in your host machine]\n",
      "Error occured while fetching data from https://www.goodreads.com/review/list/66383514?page=18: Cannot connect to host www.goodreads.com:443 ssl:default [An established connection was aborted by the software in your host machine]\n",
      "Error occured while fetching data from https://www.goodreads.com/review/list/2324650?page=45: Cannot connect to host www.goodreads.com:443 ssl:default [An established connection was aborted by the software in your host machine]\n"
     ]
    },
    {
     "name": "stderr",
     "output_type": "stream",
     "text": [
      " 85%|████████▌ | 28559/33593 [1:06:54<08:36,  9.74it/s]"
     ]
    },
    {
     "name": "stdout",
     "output_type": "stream",
     "text": [
      "Error occured while fetching data from https://www.goodreads.com/review/list/154417108?page=10: Cannot connect to host www.goodreads.com:443 ssl:default [An established connection was aborted by the software in your host machine]\n",
      "Error occured while fetching data from https://www.goodreads.com/review/list/154417108?page=38: Cannot connect to host www.goodreads.com:443 ssl:default [An established connection was aborted by the software in your host machine]\n",
      "Error occured while fetching data from https://www.goodreads.com/review/list/154417108?page=20: Cannot connect to host www.goodreads.com:443 ssl:default [An established connection was aborted by the software in your host machine]\n",
      "Error occured while fetching data from https://www.goodreads.com/review/list/154417108?page=25: Cannot connect to host www.goodreads.com:443 ssl:default [An established connection was aborted by the software in your host machine]\n",
      "Error occured while fetching data from https://www.goodreads.com/review/list/74061854?page=32: Cannot connect to host www.goodreads.com:443 ssl:default [An established connection was aborted by the software in your host machine]\n",
      "Error occured while fetching data from https://www.goodreads.com/review/list/31779908?page=17: Cannot connect to host www.goodreads.com:443 ssl:default [An established connection was aborted by the software in your host machine]\n",
      "Error occured while fetching data from https://www.goodreads.com/review/list/31779908?page=14: Cannot connect to host www.goodreads.com:443 ssl:default [An established connection was aborted by the software in your host machine]\n",
      "Error occured while fetching data from https://www.goodreads.com/review/list/31779908?page=29: Cannot connect to host www.goodreads.com:443 ssl:default [An established connection was aborted by the software in your host machine]\n",
      "Error occured while fetching data from https://www.goodreads.com/review/list/154417108?page=5: Cannot connect to host www.goodreads.com:443 ssl:default [An established connection was aborted by the software in your host machine]\n",
      "Error occured while fetching data from https://www.goodreads.com/review/list/74061854?page=6: Cannot connect to host www.goodreads.com:443 ssl:default [An established connection was aborted by the software in your host machine]\n"
     ]
    },
    {
     "name": "stderr",
     "output_type": "stream",
     "text": [
      " 85%|████████▌ | 28655/33593 [1:07:05<09:00,  9.14it/s]"
     ]
    },
    {
     "name": "stdout",
     "output_type": "stream",
     "text": [
      "Error occured while fetching data from https://www.goodreads.com/review/list/14701283?page=241: Server disconnected\n",
      "Error occured while fetching data from https://www.goodreads.com/review/list/14701283?page=186: Server disconnected\n",
      "Error occured while fetching data from https://www.goodreads.com/review/list/14701283?page=189: Server disconnected\n",
      "Error occured while fetching data from https://www.goodreads.com/review/list/14701283?page=40: Server disconnected\n",
      "Error occured while fetching data from https://www.goodreads.com/review/list/144299938?page=6: Server disconnected\n"
     ]
    },
    {
     "name": "stderr",
     "output_type": "stream",
     "text": [
      " 85%|████████▌ | 28671/33593 [1:07:08<09:20,  8.77it/s]"
     ]
    },
    {
     "name": "stdout",
     "output_type": "stream",
     "text": [
      "Error occured while fetching data from https://www.goodreads.com/review/list/14263987?page=86: Server disconnected\n",
      "Error occured while fetching data from https://www.goodreads.com/review/list/14263987?page=42: Server disconnected\n",
      "Error occured while fetching data from https://www.goodreads.com/review/list/144299938?page=50: Server disconnected\n",
      "Error occured while fetching data from https://www.goodreads.com/review/list/14263987?page=6: Server disconnected\n",
      "Error occured while fetching data from https://www.goodreads.com/review/list/31915341?page=110: Server disconnected\n",
      "Error occured while fetching data from https://www.goodreads.com/review/list/14263987?page=63: Server disconnected\n",
      "Error occured while fetching data from https://www.goodreads.com/review/list/14263987?page=83: Server disconnected\n",
      "Error occured while fetching data from https://www.goodreads.com/review/list/144299938?page=73: Server disconnected\n",
      "Error occured while fetching data from https://www.goodreads.com/review/list/144299938?page=23: Server disconnected\n",
      "Error occured while fetching data from https://www.goodreads.com/review/list/144299938?page=52: Server disconnected\n",
      "Error occured while fetching data from https://www.goodreads.com/review/list/155901442?page=12: Cannot connect to host www.goodreads.com:443 ssl:default [An established connection was aborted by the software in your host machine]\n",
      "Error occured while fetching data from https://www.goodreads.com/review/list/155901442?page=2: Cannot connect to host www.goodreads.com:443 ssl:default [An established connection was aborted by the software in your host machine]\n",
      "Error occured while fetching data from https://www.goodreads.com/review/list/155901442?page=10: Cannot connect to host www.goodreads.com:443 ssl:default [An established connection was aborted by the software in your host machine]\n"
     ]
    },
    {
     "name": "stderr",
     "output_type": "stream",
     "text": [
      " 86%|████████▌ | 28726/33593 [1:07:14<09:23,  8.63it/s]"
     ]
    },
    {
     "name": "stdout",
     "output_type": "stream",
     "text": [
      "Error occured while fetching data from https://www.goodreads.com/review/list/103226349?page=3: Server disconnected\n",
      "Error occured while fetching data from https://www.goodreads.com/review/list/103226349?page=2: Server disconnected\n",
      "Error occured while fetching data from https://www.goodreads.com/review/list/102684933?page=6: Server disconnected\n",
      "Error occured while fetching data from https://www.goodreads.com/review/list/102684933?page=2: Server disconnected\n",
      "Error occured while fetching data from https://www.goodreads.com/review/list/108860170?page=4: Server disconnected\n",
      "Error occured while fetching data from https://www.goodreads.com/review/list/108860170?page=2: Server disconnected\n",
      "Error occured while fetching data from https://www.goodreads.com/review/list/108860170?page=3: Server disconnected\n",
      "Error occured while fetching data from https://www.goodreads.com/review/list/108860170?page=6: Server disconnected\n",
      "Error occured while fetching data from https://www.goodreads.com/review/list/102684933?page=8: Server disconnected\n",
      "Error occured while fetching data from https://www.goodreads.com/review/list/102684933?page=3: Server disconnected\n",
      "Error occured while fetching data from https://www.goodreads.com/review/list/108860170?page=5: Server disconnected\n",
      "Error occured while fetching data from https://www.goodreads.com/review/list/103226349?page=1: Server disconnected\n",
      "Error occured while fetching data from https://www.goodreads.com/review/list/102684933?page=7: Server disconnected\n",
      "Error occured while fetching data from https://www.goodreads.com/review/list/92180847?page=7: Server disconnected\n",
      "Error occured while fetching data from https://www.goodreads.com/review/list/92180847?page=3: Server disconnected\n",
      "Error occured while fetching data from https://www.goodreads.com/review/list/92180847?page=1: Server disconnected\n"
     ]
    },
    {
     "name": "stderr",
     "output_type": "stream",
     "text": [
      " 86%|████████▌ | 28784/33593 [1:07:19<08:21,  9.59it/s]"
     ]
    },
    {
     "name": "stdout",
     "output_type": "stream",
     "text": [
      "Error occured while fetching data from https://www.goodreads.com/review/list/370851?page=6: Server disconnected\n"
     ]
    },
    {
     "name": "stderr",
     "output_type": "stream",
     "text": [
      " 86%|████████▌ | 28812/33593 [1:07:21<07:21, 10.82it/s]"
     ]
    },
    {
     "name": "stdout",
     "output_type": "stream",
     "text": [
      "Error occured while fetching data from https://www.goodreads.com/review/list/370851?page=11: Server disconnected\n",
      "Error occured while fetching data from https://www.goodreads.com/review/list/370851?page=1: Server disconnected\n",
      "Error occured while fetching data from https://www.goodreads.com/review/list/38710017?page=12: Server disconnected\n",
      "Error occured while fetching data from https://www.goodreads.com/review/list/154655435?page=16: Server disconnected\n",
      "Error occured while fetching data from https://www.goodreads.com/review/list/154655435?page=19: Server disconnected\n",
      "Error occured while fetching data from https://www.goodreads.com/review/list/154655435?page=26: Server disconnected\n",
      "Error occured while fetching data from https://www.goodreads.com/review/list/154655435?page=1: Server disconnected\n",
      "Error occured while fetching data from https://www.goodreads.com/review/list/154655435?page=17: Server disconnected\n",
      "Error occured while fetching data from https://www.goodreads.com/review/list/38710017?page=23: Server disconnected\n",
      "Error occured while fetching data from https://www.goodreads.com/review/list/370851?page=4: Server disconnected\n",
      "Error occured while fetching data from https://www.goodreads.com/review/list/38710017?page=11: Server disconnected\n"
     ]
    },
    {
     "name": "stderr",
     "output_type": "stream",
     "text": [
      " 86%|████████▌ | 28846/33593 [1:07:25<08:26,  9.37it/s]"
     ]
    },
    {
     "name": "stdout",
     "output_type": "stream",
     "text": [
      "Error occured while fetching data from https://www.goodreads.com/review/list/12221088?page=543: [WinError 10053] An established connection was aborted by the software in your host machine\n",
      "Error occured while fetching data from https://www.goodreads.com/review/list/36355465?page=33: [WinError 10053] An established connection was aborted by the software in your host machine\n",
      "Error occured while fetching data from https://www.goodreads.com/review/list/36355465?page=35: [WinError 10053] An established connection was aborted by the software in your host machine\n",
      "Error occured while fetching data from https://www.goodreads.com/review/list/12221088?page=1180: [WinError 10053] An established connection was aborted by the software in your host machine\n",
      "Error occured while fetching data from https://www.goodreads.com/review/list/12221088?page=1242: [WinError 10053] An established connection was aborted by the software in your host machine\n",
      "Error occured while fetching data from https://www.goodreads.com/review/list/12221088?page=1187: [WinError 10053] An established connection was aborted by the software in your host machine\n"
     ]
    },
    {
     "name": "stderr",
     "output_type": "stream",
     "text": [
      " 86%|████████▌ | 28886/33593 [1:07:30<09:01,  8.69it/s]"
     ]
    },
    {
     "name": "stdout",
     "output_type": "stream",
     "text": [
      "Error occured while fetching data from https://www.goodreads.com/review/list/160606611?page=6: [WinError 10053] An established connection was aborted by the software in your host machine\n",
      "Error occured while fetching data from https://www.goodreads.com/review/list/160606611?page=14: [WinError 10053] An established connection was aborted by the software in your host machine\n",
      "Error occured while fetching data from https://www.goodreads.com/review/list/160606611?page=3: [WinError 10053] An established connection was aborted by the software in your host machine\n",
      "Error occured while fetching data from https://www.goodreads.com/review/list/3842653?page=38: [WinError 10053] An established connection was aborted by the software in your host machine\n"
     ]
    },
    {
     "name": "stderr",
     "output_type": "stream",
     "text": [
      " 86%|████████▌ | 28913/33593 [1:07:31<06:45, 11.55it/s]"
     ]
    },
    {
     "name": "stdout",
     "output_type": "stream",
     "text": [
      "Error occured while fetching data from https://www.goodreads.com/review/list/123734427?page=1: [WinError 10053] An established connection was aborted by the software in your host machine\n",
      "Error occured while fetching data from https://www.goodreads.com/review/list/52710209?page=141: [WinError 10053] An established connection was aborted by the software in your host machine\n",
      "Error occured while fetching data from https://www.goodreads.com/review/list/7725301?page=11: [WinError 10053] An established connection was aborted by the software in your host machine\n",
      "Error occured while fetching data from https://www.goodreads.com/review/list/52710209?page=81: [WinError 10053] An established connection was aborted by the software in your host machine\n",
      "Error occured while fetching data from https://www.goodreads.com/review/list/3870376?page=25: [WinError 10053] An established connection was aborted by the software in your host machine\n",
      "Error occured while fetching data from https://www.goodreads.com/review/list/3870376?page=31: [WinError 10053] An established connection was aborted by the software in your host machine\n",
      "Error occured while fetching data from https://www.goodreads.com/review/list/3870376?page=97: [WinError 10053] An established connection was aborted by the software in your host machine\n",
      "Error occured while fetching data from https://www.goodreads.com/review/list/4858513?page=167: [WinError 10053] An established connection was aborted by the software in your host machine\n",
      "Error occured while fetching data from https://www.goodreads.com/review/list/4858513?page=133: [WinError 10053] An established connection was aborted by the software in your host machine\n",
      "Error occured while fetching data from https://www.goodreads.com/review/list/3870376?page=88: [WinError 10053] An established connection was aborted by the software in your host machine\n",
      "Error occured while fetching data from https://www.goodreads.com/review/list/52710209?page=22: [WinError 10053] An established connection was aborted by the software in your host machine\n",
      "Error occured while fetching data from https://www.goodreads.com/review/list/3870376?page=11: [WinError 10053] An established connection was aborted by the software in your host machine\n",
      "Error occured while fetching data from https://www.goodreads.com/review/list/48030255?page=114: [WinError 10053] An established connection was aborted by the software in your host machine\n",
      "Error occured while fetching data from https://www.goodreads.com/review/list/123734427?page=4: [WinError 10053] An established connection was aborted by the software in your host machine\n",
      "Error occured while fetching data from https://www.goodreads.com/review/list/160321860?page=20: [WinError 10053] An established connection was aborted by the software in your host machine\n",
      "Error occured while fetching data from https://www.goodreads.com/review/list/140725160?page=3: [WinError 10053] An established connection was aborted by the software in your host machine\n",
      "Error occured while fetching data from https://www.goodreads.com/review/list/160321860?page=14: [WinError 10053] An established connection was aborted by the software in your host machine\n",
      "Error occured while fetching data from https://www.goodreads.com/review/list/48030255?page=117: [WinError 10053] An established connection was aborted by the software in your host machine\n",
      "Error occured while fetching data from https://www.goodreads.com/review/list/7725301?page=24: [WinError 10053] An established connection was aborted by the software in your host machine\n",
      "Error occured while fetching data from https://www.goodreads.com/review/list/140725160?page=5: Server disconnected\n",
      "Error occured while fetching data from https://www.goodreads.com/review/list/140725160?page=19: Server disconnected\n"
     ]
    },
    {
     "name": "stderr",
     "output_type": "stream",
     "text": [
      " 86%|████████▌ | 28924/33593 [1:07:34<08:48,  8.84it/s]"
     ]
    },
    {
     "name": "stdout",
     "output_type": "stream",
     "text": [
      "Error occured while fetching data from https://www.goodreads.com/review/list/113556457?page=3: [WinError 10053] An established connection was aborted by the software in your host machine\n",
      "Error occured while fetching data from https://www.goodreads.com/review/list/113556457?page=1: Server disconnected\n",
      "Error occured while fetching data from https://www.goodreads.com/review/list/113556457?page=16: Server disconnected\n",
      "Error occured while fetching data from https://www.goodreads.com/review/list/113556457?page=17: Server disconnected\n"
     ]
    },
    {
     "name": "stderr",
     "output_type": "stream",
     "text": [
      " 86%|████████▋ | 28975/33593 [1:07:39<07:36, 10.12it/s]"
     ]
    },
    {
     "name": "stdout",
     "output_type": "stream",
     "text": [
      "Error occured while fetching data from https://www.goodreads.com/review/list/98493475?page=9: [WinError 10053] An established connection was aborted by the software in your host machine\n",
      "Error occured while fetching data from https://www.goodreads.com/review/list/98493475?page=30: [WinError 10053] An established connection was aborted by the software in your host machine\n",
      "Error occured while fetching data from https://www.goodreads.com/review/list/110213552?page=1: [WinError 10053] An established connection was aborted by the software in your host machine\n",
      "Error occured while fetching data from https://www.goodreads.com/review/list/129463018?page=3: [WinError 10053] An established connection was aborted by the software in your host machine\n",
      "Error occured while fetching data from https://www.goodreads.com/review/list/129463018?page=25: [WinError 10053] An established connection was aborted by the software in your host machine\n",
      "Error occured while fetching data from https://www.goodreads.com/review/list/129463018?page=24: [WinError 10053] An established connection was aborted by the software in your host machine\n",
      "Error occured while fetching data from https://www.goodreads.com/review/list/129463018?page=5: [WinError 10053] An established connection was aborted by the software in your host machine\n",
      "Error occured while fetching data from https://www.goodreads.com/review/list/129463018?page=32: [WinError 10053] An established connection was aborted by the software in your host machine\n",
      "Error occured while fetching data from https://www.goodreads.com/review/list/98493475?page=2: [WinError 10053] An established connection was aborted by the software in your host machine\n"
     ]
    },
    {
     "name": "stderr",
     "output_type": "stream",
     "text": [
      " 86%|████████▋ | 29015/33593 [1:07:43<08:07,  9.39it/s]"
     ]
    },
    {
     "name": "stdout",
     "output_type": "stream",
     "text": [
      "Error occured while fetching data from https://www.goodreads.com/review/list/1054964?page=131: Server disconnected\n",
      "Error occured while fetching data from https://www.goodreads.com/review/list/5364118?page=13: [WinError 10053] An established connection was aborted by the software in your host machine\n",
      "Error occured while fetching data from https://www.goodreads.com/review/list/27832826?page=65: Server disconnected\n",
      "Error occured while fetching data from https://www.goodreads.com/review/list/112659879?page=5: [WinError 10053] An established connection was aborted by the software in your host machine\n",
      "Error occured while fetching data from https://www.goodreads.com/review/list/112659879?page=49: [WinError 10053] An established connection was aborted by the software in your host machine\n",
      "Error occured while fetching data from https://www.goodreads.com/review/list/27832826?page=77: Server disconnected\n",
      "Error occured while fetching data from https://www.goodreads.com/review/list/5364118?page=14: [WinError 10053] An established connection was aborted by the software in your host machine\n",
      "Error occured while fetching data from https://www.goodreads.com/review/list/5364118?page=3: [WinError 10053] An established connection was aborted by the software in your host machine\n",
      "Error occured while fetching data from https://www.goodreads.com/review/list/27832826?page=41: Server disconnected\n",
      "Error occured while fetching data from https://www.goodreads.com/review/list/27832826?page=68: [WinError 10053] An established connection was aborted by the software in your host machine\n",
      "Error occured while fetching data from https://www.goodreads.com/review/list/14408849?page=53: [WinError 10053] An established connection was aborted by the software in your host machine\n",
      "Error occured while fetching data from https://www.goodreads.com/review/list/112659879?page=13: [WinError 10053] An established connection was aborted by the software in your host machine\n",
      "Error occured while fetching data from https://www.goodreads.com/review/list/112659879?page=24: [WinError 10053] An established connection was aborted by the software in your host machine\n"
     ]
    },
    {
     "name": "stderr",
     "output_type": "stream",
     "text": [
      " 86%|████████▋ | 29055/33593 [1:07:48<08:28,  8.92it/s]"
     ]
    },
    {
     "name": "stdout",
     "output_type": "stream",
     "text": [
      "Error occured while fetching data from https://www.goodreads.com/review/list/133333008?page=1: [WinError 10053] An established connection was aborted by the software in your host machine\n",
      "Error occured while fetching data from https://www.goodreads.com/review/list/161949645?page=9: [WinError 10053] An established connection was aborted by the software in your host machine\n",
      "Error occured while fetching data from https://www.goodreads.com/review/list/161949645?page=7: [WinError 10053] An established connection was aborted by the software in your host machine\n",
      "Error occured while fetching data from https://www.goodreads.com/review/list/161949645?page=3: [WinError 10053] An established connection was aborted by the software in your host machine\n"
     ]
    },
    {
     "name": "stderr",
     "output_type": "stream",
     "text": [
      " 87%|████████▋ | 29086/33593 [1:07:51<08:26,  8.89it/s]"
     ]
    },
    {
     "name": "stdout",
     "output_type": "stream",
     "text": [
      "Error occured while fetching data from https://www.goodreads.com/review/list/139575667?page=3: [WinError 10053] An established connection was aborted by the software in your host machine\n",
      "Error occured while fetching data from https://www.goodreads.com/review/list/4569859?page=123: [WinError 10053] An established connection was aborted by the software in your host machine\n",
      "Error occured while fetching data from https://www.goodreads.com/review/list/4569859?page=83: [WinError 10053] An established connection was aborted by the software in your host machine\n",
      "Error occured while fetching data from https://www.goodreads.com/review/list/160965957?page=3: [WinError 10053] An established connection was aborted by the software in your host machine\n",
      "Error occured while fetching data from https://www.goodreads.com/review/list/161060429?page=2: [WinError 10053] An established connection was aborted by the software in your host machine\n",
      "Error occured while fetching data from https://www.goodreads.com/review/list/138060703?page=1: [WinError 10053] An established connection was aborted by the software in your host machine\n",
      "Error occured while fetching data from https://www.goodreads.com/review/list/139575667?page=4: [WinError 10053] An established connection was aborted by the software in your host machine\n",
      "Error occured while fetching data from https://www.goodreads.com/review/list/160965957?page=1: [WinError 10053] An established connection was aborted by the software in your host machine\n",
      "Error occured while fetching data from https://www.goodreads.com/review/list/160965957?page=5: [WinError 10053] An established connection was aborted by the software in your host machine\n",
      "Error occured while fetching data from https://www.goodreads.com/review/list/161009547?page=5: [WinError 10053] An established connection was aborted by the software in your host machine\n",
      "Error occured while fetching data from https://www.goodreads.com/review/list/4569859?page=56: [WinError 10053] An established connection was aborted by the software in your host machine\n",
      "Error occured while fetching data from https://www.goodreads.com/review/list/139575667?page=2: Server disconnected\n",
      "Error occured while fetching data from https://www.goodreads.com/review/list/95412732?page=2: Server disconnected\n",
      "Error occured while fetching data from https://www.goodreads.com/review/list/139575667?page=1: Server disconnected\n",
      "Error occured while fetching data from https://www.goodreads.com/review/list/139575667?page=5: Server disconnected\n",
      "Error occured while fetching data from https://www.goodreads.com/review/list/4569859?page=171: Server disconnected\n",
      "Error occured while fetching data from https://www.goodreads.com/review/list/138060703?page=2: Server disconnected\n",
      "Error occured while fetching data from https://www.goodreads.com/review/list/161060429?page=3: Server disconnected\n",
      "Error occured while fetching data from https://www.goodreads.com/review/list/160965957?page=4: Server disconnected\n"
     ]
    },
    {
     "name": "stderr",
     "output_type": "stream",
     "text": [
      " 87%|████████▋ | 29098/33593 [1:07:53<08:52,  8.45it/s]"
     ]
    },
    {
     "name": "stdout",
     "output_type": "stream",
     "text": [
      "Error occured while fetching data from https://www.goodreads.com/review/list/150643660?page=1: [WinError 10053] An established connection was aborted by the software in your host machine\n",
      "Error occured while fetching data from https://www.goodreads.com/review/list/128151966?page=2: [WinError 10053] An established connection was aborted by the software in your host machine\n",
      "Error occured while fetching data from https://www.goodreads.com/review/list/128151966?page=6: [WinError 10053] An established connection was aborted by the software in your host machine\n",
      "Error occured while fetching data from https://www.goodreads.com/review/list/128151966?page=1: [WinError 10053] An established connection was aborted by the software in your host machine\n",
      "Error occured while fetching data from https://www.goodreads.com/review/list/128151966?page=3: [WinError 10053] An established connection was aborted by the software in your host machine\n",
      "Error occured while fetching data from https://www.goodreads.com/review/list/128151966?page=4: [WinError 10053] An established connection was aborted by the software in your host machine\n",
      "Error occured while fetching data from https://www.goodreads.com/review/list/74540913?page=3: [WinError 10053] An established connection was aborted by the software in your host machine\n"
     ]
    },
    {
     "name": "stderr",
     "output_type": "stream",
     "text": [
      " 87%|████████▋ | 29172/33593 [1:08:02<12:15,  6.01it/s]"
     ]
    },
    {
     "name": "stdout",
     "output_type": "stream",
     "text": [
      "Error occured while fetching data from https://www.goodreads.com/review/list/13862041?page=14: [WinError 10053] An established connection was aborted by the software in your host machine\n",
      "Error occured while fetching data from https://www.goodreads.com/review/list/13862041?page=20: [WinError 10053] An established connection was aborted by the software in your host machine\n",
      "Error occured while fetching data from https://www.goodreads.com/review/list/4850068?page=6: [WinError 10053] An established connection was aborted by the software in your host machine\n",
      "Error occured while fetching data from https://www.goodreads.com/review/list/13862041?page=16: [WinError 10053] An established connection was aborted by the software in your host machine\n",
      "Error occured while fetching data from https://www.goodreads.com/review/list/51124393?page=12: [WinError 10053] An established connection was aborted by the software in your host machine\n",
      "Error occured while fetching data from https://www.goodreads.com/review/list/51124393?page=33: [WinError 10053] An established connection was aborted by the software in your host machine\n",
      "Error occured while fetching data from https://www.goodreads.com/review/list/51124393?page=26: [WinError 10053] An established connection was aborted by the software in your host machine\n",
      "Error occured while fetching data from https://www.goodreads.com/review/list/13862041?page=13: Server disconnected\n",
      "Error occured while fetching data from https://www.goodreads.com/review/list/4850068?page=4: Server disconnected\n",
      "Error occured while fetching data from https://www.goodreads.com/review/list/4850068?page=8: Server disconnected\n",
      "Error occured while fetching data from https://www.goodreads.com/review/list/4850068?page=21: Server disconnected\n"
     ]
    },
    {
     "name": "stderr",
     "output_type": "stream",
     "text": [
      " 87%|████████▋ | 29226/33593 [1:08:09<11:34,  6.29it/s]"
     ]
    },
    {
     "name": "stdout",
     "output_type": "stream",
     "text": [
      "Error occured while fetching data from https://www.goodreads.com/review/list/46737758?page=1: [WinError 10053] An established connection was aborted by the software in your host machine\n",
      "Error occured while fetching data from https://www.goodreads.com/review/list/46737758?page=3: [WinError 10053] An established connection was aborted by the software in your host machine\n",
      "Error occured while fetching data from https://www.goodreads.com/review/list/46737758?page=5: [WinError 10053] An established connection was aborted by the software in your host machine\n",
      "Error occured while fetching data from https://www.goodreads.com/review/list/46737758?page=6: [WinError 10053] An established connection was aborted by the software in your host machine\n",
      "Error occured while fetching data from https://www.goodreads.com/review/list/5067228?page=190: Cannot connect to host www.goodreads.com:443 ssl:default [An established connection was aborted by the software in your host machine]\n",
      "Error occured while fetching data from https://www.goodreads.com/review/list/5067228?page=253: Cannot connect to host www.goodreads.com:443 ssl:default [An established connection was aborted by the software in your host machine]\n",
      "Error occured while fetching data from https://www.goodreads.com/review/list/5067228?page=30: Cannot connect to host www.goodreads.com:443 ssl:default [An established connection was aborted by the software in your host machine]\n",
      "Error occured while fetching data from https://www.goodreads.com/review/list/106964477?page=6: Cannot connect to host www.goodreads.com:443 ssl:default [An established connection was aborted by the software in your host machine]\n",
      "Error occured while fetching data from https://www.goodreads.com/review/list/5067228?page=263: Cannot connect to host www.goodreads.com:443 ssl:default [An established connection was aborted by the software in your host machine]\n",
      "Error occured while fetching data from https://www.goodreads.com/review/list/106964477?page=10: Cannot connect to host www.goodreads.com:443 ssl:default [An established connection was aborted by the software in your host machine]\n",
      "Error occured while fetching data from https://www.goodreads.com/review/list/106964477?page=15: Cannot connect to host www.goodreads.com:443 ssl:default [An established connection was aborted by the software in your host machine]\n",
      "Error occured while fetching data from https://www.goodreads.com/review/list/107774484?page=7: Cannot connect to host www.goodreads.com:443 ssl:default [An established connection was aborted by the software in your host machine]\n",
      "Error occured while fetching data from https://www.goodreads.com/review/list/106964477?page=1: Cannot connect to host www.goodreads.com:443 ssl:default [An established connection was aborted by the software in your host machine]\n"
     ]
    },
    {
     "name": "stderr",
     "output_type": "stream",
     "text": [
      " 87%|████████▋ | 29290/33593 [1:08:17<09:36,  7.47it/s]"
     ]
    },
    {
     "name": "stdout",
     "output_type": "stream",
     "text": [
      "Error occured while fetching data from https://www.goodreads.com/review/list/107774484?page=3: Cannot connect to host www.goodreads.com:443 ssl:default [An established connection was aborted by the software in your host machine]\n",
      "Error occured while fetching data from https://www.goodreads.com/review/list/69467561?page=2: Cannot connect to host www.goodreads.com:443 ssl:default [An established connection was aborted by the software in your host machine]\n",
      "Error occured while fetching data from https://www.goodreads.com/review/list/69467561?page=12: Cannot connect to host www.goodreads.com:443 ssl:default [An established connection was aborted by the software in your host machine]\n",
      "Error occured while fetching data from https://www.goodreads.com/review/list/69467561?page=7: Cannot connect to host www.goodreads.com:443 ssl:default [An established connection was aborted by the software in your host machine]\n",
      "Error occured while fetching data from https://www.goodreads.com/review/list/69467561?page=4: Cannot connect to host www.goodreads.com:443 ssl:default [An established connection was aborted by the software in your host machine]\n",
      "Error occured while fetching data from https://www.goodreads.com/review/list/26404547?page=6: Cannot connect to host www.goodreads.com:443 ssl:default [An established connection was aborted by the software in your host machine]\n",
      "Error occured while fetching data from https://www.goodreads.com/review/list/26404547?page=8: Cannot connect to host www.goodreads.com:443 ssl:default [An established connection was aborted by the software in your host machine]\n",
      "Error occured while fetching data from https://www.goodreads.com/review/list/26404547?page=2: Cannot connect to host www.goodreads.com:443 ssl:default [An established connection was aborted by the software in your host machine]\n",
      "Error occured while fetching data from https://www.goodreads.com/review/list/26404547?page=13: Cannot connect to host www.goodreads.com:443 ssl:default [An established connection was aborted by the software in your host machine]\n",
      "Error occured while fetching data from https://www.goodreads.com/review/list/26404547?page=3: Cannot connect to host www.goodreads.com:443 ssl:default [An established connection was aborted by the software in your host machine]\n",
      "Error occured while fetching data from https://www.goodreads.com/review/list/107774484?page=2: Cannot connect to host www.goodreads.com:443 ssl:default [An established connection was aborted by the software in your host machine]\n",
      "Error occured while fetching data from https://www.goodreads.com/review/list/143169615?page=4: Cannot connect to host www.goodreads.com:443 ssl:default [An established connection was aborted by the software in your host machine]\n",
      "Error occured while fetching data from https://www.goodreads.com/review/list/143169615?page=8: Cannot connect to host www.goodreads.com:443 ssl:default [An established connection was aborted by the software in your host machine]\n",
      "Error occured while fetching data from https://www.goodreads.com/review/list/143169615?page=5: Cannot connect to host www.goodreads.com:443 ssl:default [An established connection was aborted by the software in your host machine]\n",
      "Error occured while fetching data from https://www.goodreads.com/review/list/143169615?page=2: Cannot connect to host www.goodreads.com:443 ssl:default [An established connection was aborted by the software in your host machine]\n",
      "Error occured while fetching data from https://www.goodreads.com/review/list/143169615?page=1: Cannot connect to host www.goodreads.com:443 ssl:default [An established connection was aborted by the software in your host machine]\n",
      "Error occured while fetching data from https://www.goodreads.com/review/list/161066437?page=3: Cannot connect to host www.goodreads.com:443 ssl:default [An established connection was aborted by the software in your host machine]\n",
      "Error occured while fetching data from https://www.goodreads.com/review/list/161066437?page=2: Cannot connect to host www.goodreads.com:443 ssl:default [An established connection was aborted by the software in your host machine]\n",
      "Error occured while fetching data from https://www.goodreads.com/review/list/161066437?page=1: Cannot connect to host www.goodreads.com:443 ssl:default [An established connection was aborted by the software in your host machine]\n",
      "Error occured while fetching data from https://www.goodreads.com/review/list/5157918?page=39: Cannot connect to host www.goodreads.com:443 ssl:default [An established connection was aborted by the software in your host machine]\n",
      "Error occured while fetching data from https://www.goodreads.com/review/list/5157918?page=13: Cannot connect to host www.goodreads.com:443 ssl:default [An established connection was aborted by the software in your host machine]\n"
     ]
    },
    {
     "name": "stderr",
     "output_type": "stream",
     "text": [
      " 87%|████████▋ | 29322/33593 [1:08:20<08:39,  8.21it/s]"
     ]
    },
    {
     "name": "stdout",
     "output_type": "stream",
     "text": [
      "Error occured while fetching data from https://www.goodreads.com/review/list/20054377?page=119: Cannot connect to host www.goodreads.com:443 ssl:default [An established connection was aborted by the software in your host machine]\n"
     ]
    },
    {
     "name": "stderr",
     "output_type": "stream",
     "text": [
      " 87%|████████▋ | 29388/33593 [1:08:26<07:44,  9.06it/s]"
     ]
    },
    {
     "name": "stdout",
     "output_type": "stream",
     "text": [
      "Error occured while fetching data from https://www.goodreads.com/review/list/36573610?page=23: Cannot connect to host www.goodreads.com:443 ssl:default [An established connection was aborted by the software in your host machine]\n"
     ]
    },
    {
     "name": "stderr",
     "output_type": "stream",
     "text": [
      " 88%|████████▊ | 29437/33593 [1:08:34<09:04,  7.63it/s]"
     ]
    },
    {
     "name": "stdout",
     "output_type": "stream",
     "text": [
      "Error occured while fetching data from https://www.goodreads.com/review/list/36573610?page=73: Server disconnected\n",
      "Error occured while fetching data from https://www.goodreads.com/review/list/161325880?page=2: Server disconnected\n",
      "Error occured while fetching data from https://www.goodreads.com/review/list/161325880?page=1: Server disconnected\n",
      "Error occured while fetching data from https://www.goodreads.com/review/list/140636532?page=2: Server disconnected\n",
      "Error occured while fetching data from https://www.goodreads.com/review/list/140636532?page=17: Server disconnected\n",
      "Error occured while fetching data from https://www.goodreads.com/review/list/140636532?page=3: Server disconnected\n",
      "Error occured while fetching data from https://www.goodreads.com/review/list/140636532?page=15: Server disconnected\n",
      "Error occured while fetching data from https://www.goodreads.com/review/list/151605925?page=1: Server disconnected\n",
      "Error occured while fetching data from https://www.goodreads.com/review/list/1199525?page=1: Server disconnected\n",
      "Error occured while fetching data from https://www.goodreads.com/review/list/1199525?page=15: Server disconnected\n",
      "Error occured while fetching data from https://www.goodreads.com/review/list/1199525?page=21: Server disconnected\n",
      "Error occured while fetching data from https://www.goodreads.com/review/list/1199525?page=59: Server disconnected\n",
      "Error occured while fetching data from https://www.goodreads.com/review/list/1199525?page=28: Server disconnected\n",
      "Error occured while fetching data from https://www.goodreads.com/review/list/140636532?page=16: Server disconnected\n",
      "Error occured while fetching data from https://www.goodreads.com/review/list/151605925?page=2: Server disconnected\n",
      "Error occured while fetching data from https://www.goodreads.com/review/list/3294750?page=21: Server disconnected\n",
      "Error occured while fetching data from https://www.goodreads.com/review/list/3294750?page=30: Server disconnected\n",
      "Error occured while fetching data from https://www.goodreads.com/review/list/133528041?page=2: Server disconnected\n",
      "Error occured while fetching data from https://www.goodreads.com/review/list/133528041?page=3: Server disconnected\n",
      "Error occured while fetching data from https://www.goodreads.com/review/list/3294750?page=23: Server disconnected\n",
      "Error occured while fetching data from https://www.goodreads.com/review/list/3294750?page=73: Server disconnected\n",
      "Error occured while fetching data from https://www.goodreads.com/review/list/133528041?page=1: Server disconnected\n",
      "Error occured while fetching data from https://www.goodreads.com/review/list/3294750?page=41: Server disconnected\n",
      "Error occured while fetching data from https://www.goodreads.com/review/list/36573610?page=16: Server disconnected\n",
      "Error occured while fetching data from https://www.goodreads.com/review/list/36573610?page=9: Server disconnected\n",
      "Error occured while fetching data from https://www.goodreads.com/review/list/161325880?page=3: Server disconnected\n"
     ]
    },
    {
     "name": "stderr",
     "output_type": "stream",
     "text": [
      " 88%|████████▊ | 29486/33593 [1:08:37<06:48, 10.05it/s]"
     ]
    },
    {
     "name": "stdout",
     "output_type": "stream",
     "text": [
      "Error occured while fetching data from https://www.goodreads.com/review/list/133120986?page=4: Cannot connect to host www.goodreads.com:443 ssl:default [An established connection was aborted by the software in your host machine]\n",
      "Error occured while fetching data from https://www.goodreads.com/review/list/68006165?page=27: Cannot connect to host www.goodreads.com:443 ssl:default [An established connection was aborted by the software in your host machine]\n"
     ]
    },
    {
     "name": "stderr",
     "output_type": "stream",
     "text": [
      " 88%|████████▊ | 29537/33593 [1:08:43<07:46,  8.69it/s]"
     ]
    },
    {
     "name": "stdout",
     "output_type": "stream",
     "text": [
      "Error occured while fetching data from https://www.goodreads.com/review/list/141787838?page=8: Server disconnected\n",
      "Error occured while fetching data from https://www.goodreads.com/review/list/107569189?page=15: Server disconnected\n",
      "Error occured while fetching data from https://www.goodreads.com/review/list/141787838?page=19: Server disconnected\n",
      "Error occured while fetching data from https://www.goodreads.com/review/list/107569189?page=28: Server disconnected\n",
      "Error occured while fetching data from https://www.goodreads.com/review/list/42437669?page=212: Server disconnected\n",
      "Error occured while fetching data from https://www.goodreads.com/review/list/42437669?page=53: Server disconnected\n",
      "Error occured while fetching data from https://www.goodreads.com/review/list/141787838?page=14: Server disconnected\n",
      "Error occured while fetching data from https://www.goodreads.com/review/list/149998071?page=8: Server disconnected\n",
      "Error occured while fetching data from https://www.goodreads.com/review/list/133120986?page=5: Server disconnected\n",
      "Error occured while fetching data from https://www.goodreads.com/review/list/141787838?page=16: Server disconnected\n",
      "Error occured while fetching data from https://www.goodreads.com/review/list/107569189?page=3: Server disconnected\n",
      "Error occured while fetching data from https://www.goodreads.com/review/list/149998071?page=9: Server disconnected\n",
      "Error occured while fetching data from https://www.goodreads.com/review/list/149998071?page=13: Server disconnected\n",
      "Error occured while fetching data from https://www.goodreads.com/review/list/149998071?page=21: Server disconnected\n",
      "Error occured while fetching data from https://www.goodreads.com/review/list/107569189?page=24: Server disconnected\n",
      "Error occured while fetching data from https://www.goodreads.com/review/list/141787838?page=2: Server disconnected\n",
      "Error occured while fetching data from https://www.goodreads.com/review/list/149998071?page=23: Server disconnected\n",
      "Error occured while fetching data from https://www.goodreads.com/review/list/42437669?page=190: Server disconnected\n",
      "Error occured while fetching data from https://www.goodreads.com/review/list/42437669?page=80: Server disconnected\n",
      "Error occured while fetching data from https://www.goodreads.com/review/list/107569189?page=25: Server disconnected\n",
      "Error occured while fetching data from https://www.goodreads.com/review/list/23024940?page=2: Server disconnected\n"
     ]
    },
    {
     "name": "stderr",
     "output_type": "stream",
     "text": [
      " 88%|████████▊ | 29559/33593 [1:08:46<08:14,  8.17it/s]"
     ]
    },
    {
     "name": "stdout",
     "output_type": "stream",
     "text": [
      "Error occured while fetching data from https://www.goodreads.com/review/list/23024940?page=4: [WinError 10053] An established connection was aborted by the software in your host machine\n"
     ]
    },
    {
     "name": "stderr",
     "output_type": "stream",
     "text": [
      " 88%|████████▊ | 29579/33593 [1:08:50<09:36,  6.96it/s]"
     ]
    },
    {
     "name": "stdout",
     "output_type": "stream",
     "text": [
      "Error occured while fetching data from https://www.goodreads.com/review/list/14105531?page=74: [WinError 10053] An established connection was aborted by the software in your host machine\n"
     ]
    },
    {
     "name": "stderr",
     "output_type": "stream",
     "text": [
      " 88%|████████▊ | 29648/33593 [1:08:56<07:14,  9.07it/s]"
     ]
    },
    {
     "name": "stdout",
     "output_type": "stream",
     "text": [
      "Error occured while fetching data from https://www.goodreads.com/review/list/43259501?page=5: Cannot connect to host www.goodreads.com:443 ssl:default [An established connection was aborted by the software in your host machine]\n"
     ]
    },
    {
     "name": "stderr",
     "output_type": "stream",
     "text": [
      " 88%|████████▊ | 29668/33593 [1:08:58<07:05,  9.23it/s]"
     ]
    },
    {
     "name": "stdout",
     "output_type": "stream",
     "text": [
      "Error occured while fetching data from https://www.goodreads.com/review/list/129197203?page=3: Server disconnected\n",
      "Error occured while fetching data from https://www.goodreads.com/review/list/129197203?page=4: Server disconnected\n",
      "Error occured while fetching data from https://www.goodreads.com/review/list/114123354?page=5: Server disconnected\n",
      "Error occured while fetching data from https://www.goodreads.com/review/list/114123354?page=4: Server disconnected\n",
      "Error occured while fetching data from https://www.goodreads.com/review/list/114123354?page=1: Server disconnected\n",
      "Error occured while fetching data from https://www.goodreads.com/review/list/160861641?page=2: Server disconnected\n",
      "Error occured while fetching data from https://www.goodreads.com/review/list/150626367?page=3: Server disconnected\n",
      "Error occured while fetching data from https://www.goodreads.com/review/list/150626367?page=2: Server disconnected\n",
      "Error occured while fetching data from https://www.goodreads.com/review/list/160861641?page=1: Server disconnected\n",
      "Error occured while fetching data from https://www.goodreads.com/review/list/150626367?page=1: Server disconnected\n",
      "Error occured while fetching data from https://www.goodreads.com/review/list/129197203?page=2: Server disconnected\n",
      "Error occured while fetching data from https://www.goodreads.com/review/list/160861641?page=3: Server disconnected\n",
      "Error occured while fetching data from https://www.goodreads.com/review/list/160690340?page=14: Server disconnected\n",
      "Error occured while fetching data from https://www.goodreads.com/review/list/160690340?page=3: Server disconnected\n",
      "Error occured while fetching data from https://www.goodreads.com/review/list/129197203?page=1: Server disconnected\n",
      "Error occured while fetching data from https://www.goodreads.com/review/list/160690340?page=11: Server disconnected\n",
      "Error occured while fetching data from https://www.goodreads.com/review/list/160861641?page=4: Server disconnected\n",
      "Error occured while fetching data from https://www.goodreads.com/review/list/160690340?page=13: Server disconnected\n",
      "Error occured while fetching data from https://www.goodreads.com/review/list/136375170?page=8: Server disconnected\n",
      "Error occured while fetching data from https://www.goodreads.com/review/list/120104331?page=13: Server disconnected\n",
      "Error occured while fetching data from https://www.goodreads.com/review/list/114123354?page=2: Server disconnected\n",
      "Error occured while fetching data from https://www.goodreads.com/review/list/114123354?page=3: Server disconnected\n",
      "Error occured while fetching data from https://www.goodreads.com/review/list/5022264?page=287: Server disconnected\n",
      "Error occured while fetching data from https://www.goodreads.com/review/list/5022264?page=74: Server disconnected\n",
      "Error occured while fetching data from https://www.goodreads.com/review/list/5022264?page=137: Server disconnected\n",
      "Error occured while fetching data from https://www.goodreads.com/review/list/160690340?page=7: Server disconnected\n",
      "Error occured while fetching data from https://www.goodreads.com/review/list/129197203?page=5: Server disconnected\n"
     ]
    },
    {
     "name": "stderr",
     "output_type": "stream",
     "text": [
      " 89%|████████▊ | 29737/33593 [1:09:06<06:45,  9.51it/s]"
     ]
    },
    {
     "name": "stdout",
     "output_type": "stream",
     "text": [
      "Error occured while fetching data from https://www.goodreads.com/review/list/3030788?page=72: [WinError 10053] An established connection was aborted by the software in your host machine\n",
      "Error occured while fetching data from https://www.goodreads.com/review/list/3030788?page=10: [WinError 10053] An established connection was aborted by the software in your host machine\n",
      "Error occured while fetching data from https://www.goodreads.com/review/list/3030788?page=2: [WinError 10053] An established connection was aborted by the software in your host machine\n",
      "Error occured while fetching data from https://www.goodreads.com/review/list/3030788?page=66: [WinError 10053] An established connection was aborted by the software in your host machine\n",
      "Error occured while fetching data from https://www.goodreads.com/review/list/28927465?page=23: [WinError 10053] An established connection was aborted by the software in your host machine\n",
      "Error occured while fetching data from https://www.goodreads.com/review/list/28927465?page=14: [WinError 10053] An established connection was aborted by the software in your host machine\n",
      "Error occured while fetching data from https://www.goodreads.com/review/list/48532974?page=6: [WinError 10053] An established connection was aborted by the software in your host machine\n",
      "Error occured while fetching data from https://www.goodreads.com/review/list/28927465?page=15: [WinError 10053] An established connection was aborted by the software in your host machine\n",
      "Error occured while fetching data from https://www.goodreads.com/review/list/48532974?page=14: [WinError 10053] An established connection was aborted by the software in your host machine\n",
      "Error occured while fetching data from https://www.goodreads.com/review/list/28927465?page=3: [WinError 10053] An established connection was aborted by the software in your host machine\n",
      "Error occured while fetching data from https://www.goodreads.com/review/list/28927465?page=12: [WinError 10053] An established connection was aborted by the software in your host machine\n",
      "Error occured while fetching data from https://www.goodreads.com/review/list/108243494?page=40: [WinError 10053] An established connection was aborted by the software in your host machine\n",
      "Error occured while fetching data from https://www.goodreads.com/review/list/108243494?page=39: [WinError 10053] An established connection was aborted by the software in your host machine\n",
      "Error occured while fetching data from https://www.goodreads.com/review/list/48532974?page=43: [WinError 10053] An established connection was aborted by the software in your host machine\n",
      "Error occured while fetching data from https://www.goodreads.com/review/list/48532974?page=19: [WinError 10053] An established connection was aborted by the software in your host machine\n",
      "Error occured while fetching data from https://www.goodreads.com/review/list/137279562?page=14: Server disconnected\n",
      "Error occured while fetching data from https://www.goodreads.com/review/list/137279562?page=12: Server disconnected\n",
      "Error occured while fetching data from https://www.goodreads.com/review/list/137279562?page=42: Server disconnected\n",
      "Error occured while fetching data from https://www.goodreads.com/review/list/108243494?page=20: Server disconnected\n",
      "Error occured while fetching data from https://www.goodreads.com/review/list/137279562?page=2: Server disconnected\n",
      "Error occured while fetching data from https://www.goodreads.com/review/list/3030788?page=25: Server disconnected\n",
      "Error occured while fetching data from https://www.goodreads.com/review/list/137279562?page=32: Server disconnected\n"
     ]
    },
    {
     "name": "stderr",
     "output_type": "stream",
     "text": [
      " 89%|████████▊ | 29782/33593 [1:09:13<08:10,  7.77it/s]"
     ]
    },
    {
     "name": "stdout",
     "output_type": "stream",
     "text": [
      "Error occured while fetching data from https://www.goodreads.com/review/list/25184600?page=225: Server disconnected\n",
      "Error occured while fetching data from https://www.goodreads.com/review/list/161131333?page=6: Cannot connect to host www.goodreads.com:443 ssl:default [An established connection was aborted by the software in your host machine]\n"
     ]
    },
    {
     "name": "stderr",
     "output_type": "stream",
     "text": [
      " 89%|████████▉ | 29851/33593 [1:09:20<07:25,  8.40it/s]"
     ]
    },
    {
     "name": "stdout",
     "output_type": "stream",
     "text": [
      "Error occured while fetching data from https://www.goodreads.com/review/list/2220467?page=3: Server disconnected\n",
      "Error occured while fetching data from https://www.goodreads.com/review/list/2220467?page=2: Server disconnected\n",
      "Error occured while fetching data from https://www.goodreads.com/review/list/2220467?page=1: Server disconnected\n",
      "Error occured while fetching data from https://www.goodreads.com/review/list/131502756?page=7: Server disconnected\n",
      "Error occured while fetching data from https://www.goodreads.com/review/list/131502756?page=2: Server disconnected\n",
      "Error occured while fetching data from https://www.goodreads.com/review/list/131502756?page=6: Server disconnected\n",
      "Error occured while fetching data from https://www.goodreads.com/review/list/131502756?page=4: Server disconnected\n",
      "Error occured while fetching data from https://www.goodreads.com/review/list/131502756?page=5: Server disconnected\n",
      "Error occured while fetching data from https://www.goodreads.com/review/list/161542936?page=4: Server disconnected\n",
      "Error occured while fetching data from https://www.goodreads.com/review/list/161542936?page=5: Server disconnected\n",
      "Error occured while fetching data from https://www.goodreads.com/review/list/161542936?page=3: Server disconnected\n",
      "Error occured while fetching data from https://www.goodreads.com/review/list/161542936?page=2: Server disconnected\n",
      "Error occured while fetching data from https://www.goodreads.com/review/list/161542936?page=1: Server disconnected\n",
      "Error occured while fetching data from https://www.goodreads.com/review/list/51572389?page=3: Server disconnected\n",
      "Error occured while fetching data from https://www.goodreads.com/review/list/161185301?page=18: Server disconnected\n",
      "Error occured while fetching data from https://www.goodreads.com/review/list/161185301?page=9: Server disconnected\n",
      "Error occured while fetching data from https://www.goodreads.com/review/list/51572389?page=1: Server disconnected\n",
      "Error occured while fetching data from https://www.goodreads.com/review/list/51572389?page=2: Server disconnected\n",
      "Error occured while fetching data from https://www.goodreads.com/review/list/54652136?page=2: Server disconnected\n",
      "Error occured while fetching data from https://www.goodreads.com/review/list/54652136?page=6: Server disconnected\n",
      "Error occured while fetching data from https://www.goodreads.com/review/list/128350069?page=4: Server disconnected\n",
      "Error occured while fetching data from https://www.goodreads.com/review/list/54652136?page=5: Server disconnected\n",
      "Error occured while fetching data from https://www.goodreads.com/review/list/54652136?page=7: Server disconnected\n",
      "Error occured while fetching data from https://www.goodreads.com/review/list/30759946?page=2: Server disconnected\n",
      "Error occured while fetching data from https://www.goodreads.com/review/list/30759946?page=1: Server disconnected\n",
      "Error occured while fetching data from https://www.goodreads.com/review/list/128350069?page=5: Server disconnected\n",
      "Error occured while fetching data from https://www.goodreads.com/review/list/54652136?page=1: Server disconnected\n"
     ]
    },
    {
     "name": "stderr",
     "output_type": "stream",
     "text": [
      " 89%|████████▉ | 29959/33593 [1:09:31<06:51,  8.83it/s]"
     ]
    },
    {
     "name": "stdout",
     "output_type": "stream",
     "text": [
      "Error occured while fetching data from https://www.goodreads.com/review/list/93688875?page=20: Server disconnected\n"
     ]
    },
    {
     "name": "stderr",
     "output_type": "stream",
     "text": [
      " 89%|████████▉ | 29977/33593 [1:09:33<07:22,  8.18it/s]"
     ]
    },
    {
     "name": "stdout",
     "output_type": "stream",
     "text": [
      "Error occured while fetching data from https://www.goodreads.com/review/list/26741582?page=9: Server disconnected\n",
      "Error occured while fetching data from https://www.goodreads.com/review/list/1969584?page=132: Server disconnected\n",
      "Error occured while fetching data from https://www.goodreads.com/review/list/115818734?page=12: Server disconnected\n",
      "Error occured while fetching data from https://www.goodreads.com/review/list/1969584?page=226: Server disconnected\n",
      "Error occured while fetching data from https://www.goodreads.com/review/list/115818734?page=20: Server disconnected\n",
      "Error occured while fetching data from https://www.goodreads.com/review/list/115818734?page=18: Server disconnected\n",
      "Error occured while fetching data from https://www.goodreads.com/review/list/93688875?page=24: Server disconnected\n",
      "Error occured while fetching data from https://www.goodreads.com/review/list/63873476?page=24: Server disconnected\n",
      "Error occured while fetching data from https://www.goodreads.com/review/list/63873476?page=48: Server disconnected\n",
      "Error occured while fetching data from https://www.goodreads.com/review/list/63873476?page=45: Server disconnected\n",
      "Error occured while fetching data from https://www.goodreads.com/review/list/5850417?page=2: Server disconnected\n",
      "Error occured while fetching data from https://www.goodreads.com/review/list/63873476?page=44: Server disconnected\n",
      "Error occured while fetching data from https://www.goodreads.com/review/list/63873476?page=13: Server disconnected\n",
      "Error occured while fetching data from https://www.goodreads.com/review/list/26741582?page=22: Server disconnected\n",
      "Error occured while fetching data from https://www.goodreads.com/review/list/5850417?page=8: Server disconnected\n",
      "Error occured while fetching data from https://www.goodreads.com/review/list/5850417?page=1: Server disconnected\n",
      "Error occured while fetching data from https://www.goodreads.com/review/list/26741582?page=55: Server disconnected\n",
      "Error occured while fetching data from https://www.goodreads.com/review/list/5850417?page=13: Server disconnected\n",
      "Error occured while fetching data from https://www.goodreads.com/review/list/93688875?page=1: Server disconnected\n",
      "Error occured while fetching data from https://www.goodreads.com/review/list/26741582?page=40: Server disconnected\n",
      "Error occured while fetching data from https://www.goodreads.com/review/list/26741582?page=15: Server disconnected\n",
      "Error occured while fetching data from https://www.goodreads.com/review/list/93688875?page=2: Server disconnected\n",
      "Error occured while fetching data from https://www.goodreads.com/review/list/5850417?page=21: Server disconnected\n"
     ]
    },
    {
     "name": "stderr",
     "output_type": "stream",
     "text": [
      " 89%|████████▉ | 30019/33593 [1:09:38<07:12,  8.26it/s]"
     ]
    },
    {
     "name": "stdout",
     "output_type": "stream",
     "text": [
      "Error occured while fetching data from https://www.goodreads.com/review/list/119331679?page=18: Server disconnected\n",
      "Error occured while fetching data from https://www.goodreads.com/review/list/119331679?page=21: Server disconnected\n",
      "Error occured while fetching data from https://www.goodreads.com/review/list/119331679?page=5: Server disconnected\n",
      "Error occured while fetching data from https://www.goodreads.com/review/list/123627489?page=6: Server disconnected\n",
      "Error occured while fetching data from https://www.goodreads.com/review/list/131266661?page=17: Server disconnected\n",
      "Error occured while fetching data from https://www.goodreads.com/review/list/131266661?page=16: Server disconnected\n",
      "Error occured while fetching data from https://www.goodreads.com/review/list/256940?page=5: Server disconnected\n",
      "Error occured while fetching data from https://www.goodreads.com/review/list/1843184?page=17: Server disconnected\n",
      "Error occured while fetching data from https://www.goodreads.com/review/list/256940?page=12: Server disconnected\n",
      "Error occured while fetching data from https://www.goodreads.com/review/list/1843184?page=10: Server disconnected\n",
      "Error occured while fetching data from https://www.goodreads.com/review/list/1843184?page=20: Server disconnected\n",
      "Error occured while fetching data from https://www.goodreads.com/review/list/1843184?page=23: Server disconnected\n",
      "Error occured while fetching data from https://www.goodreads.com/review/list/131266661?page=10: Server disconnected\n",
      "Error occured while fetching data from https://www.goodreads.com/review/list/256940?page=6: Server disconnected\n",
      "Error occured while fetching data from https://www.goodreads.com/review/list/256940?page=19: Server disconnected\n",
      "Error occured while fetching data from https://www.goodreads.com/review/list/17960891?page=15: Server disconnected\n",
      "Error occured while fetching data from https://www.goodreads.com/review/list/17960891?page=4: Server disconnected\n",
      "Error occured while fetching data from https://www.goodreads.com/review/list/17960891?page=13: Server disconnected\n",
      "Error occured while fetching data from https://www.goodreads.com/review/list/17960891?page=5: Server disconnected\n",
      "Error occured while fetching data from https://www.goodreads.com/review/list/17960891?page=12: Server disconnected\n",
      "Error occured while fetching data from https://www.goodreads.com/review/list/123627489?page=10: Server disconnected\n",
      "Error occured while fetching data from https://www.goodreads.com/review/list/123627489?page=7: Server disconnected\n",
      "Error occured while fetching data from https://www.goodreads.com/review/list/123627489?page=13: Server disconnected\n",
      "Error occured while fetching data from https://www.goodreads.com/review/list/123627489?page=1: Server disconnected\n",
      "Error occured while fetching data from https://www.goodreads.com/review/list/256940?page=8: Server disconnected\n",
      "Error occured while fetching data from https://www.goodreads.com/review/list/131266661?page=11: Server disconnected\n",
      "Error occured while fetching data from https://www.goodreads.com/review/list/131266661?page=9: Server disconnected\n"
     ]
    },
    {
     "name": "stderr",
     "output_type": "stream",
     "text": [
      " 90%|████████▉ | 30162/33593 [1:09:53<06:33,  8.72it/s]"
     ]
    },
    {
     "name": "stdout",
     "output_type": "stream",
     "text": [
      "Error occured while fetching data from https://www.goodreads.com/review/list/70782498?page=60: Server disconnected\n",
      "Error occured while fetching data from https://www.goodreads.com/review/list/135640048?page=1: Server disconnected\n",
      "Error occured while fetching data from https://www.goodreads.com/review/list/161257874?page=3: Server disconnected\n",
      "Error occured while fetching data from https://www.goodreads.com/review/list/161257874?page=2: Server disconnected\n",
      "Error occured while fetching data from https://www.goodreads.com/review/list/161257874?page=1: Server disconnected\n",
      "Error occured while fetching data from https://www.goodreads.com/review/list/36950658?page=76: Server disconnected\n",
      "Error occured while fetching data from https://www.goodreads.com/review/list/36950658?page=63: Server disconnected\n",
      "Error occured while fetching data from https://www.goodreads.com/review/list/36950658?page=70: Server disconnected\n",
      "Error occured while fetching data from https://www.goodreads.com/review/list/36950658?page=64: Server disconnected\n",
      "Error occured while fetching data from https://www.goodreads.com/review/list/36950658?page=27: Server disconnected\n",
      "Error occured while fetching data from https://www.goodreads.com/review/list/9246169?page=111: Server disconnected\n",
      "Error occured while fetching data from https://www.goodreads.com/review/list/9246169?page=25: Server disconnected\n",
      "Error occured while fetching data from https://www.goodreads.com/review/list/9246169?page=129: Server disconnected\n",
      "Error occured while fetching data from https://www.goodreads.com/review/list/9246169?page=158: Server disconnected\n",
      "Error occured while fetching data from https://www.goodreads.com/review/list/9246169?page=46: Server disconnected\n",
      "Error occured while fetching data from https://www.goodreads.com/review/list/40078791?page=151: Server disconnected\n",
      "Error occured while fetching data from https://www.goodreads.com/review/list/40078791?page=89: Server disconnected\n",
      "Error occured while fetching data from https://www.goodreads.com/review/list/40078791?page=36: Server disconnected\n",
      "Error occured while fetching data from https://www.goodreads.com/review/list/40078791?page=11: Server disconnected\n"
     ]
    },
    {
     "name": "stderr",
     "output_type": "stream",
     "text": [
      " 90%|████████▉ | 30186/33593 [1:09:58<07:47,  7.28it/s]"
     ]
    },
    {
     "name": "stdout",
     "output_type": "stream",
     "text": [
      "Error occured while fetching data from https://www.goodreads.com/review/list/52870273?page=297: Server disconnected\n",
      "Error occured while fetching data from https://www.goodreads.com/review/list/52870273?page=307: Server disconnected\n",
      "Error occured while fetching data from https://www.goodreads.com/review/list/52870273?page=417: Server disconnected\n",
      "Error occured while fetching data from https://www.goodreads.com/review/list/40078791?page=14: Server disconnected\n",
      "Error occured while fetching data from https://www.goodreads.com/review/list/52870273?page=65: Server disconnected\n"
     ]
    },
    {
     "name": "stderr",
     "output_type": "stream",
     "text": [
      " 90%|████████▉ | 30204/33593 [1:10:00<08:00,  7.06it/s]"
     ]
    },
    {
     "name": "stdout",
     "output_type": "stream",
     "text": [
      "Error occured while fetching data from https://www.goodreads.com/review/list/27775106?page=7: Server disconnected\n",
      "Error occured while fetching data from https://www.goodreads.com/review/list/114780411?page=12: Server disconnected\n",
      "Error occured while fetching data from https://www.goodreads.com/review/list/27775106?page=9: Server disconnected\n",
      "Error occured while fetching data from https://www.goodreads.com/review/list/27775106?page=5: Server disconnected\n",
      "Error occured while fetching data from https://www.goodreads.com/review/list/27775106?page=2: Server disconnected\n",
      "Error occured while fetching data from https://www.goodreads.com/review/list/27775106?page=8: Server disconnected\n",
      "Error occured while fetching data from https://www.goodreads.com/review/list/114780411?page=7: Server disconnected\n",
      "Error occured while fetching data from https://www.goodreads.com/review/list/43057486?page=4: Server disconnected\n",
      "Error occured while fetching data from https://www.goodreads.com/review/list/4281507?page=1: Server disconnected\n",
      "Error occured while fetching data from https://www.goodreads.com/review/list/114780411?page=4: Server disconnected\n",
      "Error occured while fetching data from https://www.goodreads.com/review/list/4281507?page=5: Server disconnected\n",
      "Error occured while fetching data from https://www.goodreads.com/review/list/114780411?page=15: Server disconnected\n",
      "Error occured while fetching data from https://www.goodreads.com/review/list/161480250?page=3: Server disconnected\n",
      "Error occured while fetching data from https://www.goodreads.com/review/list/161480250?page=6: Server disconnected\n",
      "Error occured while fetching data from https://www.goodreads.com/review/list/161480250?page=5: Server disconnected\n",
      "Error occured while fetching data from https://www.goodreads.com/review/list/161480250?page=4: Server disconnected\n",
      "Error occured while fetching data from https://www.goodreads.com/review/list/6917862?page=19: Server disconnected\n",
      "Error occured while fetching data from https://www.goodreads.com/review/list/6917862?page=40: Server disconnected\n",
      "Error occured while fetching data from https://www.goodreads.com/review/list/6917862?page=206: Server disconnected\n",
      "Error occured while fetching data from https://www.goodreads.com/review/list/6917862?page=242: Server disconnected\n",
      "Error occured while fetching data from https://www.goodreads.com/review/list/161480250?page=2: Server disconnected\n",
      "Error occured while fetching data from https://www.goodreads.com/review/list/6917862?page=239: Server disconnected\n",
      "Error occured while fetching data from https://www.goodreads.com/review/list/43057486?page=16: Server disconnected\n",
      "Error occured while fetching data from https://www.goodreads.com/review/list/43057486?page=5: Server disconnected\n",
      "Error occured while fetching data from https://www.goodreads.com/review/list/43057486?page=13: Server disconnected\n",
      "Error occured while fetching data from https://www.goodreads.com/review/list/114780411?page=1: Server disconnected\n",
      "Error occured while fetching data from https://www.goodreads.com/review/list/43057486?page=15: Server disconnected\n"
     ]
    },
    {
     "name": "stderr",
     "output_type": "stream",
     "text": [
      " 90%|█████████ | 30382/33593 [1:10:20<07:02,  7.60it/s]"
     ]
    },
    {
     "name": "stdout",
     "output_type": "stream",
     "text": [
      "Error occured while fetching data from https://www.goodreads.com/review/list/161324429?page=2: Server disconnected\n",
      "Error occured while fetching data from https://www.goodreads.com/review/list/21960265?page=204: Server disconnected\n",
      "Error occured while fetching data from https://www.goodreads.com/review/list/161324429?page=1: Server disconnected\n",
      "Error occured while fetching data from https://www.goodreads.com/review/list/157534771?page=6: Server disconnected\n",
      "Error occured while fetching data from https://www.goodreads.com/review/list/157534771?page=7: Server disconnected\n",
      "Error occured while fetching data from https://www.goodreads.com/review/list/157534771?page=11: Server disconnected\n",
      "Error occured while fetching data from https://www.goodreads.com/review/list/52680642?page=1: Cannot connect to host www.goodreads.com:443 ssl:default [An established connection was aborted by the software in your host machine]\n",
      "Error occured while fetching data from https://www.goodreads.com/review/list/52680642?page=2: Cannot connect to host www.goodreads.com:443 ssl:default [An established connection was aborted by the software in your host machine]\n",
      "Error occured while fetching data from https://www.goodreads.com/review/list/108727867?page=3: Cannot connect to host www.goodreads.com:443 ssl:default [An established connection was aborted by the software in your host machine]\n",
      "Error occured while fetching data from https://www.goodreads.com/review/list/108727867?page=4: Cannot connect to host www.goodreads.com:443 ssl:default [An established connection was aborted by the software in your host machine]\n",
      "Error occured while fetching data from https://www.goodreads.com/review/list/108727867?page=1: Cannot connect to host www.goodreads.com:443 ssl:default [An established connection was aborted by the software in your host machine]\n",
      "Error occured while fetching data from https://www.goodreads.com/review/list/155367812?page=5: Cannot connect to host www.goodreads.com:443 ssl:default [An established connection was aborted by the software in your host machine]\n",
      "Error occured while fetching data from https://www.goodreads.com/review/list/23317969?page=4: Cannot connect to host www.goodreads.com:443 ssl:default [An established connection was aborted by the software in your host machine]\n",
      "Error occured while fetching data from https://www.goodreads.com/review/list/108727867?page=6: Cannot connect to host www.goodreads.com:443 ssl:default [An established connection was aborted by the software in your host machine]\n",
      "Error occured while fetching data from https://www.goodreads.com/review/list/108727867?page=7: Cannot connect to host www.goodreads.com:443 ssl:default [An established connection was aborted by the software in your host machine]\n",
      "Error occured while fetching data from https://www.goodreads.com/review/list/21165897?page=1: Cannot connect to host www.goodreads.com:443 ssl:default [An established connection was aborted by the software in your host machine]\n",
      "Error occured while fetching data from https://www.goodreads.com/review/list/23317969?page=6: Cannot connect to host www.goodreads.com:443 ssl:default [An established connection was aborted by the software in your host machine]\n",
      "Error occured while fetching data from https://www.goodreads.com/review/list/23317969?page=2: Cannot connect to host www.goodreads.com:443 ssl:default [An established connection was aborted by the software in your host machine]\n",
      "Error occured while fetching data from https://www.goodreads.com/review/list/155367812?page=1: Cannot connect to host www.goodreads.com:443 ssl:default [An established connection was aborted by the software in your host machine]\n",
      "Error occured while fetching data from https://www.goodreads.com/review/list/23317969?page=1: Cannot connect to host www.goodreads.com:443 ssl:default [An established connection was aborted by the software in your host machine]\n",
      "Error occured while fetching data from https://www.goodreads.com/review/list/238070?page=82: Cannot connect to host www.goodreads.com:443 ssl:default [An established connection was aborted by the software in your host machine]\n",
      "Error occured while fetching data from https://www.goodreads.com/review/list/155367812?page=9: Cannot connect to host www.goodreads.com:443 ssl:default [An established connection was aborted by the software in your host machine]\n",
      "Error occured while fetching data from https://www.goodreads.com/review/list/16307856?page=69: Cannot connect to host www.goodreads.com:443 ssl:default [An established connection was aborted by the software in your host machine]\n",
      "Error occured while fetching data from https://www.goodreads.com/review/list/16307856?page=64: Cannot connect to host www.goodreads.com:443 ssl:default [An established connection was aborted by the software in your host machine]\n",
      "Error occured while fetching data from https://www.goodreads.com/review/list/155367812?page=10: Cannot connect to host www.goodreads.com:443 ssl:default [An established connection was aborted by the software in your host machine]\n",
      "Error occured while fetching data from https://www.goodreads.com/review/list/16307856?page=10: Cannot connect to host www.goodreads.com:443 ssl:default [An established connection was aborted by the software in your host machine]\n",
      "Error occured while fetching data from https://www.goodreads.com/review/list/155367812?page=3: Cannot connect to host www.goodreads.com:443 ssl:default [An established connection was aborted by the software in your host machine]\n",
      "Error occured while fetching data from https://www.goodreads.com/review/list/35251024?page=7: Cannot connect to host www.goodreads.com:443 ssl:default [An established connection was aborted by the software in your host machine]\n",
      "Error occured while fetching data from https://www.goodreads.com/review/list/7775823?page=24: Cannot connect to host www.goodreads.com:443 ssl:default [An established connection was aborted by the software in your host machine]\n",
      "Error occured while fetching data from https://www.goodreads.com/review/list/35251024?page=28: Cannot connect to host www.goodreads.com:443 ssl:default [An established connection was aborted by the software in your host machine]\n",
      "Error occured while fetching data from https://www.goodreads.com/review/list/35251024?page=11: Cannot connect to host www.goodreads.com:443 ssl:default [An established connection was aborted by the software in your host machine]\n",
      "Error occured while fetching data from https://www.goodreads.com/review/list/35251024?page=101: Cannot connect to host www.goodreads.com:443 ssl:default [An established connection was aborted by the software in your host machine]\n",
      "Error occured while fetching data from https://www.goodreads.com/review/list/238070?page=183: Cannot connect to host www.goodreads.com:443 ssl:default [An established connection was aborted by the software in your host machine]\n",
      "Error occured while fetching data from https://www.goodreads.com/review/list/35251024?page=66: Cannot connect to host www.goodreads.com:443 ssl:default [An established connection was aborted by the software in your host machine]\n",
      "Error occured while fetching data from https://www.goodreads.com/review/list/23317969?page=3: Cannot connect to host www.goodreads.com:443 ssl:default [An established connection was aborted by the software in your host machine]\n",
      "Error occured while fetching data from https://www.goodreads.com/review/list/136955222?page=6: Cannot connect to host www.goodreads.com:443 ssl:default [An established connection was aborted by the software in your host machine]\n",
      "Error occured while fetching data from https://www.goodreads.com/review/list/136955222?page=2: Cannot connect to host www.goodreads.com:443 ssl:default [An established connection was aborted by the software in your host machine]\n",
      "Error occured while fetching data from https://www.goodreads.com/review/list/136955222?page=3: Cannot connect to host www.goodreads.com:443 ssl:default [An established connection was aborted by the software in your host machine]\n",
      "Error occured while fetching data from https://www.goodreads.com/review/list/3849903?page=40: Cannot connect to host www.goodreads.com:443 ssl:default [An established connection was aborted by the software in your host machine]\n",
      "Error occured while fetching data from https://www.goodreads.com/review/list/7775823?page=60: Cannot connect to host www.goodreads.com:443 ssl:default [An established connection was aborted by the software in your host machine]\n",
      "Error occured while fetching data from https://www.goodreads.com/review/list/136955222?page=4: Cannot connect to host www.goodreads.com:443 ssl:default [An established connection was aborted by the software in your host machine]\n",
      "Error occured while fetching data from https://www.goodreads.com/review/list/3849903?page=99: Cannot connect to host www.goodreads.com:443 ssl:default [An established connection was aborted by the software in your host machine]\n",
      "Error occured while fetching data from https://www.goodreads.com/review/list/3849903?page=284: Cannot connect to host www.goodreads.com:443 ssl:default [An established connection was aborted by the software in your host machine]\n",
      "Error occured while fetching data from https://www.goodreads.com/review/list/3849903?page=364: Cannot connect to host www.goodreads.com:443 ssl:default [An established connection was aborted by the software in your host machine]\n",
      "Error occured while fetching data from https://www.goodreads.com/review/list/7775823?page=12: Cannot connect to host www.goodreads.com:443 ssl:default [An established connection was aborted by the software in your host machine]\n",
      "Error occured while fetching data from https://www.goodreads.com/review/list/136955222?page=1: Cannot connect to host www.goodreads.com:443 ssl:default [An established connection was aborted by the software in your host machine]\n",
      "Error occured while fetching data from https://www.goodreads.com/review/list/3849903?page=210: Cannot connect to host www.goodreads.com:443 ssl:default [An established connection was aborted by the software in your host machine]\n",
      "Error occured while fetching data from https://www.goodreads.com/review/list/52680642?page=4: Cannot connect to host www.goodreads.com:443 ssl:default [An established connection was aborted by the software in your host machine]\n",
      "Error occured while fetching data from https://www.goodreads.com/review/list/7775823?page=13: Cannot connect to host www.goodreads.com:443 ssl:default [An established connection was aborted by the software in your host machine]\n",
      "Error occured while fetching data from https://www.goodreads.com/review/list/7775823?page=59: Cannot connect to host www.goodreads.com:443 ssl:default [An established connection was aborted by the software in your host machine]\n",
      "Error occured while fetching data from https://www.goodreads.com/review/list/52680642?page=3: Cannot connect to host www.goodreads.com:443 ssl:default [An established connection was aborted by the software in your host machine]\n"
     ]
    },
    {
     "name": "stderr",
     "output_type": "stream",
     "text": [
      " 91%|█████████ | 30582/33593 [1:10:40<06:55,  7.24it/s]"
     ]
    },
    {
     "name": "stdout",
     "output_type": "stream",
     "text": [
      "Error occured while fetching data from https://www.goodreads.com/review/list/64024773?page=16: Server disconnected\n",
      "Error occured while fetching data from https://www.goodreads.com/review/list/123978716?page=7: Server disconnected\n",
      "Error occured while fetching data from https://www.goodreads.com/review/list/123978716?page=5: Server disconnected\n",
      "Error occured while fetching data from https://www.goodreads.com/review/list/139947514?page=1: Server disconnected\n",
      "Error occured while fetching data from https://www.goodreads.com/review/list/123978716?page=4: Server disconnected\n",
      "Error occured while fetching data from https://www.goodreads.com/review/list/123978716?page=6: Server disconnected\n",
      "Error occured while fetching data from https://www.goodreads.com/review/list/145321796?page=5: Server disconnected\n",
      "Error occured while fetching data from https://www.goodreads.com/review/list/131586302?page=2: Server disconnected\n",
      "Error occured while fetching data from https://www.goodreads.com/review/list/52847611?page=5: Server disconnected\n",
      "Error occured while fetching data from https://www.goodreads.com/review/list/131586302?page=4: Server disconnected\n",
      "Error occured while fetching data from https://www.goodreads.com/review/list/156246433?page=7: Server disconnected\n",
      "Error occured while fetching data from https://www.goodreads.com/review/list/123978716?page=3: Server disconnected\n",
      "Error occured while fetching data from https://www.goodreads.com/review/list/160965826?page=1: Server disconnected\n",
      "Error occured while fetching data from https://www.goodreads.com/review/list/52847611?page=3: Server disconnected\n",
      "Error occured while fetching data from https://www.goodreads.com/review/list/52847611?page=94: Server disconnected\n",
      "Error occured while fetching data from https://www.goodreads.com/review/list/160965826?page=3: Server disconnected\n",
      "Error occured while fetching data from https://www.goodreads.com/review/list/131586302?page=1: Server disconnected\n",
      "Error occured while fetching data from https://www.goodreads.com/review/list/160835972?page=2: [WinError 10053] An established connection was aborted by the software in your host machine\n",
      "Error occured while fetching data from https://www.goodreads.com/review/list/64024773?page=13: Server disconnected\n",
      "Error occured while fetching data from https://www.goodreads.com/review/list/139947514?page=2: Server disconnected\n",
      "Error occured while fetching data from https://www.goodreads.com/review/list/55519726?page=7: Server disconnected\n",
      "Error occured while fetching data from https://www.goodreads.com/review/list/145321796?page=1: Server disconnected\n",
      "Error occured while fetching data from https://www.goodreads.com/review/list/55519726?page=4: Server disconnected\n",
      "Error occured while fetching data from https://www.goodreads.com/review/list/156246433?page=2: Server disconnected\n",
      "Error occured while fetching data from https://www.goodreads.com/review/list/64024773?page=6: Server disconnected\n",
      "Error occured while fetching data from https://www.goodreads.com/review/list/107340197?page=10: Server disconnected\n",
      "Error occured while fetching data from https://www.goodreads.com/review/list/107340197?page=9: Server disconnected\n",
      "Error occured while fetching data from https://www.goodreads.com/review/list/131586302?page=3: Server disconnected\n",
      "Error occured while fetching data from https://www.goodreads.com/review/list/145321796?page=7: Server disconnected\n",
      "Error occured while fetching data from https://www.goodreads.com/review/list/107340197?page=2: Server disconnected\n",
      "Error occured while fetching data from https://www.goodreads.com/review/list/107340197?page=6: Server disconnected\n",
      "Error occured while fetching data from https://www.goodreads.com/review/list/52847611?page=45: Server disconnected\n",
      "Error occured while fetching data from https://www.goodreads.com/review/list/156246433?page=6: Server disconnected\n",
      "Error occured while fetching data from https://www.goodreads.com/review/list/156246433?page=5: Server disconnected\n",
      "Error occured while fetching data from https://www.goodreads.com/review/list/145321796?page=9: Server disconnected\n",
      "Error occured while fetching data from https://www.goodreads.com/review/list/145321796?page=11: Server disconnected\n",
      "Error occured while fetching data from https://www.goodreads.com/review/list/52847611?page=70: Server disconnected\n",
      "Error occured while fetching data from https://www.goodreads.com/review/list/55519726?page=1: Server disconnected\n",
      "Error occured while fetching data from https://www.goodreads.com/review/list/139947514?page=7: Server disconnected\n",
      "Error occured while fetching data from https://www.goodreads.com/review/list/64024773?page=3: Server disconnected\n",
      "Error occured while fetching data from https://www.goodreads.com/review/list/160743929?page=2: Server disconnected\n",
      "Error occured while fetching data from https://www.goodreads.com/review/list/160743929?page=1: Server disconnected\n",
      "Error occured while fetching data from https://www.goodreads.com/review/list/160965826?page=2: Server disconnected\n",
      "Error occured while fetching data from https://www.goodreads.com/review/list/156246433?page=3: Server disconnected\n",
      "Error occured while fetching data from https://www.goodreads.com/review/list/139947514?page=4: Server disconnected\n",
      "Error occured while fetching data from https://www.goodreads.com/review/list/139947514?page=3: Server disconnected\n",
      "Error occured while fetching data from https://www.goodreads.com/review/list/55519726?page=8: Server disconnected\n",
      "Error occured while fetching data from https://www.goodreads.com/review/list/55519726?page=3: Server disconnected\n",
      "Error occured while fetching data from https://www.goodreads.com/review/list/107340197?page=7: Server disconnected\n",
      "Error occured while fetching data from https://www.goodreads.com/review/list/64024773?page=12: Server disconnected\n",
      "Error occured while fetching data from https://www.goodreads.com/review/list/131586302?page=5: Server disconnected\n"
     ]
    },
    {
     "name": "stderr",
     "output_type": "stream",
     "text": [
      "100%|██████████| 33593/33593 [1:18:08<00:00,  7.17it/s]\n"
     ]
    },
    {
     "name": "stdout",
     "output_type": "stream",
     "text": [
      "1928\n"
     ]
    },
    {
     "name": "stderr",
     "output_type": "stream",
     "text": [
      "100%|██████████| 1928/1928 [05:15<00:00,  6.10it/s]\n"
     ]
    },
    {
     "name": "stdout",
     "output_type": "stream",
     "text": [
      "20\n"
     ]
    },
    {
     "name": "stderr",
     "output_type": "stream",
     "text": [
      "100%|██████████| 20/20 [01:00<00:00,  3.01s/it]\n"
     ]
    },
    {
     "name": "stdout",
     "output_type": "stream",
     "text": [
      "1\n"
     ]
    },
    {
     "name": "stderr",
     "output_type": "stream",
     "text": [
      "100%|██████████| 1/1 [00:01<00:00,  1.14s/it]\n"
     ]
    },
    {
     "name": "stdout",
     "output_type": "stream",
     "text": [
      "0\n"
     ]
    }
   ],
   "source": [
    "# THIS MODULE ITERATES OVER ALL USER DATA\n",
    "# each page contains a list of 20 books that user has read\n",
    "# We then save each book to the list of books to gather data for\n",
    "\n",
    "# FIGURE OUT TIMEOUT ERRORS\n",
    "\n",
    "async def get_user_read_books(session, url, user):\n",
    "    try:\n",
    "        async with session.get(url, params=params, cookies=cookies, headers=headers) as response:\n",
    "            ur_page = await response.text()\n",
    "            ur_soup = BeautifulSoup(ur_page, 'html.parser')\n",
    "\n",
    "            # Find what each user has read (as book url)\n",
    "            user_read = []\n",
    "            books = ur_soup.find(id='booksBody')\n",
    "\n",
    "            # ERROR\n",
    "            if books == None:\n",
    "                return ([url, user])\n",
    "\n",
    "            # SAVE\n",
    "            books = books.find_all('tr')\n",
    "            for b in books: \n",
    "                book_link = b.find('a',href = True)['href']\n",
    "                user_read.append((book_link,user))\n",
    "            read_history.extend(user_read)\n",
    "\n",
    "            # Finalize\n",
    "            # print(f\"READ\", end=' ')\n",
    "            return([])\n",
    "            # return(user_read, None)\n",
    "    except Exception as e:\n",
    "        # Handle the exception and log it\n",
    "        print(f\"Error occured while fetching data from {url}: {e}\")\n",
    "        return([url, user])\n",
    "\n",
    "async def get_read_books(urls_to_view):\n",
    "    async with aiohttp.ClientSession(trust_env=True,timeout=aiohttp.ClientTimeout(total=60*60*24)) as session:\n",
    "\n",
    "        tasks = []\n",
    "        for rev_url, user in urls_to_view:\n",
    "            tasks.append(asyncio.ensure_future(get_user_read_books(session, rev_url, user)))\n",
    "\n",
    "        # failed_urls = await asyncio.gather(*tasks)\n",
    "        failed_urls = await tqdm.asyncio.tqdm_asyncio.gather(*tasks)\n",
    "        \n",
    "        failed_urls_return = []\n",
    "        for url in failed_urls:\n",
    "            if url != []:\n",
    "                failed_urls_return.append(url)\n",
    "\n",
    "        return(failed_urls_return)\n",
    "\n",
    "tot_count = 0\n",
    "read_history = []\n",
    "while len(review_urls) > 0:\n",
    "    prev_len = len(review_urls) \n",
    "    review_urls = asyncio.run(get_read_books(review_urls))\n",
    "    print(len(review_urls))\n",
    "\n",
    "    with open('users_bookshelves_kv.json', 'w') as file:\n",
    "        json.dump(list(read_history), file)\n",
    "    if len(review_urls) == prev_len:\n",
    "        break"
   ]
  },
  {
   "cell_type": "code",
   "execution_count": 7,
   "metadata": {},
   "outputs": [],
   "source": [
    "with open('users_bookshelves_kv.json', 'w') as file:\n",
    "    json.dump(list(read_history), file, indent=2)"
   ]
  },
  {
   "cell_type": "code",
   "execution_count": 9,
   "metadata": {},
   "outputs": [],
   "source": [
    "books = [i[0] for i in read_history]"
   ]
  },
  {
   "cell_type": "code",
   "execution_count": 12,
   "metadata": {},
   "outputs": [
    {
     "data": {
      "text/plain": [
       "306420"
      ]
     },
     "execution_count": 12,
     "metadata": {},
     "output_type": "execute_result"
    }
   ],
   "source": [
    "len(set(books))"
   ]
  },
  {
   "cell_type": "code",
   "execution_count": null,
   "metadata": {},
   "outputs": [],
   "source": []
  }
 ],
 "metadata": {
  "kernelspec": {
   "display_name": "venv",
   "language": "python",
   "name": "python3"
  },
  "language_info": {
   "codemirror_mode": {
    "name": "ipython",
    "version": 3
   },
   "file_extension": ".py",
   "mimetype": "text/x-python",
   "name": "python",
   "nbconvert_exporter": "python",
   "pygments_lexer": "ipython3",
   "version": "3.9.13 | packaged by conda-forge | (main, May 27 2022, 16:50:36) [MSC v.1929 64 bit (AMD64)]"
  },
  "orig_nbformat": 4,
  "vscode": {
   "interpreter": {
    "hash": "761d61ca21f6857af543f72191e436a1d6147f1419ad99393827cafda0e8d283"
   }
  }
 },
 "nbformat": 4,
 "nbformat_minor": 2
}
