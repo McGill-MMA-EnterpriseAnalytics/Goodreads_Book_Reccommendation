{
 "cells": [
  {
   "attachments": {},
   "cell_type": "markdown",
   "metadata": {},
   "source": [
    "Import header and cookie information to sign into goodreads"
   ]
  },
  {
   "cell_type": "code",
   "execution_count": 17,
   "metadata": {},
   "outputs": [],
   "source": [
    "# Asynchronous\n",
    "import nest_asyncio\n",
    "nest_asyncio.apply()\n",
    "import asyncio\n",
    "import aiohttp\n",
    "import json\n",
    "\n",
    "import tqdm.asyncio\n",
    "import requests\n",
    "from pprint import pprint\n",
    "import datetime\n",
    "from bs4 import BeautifulSoup\n",
    "\n",
    "import pandas as pd\n",
    "import numpy as np\n",
    "import json\n",
    "\n",
    "import re\n",
    "cookies = {\n",
    "    'ccsid': '027-9406763-1350835',\n",
    "    '__qca': 'P0-867993267-1671835417644',\n",
    "    'p': 'BFnM5Q76wF0shLrczPEWD6Ai6glvalBOI0HQnM7wAheYffUa',\n",
    "    'likely_has_account': 'true',\n",
    "    'srb_8': '0_ar',\n",
    "    'locale': 'en',\n",
    "    'csm-sid': '438-4025740-7454350',\n",
    "    'allow_behavioral_targeting': 'true',\n",
    "    'session-id': '147-4067731-5921029',\n",
    "    'lc-main': 'en_US',\n",
    "    'logged_out_browsing_page_count': '2',\n",
    "    'ubid-main': '131-6414756-0108314',\n",
    "    'csm-hit': 'tb:9FKSJEW3PZPAQZKSV74Z+s-9FKSJEW3PZPAQZKSV74Z|1675549894918&t:1675549894919&adb:adblk_yes',\n",
    "    'session-id-time': '2306269930l',\n",
    "    'session-token': 'fmlMtndkzGiWYItedsruMqFs9+7dbrKkjWxwS050IWs57BCY8RQJGXxU8qPn+6lNucog+VtoV/qrLn6eBpe8GwFqeSA75LzytrwlvgKScLWr62XYbJJg36UcoVnTCNaBAUkT+jhZdWNLpHXEQ/T3fsq03ctsMB7GChLcVrF/10rEk0ETQ5LmuUN5ordUvBjgbgf/wLazQPbG5Ia8rmhh/Gyptwz9N0ilyQSLx5h7pVc1fl4z+U3O3seFJdO2xI8M',\n",
    "    'x-main': '\"QKUGsTWzgOIn1MQ?MLW6M7?W9sXe6vT8lOfYIRdLo30O9fDyRRuxqM6Up6QliSso\"',\n",
    "    'at-main': 'Atza|IwEBIE9-j0Q56LUPug78YuRWyKfqUI-71kqBUKBSv9o0pgXoEdWRTp3QanY2PVmzS5kuRKhJ-2Qf2Y2Xza8aOzNTehTteyzG_d1HL64CDYGBvcFiM3J3K6q-_iEKTHPqIuFGTC7GBQffrkFancRYWCUTNK7ii9qpL1Qvc-lEAmj5xJFsos2I98msXxsTvgVFMUfr1rhJK6CfvkpCAIziz2lPcltlQCWaFsR10_Le_ytyKVYeIZ18m-F1bXhhejn7mTwQJl0',\n",
    "    'sess-at-main': '\"f/c/JR/xicYEmsJ7sGnJySc4uAQ6ojXuaOFFChXMGho=\"',\n",
    "    '_session_id2': '64c06a0ae25fee31093af8a3bf3f79e1',\n",
    "}\n",
    "\n",
    "headers = {\n",
    "    'Accept': 'text/html,application/xhtml+xml,application/xml;q=0.9,image/avif,image/webp,image/apng,/;q=0.8,application/signed-exchange;v=b3;q=0.9',\n",
    "    'Accept-Language': 'en-US,en;q=0.9',\n",
    "    'Cache-Control': 'max-age=0',\n",
    "    'Connection': 'keep-alive',\n",
    "    # 'Cookie': 'ccsid=027-9406763-1350835; __qca=P0-867993267-1671835417644; p=BFnM5Q76wF0shLrczPEWD6Ai6glvalBOI0HQnM7wAheYffUa; likely_has_account=true; srb_8=0_ar; locale=en; csm-sid=438-4025740-7454350; allow_behavioral_targeting=true; session-id=147-4067731-5921029; lc-main=en_US; logged_out_browsing_page_count=2; ubid-main=131-6414756-0108314; csm-hit=tb:9FKSJEW3PZPAQZKSV74Z+s-9FKSJEW3PZPAQZKSV74Z|1675549894918&t:1675549894919&adb:adblk_yes; session-id-time=2306269930l; session-token=fmlMtndkzGiWYItedsruMqFs9+7dbrKkjWxwS050IWs57BCY8RQJGXxU8qPn+6lNucog+VtoV/qrLn6eBpe8GwFqeSA75LzytrwlvgKScLWr62XYbJJg36UcoVnTCNaBAUkT+jhZdWNLpHXEQ/T3fsq03ctsMB7GChLcVrF/10rEk0ETQ5LmuUN5ordUvBjgbgf/wLazQPbG5Ia8rmhh/Gyptwz9N0ilyQSLx5h7pVc1fl4z+U3O3seFJdO2xI8M; x-main=\"QKUGsTWzgOIn1MQ?MLW6M7?W9sXe6vT8lOfYIRdLo30O9fDyRRuxqM6Up6QliSso\"; at-main=Atza|IwEBIE9-j0Q56LUPug78YuRWyKfqUI-71kqBUKBSv9o0pgXoEdWRTp3QanY2PVmzS5kuRKhJ-2Qf2Y2Xza8aOzNTehTteyzG_d1HL64CDYGBvcFiM3J3K6q-_iEKTHPqIuFGTC7GBQffrkFancRYWCUTNK7ii9qpL1Qvc-lEAmj5xJFsos2I98msXxsTvgVFMUfr1rhJK6CfvkpCAIziz2lPcltlQCWaFsR10_Le_ytyKVYeIZ18m-F1bXhhejn7mTwQJl0; sess-at-main=\"f/c/JR/xicYEmsJ7sGnJySc4uAQ6ojXuaOFFChXMGho=\"; _session_id2=64c06a0ae25fee31093af8a3bf3f79e1',\n",
    "    'If-None-Match': 'W/\"087d62f3d9fcbed8836cb66e1e0c2bef\"',\n",
    "    'Referer': 'https://www.goodreads.com/',\n",
    "    'Sec-Fetch-Dest': 'document',\n",
    "    'Sec-Fetch-Mode': 'navigate',\n",
    "    'Sec-Fetch-Site': 'same-origin',\n",
    "    'Sec-Fetch-User': '?1',\n",
    "    'Upgrade-Insecure-Requests': '1',\n",
    "    'User-Agent': 'Mozilla/5.0 (Macintosh; Intel Mac OS X 10_15_7) AppleWebKit/537.36 (KHTML, like Gecko) Chrome/109.0.0.0 Safari/537.36',\n",
    "    'sec-ch-ua': '\"Not_A Brand\";v=\"99\", \"Google Chrome\";v=\"109\", \"Chromium\";v=\"109\"',\n",
    "    'sec-ch-ua-mobile': '?0',\n",
    "    'sec-ch-ua-platform': '\"macOS\"',\n",
    "}\n",
    "\n",
    "params = {\n",
    "    'ref': 'nav_comm_people',\n",
    "}"
   ]
  },
  {
   "attachments": {},
   "cell_type": "markdown",
   "metadata": {},
   "source": [
    "Open file with all userids"
   ]
  },
  {
   "cell_type": "code",
   "execution_count": 3,
   "metadata": {},
   "outputs": [],
   "source": [
    "f = open('users.json')\n",
    "users = json.load(f)"
   ]
  },
  {
   "attachments": {},
   "cell_type": "markdown",
   "metadata": {},
   "source": [
    "Get user details"
   ]
  },
  {
   "cell_type": "code",
   "execution_count": null,
   "metadata": {},
   "outputs": [],
   "source": [
    "async def get_user_review_pages(session, user):\n",
    "    async with session.get(\"https://www.goodreads.com//user/show/\"+user,\n",
    "                                 params=params, cookies=cookies, headers=headers) as response:\n",
    "        ur_page = await response.text()\n",
    "        ur_soup = BeautifulSoup(ur_page, 'html.parser')\n",
    "        if ur_soup.find(\"div\", class_=\"infoBoxRowItem\") == None:\n",
    "            return(user)\n",
    "        \n",
    "        details = ur_soup.find(\"div\", class_=\"infoBoxRowItem\").text\n",
    "        \n",
    "        details_user = []\n",
    "        details_user.append((details,user))\n",
    "        all_user_details.extend(details_user)\n",
    "        \n",
    "\n",
    "        # Finalize\n",
    "        print(\"READ\", end=' ')\n",
    "        return(\"\")\n",
    "\n",
    "async def download_comments():\n",
    "    async with aiohttp.ClientSession(timeout = aiohttp.ClientTimeout(total=60*60*24)) as session:\n",
    "\n",
    "        tasks = []\n",
    "        for user in users:\n",
    "            tasks.append(asyncio.ensure_future(get_user_review_pages(session, user)))\n",
    "\n",
    "        failed_users = await asyncio.gather(*tasks)\n",
    "        failed_users_res = []\n",
    "        for f_user in failed_users:\n",
    "            if f_user != \"\":\n",
    "                failed_users_res.append(f_user)\n",
    "\n",
    "        return(failed_users_res)\n",
    "\n",
    "all_user_details = []\n",
    "failed_users = asyncio.run(download_comments())\n",
    "\n",
    "with open('user_details.json', 'w') as file:\n",
    "    json.dump(all_user_details, file, indent=2)"
   ]
  },
  {
   "attachments": {},
   "cell_type": "markdown",
   "metadata": {},
   "source": [
    "Getting countries with the userids"
   ]
  },
  {
   "cell_type": "code",
   "execution_count": 14,
   "metadata": {},
   "outputs": [],
   "source": [
    "user_types = ['https://www.goodreads.com/user/best_reviewers', 'https://www.goodreads.com/user/top_reviewers','https://www.goodreads.com/user/top_readers']\n",
    "countries = ['?country=CA','?country=all','?country=US','?country=US','?country=AU','?country=SC', '?country=NZ','?country=IE','?country=GB', '?country=SG', '?country=GB','?country=DO', '?country=TT', '?country=MT', '?country=BB','?country=LC','?country=GY']\n",
    "time_frame = ['&duration=w','&duration=m', '&duration=y','&duration=a']\n",
    "\n",
    "users = set()\n",
    "for type in user_types: \n",
    "    for country in countries:\n",
    "        for time in time_frame:\n",
    "            url = type+country+time\n",
    "            response = requests.get(url, params=params, cookies=cookies, headers=headers)\n",
    "            soup = BeautifulSoup(response.content, 'html.parser')\n",
    "            tab = soup.find(\"table\",{\"class\":\"tableList\"})\n",
    "            if tab is None:\n",
    "                continue\n",
    "            else:\n",
    "                trs = tab.find_all('tr')\n",
    "                for t in trs: \n",
    "                    s = t.find_all('td')[1].find('a',href = True)['href']\n",
    "                    user_id = re.findall(r'\\d+',s)[0]\n",
    "                    user_loc = [user_id, country]\n",
    "                    users.add(tuple(user_loc))"
   ]
  },
  {
   "cell_type": "code",
   "execution_count": 11,
   "metadata": {},
   "outputs": [],
   "source": [
    "g = open('user_details.json')\n",
    "user_details = json.load(g)"
   ]
  },
  {
   "cell_type": "code",
   "execution_count": 19,
   "metadata": {},
   "outputs": [],
   "source": [
    "with open('user_countries.json', 'w') as file:\n",
    "    json.dump(list(users), file, indent=2)"
   ]
  },
  {
   "cell_type": "code",
   "execution_count": null,
   "metadata": {},
   "outputs": [],
   "source": [
    "user_details_new = []\n",
    "for user in user_details:\n",
    "    age = \"\"\n",
    "    gender = \"\"\n",
    "    user_id = user[-1:][0]\n",
    "    print(user_id)\n",
    "    for item in user: \n",
    "        items = item.split(',')\n",
    "        for i in items: \n",
    "           \n",
    "            if 'Age ' in i: \n",
    "                age = re.findall(r'\\d+',i)[0]\n",
    "            if 'Female' in i or 'Male' in i: \n",
    "                gender = i.strip()\n",
    "                \n",
    "    user_deets = [user_id, age, gender]\n",
    "    user_details_new.append(user_deets)\n",
    "   "
   ]
  },
  {
   "cell_type": "code",
   "execution_count": 48,
   "metadata": {},
   "outputs": [],
   "source": [
    "import csv\n",
    "headers = ['USERID', 'age', 'gender']\n",
    "with open('user_details.csv', 'w') as file:\n",
    "    w = csv.writer(file)\n",
    "    w.writerow(headers)\n",
    "    w.writerows(user_details_new)"
   ]
  },
  {
   "cell_type": "code",
   "execution_count": 57,
   "metadata": {},
   "outputs": [],
   "source": [
    "user_details_new = pd.read_csv('user_details.csv')\n",
    "user_details_new['USERID'] = user_details_new['USERID'].astype(int)\n",
    "user_countries = pd.DataFrame(json.load(open('user_countries.json')))\n",
    "user_countries.columns = ['USERID', 'Country']\n",
    "user_countries['USERID'] = user_countries['USERID'].astype(int)"
   ]
  },
  {
   "cell_type": "code",
   "execution_count": 66,
   "metadata": {},
   "outputs": [],
   "source": [
    "user_details_final = user_details_new.merge(user_countries,'left')\n",
    "user_details_final['Country'] = user_details_final['Country'].str[-2:]"
   ]
  },
  {
   "cell_type": "code",
   "execution_count": 69,
   "metadata": {},
   "outputs": [],
   "source": [
    "user_details_final.to_csv('user_details.csv', index=False)"
   ]
  },
  {
   "attachments": {},
   "cell_type": "markdown",
   "metadata": {},
   "source": [
    "Users and Books in one file"
   ]
  },
  {
   "cell_type": "code",
   "execution_count": 71,
   "metadata": {},
   "outputs": [],
   "source": [
    "bookshelves = json.load(open('users_bookshelves.json'))"
   ]
  },
  {
   "cell_type": "code",
   "execution_count": 78,
   "metadata": {},
   "outputs": [],
   "source": [
    "bookshelve_new = []\n",
    "for book in bookshelves:\n",
    "    book_id = book[0].split('/')[3]\n",
    "    book_id = re.findall(r'\\d+',book_id)[0]\n",
    "    user_id = book[1]\n",
    "    bookshelve_new.append([book_id,user_id])\n",
    "    "
   ]
  },
  {
   "cell_type": "code",
   "execution_count": 80,
   "metadata": {},
   "outputs": [],
   "source": [
    "headers = ['BOOKID', 'USERID']\n",
    "with open('bookshelves.csv', 'w') as file:\n",
    "    w = csv.writer(file)\n",
    "    w.writerow(headers)\n",
    "    w.writerows(bookshelve_new)"
   ]
  }
 ],
 "metadata": {
  "kernelspec": {
   "display_name": "venv",
   "language": "python",
   "name": "python3"
  },
  "language_info": {
   "codemirror_mode": {
    "name": "ipython",
    "version": 3
   },
   "file_extension": ".py",
   "mimetype": "text/x-python",
   "name": "python",
   "nbconvert_exporter": "python",
   "pygments_lexer": "ipython3",
   "version": "3.9.12"
  },
  "orig_nbformat": 4,
  "vscode": {
   "interpreter": {
    "hash": "563226cf25437af002aa0193d72b3ec2f2e25dbb181f3d4442cf77ff0f5ba26d"
   }
  }
 },
 "nbformat": 4,
 "nbformat_minor": 2
}
