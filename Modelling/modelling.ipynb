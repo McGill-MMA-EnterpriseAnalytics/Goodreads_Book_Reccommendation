{
 "cells": [
  {
   "cell_type": "code",
   "execution_count": 115,
   "metadata": {},
   "outputs": [],
   "source": [
    "import pandas as pd\n",
    "import numpy as np\n",
    "from pandas.plotting import scatter_matrix\n",
    "\n",
    "from pathlib import Path\n",
    "import matplotlib.pyplot as plt\n",
    "import numpy as np\n",
    "from sklearn.preprocessing import OneHotEncoder, StandardScaler, PowerTransformer\n",
    "from sklearn.impute import SimpleImputer\n",
    "from sklearn.base import BaseEstimator, TransformerMixin\n",
    "from sklearn.utils.validation import check_array, check_is_fitted\n",
    "from sklearn.cluster import KMeans\n",
    "from sklearn.model_selection import train_test_split\n",
    "from sklearn import set_config\n",
    "from sklearn.compose import ColumnTransformer\n",
    "from sklearn.pipeline import Pipeline\n",
    "from sklearn.model_selection import cross_val_score\n",
    "from sklearn.linear_model import LinearRegression, Ridge, Lasso\n",
    "from sklearn.ensemble import IsolationForest, GradientBoostingRegressor, RandomForestRegressor\n",
    "from sklearn.metrics import mean_squared_error\n",
    "from sklearn.feature_extraction.text import TfidfVectorizer, CountVectorizer\n",
    "from sklearn.decomposition import TruncatedSVD"
   ]
  },
  {
   "attachments": {},
   "cell_type": "markdown",
   "metadata": {},
   "source": [
    "### 1) Perform some EDA"
   ]
  },
  {
   "cell_type": "code",
   "execution_count": 116,
   "metadata": {},
   "outputs": [],
   "source": [
    "df = pd.read_csv(\"sample.csv\")\n",
    "df = df.drop(columns=\"Unnamed: 0\")"
   ]
  },
  {
   "cell_type": "code",
   "execution_count": 117,
   "metadata": {},
   "outputs": [
    {
     "data": {
      "text/plain": [
       "(999, 12)"
      ]
     },
     "execution_count": 117,
     "metadata": {},
     "output_type": "execute_result"
    }
   ],
   "source": [
    "df.shape"
   ]
  },
  {
   "cell_type": "code",
   "execution_count": 118,
   "metadata": {},
   "outputs": [
    {
     "name": "stdout",
     "output_type": "stream",
     "text": [
      "<class 'pandas.core.frame.DataFrame'>\n",
      "RangeIndex: 999 entries, 0 to 998\n",
      "Data columns (total 12 columns):\n",
      " #   Column          Non-Null Count  Dtype  \n",
      "---  ------          --------------  -----  \n",
      " 0   Description     999 non-null    object \n",
      " 1   Author          999 non-null    object \n",
      " 2   Title           999 non-null    object \n",
      " 3   Rating          999 non-null    float64\n",
      " 4   Pages           999 non-null    float64\n",
      " 5   Num of Ratings  999 non-null    float64\n",
      " 6   Num of Review   999 non-null    float64\n",
      " 7   Genre           999 non-null    object \n",
      " 8   Publish Date    999 non-null    object \n",
      " 9   Language        993 non-null    object \n",
      " 10  Award           999 non-null    int64  \n",
      " 11  ISBN            758 non-null    float64\n",
      "dtypes: float64(5), int64(1), object(6)\n",
      "memory usage: 93.8+ KB\n"
     ]
    }
   ],
   "source": [
    "df.info()"
   ]
  },
  {
   "cell_type": "code",
   "execution_count": 119,
   "metadata": {},
   "outputs": [
    {
     "data": {
      "text/html": [
       "<div>\n",
       "<style scoped>\n",
       "    .dataframe tbody tr th:only-of-type {\n",
       "        vertical-align: middle;\n",
       "    }\n",
       "\n",
       "    .dataframe tbody tr th {\n",
       "        vertical-align: top;\n",
       "    }\n",
       "\n",
       "    .dataframe thead th {\n",
       "        text-align: right;\n",
       "    }\n",
       "</style>\n",
       "<table border=\"1\" class=\"dataframe\">\n",
       "  <thead>\n",
       "    <tr style=\"text-align: right;\">\n",
       "      <th></th>\n",
       "      <th>Rating</th>\n",
       "      <th>Pages</th>\n",
       "      <th>Num of Ratings</th>\n",
       "      <th>Num of Review</th>\n",
       "      <th>Award</th>\n",
       "      <th>ISBN</th>\n",
       "    </tr>\n",
       "  </thead>\n",
       "  <tbody>\n",
       "    <tr>\n",
       "      <th>count</th>\n",
       "      <td>999.000000</td>\n",
       "      <td>999.000000</td>\n",
       "      <td>9.990000e+02</td>\n",
       "      <td>999.000000</td>\n",
       "      <td>999.000000</td>\n",
       "      <td>7.580000e+02</td>\n",
       "    </tr>\n",
       "    <tr>\n",
       "      <th>mean</th>\n",
       "      <td>4.089930</td>\n",
       "      <td>422.687688</td>\n",
       "      <td>5.310587e+05</td>\n",
       "      <td>21478.831832</td>\n",
       "      <td>0.645646</td>\n",
       "      <td>9.769374e+12</td>\n",
       "    </tr>\n",
       "    <tr>\n",
       "      <th>std</th>\n",
       "      <td>0.229798</td>\n",
       "      <td>283.487246</td>\n",
       "      <td>8.299394e+05</td>\n",
       "      <td>26653.611431</td>\n",
       "      <td>0.478557</td>\n",
       "      <td>3.105744e+11</td>\n",
       "    </tr>\n",
       "    <tr>\n",
       "      <th>min</th>\n",
       "      <td>3.400000</td>\n",
       "      <td>26.000000</td>\n",
       "      <td>1.150000e+02</td>\n",
       "      <td>9.000000</td>\n",
       "      <td>0.000000</td>\n",
       "      <td>1.230005e+12</td>\n",
       "    </tr>\n",
       "    <tr>\n",
       "      <th>25%</th>\n",
       "      <td>3.950000</td>\n",
       "      <td>271.500000</td>\n",
       "      <td>1.456410e+05</td>\n",
       "      <td>5864.000000</td>\n",
       "      <td>0.000000</td>\n",
       "      <td>9.780312e+12</td>\n",
       "    </tr>\n",
       "    <tr>\n",
       "      <th>50%</th>\n",
       "      <td>4.080000</td>\n",
       "      <td>368.000000</td>\n",
       "      <td>2.704770e+05</td>\n",
       "      <td>11622.000000</td>\n",
       "      <td>1.000000</td>\n",
       "      <td>9.780450e+12</td>\n",
       "    </tr>\n",
       "    <tr>\n",
       "      <th>75%</th>\n",
       "      <td>4.250000</td>\n",
       "      <td>494.000000</td>\n",
       "      <td>5.712565e+05</td>\n",
       "      <td>25417.000000</td>\n",
       "      <td>1.000000</td>\n",
       "      <td>9.780767e+12</td>\n",
       "    </tr>\n",
       "    <tr>\n",
       "      <th>max</th>\n",
       "      <td>4.880000</td>\n",
       "      <td>4100.000000</td>\n",
       "      <td>9.117183e+06</td>\n",
       "      <td>190980.000000</td>\n",
       "      <td>1.000000</td>\n",
       "      <td>9.789778e+12</td>\n",
       "    </tr>\n",
       "  </tbody>\n",
       "</table>\n",
       "</div>"
      ],
      "text/plain": [
       "           Rating        Pages  Num of Ratings  Num of Review       Award  \\\n",
       "count  999.000000   999.000000    9.990000e+02     999.000000  999.000000   \n",
       "mean     4.089930   422.687688    5.310587e+05   21478.831832    0.645646   \n",
       "std      0.229798   283.487246    8.299394e+05   26653.611431    0.478557   \n",
       "min      3.400000    26.000000    1.150000e+02       9.000000    0.000000   \n",
       "25%      3.950000   271.500000    1.456410e+05    5864.000000    0.000000   \n",
       "50%      4.080000   368.000000    2.704770e+05   11622.000000    1.000000   \n",
       "75%      4.250000   494.000000    5.712565e+05   25417.000000    1.000000   \n",
       "max      4.880000  4100.000000    9.117183e+06  190980.000000    1.000000   \n",
       "\n",
       "               ISBN  \n",
       "count  7.580000e+02  \n",
       "mean   9.769374e+12  \n",
       "std    3.105744e+11  \n",
       "min    1.230005e+12  \n",
       "25%    9.780312e+12  \n",
       "50%    9.780450e+12  \n",
       "75%    9.780767e+12  \n",
       "max    9.789778e+12  "
      ]
     },
     "execution_count": 119,
     "metadata": {},
     "output_type": "execute_result"
    }
   ],
   "source": [
    "df.describe()"
   ]
  },
  {
   "cell_type": "code",
   "execution_count": 120,
   "metadata": {},
   "outputs": [
    {
     "data": {
      "text/plain": [
       "Description         0\n",
       "Author              0\n",
       "Title               0\n",
       "Rating              0\n",
       "Pages               0\n",
       "Num of Ratings      0\n",
       "Num of Review       0\n",
       "Genre               0\n",
       "Publish Date        0\n",
       "Language            6\n",
       "Award               0\n",
       "ISBN              241\n",
       "dtype: int64"
      ]
     },
     "execution_count": 120,
     "metadata": {},
     "output_type": "execute_result"
    }
   ],
   "source": [
    "df.isnull().sum()"
   ]
  },
  {
   "cell_type": "code",
   "execution_count": 121,
   "metadata": {},
   "outputs": [
    {
     "data": {
      "text/plain": [
       "Description        0.000000\n",
       "Author             0.000000\n",
       "Title              0.000000\n",
       "Rating             0.000000\n",
       "Pages              0.000000\n",
       "Num of Ratings     0.000000\n",
       "Num of Review      0.000000\n",
       "Genre              0.000000\n",
       "Publish Date       0.000000\n",
       "Language           0.600601\n",
       "Award              0.000000\n",
       "ISBN              24.124124\n",
       "dtype: float64"
      ]
     },
     "execution_count": 121,
     "metadata": {},
     "output_type": "execute_result"
    }
   ],
   "source": [
    "# check percentage of nulls\n",
    "(df.isnull().sum() / df.shape[0]) * 100"
   ]
  },
  {
   "cell_type": "code",
   "execution_count": 122,
   "metadata": {},
   "outputs": [],
   "source": [
    "df['ISBN'] = df['ISBN'].astype(str)"
   ]
  },
  {
   "cell_type": "code",
   "execution_count": 123,
   "metadata": {},
   "outputs": [
    {
     "name": "stderr",
     "output_type": "stream",
     "text": [
      "C:\\Users\\tnaga\\AppData\\Local\\Temp\\ipykernel_30344\\4196195996.py:2: FutureWarning: The default value of numeric_only in DataFrame.corr is deprecated. In a future version, it will default to False. Select only valid columns or specify the value of numeric_only to silence this warning.\n",
      "  df.corr()\n"
     ]
    },
    {
     "data": {
      "text/html": [
       "<div>\n",
       "<style scoped>\n",
       "    .dataframe tbody tr th:only-of-type {\n",
       "        vertical-align: middle;\n",
       "    }\n",
       "\n",
       "    .dataframe tbody tr th {\n",
       "        vertical-align: top;\n",
       "    }\n",
       "\n",
       "    .dataframe thead th {\n",
       "        text-align: right;\n",
       "    }\n",
       "</style>\n",
       "<table border=\"1\" class=\"dataframe\">\n",
       "  <thead>\n",
       "    <tr style=\"text-align: right;\">\n",
       "      <th></th>\n",
       "      <th>Rating</th>\n",
       "      <th>Pages</th>\n",
       "      <th>Num of Ratings</th>\n",
       "      <th>Num of Review</th>\n",
       "      <th>Award</th>\n",
       "    </tr>\n",
       "  </thead>\n",
       "  <tbody>\n",
       "    <tr>\n",
       "      <th>Rating</th>\n",
       "      <td>1.000000</td>\n",
       "      <td>0.296325</td>\n",
       "      <td>0.109423</td>\n",
       "      <td>0.165925</td>\n",
       "      <td>0.096538</td>\n",
       "    </tr>\n",
       "    <tr>\n",
       "      <th>Pages</th>\n",
       "      <td>0.296325</td>\n",
       "      <td>1.000000</td>\n",
       "      <td>-0.051193</td>\n",
       "      <td>-0.041228</td>\n",
       "      <td>0.050205</td>\n",
       "    </tr>\n",
       "    <tr>\n",
       "      <th>Num of Ratings</th>\n",
       "      <td>0.109423</td>\n",
       "      <td>-0.051193</td>\n",
       "      <td>1.000000</td>\n",
       "      <td>0.759498</td>\n",
       "      <td>0.179092</td>\n",
       "    </tr>\n",
       "    <tr>\n",
       "      <th>Num of Review</th>\n",
       "      <td>0.165925</td>\n",
       "      <td>-0.041228</td>\n",
       "      <td>0.759498</td>\n",
       "      <td>1.000000</td>\n",
       "      <td>0.281673</td>\n",
       "    </tr>\n",
       "    <tr>\n",
       "      <th>Award</th>\n",
       "      <td>0.096538</td>\n",
       "      <td>0.050205</td>\n",
       "      <td>0.179092</td>\n",
       "      <td>0.281673</td>\n",
       "      <td>1.000000</td>\n",
       "    </tr>\n",
       "  </tbody>\n",
       "</table>\n",
       "</div>"
      ],
      "text/plain": [
       "                  Rating     Pages  Num of Ratings  Num of Review     Award\n",
       "Rating          1.000000  0.296325        0.109423       0.165925  0.096538\n",
       "Pages           0.296325  1.000000       -0.051193      -0.041228  0.050205\n",
       "Num of Ratings  0.109423 -0.051193        1.000000       0.759498  0.179092\n",
       "Num of Review   0.165925 -0.041228        0.759498       1.000000  0.281673\n",
       "Award           0.096538  0.050205        0.179092       0.281673  1.000000"
      ]
     },
     "execution_count": 123,
     "metadata": {},
     "output_type": "execute_result"
    }
   ],
   "source": [
    "# Num of Ratings and Num of Review are highly correlated\n",
    "df.corr()"
   ]
  },
  {
   "cell_type": "code",
   "execution_count": 124,
   "metadata": {},
   "outputs": [
    {
     "data": {
      "text/plain": [
       "array([[<AxesSubplot: xlabel='Rating', ylabel='Rating'>,\n",
       "        <AxesSubplot: xlabel='Pages', ylabel='Rating'>,\n",
       "        <AxesSubplot: xlabel='Num of Ratings', ylabel='Rating'>,\n",
       "        <AxesSubplot: xlabel='Num of Review', ylabel='Rating'>,\n",
       "        <AxesSubplot: xlabel='Award', ylabel='Rating'>],\n",
       "       [<AxesSubplot: xlabel='Rating', ylabel='Pages'>,\n",
       "        <AxesSubplot: xlabel='Pages', ylabel='Pages'>,\n",
       "        <AxesSubplot: xlabel='Num of Ratings', ylabel='Pages'>,\n",
       "        <AxesSubplot: xlabel='Num of Review', ylabel='Pages'>,\n",
       "        <AxesSubplot: xlabel='Award', ylabel='Pages'>],\n",
       "       [<AxesSubplot: xlabel='Rating', ylabel='Num of Ratings'>,\n",
       "        <AxesSubplot: xlabel='Pages', ylabel='Num of Ratings'>,\n",
       "        <AxesSubplot: xlabel='Num of Ratings', ylabel='Num of Ratings'>,\n",
       "        <AxesSubplot: xlabel='Num of Review', ylabel='Num of Ratings'>,\n",
       "        <AxesSubplot: xlabel='Award', ylabel='Num of Ratings'>],\n",
       "       [<AxesSubplot: xlabel='Rating', ylabel='Num of Review'>,\n",
       "        <AxesSubplot: xlabel='Pages', ylabel='Num of Review'>,\n",
       "        <AxesSubplot: xlabel='Num of Ratings', ylabel='Num of Review'>,\n",
       "        <AxesSubplot: xlabel='Num of Review', ylabel='Num of Review'>,\n",
       "        <AxesSubplot: xlabel='Award', ylabel='Num of Review'>],\n",
       "       [<AxesSubplot: xlabel='Rating', ylabel='Award'>,\n",
       "        <AxesSubplot: xlabel='Pages', ylabel='Award'>,\n",
       "        <AxesSubplot: xlabel='Num of Ratings', ylabel='Award'>,\n",
       "        <AxesSubplot: xlabel='Num of Review', ylabel='Award'>,\n",
       "        <AxesSubplot: xlabel='Award', ylabel='Award'>]], dtype=object)"
      ]
     },
     "execution_count": 124,
     "metadata": {},
     "output_type": "execute_result"
    },
    {
     "data": {
      "image/png": "[encoded data removed]",
      "text/plain": [
       "<Figure size 640x480 with 25 Axes>"
      ]
     },
     "metadata": {},
     "output_type": "display_data"
    }
   ],
   "source": [
    "scatter_matrix(df)"
   ]
  },
  {
   "attachments": {},
   "cell_type": "markdown",
   "metadata": {},
   "source": [
    "### 2a) Data Transformation"
   ]
  },
  {
   "cell_type": "code",
   "execution_count": 125,
   "metadata": {},
   "outputs": [],
   "source": [
    "# Get Dates\n",
    "df_date = df['Publish Date'].str.replace(\"Published \",\"\").str.split(\" \", expand=True)\n",
    "df_date.columns = [\"Month\", \"Day\", \"Year\"]\n",
    "df_date[\"Day\"] = df_date[\"Day\"].str.replace(\",\", \"\")\n",
    "df_date[\"Day\"] = \"0\" + df_date[\"Day\"]\n",
    "df_date[\"Day\"] = df_date[\"Day\"].str[-2:]\n",
    "df[\"Date\"] = df_date[\"Month\"] + \"-\" + df_date[\"Day\"] + \"-\" + df_date[\"Year\"]\n",
    "df[\"Date\"] = pd.to_datetime(df[\"Date\"], errors='coerce', format=\"%B-%d-%Y\")"
   ]
  },
  {
   "cell_type": "code",
   "execution_count": 126,
   "metadata": {},
   "outputs": [],
   "source": [
    "# Get Author Counts Frequency Encoded\n",
    "df_author_counts = df[\"Author\"].value_counts()\n",
    "df['Author'] = df['Author'].map(df_author_counts)"
   ]
  },
  {
   "cell_type": "code",
   "execution_count": 127,
   "metadata": {},
   "outputs": [],
   "source": [
    "# Get Genre Counts Frequency Encoded\n",
    "df_genre_counts = df[\"Genre\"].value_counts()\n",
    "df['Genre'] = df['Genre'].map(df_genre_counts)"
   ]
  },
  {
   "cell_type": "code",
   "execution_count": 128,
   "metadata": {},
   "outputs": [],
   "source": [
    "df['English'] = [1 if e  == \"English\" else 0 for e in df[\"Language\"]]"
   ]
  },
  {
   "cell_type": "code",
   "execution_count": 143,
   "metadata": {},
   "outputs": [],
   "source": [
    "from sklearn.base import TransformerMixin\n",
    "\n",
    "class Transform(TransformerMixin):\n",
    "    def __init__(self, **kwargs):\n",
    "        self.X = kwargs\n",
    "\n",
    "    def fit(self, X, y=None):\n",
    "        return self\n",
    "\n",
    "    def transform(self, X):\n",
    "        return X \n",
    "\n",
    "    def get_feature_names_out(self, X):\n",
    "        return X"
   ]
  },
  {
   "cell_type": "code",
   "execution_count": 144,
   "metadata": {},
   "outputs": [],
   "source": [
    "# create pipeline to do imputation using median\n",
    "# one hot encoding of categorial variables\n",
    "# and power transformation\n",
    "num_pipeline = Pipeline([\n",
    "    (\"impute\", SimpleImputer(strategy=\"median\")),\n",
    "    (\"standardize\", StandardScaler()),\n",
    "])\n",
    "one_cat_pipeline = Pipeline([\n",
    "    (\"impute\", SimpleImputer(strategy=\"most_frequent\")),\n",
    "    (\"one_hot\", OneHotEncoder(drop='first')),\n",
    "])\n",
    "pow_num_pipeline = Pipeline([\n",
    "    (\"impute\", SimpleImputer(strategy=\"median\")),\n",
    "    (\"log\", PowerTransformer()),\n",
    "    (\"standardize\", StandardScaler()),\n",
    "])\n",
    "none_pipeline = Pipeline([(\"nothing\", Transform())])"
   ]
  },
  {
   "cell_type": "code",
   "execution_count": 145,
   "metadata": {},
   "outputs": [
    {
     "ename": "KeyError",
     "evalue": "\"['Language', 'Num of Review', 'Title', 'Publish Date', 'ISBN'] not found in axis\"",
     "output_type": "error",
     "traceback": [
      "\u001b[1;31m---------------------------------------------------------------------------\u001b[0m",
      "\u001b[1;31mKeyError\u001b[0m                                  Traceback (most recent call last)",
      "Cell \u001b[1;32mIn[145], line 1\u001b[0m\n\u001b[1;32m----> 1\u001b[0m df \u001b[39m=\u001b[39m df\u001b[39m.\u001b[39;49mdrop(columns \u001b[39m=\u001b[39;49m [\u001b[39m\"\u001b[39;49m\u001b[39mLanguage\u001b[39;49m\u001b[39m\"\u001b[39;49m, \u001b[39m\"\u001b[39;49m\u001b[39mNum of Review\u001b[39;49m\u001b[39m\"\u001b[39;49m, \u001b[39m\"\u001b[39;49m\u001b[39mTitle\u001b[39;49m\u001b[39m\"\u001b[39;49m, \u001b[39m\"\u001b[39;49m\u001b[39mPublish Date\u001b[39;49m\u001b[39m\"\u001b[39;49m, \u001b[39m\"\u001b[39;49m\u001b[39mISBN\u001b[39;49m\u001b[39m\"\u001b[39;49m])\n",
      "File \u001b[1;32mc:\\Users\\tnaga\\AppData\\Local\\Programs\\Python\\Python311\\Lib\\site-packages\\pandas\\util\\_decorators.py:331\u001b[0m, in \u001b[0;36mdeprecate_nonkeyword_arguments.<locals>.decorate.<locals>.wrapper\u001b[1;34m(*args, **kwargs)\u001b[0m\n\u001b[0;32m    325\u001b[0m \u001b[39mif\u001b[39;00m \u001b[39mlen\u001b[39m(args) \u001b[39m>\u001b[39m num_allow_args:\n\u001b[0;32m    326\u001b[0m     warnings\u001b[39m.\u001b[39mwarn(\n\u001b[0;32m    327\u001b[0m         msg\u001b[39m.\u001b[39mformat(arguments\u001b[39m=\u001b[39m_format_argument_list(allow_args)),\n\u001b[0;32m    328\u001b[0m         \u001b[39mFutureWarning\u001b[39;00m,\n\u001b[0;32m    329\u001b[0m         stacklevel\u001b[39m=\u001b[39mfind_stack_level(),\n\u001b[0;32m    330\u001b[0m     )\n\u001b[1;32m--> 331\u001b[0m \u001b[39mreturn\u001b[39;00m func(\u001b[39m*\u001b[39;49margs, \u001b[39m*\u001b[39;49m\u001b[39m*\u001b[39;49mkwargs)\n",
      "File \u001b[1;32mc:\\Users\\tnaga\\AppData\\Local\\Programs\\Python\\Python311\\Lib\\site-packages\\pandas\\core\\frame.py:5396\u001b[0m, in \u001b[0;36mDataFrame.drop\u001b[1;34m(self, labels, axis, index, columns, level, inplace, errors)\u001b[0m\n\u001b[0;32m   5248\u001b[0m \u001b[39m@deprecate_nonkeyword_arguments\u001b[39m(version\u001b[39m=\u001b[39m\u001b[39mNone\u001b[39;00m, allowed_args\u001b[39m=\u001b[39m[\u001b[39m\"\u001b[39m\u001b[39mself\u001b[39m\u001b[39m\"\u001b[39m, \u001b[39m\"\u001b[39m\u001b[39mlabels\u001b[39m\u001b[39m\"\u001b[39m])\n\u001b[0;32m   5249\u001b[0m \u001b[39mdef\u001b[39;00m \u001b[39mdrop\u001b[39m(  \u001b[39m# type: ignore[override]\u001b[39;00m\n\u001b[0;32m   5250\u001b[0m     \u001b[39mself\u001b[39m,\n\u001b[1;32m   (...)\u001b[0m\n\u001b[0;32m   5257\u001b[0m     errors: IgnoreRaise \u001b[39m=\u001b[39m \u001b[39m\"\u001b[39m\u001b[39mraise\u001b[39m\u001b[39m\"\u001b[39m,\n\u001b[0;32m   5258\u001b[0m ) \u001b[39m-\u001b[39m\u001b[39m>\u001b[39m DataFrame \u001b[39m|\u001b[39m \u001b[39mNone\u001b[39;00m:\n\u001b[0;32m   5259\u001b[0m \u001b[39m    \u001b[39m\u001b[39m\"\"\"\u001b[39;00m\n\u001b[0;32m   5260\u001b[0m \u001b[39m    Drop specified labels from rows or columns.\u001b[39;00m\n\u001b[0;32m   5261\u001b[0m \n\u001b[1;32m   (...)\u001b[0m\n\u001b[0;32m   5394\u001b[0m \u001b[39m            weight  1.0     0.8\u001b[39;00m\n\u001b[0;32m   5395\u001b[0m \u001b[39m    \"\"\"\u001b[39;00m\n\u001b[1;32m-> 5396\u001b[0m     \u001b[39mreturn\u001b[39;00m \u001b[39msuper\u001b[39;49m()\u001b[39m.\u001b[39;49mdrop(\n\u001b[0;32m   5397\u001b[0m         labels\u001b[39m=\u001b[39;49mlabels,\n\u001b[0;32m   5398\u001b[0m         axis\u001b[39m=\u001b[39;49maxis,\n\u001b[0;32m   5399\u001b[0m         index\u001b[39m=\u001b[39;49mindex,\n\u001b[0;32m   5400\u001b[0m         columns\u001b[39m=\u001b[39;49mcolumns,\n\u001b[0;32m   5401\u001b[0m         level\u001b[39m=\u001b[39;49mlevel,\n\u001b[0;32m   5402\u001b[0m         inplace\u001b[39m=\u001b[39;49minplace,\n\u001b[0;32m   5403\u001b[0m         errors\u001b[39m=\u001b[39;49merrors,\n\u001b[0;32m   5404\u001b[0m     )\n",
      "File \u001b[1;32mc:\\Users\\tnaga\\AppData\\Local\\Programs\\Python\\Python311\\Lib\\site-packages\\pandas\\util\\_decorators.py:331\u001b[0m, in \u001b[0;36mdeprecate_nonkeyword_arguments.<locals>.decorate.<locals>.wrapper\u001b[1;34m(*args, **kwargs)\u001b[0m\n\u001b[0;32m    325\u001b[0m \u001b[39mif\u001b[39;00m \u001b[39mlen\u001b[39m(args) \u001b[39m>\u001b[39m num_allow_args:\n\u001b[0;32m    326\u001b[0m     warnings\u001b[39m.\u001b[39mwarn(\n\u001b[0;32m    327\u001b[0m         msg\u001b[39m.\u001b[39mformat(arguments\u001b[39m=\u001b[39m_format_argument_list(allow_args)),\n\u001b[0;32m    328\u001b[0m         \u001b[39mFutureWarning\u001b[39;00m,\n\u001b[0;32m    329\u001b[0m         stacklevel\u001b[39m=\u001b[39mfind_stack_level(),\n\u001b[0;32m    330\u001b[0m     )\n\u001b[1;32m--> 331\u001b[0m \u001b[39mreturn\u001b[39;00m func(\u001b[39m*\u001b[39;49margs, \u001b[39m*\u001b[39;49m\u001b[39m*\u001b[39;49mkwargs)\n",
      "File \u001b[1;32mc:\\Users\\tnaga\\AppData\\Local\\Programs\\Python\\Python311\\Lib\\site-packages\\pandas\\core\\generic.py:4505\u001b[0m, in \u001b[0;36mNDFrame.drop\u001b[1;34m(self, labels, axis, index, columns, level, inplace, errors)\u001b[0m\n\u001b[0;32m   4503\u001b[0m \u001b[39mfor\u001b[39;00m axis, labels \u001b[39min\u001b[39;00m axes\u001b[39m.\u001b[39mitems():\n\u001b[0;32m   4504\u001b[0m     \u001b[39mif\u001b[39;00m labels \u001b[39mis\u001b[39;00m \u001b[39mnot\u001b[39;00m \u001b[39mNone\u001b[39;00m:\n\u001b[1;32m-> 4505\u001b[0m         obj \u001b[39m=\u001b[39m obj\u001b[39m.\u001b[39;49m_drop_axis(labels, axis, level\u001b[39m=\u001b[39;49mlevel, errors\u001b[39m=\u001b[39;49merrors)\n\u001b[0;32m   4507\u001b[0m \u001b[39mif\u001b[39;00m inplace:\n\u001b[0;32m   4508\u001b[0m     \u001b[39mself\u001b[39m\u001b[39m.\u001b[39m_update_inplace(obj)\n",
      "File \u001b[1;32mc:\\Users\\tnaga\\AppData\\Local\\Programs\\Python\\Python311\\Lib\\site-packages\\pandas\\core\\generic.py:4546\u001b[0m, in \u001b[0;36mNDFrame._drop_axis\u001b[1;34m(self, labels, axis, level, errors, only_slice)\u001b[0m\n\u001b[0;32m   4544\u001b[0m         new_axis \u001b[39m=\u001b[39m axis\u001b[39m.\u001b[39mdrop(labels, level\u001b[39m=\u001b[39mlevel, errors\u001b[39m=\u001b[39merrors)\n\u001b[0;32m   4545\u001b[0m     \u001b[39melse\u001b[39;00m:\n\u001b[1;32m-> 4546\u001b[0m         new_axis \u001b[39m=\u001b[39m axis\u001b[39m.\u001b[39;49mdrop(labels, errors\u001b[39m=\u001b[39;49merrors)\n\u001b[0;32m   4547\u001b[0m     indexer \u001b[39m=\u001b[39m axis\u001b[39m.\u001b[39mget_indexer(new_axis)\n\u001b[0;32m   4549\u001b[0m \u001b[39m# Case for non-unique axis\u001b[39;00m\n\u001b[0;32m   4550\u001b[0m \u001b[39melse\u001b[39;00m:\n",
      "File \u001b[1;32mc:\\Users\\tnaga\\AppData\\Local\\Programs\\Python\\Python311\\Lib\\site-packages\\pandas\\core\\indexes\\base.py:6977\u001b[0m, in \u001b[0;36mIndex.drop\u001b[1;34m(self, labels, errors)\u001b[0m\n\u001b[0;32m   6975\u001b[0m \u001b[39mif\u001b[39;00m mask\u001b[39m.\u001b[39many():\n\u001b[0;32m   6976\u001b[0m     \u001b[39mif\u001b[39;00m errors \u001b[39m!=\u001b[39m \u001b[39m\"\u001b[39m\u001b[39mignore\u001b[39m\u001b[39m\"\u001b[39m:\n\u001b[1;32m-> 6977\u001b[0m         \u001b[39mraise\u001b[39;00m \u001b[39mKeyError\u001b[39;00m(\u001b[39mf\u001b[39m\u001b[39m\"\u001b[39m\u001b[39m{\u001b[39;00m\u001b[39mlist\u001b[39m(labels[mask])\u001b[39m}\u001b[39;00m\u001b[39m not found in axis\u001b[39m\u001b[39m\"\u001b[39m)\n\u001b[0;32m   6978\u001b[0m     indexer \u001b[39m=\u001b[39m indexer[\u001b[39m~\u001b[39mmask]\n\u001b[0;32m   6979\u001b[0m \u001b[39mreturn\u001b[39;00m \u001b[39mself\u001b[39m\u001b[39m.\u001b[39mdelete(indexer)\n",
      "\u001b[1;31mKeyError\u001b[0m: \"['Language', 'Num of Review', 'Title', 'Publish Date', 'ISBN'] not found in axis\""
     ]
    }
   ],
   "source": [
    "df = df.drop(columns = [\"Language\", \"Num of Review\", \"Title\", \"Publish Date\", \"ISBN\"])"
   ]
  },
  {
   "cell_type": "code",
   "execution_count": 146,
   "metadata": {},
   "outputs": [
    {
     "data": {
      "text/plain": [
       "Index(['Description', 'Author', 'Rating', 'Pages', 'Num of Ratings', 'Genre',\n",
       "       'Award', 'Date', 'English'],\n",
       "      dtype='object')"
      ]
     },
     "execution_count": 146,
     "metadata": {},
     "output_type": "execute_result"
    }
   ],
   "source": [
    "df.columns"
   ]
  },
  {
   "cell_type": "code",
   "execution_count": 147,
   "metadata": {},
   "outputs": [],
   "source": [
    "num_attrs = ['Rating']\n",
    "one_cat_attrs = ['Award', 'English']\n",
    "pow_num_attrs = ['Pages', 'Num of Ratings']\n",
    "none_attrs = ['Description', 'Date', 'Genre', 'Author']\n",
    "\n",
    "preprocessing = ColumnTransformer([\n",
    "    (\"num\", num_pipeline, num_attrs),\n",
    "    (\"one_cat\", one_cat_pipeline, one_cat_attrs),\n",
    "    (\"pow_num\", pow_num_pipeline, pow_num_attrs),\n",
    "    (\"none\", none_pipeline, none_attrs)\n",
    "], sparse_threshold=0)"
   ]
  },
  {
   "cell_type": "code",
   "execution_count": 148,
   "metadata": {},
   "outputs": [],
   "source": [
    "# run pipeline on training and testing data\n",
    "df_prepared = preprocessing.fit_transform(df)"
   ]
  },
  {
   "cell_type": "code",
   "execution_count": 149,
   "metadata": {},
   "outputs": [],
   "source": [
    "df_prep = pd.DataFrame(\n",
    "    df_prepared,\n",
    "    columns=preprocessing.get_feature_names_out(),\n",
    "    index=df.index)"
   ]
  },
  {
   "cell_type": "code",
   "execution_count": 152,
   "metadata": {},
   "outputs": [
    {
     "data": {
      "text/html": [
       "<div>\n",
       "<style scoped>\n",
       "    .dataframe tbody tr th:only-of-type {\n",
       "        vertical-align: middle;\n",
       "    }\n",
       "\n",
       "    .dataframe tbody tr th {\n",
       "        vertical-align: top;\n",
       "    }\n",
       "\n",
       "    .dataframe thead th {\n",
       "        text-align: right;\n",
       "    }\n",
       "</style>\n",
       "<table border=\"1\" class=\"dataframe\">\n",
       "  <thead>\n",
       "    <tr style=\"text-align: right;\">\n",
       "      <th></th>\n",
       "      <th>num__Rating</th>\n",
       "      <th>one_cat__Award_1</th>\n",
       "      <th>one_cat__English_1</th>\n",
       "      <th>pow_num__Pages</th>\n",
       "      <th>pow_num__Num of Ratings</th>\n",
       "      <th>none__Description</th>\n",
       "      <th>none__Date</th>\n",
       "      <th>none__Genre</th>\n",
       "      <th>none__Author</th>\n",
       "    </tr>\n",
       "  </thead>\n",
       "  <tbody>\n",
       "    <tr>\n",
       "      <th>0</th>\n",
       "      <td>1.045226</td>\n",
       "      <td>1.0</td>\n",
       "      <td>1.0</td>\n",
       "      <td>0.024911</td>\n",
       "      <td>3.432074</td>\n",
       "      <td>Could you survive on your own in the wild, wit...</td>\n",
       "      <td>2008-09-14</td>\n",
       "      <td>332</td>\n",
       "      <td>4</td>\n",
       "    </tr>\n",
       "    <tr>\n",
       "      <th>1</th>\n",
       "      <td>1.785378</td>\n",
       "      <td>1.0</td>\n",
       "      <td>1.0</td>\n",
       "      <td>1.67778</td>\n",
       "      <td>2.318345</td>\n",
       "      <td>Harry Potter is about to start his fifth year ...</td>\n",
       "      <td>2003-06-21</td>\n",
       "      <td>104</td>\n",
       "      <td>10</td>\n",
       "    </tr>\n",
       "    <tr>\n",
       "      <th>2</th>\n",
       "      <td>0.827534</td>\n",
       "      <td>0.0</td>\n",
       "      <td>1.0</td>\n",
       "      <td>-0.458823</td>\n",
       "      <td>2.574627</td>\n",
       "      <td>Alternate cover edition of ISBN 9780679783268S...</td>\n",
       "      <td>1813-01-28</td>\n",
       "      <td>332</td>\n",
       "      <td>7</td>\n",
       "    </tr>\n",
       "    <tr>\n",
       "      <th>3</th>\n",
       "      <td>0.783996</td>\n",
       "      <td>1.0</td>\n",
       "      <td>1.0</td>\n",
       "      <td>-0.155171</td>\n",
       "      <td>3.016141</td>\n",
       "      <td>The unforgettable novel of a childhood in a sl...</td>\n",
       "      <td>1960-01-01</td>\n",
       "      <td>332</td>\n",
       "      <td>2</td>\n",
       "    </tr>\n",
       "    <tr>\n",
       "      <th>4</th>\n",
       "      <td>1.306456</td>\n",
       "      <td>1.0</td>\n",
       "      <td>1.0</td>\n",
       "      <td>0.711743</td>\n",
       "      <td>1.996279</td>\n",
       "      <td>Librarian's note: An alternate cover edition c...</td>\n",
       "      <td>2006-03-01</td>\n",
       "      <td>332</td>\n",
       "      <td>2</td>\n",
       "    </tr>\n",
       "  </tbody>\n",
       "</table>\n",
       "</div>"
      ],
      "text/plain": [
       "  num__Rating one_cat__Award_1 one_cat__English_1 pow_num__Pages  \\\n",
       "0    1.045226              1.0                1.0       0.024911   \n",
       "1    1.785378              1.0                1.0        1.67778   \n",
       "2    0.827534              0.0                1.0      -0.458823   \n",
       "3    0.783996              1.0                1.0      -0.155171   \n",
       "4    1.306456              1.0                1.0       0.711743   \n",
       "\n",
       "  pow_num__Num of Ratings                                  none__Description  \\\n",
       "0                3.432074  Could you survive on your own in the wild, wit...   \n",
       "1                2.318345  Harry Potter is about to start his fifth year ...   \n",
       "2                2.574627  Alternate cover edition of ISBN 9780679783268S...   \n",
       "3                3.016141  The unforgettable novel of a childhood in a sl...   \n",
       "4                1.996279  Librarian's note: An alternate cover edition c...   \n",
       "\n",
       "  none__Date none__Genre none__Author  \n",
       "0 2008-09-14         332            4  \n",
       "1 2003-06-21         104           10  \n",
       "2 1813-01-28         332            7  \n",
       "3 1960-01-01         332            2  \n",
       "4 2006-03-01         332            2  "
      ]
     },
     "execution_count": 152,
     "metadata": {},
     "output_type": "execute_result"
    }
   ],
   "source": [
    "df_prep.head()"
   ]
  },
  {
   "cell_type": "code",
   "execution_count": 153,
   "metadata": {},
   "outputs": [],
   "source": [
    "df_prep.columns = [\"Rating\", \"Award\", \"English\", \"Pages\", \"Num_Ratings\", \"Description\", \"Date\", \"Genre\", \"Author\"]"
   ]
  },
  {
   "attachments": {},
   "cell_type": "markdown",
   "metadata": {},
   "source": [
    "### 2b) Data Cleaning: Create Document Representation of all common adjectives and nouns words based on descriptions"
   ]
  },
  {
   "cell_type": "code",
   "execution_count": 156,
   "metadata": {},
   "outputs": [
    {
     "name": "stderr",
     "output_type": "stream",
     "text": [
      "[nltk_data] Downloading package words to\n",
      "[nltk_data]     C:\\Users\\tnaga\\AppData\\Roaming\\nltk_data...\n",
      "[nltk_data]   Package words is already up-to-date!\n"
     ]
    },
    {
     "data": {
      "text/plain": [
       "True"
      ]
     },
     "execution_count": 156,
     "metadata": {},
     "output_type": "execute_result"
    }
   ],
   "source": [
    "import nltk\n",
    "from nltk import word_tokenize\n",
    "from nltk import pos_tag, sent_tokenize, wordpunct_tokenize\n",
    "from nltk.corpus import wordnet, words\n",
    "import string\n",
    "from nltk.stem import WordNetLemmatizer\n",
    "nltk.download('words')"
   ]
  },
  {
   "cell_type": "code",
   "execution_count": 157,
   "metadata": {},
   "outputs": [],
   "source": [
    "punctuation = string.punctuation\n",
    "stopwords = nltk.corpus.stopwords.words('english')\n",
    "english_words = words.words()\n",
    "cleaned_words = []\n",
    "\n",
    "for msg in df_prep['Description']:\n",
    "    msg = str(msg).lower()\n",
    "\n",
    "    # tokenize to words in msg\n",
    "    msg_tok = word_tokenize(msg)\n",
    "\n",
    "    # tag words as parts of speech\n",
    "    msg_pos = pos_tag(msg_tok)\n",
    "\n",
    "    # get adjectives, common nouns and adjectives\n",
    "    parts_of_speech = [\"JJ\", \"JJR\", \"JJS\", \"NN\", \"NNS\"]\n",
    "    msg_wrds = []\n",
    "\n",
    "    for tok_pos in msg_pos:\n",
    "        if tok_pos[1] in parts_of_speech:\n",
    "            msg_wrds.append(tok_pos[0])\n",
    "\n",
    "    # remove punctuation\n",
    "    msg_wrds_p = []\n",
    "    for tok_adj in msg_wrds:\n",
    "        if tok_adj not in punctuation:\n",
    "            msg_wrds_p.append(tok_adj)\n",
    "\n",
    "    # remove stopwords\n",
    "    msg_wrds_s = []\n",
    "    for tok_adj in msg_wrds_p:\n",
    "        if tok_adj not in stopwords:\n",
    "            msg_wrds_s.append(tok_adj)\n",
    "    \n",
    "    # remove non-english words\n",
    "    msg_wrds_e = []\n",
    "    for tok_adj in msg_wrds_s:\n",
    "        if tok_adj in english_words:\n",
    "            msg_wrds_e.append(tok_adj)\n",
    "\n",
    "    # lemmatize message\n",
    "    lemmatize = WordNetLemmatizer()\n",
    "    msg_adj_lemma = []\n",
    "    for tok_adj in msg_wrds_e:\n",
    "        msg_adj_lemma.append(lemmatize.lemmatize(tok_adj))\n",
    "\n",
    "    str_msg = \" \".join(msg_adj_lemma)\n",
    "    cleaned_words.append(str_msg)\n",
    "\n",
    "df['Clean_Description'] = cleaned_words"
   ]
  },
  {
   "cell_type": "code",
   "execution_count": 158,
   "metadata": {},
   "outputs": [],
   "source": [
    "vect_model = CountVectorizer(max_df=0.95, min_df=0.05, stop_words='english', strip_accents=\"ascii\")\n",
    "corpus = vect_model.fit_transform(df['Clean_Description'])\n",
    "corpus = corpus.todense()\n",
    "df_desc = pd.DataFrame(corpus, columns = vect_model.get_feature_names_out().tolist())"
   ]
  },
  {
   "cell_type": "code",
   "execution_count": 159,
   "metadata": {},
   "outputs": [],
   "source": [
    "# update n depending on number of categories\n",
    "n = 10\n",
    "lsa = TruncatedSVD(n_components=n, n_iter=100, random_state=5)\n",
    "U = lsa.fit_transform(df_desc)\n",
    "df_lsa = pd.DataFrame(U, columns = [f\"Description_Topic_{i+1}\" for i in range(n)])"
   ]
  },
  {
   "cell_type": "code",
   "execution_count": 160,
   "metadata": {},
   "outputs": [],
   "source": [
    "df_prep = df_prep.drop(columns=\"Description\")"
   ]
  },
  {
   "cell_type": "code",
   "execution_count": 161,
   "metadata": {},
   "outputs": [],
   "source": [
    "df_final = pd.concat([df_prep, df_lsa], axis=1)"
   ]
  },
  {
   "cell_type": "code",
   "execution_count": 162,
   "metadata": {},
   "outputs": [
    {
     "data": {
      "text/html": [
       "<div>\n",
       "<style scoped>\n",
       "    .dataframe tbody tr th:only-of-type {\n",
       "        vertical-align: middle;\n",
       "    }\n",
       "\n",
       "    .dataframe tbody tr th {\n",
       "        vertical-align: top;\n",
       "    }\n",
       "\n",
       "    .dataframe thead th {\n",
       "        text-align: right;\n",
       "    }\n",
       "</style>\n",
       "<table border=\"1\" class=\"dataframe\">\n",
       "  <thead>\n",
       "    <tr style=\"text-align: right;\">\n",
       "      <th></th>\n",
       "      <th>Rating</th>\n",
       "      <th>Award</th>\n",
       "      <th>English</th>\n",
       "      <th>Pages</th>\n",
       "      <th>Num_Ratings</th>\n",
       "      <th>Date</th>\n",
       "      <th>Genre</th>\n",
       "      <th>Author</th>\n",
       "      <th>Description_Topic_1</th>\n",
       "      <th>Description_Topic_2</th>\n",
       "      <th>Description_Topic_3</th>\n",
       "      <th>Description_Topic_4</th>\n",
       "      <th>Description_Topic_5</th>\n",
       "      <th>Description_Topic_6</th>\n",
       "      <th>Description_Topic_7</th>\n",
       "      <th>Description_Topic_8</th>\n",
       "      <th>Description_Topic_9</th>\n",
       "      <th>Description_Topic_10</th>\n",
       "    </tr>\n",
       "  </thead>\n",
       "  <tbody>\n",
       "    <tr>\n",
       "      <th>0</th>\n",
       "      <td>1.045226</td>\n",
       "      <td>1.0</td>\n",
       "      <td>1.0</td>\n",
       "      <td>0.024911</td>\n",
       "      <td>3.432074</td>\n",
       "      <td>2008-09-14</td>\n",
       "      <td>332</td>\n",
       "      <td>4</td>\n",
       "      <td>1.162929</td>\n",
       "      <td>-0.075667</td>\n",
       "      <td>0.833113</td>\n",
       "      <td>0.017041</td>\n",
       "      <td>0.303624</td>\n",
       "      <td>-0.487934</td>\n",
       "      <td>0.361821</td>\n",
       "      <td>-0.380181</td>\n",
       "      <td>0.307482</td>\n",
       "      <td>0.054768</td>\n",
       "    </tr>\n",
       "    <tr>\n",
       "      <th>1</th>\n",
       "      <td>1.785378</td>\n",
       "      <td>1.0</td>\n",
       "      <td>1.0</td>\n",
       "      <td>1.67778</td>\n",
       "      <td>2.318345</td>\n",
       "      <td>2003-06-21</td>\n",
       "      <td>104</td>\n",
       "      <td>10</td>\n",
       "      <td>1.282889</td>\n",
       "      <td>-0.114047</td>\n",
       "      <td>-0.294877</td>\n",
       "      <td>0.712938</td>\n",
       "      <td>0.388994</td>\n",
       "      <td>-0.391327</td>\n",
       "      <td>-0.574517</td>\n",
       "      <td>-0.281972</td>\n",
       "      <td>-0.025338</td>\n",
       "      <td>-0.408825</td>\n",
       "    </tr>\n",
       "    <tr>\n",
       "      <th>2</th>\n",
       "      <td>0.827534</td>\n",
       "      <td>0.0</td>\n",
       "      <td>1.0</td>\n",
       "      <td>-0.458823</td>\n",
       "      <td>2.574627</td>\n",
       "      <td>1813-01-28</td>\n",
       "      <td>332</td>\n",
       "      <td>7</td>\n",
       "      <td>0.487526</td>\n",
       "      <td>-0.057352</td>\n",
       "      <td>-0.486406</td>\n",
       "      <td>0.009328</td>\n",
       "      <td>-0.008529</td>\n",
       "      <td>0.904428</td>\n",
       "      <td>0.490329</td>\n",
       "      <td>-0.123184</td>\n",
       "      <td>0.416097</td>\n",
       "      <td>-0.248895</td>\n",
       "    </tr>\n",
       "    <tr>\n",
       "      <th>3</th>\n",
       "      <td>0.783996</td>\n",
       "      <td>1.0</td>\n",
       "      <td>1.0</td>\n",
       "      <td>-0.155171</td>\n",
       "      <td>3.016141</td>\n",
       "      <td>1960-01-01</td>\n",
       "      <td>332</td>\n",
       "      <td>2</td>\n",
       "      <td>1.952991</td>\n",
       "      <td>-0.197228</td>\n",
       "      <td>0.775006</td>\n",
       "      <td>-1.654599</td>\n",
       "      <td>-0.477610</td>\n",
       "      <td>0.306033</td>\n",
       "      <td>1.445963</td>\n",
       "      <td>0.421280</td>\n",
       "      <td>-0.645078</td>\n",
       "      <td>-0.594252</td>\n",
       "    </tr>\n",
       "    <tr>\n",
       "      <th>4</th>\n",
       "      <td>1.306456</td>\n",
       "      <td>1.0</td>\n",
       "      <td>1.0</td>\n",
       "      <td>0.711743</td>\n",
       "      <td>1.996279</td>\n",
       "      <td>2006-03-01</td>\n",
       "      <td>332</td>\n",
       "      <td>2</td>\n",
       "      <td>2.243955</td>\n",
       "      <td>-0.276988</td>\n",
       "      <td>-0.271203</td>\n",
       "      <td>0.442446</td>\n",
       "      <td>0.213653</td>\n",
       "      <td>0.040331</td>\n",
       "      <td>0.680119</td>\n",
       "      <td>-0.711775</td>\n",
       "      <td>0.353254</td>\n",
       "      <td>0.282848</td>\n",
       "    </tr>\n",
       "  </tbody>\n",
       "</table>\n",
       "</div>"
      ],
      "text/plain": [
       "     Rating Award English     Pages Num_Ratings       Date Genre Author  \\\n",
       "0  1.045226   1.0     1.0  0.024911    3.432074 2008-09-14   332      4   \n",
       "1  1.785378   1.0     1.0   1.67778    2.318345 2003-06-21   104     10   \n",
       "2  0.827534   0.0     1.0 -0.458823    2.574627 1813-01-28   332      7   \n",
       "3  0.783996   1.0     1.0 -0.155171    3.016141 1960-01-01   332      2   \n",
       "4  1.306456   1.0     1.0  0.711743    1.996279 2006-03-01   332      2   \n",
       "\n",
       "   Description_Topic_1  Description_Topic_2  Description_Topic_3  \\\n",
       "0             1.162929            -0.075667             0.833113   \n",
       "1             1.282889            -0.114047            -0.294877   \n",
       "2             0.487526            -0.057352            -0.486406   \n",
       "3             1.952991            -0.197228             0.775006   \n",
       "4             2.243955            -0.276988            -0.271203   \n",
       "\n",
       "   Description_Topic_4  Description_Topic_5  Description_Topic_6  \\\n",
       "0             0.017041             0.303624            -0.487934   \n",
       "1             0.712938             0.388994            -0.391327   \n",
       "2             0.009328            -0.008529             0.904428   \n",
       "3            -1.654599            -0.477610             0.306033   \n",
       "4             0.442446             0.213653             0.040331   \n",
       "\n",
       "   Description_Topic_7  Description_Topic_8  Description_Topic_9  \\\n",
       "0             0.361821            -0.380181             0.307482   \n",
       "1            -0.574517            -0.281972            -0.025338   \n",
       "2             0.490329            -0.123184             0.416097   \n",
       "3             1.445963             0.421280            -0.645078   \n",
       "4             0.680119            -0.711775             0.353254   \n",
       "\n",
       "   Description_Topic_10  \n",
       "0              0.054768  \n",
       "1             -0.408825  \n",
       "2             -0.248895  \n",
       "3             -0.594252  \n",
       "4              0.282848  "
      ]
     },
     "execution_count": 162,
     "metadata": {},
     "output_type": "execute_result"
    }
   ],
   "source": [
    "df_final.head()"
   ]
  },
  {
   "cell_type": "code",
   "execution_count": null,
   "metadata": {},
   "outputs": [],
   "source": []
  }
 ],
 "metadata": {
  "kernelspec": {
   "display_name": "Python 3",
   "language": "python",
   "name": "python3"
  },
  "language_info": {
   "codemirror_mode": {
    "name": "ipython",
    "version": 3
   },
   "file_extension": ".py",
   "mimetype": "text/x-python",
   "name": "python",
   "nbconvert_exporter": "python",
   "pygments_lexer": "ipython3",
   "version": "3.11.1"
  },
  "orig_nbformat": 4,
  "vscode": {
   "interpreter": {
    "hash": "c4e9554920b3260f694270a6d1ed00711bd2cbde13f79c1cdf83dec1f254ac82"
   }
  }
 },
 "nbformat": 4,
 "nbformat_minor": 2
}
