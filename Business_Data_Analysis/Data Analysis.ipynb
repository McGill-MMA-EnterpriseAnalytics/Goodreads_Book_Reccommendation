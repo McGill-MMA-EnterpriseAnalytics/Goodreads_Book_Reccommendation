{
 "cells": [
  {
   "cell_type": "code",
   "execution_count": 1,
   "metadata": {
    "colab": {
     "base_uri": "https://localhost:8080/"
    },
    "id": "aFKGSpH6D4FL",
    "outputId": "706ecbc3-2051-40c9-86e7-dd08932f3aac"
   },
   "outputs": [],
   "source": [
    "import pandas as pd\n",
    "import numpy as np\n",
    "import matplotlib.pyplot as plt\n",
    "import seaborn as sns\n",
    "import re\n",
    "from datetime import date\n",
    "import statistics as stats\n",
    "\n",
    "%matplotlib inline\n",
    "\n"
   ]
  },
  {
   "cell_type": "code",
   "execution_count": 2,
   "metadata": {
    "id": "MJKjNPrKD4FQ"
   },
   "outputs": [],
   "source": [
    "books=pd.read_csv('all_books.csv')\n",
    "\n",
    "\n"
   ]
  },
  {
   "cell_type": "code",
   "execution_count": 3,
   "metadata": {
    "colab": {
     "base_uri": "https://localhost:8080/",
     "height": 337
    },
    "id": "_Rz2Fl0JD4FR",
    "outputId": "ce49893b-763f-4f0e-efed-d5b33c5b9ff0"
   },
   "outputs": [
    {
     "data": {
      "text/html": [
       "<div>\n",
       "<style scoped>\n",
       "    .dataframe tbody tr th:only-of-type {\n",
       "        vertical-align: middle;\n",
       "    }\n",
       "\n",
       "    .dataframe tbody tr th {\n",
       "        vertical-align: top;\n",
       "    }\n",
       "\n",
       "    .dataframe thead th {\n",
       "        text-align: right;\n",
       "    }\n",
       "</style>\n",
       "<table border=\"1\" class=\"dataframe\">\n",
       "  <thead>\n",
       "    <tr style=\"text-align: right;\">\n",
       "      <th></th>\n",
       "      <th>url</th>\n",
       "      <th>book_pages</th>\n",
       "      <th>num_of_rating</th>\n",
       "      <th>num_of_review</th>\n",
       "      <th>genre</th>\n",
       "      <th>publish</th>\n",
       "      <th>author</th>\n",
       "      <th>title</th>\n",
       "      <th>rating</th>\n",
       "      <th>award</th>\n",
       "      <th>isbn</th>\n",
       "      <th>book_id</th>\n",
       "    </tr>\n",
       "  </thead>\n",
       "  <tbody>\n",
       "    <tr>\n",
       "      <th>0</th>\n",
       "      <td>https://www.goodreads.com/book/show/61316653-e...</td>\n",
       "      <td>780 pages, Hardcover</td>\n",
       "      <td>16</td>\n",
       "      <td>3</td>\n",
       "      <td>non-fiction</td>\n",
       "      <td>First published January 1, 1933</td>\n",
       "      <td>Petrona C. de Gandulfo</td>\n",
       "      <td>El libro de Dona Petrona</td>\n",
       "      <td>4.13</td>\n",
       "      <td>[0]</td>\n",
       "      <td>['NA']</td>\n",
       "      <td>61316653</td>\n",
       "    </tr>\n",
       "    <tr>\n",
       "      <th>1</th>\n",
       "      <td>https://www.goodreads.com/book/show/129603.You...</td>\n",
       "      <td>253 pages, Unknown Binding</td>\n",
       "      <td>74</td>\n",
       "      <td>2</td>\n",
       "      <td>Nonfiction</td>\n",
       "      <td>First published January 1, 1984</td>\n",
       "      <td>Louise L. Hay</td>\n",
       "      <td>You Can Heal Your Life</td>\n",
       "      <td>4.16</td>\n",
       "      <td>[0]</td>\n",
       "      <td>['9788176210775']</td>\n",
       "      <td>129603</td>\n",
       "    </tr>\n",
       "    <tr>\n",
       "      <th>2</th>\n",
       "      <td>https://www.goodreads.com/book/show/51091831</td>\n",
       "      <td>400 pages, Hardcover</td>\n",
       "      <td>8</td>\n",
       "      <td>2</td>\n",
       "      <td>art-history</td>\n",
       "      <td>Published January 1, 2019</td>\n",
       "      <td>Михаил Майзульс</td>\n",
       "      <td>Мышеловка святого Иосифа. Как средневековый об...</td>\n",
       "      <td>4.63</td>\n",
       "      <td>[0]</td>\n",
       "      <td>['NA']</td>\n",
       "      <td>51091831</td>\n",
       "    </tr>\n",
       "    <tr>\n",
       "      <th>3</th>\n",
       "      <td>https://www.goodreads.com/book/show/15818223-f...</td>\n",
       "      <td>304 pages, Hardcover</td>\n",
       "      <td>1</td>\n",
       "      <td>126</td>\n",
       "      <td>Food</td>\n",
       "      <td>First published March 19, 2013</td>\n",
       "      <td>Daphne Miller</td>\n",
       "      <td>Farmacology: What Innovative Family Farming Ca...</td>\n",
       "      <td>4.27</td>\n",
       "      <td>[0]</td>\n",
       "      <td>['9780062103147']</td>\n",
       "      <td>15818223</td>\n",
       "    </tr>\n",
       "    <tr>\n",
       "      <th>4</th>\n",
       "      <td>https://www.goodreads.com/book/show/5949533-ex...</td>\n",
       "      <td>190 pages, Paperback</td>\n",
       "      <td>16</td>\n",
       "      <td>2</td>\n",
       "      <td>Sword and Sorcery</td>\n",
       "      <td>First published September 1, 1970</td>\n",
       "      <td>Richard Meade</td>\n",
       "      <td>Exile's Quest</td>\n",
       "      <td>3.06</td>\n",
       "      <td>[0]</td>\n",
       "      <td>['9780451043481']</td>\n",
       "      <td>5949533</td>\n",
       "    </tr>\n",
       "  </tbody>\n",
       "</table>\n",
       "</div>"
      ],
      "text/plain": [
       "                                                 url  \\\n",
       "0  https://www.goodreads.com/book/show/61316653-e...   \n",
       "1  https://www.goodreads.com/book/show/129603.You...   \n",
       "2       https://www.goodreads.com/book/show/51091831   \n",
       "3  https://www.goodreads.com/book/show/15818223-f...   \n",
       "4  https://www.goodreads.com/book/show/5949533-ex...   \n",
       "\n",
       "                   book_pages  num_of_rating  num_of_review  \\\n",
       "0        780 pages, Hardcover             16              3   \n",
       "1  253 pages, Unknown Binding             74              2   \n",
       "2        400 pages, Hardcover              8              2   \n",
       "3        304 pages, Hardcover              1            126   \n",
       "4        190 pages, Paperback             16              2   \n",
       "\n",
       "               genre                            publish  \\\n",
       "0        non-fiction    First published January 1, 1933   \n",
       "1         Nonfiction    First published January 1, 1984   \n",
       "2        art-history          Published January 1, 2019   \n",
       "3               Food     First published March 19, 2013   \n",
       "4  Sword and Sorcery  First published September 1, 1970   \n",
       "\n",
       "                   author                                              title  \\\n",
       "0  Petrona C. de Gandulfo                           El libro de Dona Petrona   \n",
       "1           Louise L. Hay                             You Can Heal Your Life   \n",
       "2         Михаил Майзульс  Мышеловка святого Иосифа. Как средневековый об...   \n",
       "3           Daphne Miller  Farmacology: What Innovative Family Farming Ca...   \n",
       "4           Richard Meade                                      Exile's Quest   \n",
       "\n",
       "   rating award               isbn   book_id  \n",
       "0    4.13   [0]             ['NA']  61316653  \n",
       "1    4.16   [0]  ['9788176210775']    129603  \n",
       "2    4.63   [0]             ['NA']  51091831  \n",
       "3    4.27   [0]  ['9780062103147']  15818223  \n",
       "4    3.06   [0]  ['9780451043481']   5949533  "
      ]
     },
     "execution_count": 3,
     "metadata": {},
     "output_type": "execute_result"
    }
   ],
   "source": [
    "books.head()"
   ]
  },
  {
   "cell_type": "code",
   "execution_count": 4,
   "metadata": {
    "colab": {
     "base_uri": "https://localhost:8080/"
    },
    "id": "_SRUObpzD4FU",
    "outputId": "6c4e330a-cba0-4ad3-e68d-2d9be0653b4d"
   },
   "outputs": [
    {
     "name": "stdout",
     "output_type": "stream",
     "text": [
      "<class 'pandas.core.frame.DataFrame'>\n",
      "RangeIndex: 274233 entries, 0 to 274232\n",
      "Data columns (total 12 columns):\n",
      " #   Column         Non-Null Count   Dtype  \n",
      "---  ------         --------------   -----  \n",
      " 0   url            274233 non-null  object \n",
      " 1   book_pages     274233 non-null  object \n",
      " 2   num_of_rating  274233 non-null  int64  \n",
      " 3   num_of_review  274233 non-null  int64  \n",
      " 4   genre          274233 non-null  object \n",
      " 5   publish        274233 non-null  object \n",
      " 6   author         274231 non-null  object \n",
      " 7   title          274233 non-null  object \n",
      " 8   rating         274233 non-null  float64\n",
      " 9   award          274233 non-null  object \n",
      " 10  isbn           274233 non-null  object \n",
      " 11  book_id        274233 non-null  int64  \n",
      "dtypes: float64(1), int64(3), object(8)\n",
      "memory usage: 25.1+ MB\n"
     ]
    }
   ],
   "source": [
    "books.info()"
   ]
  },
  {
   "cell_type": "markdown",
   "metadata": {
    "id": "cU9UDxAxD4FV"
   },
   "source": [
    "# Data Preprocessing"
   ]
  },
  {
   "cell_type": "markdown",
   "metadata": {
    "id": "krZ8n6_KD4FZ"
   },
   "source": [
    "## Check and Replace Missing Values"
   ]
  },
  {
   "cell_type": "code",
   "execution_count": 5,
   "metadata": {
    "colab": {
     "base_uri": "https://localhost:8080/"
    },
    "id": "aacvE3MND4Fa",
    "outputId": "479a936b-4db6-4df0-e502-fb17b5bd4fb5"
   },
   "outputs": [
    {
     "data": {
      "text/plain": [
       "url              0\n",
       "book_pages       0\n",
       "num_of_rating    0\n",
       "num_of_review    0\n",
       "genre            0\n",
       "publish          0\n",
       "author           2\n",
       "title            0\n",
       "rating           0\n",
       "award            0\n",
       "isbn             0\n",
       "book_id          0\n",
       "dtype: int64"
      ]
     },
     "execution_count": 5,
     "metadata": {},
     "output_type": "execute_result"
    }
   ],
   "source": [
    "books.isnull().sum()"
   ]
  },
  {
   "cell_type": "code",
   "execution_count": 6,
   "metadata": {
    "colab": {
     "base_uri": "https://localhost:8080/"
    },
    "id": "jr5RPl-ZD4Fc",
    "outputId": "cc5c3da4-7aaa-4b79-e92c-eb2bc5cd36d0"
   },
   "outputs": [
    {
     "name": "stdout",
     "output_type": "stream",
     "text": [
      "                                                      url  \\\n",
      "103210  https://www.goodreads.com/book/show/17931254-t...   \n",
      "121240  https://www.goodreads.com/book/show/17405888-t...   \n",
      "\n",
      "                  book_pages  num_of_rating  num_of_review    genre  \\\n",
      "103210  217 pages, Paperback             74             31  Romance   \n",
      "121240  238 pages, Paperback            285             62  Romance   \n",
      "\n",
      "                                   publish author     title  rating award  \\\n",
      "103210  First published September 12, 2013    NaN  Tailspin    3.78   [0]   \n",
      "121240   First published February 20, 2013    NaN     Toxic    3.95   [0]   \n",
      "\n",
      "                     isbn   book_id  \n",
      "103210             ['NA']  17931254  \n",
      "121240  ['9781482382945']  17405888  \n"
     ]
    }
   ],
   "source": [
    "print(books[books[\"author\"].isnull()]) #author=Raquel Valldeperas"
   ]
  },
  {
   "cell_type": "code",
   "execution_count": 7,
   "metadata": {
    "colab": {
     "base_uri": "https://localhost:8080/",
     "height": 641
    },
    "id": "XFwuuU0WD4Fc",
    "outputId": "1fc0aa3a-90c2-416b-9dd7-3d9df227f70f"
   },
   "outputs": [
    {
     "data": {
      "text/html": [
       "<div>\n",
       "<style scoped>\n",
       "    .dataframe tbody tr th:only-of-type {\n",
       "        vertical-align: middle;\n",
       "    }\n",
       "\n",
       "    .dataframe tbody tr th {\n",
       "        vertical-align: top;\n",
       "    }\n",
       "\n",
       "    .dataframe thead th {\n",
       "        text-align: right;\n",
       "    }\n",
       "</style>\n",
       "<table border=\"1\" class=\"dataframe\">\n",
       "  <thead>\n",
       "    <tr style=\"text-align: right;\">\n",
       "      <th></th>\n",
       "      <th>url</th>\n",
       "      <th>book_pages</th>\n",
       "      <th>num_of_rating</th>\n",
       "      <th>num_of_review</th>\n",
       "      <th>genre</th>\n",
       "      <th>publish</th>\n",
       "      <th>author</th>\n",
       "      <th>title</th>\n",
       "      <th>rating</th>\n",
       "      <th>award</th>\n",
       "      <th>isbn</th>\n",
       "      <th>book_id</th>\n",
       "    </tr>\n",
       "  </thead>\n",
       "  <tbody>\n",
       "    <tr>\n",
       "      <th>0</th>\n",
       "      <td>https://www.goodreads.com/book/show/61316653-e...</td>\n",
       "      <td>780 pages, Hardcover</td>\n",
       "      <td>16</td>\n",
       "      <td>3</td>\n",
       "      <td>non-fiction</td>\n",
       "      <td>First published January 1, 1933</td>\n",
       "      <td>Petrona C. de Gandulfo</td>\n",
       "      <td>El libro de Dona Petrona</td>\n",
       "      <td>4.13</td>\n",
       "      <td>[0]</td>\n",
       "      <td>['NA']</td>\n",
       "      <td>61316653</td>\n",
       "    </tr>\n",
       "    <tr>\n",
       "      <th>1</th>\n",
       "      <td>https://www.goodreads.com/book/show/129603.You...</td>\n",
       "      <td>253 pages, Unknown Binding</td>\n",
       "      <td>74</td>\n",
       "      <td>2</td>\n",
       "      <td>Nonfiction</td>\n",
       "      <td>First published January 1, 1984</td>\n",
       "      <td>Louise L. Hay</td>\n",
       "      <td>You Can Heal Your Life</td>\n",
       "      <td>4.16</td>\n",
       "      <td>[0]</td>\n",
       "      <td>['9788176210775']</td>\n",
       "      <td>129603</td>\n",
       "    </tr>\n",
       "    <tr>\n",
       "      <th>2</th>\n",
       "      <td>https://www.goodreads.com/book/show/51091831</td>\n",
       "      <td>400 pages, Hardcover</td>\n",
       "      <td>8</td>\n",
       "      <td>2</td>\n",
       "      <td>art-history</td>\n",
       "      <td>Published January 1, 2019</td>\n",
       "      <td>Михаил Майзульс</td>\n",
       "      <td>Мышеловка святого Иосифа. Как средневековый об...</td>\n",
       "      <td>4.63</td>\n",
       "      <td>[0]</td>\n",
       "      <td>['NA']</td>\n",
       "      <td>51091831</td>\n",
       "    </tr>\n",
       "    <tr>\n",
       "      <th>3</th>\n",
       "      <td>https://www.goodreads.com/book/show/15818223-f...</td>\n",
       "      <td>304 pages, Hardcover</td>\n",
       "      <td>1</td>\n",
       "      <td>126</td>\n",
       "      <td>Food</td>\n",
       "      <td>First published March 19, 2013</td>\n",
       "      <td>Daphne Miller</td>\n",
       "      <td>Farmacology: What Innovative Family Farming Ca...</td>\n",
       "      <td>4.27</td>\n",
       "      <td>[0]</td>\n",
       "      <td>['9780062103147']</td>\n",
       "      <td>15818223</td>\n",
       "    </tr>\n",
       "    <tr>\n",
       "      <th>4</th>\n",
       "      <td>https://www.goodreads.com/book/show/5949533-ex...</td>\n",
       "      <td>190 pages, Paperback</td>\n",
       "      <td>16</td>\n",
       "      <td>2</td>\n",
       "      <td>Sword and Sorcery</td>\n",
       "      <td>First published September 1, 1970</td>\n",
       "      <td>Richard Meade</td>\n",
       "      <td>Exile's Quest</td>\n",
       "      <td>3.06</td>\n",
       "      <td>[0]</td>\n",
       "      <td>['9780451043481']</td>\n",
       "      <td>5949533</td>\n",
       "    </tr>\n",
       "    <tr>\n",
       "      <th>...</th>\n",
       "      <td>...</td>\n",
       "      <td>...</td>\n",
       "      <td>...</td>\n",
       "      <td>...</td>\n",
       "      <td>...</td>\n",
       "      <td>...</td>\n",
       "      <td>...</td>\n",
       "      <td>...</td>\n",
       "      <td>...</td>\n",
       "      <td>...</td>\n",
       "      <td>...</td>\n",
       "      <td>...</td>\n",
       "    </tr>\n",
       "    <tr>\n",
       "      <th>274228</th>\n",
       "      <td>https://www.goodreads.com/book/show/7673073-th...</td>\n",
       "      <td>754 pages, Kindle Edition</td>\n",
       "      <td>314</td>\n",
       "      <td>13</td>\n",
       "      <td>Classics</td>\n",
       "      <td>First published April 15, 1943</td>\n",
       "      <td>Ayn Rand</td>\n",
       "      <td>The Fountainhead</td>\n",
       "      <td>3.88</td>\n",
       "      <td>[0]</td>\n",
       "      <td>['NA']</td>\n",
       "      <td>7673073</td>\n",
       "    </tr>\n",
       "    <tr>\n",
       "      <th>274229</th>\n",
       "      <td>https://www.goodreads.com/book/show/3228451-ci...</td>\n",
       "      <td>310 pages, Paperback</td>\n",
       "      <td>138</td>\n",
       "      <td>13</td>\n",
       "      <td>Fiction</td>\n",
       "      <td>First published May 15, 2008</td>\n",
       "      <td>David Benioff</td>\n",
       "      <td>City of Thieves</td>\n",
       "      <td>4.28</td>\n",
       "      <td>[1]</td>\n",
       "      <td>['9780340923153']</td>\n",
       "      <td>3228451</td>\n",
       "    </tr>\n",
       "    <tr>\n",
       "      <th>274230</th>\n",
       "      <td>https://www.goodreads.com/book/show/49398068-a...</td>\n",
       "      <td>Audiobook</td>\n",
       "      <td>284</td>\n",
       "      <td>20</td>\n",
       "      <td>New Adult</td>\n",
       "      <td>First published October 21, 2014</td>\n",
       "      <td>Anna Todd</td>\n",
       "      <td>After</td>\n",
       "      <td>3.71</td>\n",
       "      <td>[0]</td>\n",
       "      <td>['NA']</td>\n",
       "      <td>49398068</td>\n",
       "    </tr>\n",
       "    <tr>\n",
       "      <th>274231</th>\n",
       "      <td>https://www.goodreads.com/book/show/25109681-f...</td>\n",
       "      <td>429 pages, Paperback</td>\n",
       "      <td>144</td>\n",
       "      <td>7</td>\n",
       "      <td>Fiction</td>\n",
       "      <td>First published January 1, 1874</td>\n",
       "      <td>Thomas Hardy</td>\n",
       "      <td>Far from the Madding Crowd</td>\n",
       "      <td>3.96</td>\n",
       "      <td>[0]</td>\n",
       "      <td>['9780008127701']</td>\n",
       "      <td>25109681</td>\n",
       "    </tr>\n",
       "    <tr>\n",
       "      <th>274232</th>\n",
       "      <td>https://www.goodreads.com/book/show/8344904-di...</td>\n",
       "      <td>192 pages, Paperback</td>\n",
       "      <td>1</td>\n",
       "      <td>139</td>\n",
       "      <td>Hungary</td>\n",
       "      <td>First published January 1, 1935</td>\n",
       "      <td>Sándor Márai</td>\n",
       "      <td>Divorcio en Buda</td>\n",
       "      <td>3.81</td>\n",
       "      <td>[0]</td>\n",
       "      <td>['9788478887040']</td>\n",
       "      <td>8344904</td>\n",
       "    </tr>\n",
       "  </tbody>\n",
       "</table>\n",
       "<p>274233 rows × 12 columns</p>\n",
       "</div>"
      ],
      "text/plain": [
       "                                                      url  \\\n",
       "0       https://www.goodreads.com/book/show/61316653-e...   \n",
       "1       https://www.goodreads.com/book/show/129603.You...   \n",
       "2            https://www.goodreads.com/book/show/51091831   \n",
       "3       https://www.goodreads.com/book/show/15818223-f...   \n",
       "4       https://www.goodreads.com/book/show/5949533-ex...   \n",
       "...                                                   ...   \n",
       "274228  https://www.goodreads.com/book/show/7673073-th...   \n",
       "274229  https://www.goodreads.com/book/show/3228451-ci...   \n",
       "274230  https://www.goodreads.com/book/show/49398068-a...   \n",
       "274231  https://www.goodreads.com/book/show/25109681-f...   \n",
       "274232  https://www.goodreads.com/book/show/8344904-di...   \n",
       "\n",
       "                        book_pages  num_of_rating  num_of_review  \\\n",
       "0             780 pages, Hardcover             16              3   \n",
       "1       253 pages, Unknown Binding             74              2   \n",
       "2             400 pages, Hardcover              8              2   \n",
       "3             304 pages, Hardcover              1            126   \n",
       "4             190 pages, Paperback             16              2   \n",
       "...                            ...            ...            ...   \n",
       "274228   754 pages, Kindle Edition            314             13   \n",
       "274229        310 pages, Paperback            138             13   \n",
       "274230                   Audiobook            284             20   \n",
       "274231        429 pages, Paperback            144              7   \n",
       "274232        192 pages, Paperback              1            139   \n",
       "\n",
       "                    genre                            publish  \\\n",
       "0             non-fiction    First published January 1, 1933   \n",
       "1              Nonfiction    First published January 1, 1984   \n",
       "2             art-history          Published January 1, 2019   \n",
       "3                    Food     First published March 19, 2013   \n",
       "4       Sword and Sorcery  First published September 1, 1970   \n",
       "...                   ...                                ...   \n",
       "274228           Classics     First published April 15, 1943   \n",
       "274229            Fiction       First published May 15, 2008   \n",
       "274230          New Adult   First published October 21, 2014   \n",
       "274231            Fiction    First published January 1, 1874   \n",
       "274232            Hungary    First published January 1, 1935   \n",
       "\n",
       "                        author  \\\n",
       "0       Petrona C. de Gandulfo   \n",
       "1                Louise L. Hay   \n",
       "2              Михаил Майзульс   \n",
       "3                Daphne Miller   \n",
       "4                Richard Meade   \n",
       "...                        ...   \n",
       "274228                Ayn Rand   \n",
       "274229           David Benioff   \n",
       "274230               Anna Todd   \n",
       "274231            Thomas Hardy   \n",
       "274232            Sándor Márai   \n",
       "\n",
       "                                                    title  rating award  \\\n",
       "0                                El libro de Dona Petrona    4.13   [0]   \n",
       "1                                  You Can Heal Your Life    4.16   [0]   \n",
       "2       Мышеловка святого Иосифа. Как средневековый об...    4.63   [0]   \n",
       "3       Farmacology: What Innovative Family Farming Ca...    4.27   [0]   \n",
       "4                                           Exile's Quest    3.06   [0]   \n",
       "...                                                   ...     ...   ...   \n",
       "274228                                   The Fountainhead    3.88   [0]   \n",
       "274229                                    City of Thieves    4.28   [1]   \n",
       "274230                                              After    3.71   [0]   \n",
       "274231                         Far from the Madding Crowd    3.96   [0]   \n",
       "274232                                   Divorcio en Buda    3.81   [0]   \n",
       "\n",
       "                     isbn   book_id  \n",
       "0                  ['NA']  61316653  \n",
       "1       ['9788176210775']    129603  \n",
       "2                  ['NA']  51091831  \n",
       "3       ['9780062103147']  15818223  \n",
       "4       ['9780451043481']   5949533  \n",
       "...                   ...       ...  \n",
       "274228             ['NA']   7673073  \n",
       "274229  ['9780340923153']   3228451  \n",
       "274230             ['NA']  49398068  \n",
       "274231  ['9780008127701']  25109681  \n",
       "274232  ['9788478887040']   8344904  \n",
       "\n",
       "[274233 rows x 12 columns]"
      ]
     },
     "execution_count": 7,
     "metadata": {},
     "output_type": "execute_result"
    }
   ],
   "source": [
    "books.fillna(\"Raquel Valldeperas\")"
   ]
  },
  {
   "cell_type": "markdown",
   "metadata": {
    "id": "4Z6HLvJGD4Fd"
   },
   "source": [
    "## Reformat Columns"
   ]
  },
  {
   "cell_type": "markdown",
   "metadata": {
    "id": "ZMz4T8j-D4Fe"
   },
   "source": [
    "### Publish Year"
   ]
  },
  {
   "cell_type": "code",
   "execution_count": 8,
   "metadata": {
    "id": "euRW57h5D4Ff"
   },
   "outputs": [],
   "source": [
    "books[[\"publish date\",\"publish year\"]]=books[\"publish\"].str.split(\", \", expand=True)"
   ]
  },
  {
   "cell_type": "markdown",
   "metadata": {
    "id": "lsWvTTt4D4Fg"
   },
   "source": [
    "### Awards"
   ]
  },
  {
   "cell_type": "code",
   "execution_count": 9,
   "metadata": {
    "id": "jARC7YpsD4Fh"
   },
   "outputs": [],
   "source": [
    "awards= [int(books[\"award\"][i][1]) for i in range(len(books[\"award\"]))]\n",
    "awards=pd.DataFrame(awards, columns=[\"awards\"])"
   ]
  },
  {
   "cell_type": "markdown",
   "metadata": {
    "id": "4S7Yzuu9D4Fi"
   },
   "source": [
    "### Page Count and Book Format "
   ]
  },
  {
   "cell_type": "code",
   "execution_count": 10,
   "metadata": {
    "id": "Yon5vvAYD4Fi"
   },
   "outputs": [],
   "source": [
    "splitr=[]\n",
    "for i in books[\"book_pages\"]:\n",
    "    splited=i.split(\", \")\n",
    "    splitr.append(splited)\n",
    "    \n",
    "for i in range(len(splitr)):\n",
    "    splitz=splitr[i]\n",
    "    if len(splitz)==1:\n",
    "        splitz.append(splitz[-1])"
   ]
  },
  {
   "cell_type": "code",
   "execution_count": 11,
   "metadata": {
    "id": "sgWyiBPGD4Fk"
   },
   "outputs": [],
   "source": [
    "pages=[i[0] for i in splitr]\n",
    "format=[i[1] for i in splitr]"
   ]
  },
  {
   "cell_type": "code",
   "execution_count": 12,
   "metadata": {
    "id": "6lfsBywCD4Fk"
   },
   "outputs": [],
   "source": [
    "page_count=[]\n",
    "for i in pages:\n",
    "    if \" pages\" in i:\n",
    "        newi=i.replace(\" pages\", \"\")\n",
    "        int(newi)\n",
    "        page_count.append(newi)\n",
    "    else:\n",
    "        page_count.append(i)"
   ]
  },
  {
   "cell_type": "code",
   "execution_count": 13,
   "metadata": {
    "id": "9EK2y2hND4Fl"
   },
   "outputs": [],
   "source": [
    "fdf=pd.DataFrame({\"page_count\": page_count, \"format\": format})"
   ]
  },
  {
   "cell_type": "code",
   "execution_count": 14,
   "metadata": {
    "id": "RGi-qNbDD4Fm"
   },
   "outputs": [],
   "source": [
    "books=pd.concat([books, fdf, awards], axis=1)"
   ]
  },
  {
   "cell_type": "code",
   "execution_count": 15,
   "metadata": {
    "id": "Du_3dM0kD4Fm"
   },
   "outputs": [],
   "source": [
    "books=books.drop(columns=[\"book_pages\", \"publish date\", \"publish\", \"award\"], axis=0)"
   ]
  },
  {
   "cell_type": "code",
   "execution_count": 16,
   "metadata": {
    "id": "T8UVJtYwD4Fn"
   },
   "outputs": [],
   "source": [
    "books=books[[\"book_id\",\"title\", \"author\", \"publish year\", \"genre\", \"page_count\", \"format\", \"rating\",\"awards\",\"num_of_rating\", \"num_of_review\", \"isbn\",\"url\"]]"
   ]
  },
  {
   "cell_type": "code",
   "execution_count": 17,
   "metadata": {
    "colab": {
     "base_uri": "https://localhost:8080/",
     "height": 589
    },
    "id": "XoLVX0zDD4Fn",
    "outputId": "04a8fc7c-3163-43e5-f631-1c1e3f5fc54a"
   },
   "outputs": [
    {
     "data": {
      "text/html": [
       "<div>\n",
       "<style scoped>\n",
       "    .dataframe tbody tr th:only-of-type {\n",
       "        vertical-align: middle;\n",
       "    }\n",
       "\n",
       "    .dataframe tbody tr th {\n",
       "        vertical-align: top;\n",
       "    }\n",
       "\n",
       "    .dataframe thead th {\n",
       "        text-align: right;\n",
       "    }\n",
       "</style>\n",
       "<table border=\"1\" class=\"dataframe\">\n",
       "  <thead>\n",
       "    <tr style=\"text-align: right;\">\n",
       "      <th></th>\n",
       "      <th>book_id</th>\n",
       "      <th>title</th>\n",
       "      <th>author</th>\n",
       "      <th>publish year</th>\n",
       "      <th>genre</th>\n",
       "      <th>page_count</th>\n",
       "      <th>format</th>\n",
       "      <th>rating</th>\n",
       "      <th>awards</th>\n",
       "      <th>num_of_rating</th>\n",
       "      <th>num_of_review</th>\n",
       "      <th>isbn</th>\n",
       "      <th>url</th>\n",
       "    </tr>\n",
       "  </thead>\n",
       "  <tbody>\n",
       "    <tr>\n",
       "      <th>0</th>\n",
       "      <td>61316653</td>\n",
       "      <td>El libro de Dona Petrona</td>\n",
       "      <td>Petrona C. de Gandulfo</td>\n",
       "      <td>1933</td>\n",
       "      <td>non-fiction</td>\n",
       "      <td>780</td>\n",
       "      <td>Hardcover</td>\n",
       "      <td>4.13</td>\n",
       "      <td>0</td>\n",
       "      <td>16</td>\n",
       "      <td>3</td>\n",
       "      <td>['NA']</td>\n",
       "      <td>https://www.goodreads.com/book/show/61316653-e...</td>\n",
       "    </tr>\n",
       "    <tr>\n",
       "      <th>1</th>\n",
       "      <td>129603</td>\n",
       "      <td>You Can Heal Your Life</td>\n",
       "      <td>Louise L. Hay</td>\n",
       "      <td>1984</td>\n",
       "      <td>Nonfiction</td>\n",
       "      <td>253</td>\n",
       "      <td>Unknown Binding</td>\n",
       "      <td>4.16</td>\n",
       "      <td>0</td>\n",
       "      <td>74</td>\n",
       "      <td>2</td>\n",
       "      <td>['9788176210775']</td>\n",
       "      <td>https://www.goodreads.com/book/show/129603.You...</td>\n",
       "    </tr>\n",
       "    <tr>\n",
       "      <th>2</th>\n",
       "      <td>51091831</td>\n",
       "      <td>Мышеловка святого Иосифа. Как средневековый об...</td>\n",
       "      <td>Михаил Майзульс</td>\n",
       "      <td>2019</td>\n",
       "      <td>art-history</td>\n",
       "      <td>400</td>\n",
       "      <td>Hardcover</td>\n",
       "      <td>4.63</td>\n",
       "      <td>0</td>\n",
       "      <td>8</td>\n",
       "      <td>2</td>\n",
       "      <td>['NA']</td>\n",
       "      <td>https://www.goodreads.com/book/show/51091831</td>\n",
       "    </tr>\n",
       "    <tr>\n",
       "      <th>3</th>\n",
       "      <td>15818223</td>\n",
       "      <td>Farmacology: What Innovative Family Farming Ca...</td>\n",
       "      <td>Daphne Miller</td>\n",
       "      <td>2013</td>\n",
       "      <td>Food</td>\n",
       "      <td>304</td>\n",
       "      <td>Hardcover</td>\n",
       "      <td>4.27</td>\n",
       "      <td>0</td>\n",
       "      <td>1</td>\n",
       "      <td>126</td>\n",
       "      <td>['9780062103147']</td>\n",
       "      <td>https://www.goodreads.com/book/show/15818223-f...</td>\n",
       "    </tr>\n",
       "    <tr>\n",
       "      <th>4</th>\n",
       "      <td>5949533</td>\n",
       "      <td>Exile's Quest</td>\n",
       "      <td>Richard Meade</td>\n",
       "      <td>1970</td>\n",
       "      <td>Sword and Sorcery</td>\n",
       "      <td>190</td>\n",
       "      <td>Paperback</td>\n",
       "      <td>3.06</td>\n",
       "      <td>0</td>\n",
       "      <td>16</td>\n",
       "      <td>2</td>\n",
       "      <td>['9780451043481']</td>\n",
       "      <td>https://www.goodreads.com/book/show/5949533-ex...</td>\n",
       "    </tr>\n",
       "    <tr>\n",
       "      <th>...</th>\n",
       "      <td>...</td>\n",
       "      <td>...</td>\n",
       "      <td>...</td>\n",
       "      <td>...</td>\n",
       "      <td>...</td>\n",
       "      <td>...</td>\n",
       "      <td>...</td>\n",
       "      <td>...</td>\n",
       "      <td>...</td>\n",
       "      <td>...</td>\n",
       "      <td>...</td>\n",
       "      <td>...</td>\n",
       "      <td>...</td>\n",
       "    </tr>\n",
       "    <tr>\n",
       "      <th>274228</th>\n",
       "      <td>7673073</td>\n",
       "      <td>The Fountainhead</td>\n",
       "      <td>Ayn Rand</td>\n",
       "      <td>1943</td>\n",
       "      <td>Classics</td>\n",
       "      <td>754</td>\n",
       "      <td>Kindle Edition</td>\n",
       "      <td>3.88</td>\n",
       "      <td>0</td>\n",
       "      <td>314</td>\n",
       "      <td>13</td>\n",
       "      <td>['NA']</td>\n",
       "      <td>https://www.goodreads.com/book/show/7673073-th...</td>\n",
       "    </tr>\n",
       "    <tr>\n",
       "      <th>274229</th>\n",
       "      <td>3228451</td>\n",
       "      <td>City of Thieves</td>\n",
       "      <td>David Benioff</td>\n",
       "      <td>2008</td>\n",
       "      <td>Fiction</td>\n",
       "      <td>310</td>\n",
       "      <td>Paperback</td>\n",
       "      <td>4.28</td>\n",
       "      <td>1</td>\n",
       "      <td>138</td>\n",
       "      <td>13</td>\n",
       "      <td>['9780340923153']</td>\n",
       "      <td>https://www.goodreads.com/book/show/3228451-ci...</td>\n",
       "    </tr>\n",
       "    <tr>\n",
       "      <th>274230</th>\n",
       "      <td>49398068</td>\n",
       "      <td>After</td>\n",
       "      <td>Anna Todd</td>\n",
       "      <td>2014</td>\n",
       "      <td>New Adult</td>\n",
       "      <td>Audiobook</td>\n",
       "      <td>Audiobook</td>\n",
       "      <td>3.71</td>\n",
       "      <td>0</td>\n",
       "      <td>284</td>\n",
       "      <td>20</td>\n",
       "      <td>['NA']</td>\n",
       "      <td>https://www.goodreads.com/book/show/49398068-a...</td>\n",
       "    </tr>\n",
       "    <tr>\n",
       "      <th>274231</th>\n",
       "      <td>25109681</td>\n",
       "      <td>Far from the Madding Crowd</td>\n",
       "      <td>Thomas Hardy</td>\n",
       "      <td>1874</td>\n",
       "      <td>Fiction</td>\n",
       "      <td>429</td>\n",
       "      <td>Paperback</td>\n",
       "      <td>3.96</td>\n",
       "      <td>0</td>\n",
       "      <td>144</td>\n",
       "      <td>7</td>\n",
       "      <td>['9780008127701']</td>\n",
       "      <td>https://www.goodreads.com/book/show/25109681-f...</td>\n",
       "    </tr>\n",
       "    <tr>\n",
       "      <th>274232</th>\n",
       "      <td>8344904</td>\n",
       "      <td>Divorcio en Buda</td>\n",
       "      <td>Sándor Márai</td>\n",
       "      <td>1935</td>\n",
       "      <td>Hungary</td>\n",
       "      <td>192</td>\n",
       "      <td>Paperback</td>\n",
       "      <td>3.81</td>\n",
       "      <td>0</td>\n",
       "      <td>1</td>\n",
       "      <td>139</td>\n",
       "      <td>['9788478887040']</td>\n",
       "      <td>https://www.goodreads.com/book/show/8344904-di...</td>\n",
       "    </tr>\n",
       "  </tbody>\n",
       "</table>\n",
       "<p>274233 rows × 13 columns</p>\n",
       "</div>"
      ],
      "text/plain": [
       "         book_id                                              title  \\\n",
       "0       61316653                           El libro de Dona Petrona   \n",
       "1         129603                             You Can Heal Your Life   \n",
       "2       51091831  Мышеловка святого Иосифа. Как средневековый об...   \n",
       "3       15818223  Farmacology: What Innovative Family Farming Ca...   \n",
       "4        5949533                                      Exile's Quest   \n",
       "...          ...                                                ...   \n",
       "274228   7673073                                   The Fountainhead   \n",
       "274229   3228451                                    City of Thieves   \n",
       "274230  49398068                                              After   \n",
       "274231  25109681                         Far from the Madding Crowd   \n",
       "274232   8344904                                   Divorcio en Buda   \n",
       "\n",
       "                        author publish year              genre page_count  \\\n",
       "0       Petrona C. de Gandulfo         1933        non-fiction        780   \n",
       "1                Louise L. Hay         1984         Nonfiction        253   \n",
       "2              Михаил Майзульс         2019        art-history        400   \n",
       "3                Daphne Miller         2013               Food        304   \n",
       "4                Richard Meade         1970  Sword and Sorcery        190   \n",
       "...                        ...          ...                ...        ...   \n",
       "274228                Ayn Rand         1943           Classics        754   \n",
       "274229           David Benioff         2008            Fiction        310   \n",
       "274230               Anna Todd         2014          New Adult  Audiobook   \n",
       "274231            Thomas Hardy         1874            Fiction        429   \n",
       "274232            Sándor Márai         1935            Hungary        192   \n",
       "\n",
       "                 format  rating  awards  num_of_rating  num_of_review  \\\n",
       "0             Hardcover    4.13       0             16              3   \n",
       "1       Unknown Binding    4.16       0             74              2   \n",
       "2             Hardcover    4.63       0              8              2   \n",
       "3             Hardcover    4.27       0              1            126   \n",
       "4             Paperback    3.06       0             16              2   \n",
       "...                 ...     ...     ...            ...            ...   \n",
       "274228   Kindle Edition    3.88       0            314             13   \n",
       "274229        Paperback    4.28       1            138             13   \n",
       "274230        Audiobook    3.71       0            284             20   \n",
       "274231        Paperback    3.96       0            144              7   \n",
       "274232        Paperback    3.81       0              1            139   \n",
       "\n",
       "                     isbn                                                url  \n",
       "0                  ['NA']  https://www.goodreads.com/book/show/61316653-e...  \n",
       "1       ['9788176210775']  https://www.goodreads.com/book/show/129603.You...  \n",
       "2                  ['NA']       https://www.goodreads.com/book/show/51091831  \n",
       "3       ['9780062103147']  https://www.goodreads.com/book/show/15818223-f...  \n",
       "4       ['9780451043481']  https://www.goodreads.com/book/show/5949533-ex...  \n",
       "...                   ...                                                ...  \n",
       "274228             ['NA']  https://www.goodreads.com/book/show/7673073-th...  \n",
       "274229  ['9780340923153']  https://www.goodreads.com/book/show/3228451-ci...  \n",
       "274230             ['NA']  https://www.goodreads.com/book/show/49398068-a...  \n",
       "274231  ['9780008127701']  https://www.goodreads.com/book/show/25109681-f...  \n",
       "274232  ['9788478887040']  https://www.goodreads.com/book/show/8344904-di...  \n",
       "\n",
       "[274233 rows x 13 columns]"
      ]
     },
     "execution_count": 17,
     "metadata": {},
     "output_type": "execute_result"
    }
   ],
   "source": [
    "books"
   ]
  },
  {
   "cell_type": "markdown",
   "metadata": {
    "id": "JswvFl2-D4Fo"
   },
   "source": [
    "## Remove Duplicates"
   ]
  },
  {
   "cell_type": "markdown",
   "metadata": {
    "id": "i35L7ddND4Fp"
   },
   "source": [
    "Prioritise the duplicates that have the desired print format"
   ]
  },
  {
   "cell_type": "code",
   "execution_count": 18,
   "metadata": {
    "colab": {
     "base_uri": "https://localhost:8080/",
     "height": 623
    },
    "id": "UbVHZZzID4Fp",
    "outputId": "841bf3fd-cdfc-46dc-c261-f934897e013f"
   },
   "outputs": [
    {
     "data": {
      "text/html": [
       "<div>\n",
       "<style scoped>\n",
       "    .dataframe tbody tr th:only-of-type {\n",
       "        vertical-align: middle;\n",
       "    }\n",
       "\n",
       "    .dataframe tbody tr th {\n",
       "        vertical-align: top;\n",
       "    }\n",
       "\n",
       "    .dataframe thead th {\n",
       "        text-align: right;\n",
       "    }\n",
       "</style>\n",
       "<table border=\"1\" class=\"dataframe\">\n",
       "  <thead>\n",
       "    <tr style=\"text-align: right;\">\n",
       "      <th></th>\n",
       "      <th>index</th>\n",
       "      <th>book_id</th>\n",
       "      <th>title</th>\n",
       "      <th>author</th>\n",
       "      <th>publish year</th>\n",
       "      <th>genre</th>\n",
       "      <th>page_count</th>\n",
       "      <th>format</th>\n",
       "      <th>rating</th>\n",
       "      <th>awards</th>\n",
       "      <th>num_of_rating</th>\n",
       "      <th>num_of_review</th>\n",
       "      <th>isbn</th>\n",
       "      <th>url</th>\n",
       "    </tr>\n",
       "  </thead>\n",
       "  <tbody>\n",
       "    <tr>\n",
       "      <th>0</th>\n",
       "      <td>254160</td>\n",
       "      <td>368731</td>\n",
       "      <td>\"A Problem from Hell\": America and the Age of ...</td>\n",
       "      <td>Samantha Power</td>\n",
       "      <td>2002</td>\n",
       "      <td>History</td>\n",
       "      <td>620</td>\n",
       "      <td>Paperback</td>\n",
       "      <td>4.25</td>\n",
       "      <td>1</td>\n",
       "      <td>9</td>\n",
       "      <td>626</td>\n",
       "      <td>['9780060541644']</td>\n",
       "      <td>https://www.goodreads.com/book/show/368731._A_...</td>\n",
       "    </tr>\n",
       "    <tr>\n",
       "      <th>1</th>\n",
       "      <td>183963</td>\n",
       "      <td>26037620</td>\n",
       "      <td>\"A\" is for Actress</td>\n",
       "      <td>Rebecca Cantrell</td>\n",
       "      <td>2015</td>\n",
       "      <td>Cozy Mystery</td>\n",
       "      <td>349</td>\n",
       "      <td>Kindle Edition</td>\n",
       "      <td>3.83</td>\n",
       "      <td>0</td>\n",
       "      <td>1</td>\n",
       "      <td>120</td>\n",
       "      <td>['NA']</td>\n",
       "      <td>https://www.goodreads.com/book/show/26037620-a...</td>\n",
       "    </tr>\n",
       "    <tr>\n",
       "      <th>2</th>\n",
       "      <td>78584</td>\n",
       "      <td>17238487</td>\n",
       "      <td>\"All You Zombies...\"</td>\n",
       "      <td>Robert A. Heinlein</td>\n",
       "      <td>1959</td>\n",
       "      <td>Short Stories</td>\n",
       "      <td>19</td>\n",
       "      <td>Kindle Edition</td>\n",
       "      <td>4.08</td>\n",
       "      <td>1</td>\n",
       "      <td>6</td>\n",
       "      <td>643</td>\n",
       "      <td>['NA']</td>\n",
       "      <td>https://www.goodreads.com/book/show/17238487-a...</td>\n",
       "    </tr>\n",
       "    <tr>\n",
       "      <th>3</th>\n",
       "      <td>2736</td>\n",
       "      <td>921126</td>\n",
       "      <td>\"Anna Karenina\" in Our Time: Seeing More Wisely</td>\n",
       "      <td>Gary Saul Morson</td>\n",
       "      <td>2007</td>\n",
       "      <td>Literary Criticism</td>\n",
       "      <td>288</td>\n",
       "      <td>Hardcover</td>\n",
       "      <td>4.35</td>\n",
       "      <td>0</td>\n",
       "      <td>89</td>\n",
       "      <td>12</td>\n",
       "      <td>['9780300100709']</td>\n",
       "      <td>https://www.goodreads.com/book/show/921126._An...</td>\n",
       "    </tr>\n",
       "    <tr>\n",
       "      <th>4</th>\n",
       "      <td>101665</td>\n",
       "      <td>27776033</td>\n",
       "      <td>\"B\" is for Bad Girls</td>\n",
       "      <td>Rebecca Cantrell</td>\n",
       "      <td>2015</td>\n",
       "      <td>Fiction</td>\n",
       "      <td>240</td>\n",
       "      <td>Kindle Edition</td>\n",
       "      <td>4.16</td>\n",
       "      <td>0</td>\n",
       "      <td>383</td>\n",
       "      <td>31</td>\n",
       "      <td>['NA']</td>\n",
       "      <td>https://www.goodreads.com/book/show/27776033-b...</td>\n",
       "    </tr>\n",
       "    <tr>\n",
       "      <th>...</th>\n",
       "      <td>...</td>\n",
       "      <td>...</td>\n",
       "      <td>...</td>\n",
       "      <td>...</td>\n",
       "      <td>...</td>\n",
       "      <td>...</td>\n",
       "      <td>...</td>\n",
       "      <td>...</td>\n",
       "      <td>...</td>\n",
       "      <td>...</td>\n",
       "      <td>...</td>\n",
       "      <td>...</td>\n",
       "      <td>...</td>\n",
       "      <td>...</td>\n",
       "    </tr>\n",
       "    <tr>\n",
       "      <th>207857</th>\n",
       "      <td>233</td>\n",
       "      <td>33119064</td>\n",
       "      <td>이해불능 [Out of Control / Never Understand]</td>\n",
       "      <td>Bbong</td>\n",
       "      <td>2013</td>\n",
       "      <td>Manhwa</td>\n",
       "      <td>Webtoon</td>\n",
       "      <td>Webtoon</td>\n",
       "      <td>4.26</td>\n",
       "      <td>0</td>\n",
       "      <td>1</td>\n",
       "      <td>168</td>\n",
       "      <td>['NA']</td>\n",
       "      <td>https://www.goodreads.com/book/show/33119064-o...</td>\n",
       "    </tr>\n",
       "    <tr>\n",
       "      <th>207858</th>\n",
       "      <td>253864</td>\n",
       "      <td>57300687</td>\n",
       "      <td>재혼 황후 3 [Jaehon Hwangho 3]</td>\n",
       "      <td>Alphatart</td>\n",
       "      <td>2021</td>\n",
       "      <td>Fantasy</td>\n",
       "      <td>288</td>\n",
       "      <td>288 pages</td>\n",
       "      <td>4.48</td>\n",
       "      <td>0</td>\n",
       "      <td>852</td>\n",
       "      <td>36</td>\n",
       "      <td>['9791190153652']</td>\n",
       "      <td>https://www.goodreads.com/book/show/57300687-3...</td>\n",
       "    </tr>\n",
       "    <tr>\n",
       "      <th>207859</th>\n",
       "      <td>141443</td>\n",
       "      <td>57300792</td>\n",
       "      <td>재혼 황후 4 [Jaehon Hwangho 4]</td>\n",
       "      <td>Alphatart</td>\n",
       "      <td>2021</td>\n",
       "      <td>Fantasy</td>\n",
       "      <td>256</td>\n",
       "      <td>256 pages</td>\n",
       "      <td>4.48</td>\n",
       "      <td>0</td>\n",
       "      <td>803</td>\n",
       "      <td>35</td>\n",
       "      <td>['9791167790101']</td>\n",
       "      <td>https://www.goodreads.com/book/show/57300792-4...</td>\n",
       "    </tr>\n",
       "    <tr>\n",
       "      <th>207860</th>\n",
       "      <td>136233</td>\n",
       "      <td>52703142</td>\n",
       "      <td>황자, 네 무엇이 되고 싶으냐? 1 [As You Wish, Prince 1]</td>\n",
       "      <td>MOKGAMGI</td>\n",
       "      <td>2018</td>\n",
       "      <td>Manga</td>\n",
       "      <td>Manhwa</td>\n",
       "      <td>Manhwa</td>\n",
       "      <td>4.10</td>\n",
       "      <td>0</td>\n",
       "      <td>1</td>\n",
       "      <td>107</td>\n",
       "      <td>['NA']</td>\n",
       "      <td>https://www.goodreads.com/book/show/52703142-1...</td>\n",
       "    </tr>\n",
       "    <tr>\n",
       "      <th>207861</th>\n",
       "      <td>105274</td>\n",
       "      <td>45889091</td>\n",
       "      <td>황제의 외동딸 1 [Hwangje-ui Oedongttal 1]</td>\n",
       "      <td>RINO</td>\n",
       "      <td>2015</td>\n",
       "      <td>Manhwa</td>\n",
       "      <td>Manhwa</td>\n",
       "      <td>Manhwa</td>\n",
       "      <td>3.97</td>\n",
       "      <td>0</td>\n",
       "      <td>786</td>\n",
       "      <td>73</td>\n",
       "      <td>['NA']</td>\n",
       "      <td>https://www.goodreads.com/book/show/45889091-1...</td>\n",
       "    </tr>\n",
       "  </tbody>\n",
       "</table>\n",
       "<p>207862 rows × 14 columns</p>\n",
       "</div>"
      ],
      "text/plain": [
       "         index   book_id                                              title  \\\n",
       "0       254160    368731  \"A Problem from Hell\": America and the Age of ...   \n",
       "1       183963  26037620                                 \"A\" is for Actress   \n",
       "2        78584  17238487                               \"All You Zombies...\"   \n",
       "3         2736    921126    \"Anna Karenina\" in Our Time: Seeing More Wisely   \n",
       "4       101665  27776033                               \"B\" is for Bad Girls   \n",
       "...        ...       ...                                                ...   \n",
       "207857     233  33119064           이해불능 [Out of Control / Never Understand]   \n",
       "207858  253864  57300687                         재혼 황후 3 [Jaehon Hwangho 3]   \n",
       "207859  141443  57300792                         재혼 황후 4 [Jaehon Hwangho 4]   \n",
       "207860  136233  52703142        황자, 네 무엇이 되고 싶으냐? 1 [As You Wish, Prince 1]   \n",
       "207861  105274  45889091                황제의 외동딸 1 [Hwangje-ui Oedongttal 1]   \n",
       "\n",
       "                    author publish year               genre page_count  \\\n",
       "0           Samantha Power         2002             History        620   \n",
       "1         Rebecca Cantrell         2015        Cozy Mystery        349   \n",
       "2       Robert A. Heinlein         1959       Short Stories         19   \n",
       "3         Gary Saul Morson         2007  Literary Criticism        288   \n",
       "4         Rebecca Cantrell         2015             Fiction        240   \n",
       "...                    ...          ...                 ...        ...   \n",
       "207857               Bbong         2013              Manhwa    Webtoon   \n",
       "207858           Alphatart         2021             Fantasy        288   \n",
       "207859           Alphatart         2021             Fantasy        256   \n",
       "207860            MOKGAMGI         2018               Manga     Manhwa   \n",
       "207861                RINO         2015              Manhwa     Manhwa   \n",
       "\n",
       "                format  rating  awards  num_of_rating  num_of_review  \\\n",
       "0            Paperback    4.25       1              9            626   \n",
       "1       Kindle Edition    3.83       0              1            120   \n",
       "2       Kindle Edition    4.08       1              6            643   \n",
       "3            Hardcover    4.35       0             89             12   \n",
       "4       Kindle Edition    4.16       0            383             31   \n",
       "...                ...     ...     ...            ...            ...   \n",
       "207857         Webtoon    4.26       0              1            168   \n",
       "207858       288 pages    4.48       0            852             36   \n",
       "207859       256 pages    4.48       0            803             35   \n",
       "207860          Manhwa    4.10       0              1            107   \n",
       "207861          Manhwa    3.97       0            786             73   \n",
       "\n",
       "                     isbn                                                url  \n",
       "0       ['9780060541644']  https://www.goodreads.com/book/show/368731._A_...  \n",
       "1                  ['NA']  https://www.goodreads.com/book/show/26037620-a...  \n",
       "2                  ['NA']  https://www.goodreads.com/book/show/17238487-a...  \n",
       "3       ['9780300100709']  https://www.goodreads.com/book/show/921126._An...  \n",
       "4                  ['NA']  https://www.goodreads.com/book/show/27776033-b...  \n",
       "...                   ...                                                ...  \n",
       "207857             ['NA']  https://www.goodreads.com/book/show/33119064-o...  \n",
       "207858  ['9791190153652']  https://www.goodreads.com/book/show/57300687-3...  \n",
       "207859  ['9791167790101']  https://www.goodreads.com/book/show/57300792-4...  \n",
       "207860             ['NA']  https://www.goodreads.com/book/show/52703142-1...  \n",
       "207861             ['NA']  https://www.goodreads.com/book/show/45889091-1...  \n",
       "\n",
       "[207862 rows x 14 columns]"
      ]
     },
     "execution_count": 18,
     "metadata": {},
     "output_type": "execute_result"
    }
   ],
   "source": [
    "desired_print_formats = ['Hardcover', \"Kindle Edition\", \"ebook\", \"Paperback\", \"paperback\", \"Library Binding\"]\n",
    "# Remove rows with duplicate book titles while keeping the titles that have one of the desired print formats\n",
    "books['keep_row'] = books['format'].isin(desired_print_formats)\n",
    "books.sort_values(by=['keep_row', 'title'], ascending=[False, True], inplace=True)\n",
    "books.drop_duplicates(subset='title', keep='first', inplace=True)\n",
    "books.drop('keep_row', axis=1, inplace=True)\n",
    "books.reset_index()"
   ]
  },
  {
   "cell_type": "markdown",
   "metadata": {
    "id": "pR_BCU6gD4Fq"
   },
   "source": [
    "# Data Analysis"
   ]
  },
  {
   "cell_type": "markdown",
   "metadata": {
    "id": "_wNemRotD4Fq"
   },
   "source": [
    "## Most Prolific Authors"
   ]
  },
  {
   "cell_type": "code",
   "execution_count": 19,
   "metadata": {
    "id": "3emuW62dD4Fq"
   },
   "outputs": [],
   "source": [
    "authorbookcount={}\n",
    "for i in books[\"author\"]:\n",
    "    if i in authorbookcount:\n",
    "        authorbookcount[i]+=1\n",
    "    else:\n",
    "        authorbookcount[i]=1"
   ]
  },
  {
   "cell_type": "code",
   "execution_count": 20,
   "metadata": {
    "id": "zieAagB7D4Fr"
   },
   "outputs": [],
   "source": [
    "authors,bookcount=zip(*authorbookcount.items())"
   ]
  },
  {
   "cell_type": "code",
   "execution_count": 21,
   "metadata": {
    "id": "WnFkRRJED4Fr"
   },
   "outputs": [],
   "source": [
    "authorcount=pd.DataFrame({\"Authors\": authors, \"Number of Books\": bookcount})"
   ]
  },
  {
   "cell_type": "code",
   "execution_count": 22,
   "metadata": {
    "id": "BjibcAMHD4Fs"
   },
   "outputs": [],
   "source": [
    "authorcount=authorcount.sort_values(by=\"Number of Books\", ascending=False)"
   ]
  },
  {
   "cell_type": "code",
   "execution_count": 23,
   "metadata": {
    "id": "uQyBrjuGD4Fs"
   },
   "outputs": [],
   "source": [
    "top10authors=authorcount.iloc[0:10,:]"
   ]
  },
  {
   "cell_type": "code",
   "execution_count": 24,
   "metadata": {
    "id": "nrmzhe3wD4Fs"
   },
   "outputs": [],
   "source": [
    "booknumber=list(top10authors[\"Number of Books\"])"
   ]
  },
  {
   "cell_type": "code",
   "execution_count": 25,
   "metadata": {
    "colab": {
     "base_uri": "https://localhost:8080/",
     "height": 299
    },
    "id": "kl6dor5mD4Ft",
    "outputId": "df525cb9-f2b0-4c06-973c-4e200be357f9"
   },
   "outputs": [
    {
     "data": {
      "image/png": "[encoded data removed]",
      "text/plain": [
       "<Figure size 640x480 with 1 Axes>"
      ]
     },
     "metadata": {},
     "output_type": "display_data"
    }
   ],
   "source": [
    "sns.barplot(data=top10authors, x=\"Number of Books\", y=\"Authors\", orient=\"h\", palette=[\"navy\", \"black\", \"grey\", \"grey\", \"grey\", \"grey\", \"grey\", \"grey\", \"grey\", \"grey\"])\n",
    "plt.xlabel(\"Number of Books\")\n",
    "plt.ylabel(\"Authors\")\n",
    "plt.title(\"Top 10 Most Prolific Authors\", size=18)\n",
    "sns.despine()\n",
    "\n",
    "for i in range(len(booknumber)):\n",
    "    plt.text(x=booknumber[i], y=i, s=booknumber[i], \n",
    "                 color='black', fontsize=12)\n",
    "plt.show()"
   ]
  },
  {
   "cell_type": "markdown",
   "metadata": {
    "id": "VhVfChI_D4Ft"
   },
   "source": [
    "## Most Skilled Authors in a Given Genre"
   ]
  },
  {
   "cell_type": "code",
   "execution_count": 26,
   "metadata": {
    "id": "nAEH3GbXD4Fw"
   },
   "outputs": [],
   "source": [
    "genres=books[\"genre\"].value_counts()"
   ]
  },
  {
   "cell_type": "code",
   "execution_count": 27,
   "metadata": {
    "id": "ynaDdAArD4Fw"
   },
   "outputs": [],
   "source": [
    "topgenres=pd.DataFrame(genres)"
   ]
  },
  {
   "cell_type": "code",
   "execution_count": 28,
   "metadata": {
    "colab": {
     "base_uri": "https://localhost:8080/",
     "height": 363
    },
    "id": "Rw3UiGcwD4Fx",
    "outputId": "a8776148-e59c-4987-bed2-85544261a232"
   },
   "outputs": [
    {
     "data": {
      "text/html": [
       "<div>\n",
       "<style scoped>\n",
       "    .dataframe tbody tr th:only-of-type {\n",
       "        vertical-align: middle;\n",
       "    }\n",
       "\n",
       "    .dataframe tbody tr th {\n",
       "        vertical-align: top;\n",
       "    }\n",
       "\n",
       "    .dataframe thead th {\n",
       "        text-align: right;\n",
       "    }\n",
       "</style>\n",
       "<table border=\"1\" class=\"dataframe\">\n",
       "  <thead>\n",
       "    <tr style=\"text-align: right;\">\n",
       "      <th></th>\n",
       "      <th>genre</th>\n",
       "    </tr>\n",
       "  </thead>\n",
       "  <tbody>\n",
       "    <tr>\n",
       "      <th>Fiction</th>\n",
       "      <td>20536</td>\n",
       "    </tr>\n",
       "    <tr>\n",
       "      <th>Romance</th>\n",
       "      <td>16521</td>\n",
       "    </tr>\n",
       "    <tr>\n",
       "      <th>Nonfiction</th>\n",
       "      <td>12949</td>\n",
       "    </tr>\n",
       "    <tr>\n",
       "      <th>Contemporary</th>\n",
       "      <td>10013</td>\n",
       "    </tr>\n",
       "    <tr>\n",
       "      <th>Fantasy</th>\n",
       "      <td>7495</td>\n",
       "    </tr>\n",
       "    <tr>\n",
       "      <th>Young Adult</th>\n",
       "      <td>6533</td>\n",
       "    </tr>\n",
       "    <tr>\n",
       "      <th>Contemporary Romance</th>\n",
       "      <td>5413</td>\n",
       "    </tr>\n",
       "    <tr>\n",
       "      <th>Mystery</th>\n",
       "      <td>4749</td>\n",
       "    </tr>\n",
       "    <tr>\n",
       "      <th>Historical Fiction</th>\n",
       "      <td>3901</td>\n",
       "    </tr>\n",
       "    <tr>\n",
       "      <th>Graphic Novels</th>\n",
       "      <td>3886</td>\n",
       "    </tr>\n",
       "  </tbody>\n",
       "</table>\n",
       "</div>"
      ],
      "text/plain": [
       "                      genre\n",
       "Fiction               20536\n",
       "Romance               16521\n",
       "Nonfiction            12949\n",
       "Contemporary          10013\n",
       "Fantasy                7495\n",
       "Young Adult            6533\n",
       "Contemporary Romance   5413\n",
       "Mystery                4749\n",
       "Historical Fiction     3901\n",
       "Graphic Novels         3886"
      ]
     },
     "execution_count": 28,
     "metadata": {},
     "output_type": "execute_result"
    }
   ],
   "source": [
    "topgenres.iloc[0:10,:]"
   ]
  },
  {
   "cell_type": "code",
   "execution_count": 29,
   "metadata": {
    "id": "fpMaETDsD4Fy"
   },
   "outputs": [],
   "source": [
    "def author_genre_rating(genre):\n",
    "    booksingenre=books[books[\"genre\"]==genre].reset_index()\n",
    "\n",
    "    authorgenrecount=pd.DataFrame(booksingenre[\"author\"].value_counts())\n",
    "    authorgenrecount=authorgenrecount.reset_index()\n",
    "    authorgenrecount=authorgenrecount.rename(columns={\"index\": \"author\", \"author\": \"number of books in genre\"})\n",
    "\n",
    "    authorgenrerating=booksingenre.groupby(\"author\").mean()\n",
    "\n",
    "    mergeddf=pd.merge(authorgenrerating, authorgenrecount, on=\"author\")\n",
    "\n",
    "    sortedauthors=mergeddf.sort_values(by=\"rating\",ascending=False)\n",
    "    sortedauthors=sortedauthors[sortedauthors[\"number of books in genre\"]>=3]\n",
    "    topgenreauthors=sortedauthors.iloc[0:10,[0,3,7]]\n",
    "    return topgenreauthors"
   ]
  },
  {
   "cell_type": "code",
   "execution_count": 30,
   "metadata": {
    "colab": {
     "base_uri": "https://localhost:8080/",
     "height": 363
    },
    "id": "EkQlwi_OD4Fz",
    "outputId": "0eae62ef-3fc1-4ef3-fd71-e69b1a4d33d1"
   },
   "outputs": [
    {
     "data": {
      "text/html": [
       "<div>\n",
       "<style scoped>\n",
       "    .dataframe tbody tr th:only-of-type {\n",
       "        vertical-align: middle;\n",
       "    }\n",
       "\n",
       "    .dataframe tbody tr th {\n",
       "        vertical-align: top;\n",
       "    }\n",
       "\n",
       "    .dataframe thead th {\n",
       "        text-align: right;\n",
       "    }\n",
       "</style>\n",
       "<table border=\"1\" class=\"dataframe\">\n",
       "  <thead>\n",
       "    <tr style=\"text-align: right;\">\n",
       "      <th></th>\n",
       "      <th>author</th>\n",
       "      <th>rating</th>\n",
       "      <th>number of books in genre</th>\n",
       "    </tr>\n",
       "  </thead>\n",
       "  <tbody>\n",
       "    <tr>\n",
       "      <th>3857</th>\n",
       "      <td>John   Williams</td>\n",
       "      <td>4.673333</td>\n",
       "      <td>3</td>\n",
       "    </tr>\n",
       "    <tr>\n",
       "      <th>2315</th>\n",
       "      <td>Elle Gray</td>\n",
       "      <td>4.643333</td>\n",
       "      <td>3</td>\n",
       "    </tr>\n",
       "    <tr>\n",
       "      <th>833</th>\n",
       "      <td>Bella Forrest</td>\n",
       "      <td>4.637143</td>\n",
       "      <td>7</td>\n",
       "    </tr>\n",
       "    <tr>\n",
       "      <th>5525</th>\n",
       "      <td>Matt Dinniman</td>\n",
       "      <td>4.612500</td>\n",
       "      <td>4</td>\n",
       "    </tr>\n",
       "    <tr>\n",
       "      <th>2034</th>\n",
       "      <td>Domagoj Kurmaić</td>\n",
       "      <td>4.577500</td>\n",
       "      <td>4</td>\n",
       "    </tr>\n",
       "    <tr>\n",
       "      <th>438</th>\n",
       "      <td>Andrew       Peterson</td>\n",
       "      <td>4.574000</td>\n",
       "      <td>5</td>\n",
       "    </tr>\n",
       "    <tr>\n",
       "      <th>7366</th>\n",
       "      <td>Shirtaloon</td>\n",
       "      <td>4.557500</td>\n",
       "      <td>4</td>\n",
       "    </tr>\n",
       "    <tr>\n",
       "      <th>1104</th>\n",
       "      <td>Cami Checketts</td>\n",
       "      <td>4.553333</td>\n",
       "      <td>3</td>\n",
       "    </tr>\n",
       "    <tr>\n",
       "      <th>810</th>\n",
       "      <td>Barry J. Hutchison</td>\n",
       "      <td>4.526667</td>\n",
       "      <td>3</td>\n",
       "    </tr>\n",
       "    <tr>\n",
       "      <th>3726</th>\n",
       "      <td>Jessica Redland</td>\n",
       "      <td>4.526667</td>\n",
       "      <td>3</td>\n",
       "    </tr>\n",
       "  </tbody>\n",
       "</table>\n",
       "</div>"
      ],
      "text/plain": [
       "                     author    rating  number of books in genre\n",
       "3857        John   Williams  4.673333                         3\n",
       "2315              Elle Gray  4.643333                         3\n",
       "833           Bella Forrest  4.637143                         7\n",
       "5525          Matt Dinniman  4.612500                         4\n",
       "2034        Domagoj Kurmaić  4.577500                         4\n",
       "438   Andrew       Peterson  4.574000                         5\n",
       "7366             Shirtaloon  4.557500                         4\n",
       "1104         Cami Checketts  4.553333                         3\n",
       "810      Barry J. Hutchison  4.526667                         3\n",
       "3726        Jessica Redland  4.526667                         3"
      ]
     },
     "execution_count": 30,
     "metadata": {},
     "output_type": "execute_result"
    }
   ],
   "source": [
    "author_genre_rating(\"Fiction\")"
   ]
  },
  {
   "cell_type": "markdown",
   "metadata": {
    "id": "baL-iVleD4F0"
   },
   "source": [
    "# Merging datasets"
   ]
  },
  {
   "cell_type": "code",
   "execution_count": 31,
   "metadata": {
    "colab": {
     "base_uri": "https://localhost:8080/",
     "height": 423
    },
    "id": "qWXsRceID4F0",
    "outputId": "38d2808a-f051-4743-9dc7-a747b3467783"
   },
   "outputs": [],
   "source": [
    "user= pd.read_csv('user_details.csv')"
   ]
  },
  {
   "cell_type": "code",
   "execution_count": 32,
   "metadata": {
    "colab": {
     "base_uri": "https://localhost:8080/"
    },
    "id": "CRQFyt83D4F1",
    "outputId": "3bf95e1e-4970-42e1-93b2-e3458ebaf112"
   },
   "outputs": [
    {
     "name": "stdout",
     "output_type": "stream",
     "text": [
      "<class 'pandas.core.frame.DataFrame'>\n",
      "RangeIndex: 7501 entries, 0 to 7500\n",
      "Data columns (total 4 columns):\n",
      " #   Column   Non-Null Count  Dtype  \n",
      "---  ------   --------------  -----  \n",
      " 0   USERID   7501 non-null   int64  \n",
      " 1   age      1922 non-null   float64\n",
      " 2   gender   835 non-null    object \n",
      " 3   Country  6696 non-null   object \n",
      "dtypes: float64(1), int64(1), object(2)\n",
      "memory usage: 234.5+ KB\n"
     ]
    }
   ],
   "source": [
    "user.info()\n"
   ]
  },
  {
   "cell_type": "code",
   "execution_count": 33,
   "metadata": {
    "colab": {
     "base_uri": "https://localhost:8080/"
    },
    "id": "k-0lUAJND4F1",
    "outputId": "ca5973e7-d98a-44c1-f987-104169d0b403"
   },
   "outputs": [
    {
     "data": {
      "text/plain": [
       "USERID        0\n",
       "age        5579\n",
       "gender     6666\n",
       "Country     805\n",
       "dtype: int64"
      ]
     },
     "execution_count": 33,
     "metadata": {},
     "output_type": "execute_result"
    }
   ],
   "source": [
    "user.isnull().sum()"
   ]
  },
  {
   "cell_type": "code",
   "execution_count": 34,
   "metadata": {
    "colab": {
     "base_uri": "https://localhost:8080/",
     "height": 423
    },
    "id": "EHHfzWdaD4F2",
    "outputId": "cd4a7e38-68cb-4951-f045-685f9d54d4ef"
   },
   "outputs": [
    {
     "data": {
      "text/html": [
       "<div>\n",
       "<style scoped>\n",
       "    .dataframe tbody tr th:only-of-type {\n",
       "        vertical-align: middle;\n",
       "    }\n",
       "\n",
       "    .dataframe tbody tr th {\n",
       "        vertical-align: top;\n",
       "    }\n",
       "\n",
       "    .dataframe thead th {\n",
       "        text-align: right;\n",
       "    }\n",
       "</style>\n",
       "<table border=\"1\" class=\"dataframe\">\n",
       "  <thead>\n",
       "    <tr style=\"text-align: right;\">\n",
       "      <th></th>\n",
       "      <th>USERID</th>\n",
       "      <th>Country</th>\n",
       "    </tr>\n",
       "  </thead>\n",
       "  <tbody>\n",
       "    <tr>\n",
       "      <th>0</th>\n",
       "      <td>145254440</td>\n",
       "      <td>SC</td>\n",
       "    </tr>\n",
       "    <tr>\n",
       "      <th>1</th>\n",
       "      <td>156889166</td>\n",
       "      <td>TT</td>\n",
       "    </tr>\n",
       "    <tr>\n",
       "      <th>2</th>\n",
       "      <td>149481549</td>\n",
       "      <td>TT</td>\n",
       "    </tr>\n",
       "    <tr>\n",
       "      <th>3</th>\n",
       "      <td>129561699</td>\n",
       "      <td>TT</td>\n",
       "    </tr>\n",
       "    <tr>\n",
       "      <th>4</th>\n",
       "      <td>139586793</td>\n",
       "      <td>GB</td>\n",
       "    </tr>\n",
       "    <tr>\n",
       "      <th>...</th>\n",
       "      <td>...</td>\n",
       "      <td>...</td>\n",
       "    </tr>\n",
       "    <tr>\n",
       "      <th>7496</th>\n",
       "      <td>58913163</td>\n",
       "      <td>CA</td>\n",
       "    </tr>\n",
       "    <tr>\n",
       "      <th>7497</th>\n",
       "      <td>158627189</td>\n",
       "      <td>CA</td>\n",
       "    </tr>\n",
       "    <tr>\n",
       "      <th>7498</th>\n",
       "      <td>82743660</td>\n",
       "      <td>GB</td>\n",
       "    </tr>\n",
       "    <tr>\n",
       "      <th>7499</th>\n",
       "      <td>1174001</td>\n",
       "      <td>NZ</td>\n",
       "    </tr>\n",
       "    <tr>\n",
       "      <th>7500</th>\n",
       "      <td>5129759</td>\n",
       "      <td>IE</td>\n",
       "    </tr>\n",
       "  </tbody>\n",
       "</table>\n",
       "<p>6696 rows × 2 columns</p>\n",
       "</div>"
      ],
      "text/plain": [
       "         USERID Country\n",
       "0     145254440      SC\n",
       "1     156889166      TT\n",
       "2     149481549      TT\n",
       "3     129561699      TT\n",
       "4     139586793      GB\n",
       "...         ...     ...\n",
       "7496   58913163      CA\n",
       "7497  158627189      CA\n",
       "7498   82743660      GB\n",
       "7499    1174001      NZ\n",
       "7500    5129759      IE\n",
       "\n",
       "[6696 rows x 2 columns]"
      ]
     },
     "execution_count": 34,
     "metadata": {},
     "output_type": "execute_result"
    }
   ],
   "source": [
    "user = user.drop([\"gender\", \"age\"], axis=1)\n",
    "user.dropna()"
   ]
  },
  {
   "cell_type": "code",
   "execution_count": 35,
   "metadata": {
    "colab": {
     "base_uri": "https://localhost:8080/",
     "height": 423
    },
    "id": "7_uqEbGtD4F2",
    "outputId": "c2af5da4-d3d3-4f57-8e0a-0a17b70ea30e"
   },
   "outputs": [],
   "source": [
    "shelf= pd.read_csv('bookshelves.csv')"
   ]
  },
  {
   "cell_type": "code",
   "execution_count": 36,
   "metadata": {
    "id": "rybVv3HLD4F3"
   },
   "outputs": [],
   "source": [
    "shelf.rename(columns={\n",
    "    \"BOOKID\": \"book_id\"\n",
    "}, inplace=True)"
   ]
  },
  {
   "cell_type": "code",
   "execution_count": 37,
   "metadata": {
    "colab": {
     "base_uri": "https://localhost:8080/",
     "height": 623
    },
    "id": "MWQxJrfjD4F3",
    "outputId": "7a588124-7a50-44e7-8826-8d576a038de7"
   },
   "outputs": [],
   "source": [
    "merged_df = pd.merge(books, shelf, on='book_id')"
   ]
  },
  {
   "cell_type": "code",
   "execution_count": 38,
   "metadata": {
    "id": "FPI8xA9aD4F3"
   },
   "outputs": [],
   "source": [
    "df = pd.merge(merged_df, user, on='USERID')\n"
   ]
  },
  {
   "cell_type": "code",
   "execution_count": 39,
   "metadata": {
    "colab": {
     "base_uri": "https://localhost:8080/"
    },
    "id": "s2_QPLPtD4F4",
    "outputId": "10bee556-46fc-42e9-fd48-c835306076b2"
   },
   "outputs": [
    {
     "data": {
      "text/plain": [
       "3948262      190\n",
       "22011854     188\n",
       "1222379      186\n",
       "10553671     184\n",
       "152576090    184\n",
       "            ... \n",
       "82589695       2\n",
       "160735275      2\n",
       "146834516      2\n",
       "160560493      2\n",
       "29638067       1\n",
       "Name: USERID, Length: 6666, dtype: int64"
      ]
     },
     "execution_count": 39,
     "metadata": {},
     "output_type": "execute_result"
    }
   ],
   "source": [
    "df[\"USERID\"].value_counts()"
   ]
  },
  {
   "cell_type": "code",
   "execution_count": 40,
   "metadata": {
    "colab": {
     "base_uri": "https://localhost:8080/",
     "height": 423
    },
    "id": "XjxM7lt8D4F4",
    "outputId": "e02e1ab1-ef20-42b7-ab63-31f673d164d1"
   },
   "outputs": [],
   "source": [
    "df = df.drop([\"isbn\", \"url\"], axis=1)"
   ]
  },
  {
   "cell_type": "markdown",
   "metadata": {
    "id": "BBQfXt5mD4F5"
   },
   "source": [
    "### Most popular books"
   ]
  },
  {
   "cell_type": "code",
   "execution_count": 41,
   "metadata": {
    "colab": {
     "base_uri": "https://localhost:8080/",
     "height": 551
    },
    "id": "CvFED0RID4F5",
    "outputId": "3ddb41fc-e68f-40f8-bdc6-2c92340278fe"
   },
   "outputs": [
    {
     "data": {
      "text/html": [
       "<div>\n",
       "<style scoped>\n",
       "    .dataframe tbody tr th:only-of-type {\n",
       "        vertical-align: middle;\n",
       "    }\n",
       "\n",
       "    .dataframe tbody tr th {\n",
       "        vertical-align: top;\n",
       "    }\n",
       "\n",
       "    .dataframe thead th {\n",
       "        text-align: right;\n",
       "    }\n",
       "</style>\n",
       "<table border=\"1\" class=\"dataframe\">\n",
       "  <thead>\n",
       "    <tr style=\"text-align: right;\">\n",
       "      <th></th>\n",
       "      <th></th>\n",
       "      <th>num_of_rating</th>\n",
       "    </tr>\n",
       "    <tr>\n",
       "      <th>title</th>\n",
       "      <th>author</th>\n",
       "      <th></th>\n",
       "    </tr>\n",
       "  </thead>\n",
       "  <tbody>\n",
       "    <tr>\n",
       "      <th>People We Meet on Vacation</th>\n",
       "      <th>Emily Henry</th>\n",
       "      <td>277866</td>\n",
       "    </tr>\n",
       "    <tr>\n",
       "      <th>Red, White &amp; Royal Blue</th>\n",
       "      <th>Casey McQuiston</th>\n",
       "      <td>192440</td>\n",
       "    </tr>\n",
       "    <tr>\n",
       "      <th>Harry Potter and the Cursed Child: Parts One and Two</th>\n",
       "      <th>John Tiffany</th>\n",
       "      <td>160198</td>\n",
       "    </tr>\n",
       "    <tr>\n",
       "      <th>Allegiant</th>\n",
       "      <th>Veronica Roth</th>\n",
       "      <td>136498</td>\n",
       "    </tr>\n",
       "    <tr>\n",
       "      <th>Clockwork Angel</th>\n",
       "      <th>Cassandra Clare</th>\n",
       "      <td>132216</td>\n",
       "    </tr>\n",
       "    <tr>\n",
       "      <th>Hamlet</th>\n",
       "      <th>William Shakespeare</th>\n",
       "      <td>109750</td>\n",
       "    </tr>\n",
       "    <tr>\n",
       "      <th>The Inheritance Games</th>\n",
       "      <th>Jennifer Lynn Barnes</th>\n",
       "      <td>104720</td>\n",
       "    </tr>\n",
       "    <tr>\n",
       "      <th>The Secret History</th>\n",
       "      <th>Donna Tartt</th>\n",
       "      <td>96120</td>\n",
       "    </tr>\n",
       "    <tr>\n",
       "      <th>Tuesdays with Morrie</th>\n",
       "      <th>Mitch Albom</th>\n",
       "      <td>94839</td>\n",
       "    </tr>\n",
       "    <tr>\n",
       "      <th>Milk and Honey</th>\n",
       "      <th>Rupi Kaur</th>\n",
       "      <td>90228</td>\n",
       "    </tr>\n",
       "    <tr>\n",
       "      <th>All the Bright Places</th>\n",
       "      <th>Jennifer Niven</th>\n",
       "      <td>88146</td>\n",
       "    </tr>\n",
       "    <tr>\n",
       "      <th>Beautiful Disaster</th>\n",
       "      <th>Jamie McGuire</th>\n",
       "      <td>85120</td>\n",
       "    </tr>\n",
       "    <tr>\n",
       "      <th>Caraval</th>\n",
       "      <th>Stephanie Garber</th>\n",
       "      <td>71832</td>\n",
       "    </tr>\n",
       "    <tr>\n",
       "      <th>Where the Wild Things Are</th>\n",
       "      <th>Maurice Sendak</th>\n",
       "      <td>70522</td>\n",
       "    </tr>\n",
       "    <tr>\n",
       "      <th>Siege and Storm</th>\n",
       "      <th>Leigh Bardugo</th>\n",
       "      <td>62708</td>\n",
       "    </tr>\n",
       "  </tbody>\n",
       "</table>\n",
       "</div>"
      ],
      "text/plain": [
       "                                                                         num_of_rating\n",
       "title                                              author                             \n",
       "People We Meet on Vacation                         Emily Henry                  277866\n",
       "Red, White & Royal Blue                            Casey McQuiston              192440\n",
       "Harry Potter and the Cursed Child: Parts One an... John Tiffany                 160198\n",
       "Allegiant                                          Veronica Roth                136498\n",
       "Clockwork Angel                                    Cassandra Clare              132216\n",
       "Hamlet                                             William Shakespeare          109750\n",
       "The Inheritance Games                              Jennifer Lynn Barnes         104720\n",
       "The Secret History                                 Donna Tartt                   96120\n",
       "Tuesdays with Morrie                               Mitch Albom                   94839\n",
       "Milk and Honey                                     Rupi Kaur                     90228\n",
       "All the Bright Places                              Jennifer Niven                88146\n",
       "Beautiful Disaster                                 Jamie McGuire                 85120\n",
       "Caraval                                            Stephanie Garber              71832\n",
       "Where the Wild Things Are                          Maurice Sendak                70522\n",
       "Siege and Storm                                    Leigh Bardugo                 62708"
      ]
     },
     "execution_count": 41,
     "metadata": {},
     "output_type": "execute_result"
    }
   ],
   "source": [
    "df_books = df.groupby(['title', 'author']).agg({'num_of_rating': 'sum'})\n",
    "df_books = df_books.sort_values(by='num_of_rating', ascending=False)\n",
    "top_books = df_books.head(15)\n",
    "top_books"
   ]
  },
  {
   "cell_type": "markdown",
   "metadata": {
    "id": "tqgUUyPAD4F5"
   },
   "source": [
    "### Most Active Users"
   ]
  },
  {
   "cell_type": "code",
   "execution_count": 42,
   "metadata": {
    "colab": {
     "base_uri": "https://localhost:8080/",
     "height": 551
    },
    "id": "U3Llc4jiD4F6",
    "outputId": "7566c09a-a6dc-4e6f-a28e-b5a2a46e86a2"
   },
   "outputs": [
    {
     "data": {
      "text/html": [
       "<div>\n",
       "<style scoped>\n",
       "    .dataframe tbody tr th:only-of-type {\n",
       "        vertical-align: middle;\n",
       "    }\n",
       "\n",
       "    .dataframe tbody tr th {\n",
       "        vertical-align: top;\n",
       "    }\n",
       "\n",
       "    .dataframe thead th {\n",
       "        text-align: right;\n",
       "    }\n",
       "</style>\n",
       "<table border=\"1\" class=\"dataframe\">\n",
       "  <thead>\n",
       "    <tr style=\"text-align: right;\">\n",
       "      <th></th>\n",
       "      <th>num_of_rating</th>\n",
       "    </tr>\n",
       "    <tr>\n",
       "      <th>USERID</th>\n",
       "      <th></th>\n",
       "    </tr>\n",
       "  </thead>\n",
       "  <tbody>\n",
       "    <tr>\n",
       "      <th>22011854</th>\n",
       "      <td>57858</td>\n",
       "    </tr>\n",
       "    <tr>\n",
       "      <th>10553671</th>\n",
       "      <td>49426</td>\n",
       "    </tr>\n",
       "    <tr>\n",
       "      <th>109778650</th>\n",
       "      <td>49410</td>\n",
       "    </tr>\n",
       "    <tr>\n",
       "      <th>25388909</th>\n",
       "      <td>45172</td>\n",
       "    </tr>\n",
       "    <tr>\n",
       "      <th>1380067</th>\n",
       "      <td>42446</td>\n",
       "    </tr>\n",
       "    <tr>\n",
       "      <th>154726963</th>\n",
       "      <td>41662</td>\n",
       "    </tr>\n",
       "    <tr>\n",
       "      <th>19714462</th>\n",
       "      <td>40938</td>\n",
       "    </tr>\n",
       "    <tr>\n",
       "      <th>23954351</th>\n",
       "      <td>40460</td>\n",
       "    </tr>\n",
       "    <tr>\n",
       "      <th>162151447</th>\n",
       "      <td>39704</td>\n",
       "    </tr>\n",
       "    <tr>\n",
       "      <th>29398604</th>\n",
       "      <td>39132</td>\n",
       "    </tr>\n",
       "    <tr>\n",
       "      <th>98537597</th>\n",
       "      <td>39008</td>\n",
       "    </tr>\n",
       "    <tr>\n",
       "      <th>2164884</th>\n",
       "      <td>38780</td>\n",
       "    </tr>\n",
       "    <tr>\n",
       "      <th>2562832</th>\n",
       "      <td>38424</td>\n",
       "    </tr>\n",
       "    <tr>\n",
       "      <th>50448</th>\n",
       "      <td>37406</td>\n",
       "    </tr>\n",
       "    <tr>\n",
       "      <th>67016485</th>\n",
       "      <td>37322</td>\n",
       "    </tr>\n",
       "  </tbody>\n",
       "</table>\n",
       "</div>"
      ],
      "text/plain": [
       "           num_of_rating\n",
       "USERID                  \n",
       "22011854           57858\n",
       "10553671           49426\n",
       "109778650          49410\n",
       "25388909           45172\n",
       "1380067            42446\n",
       "154726963          41662\n",
       "19714462           40938\n",
       "23954351           40460\n",
       "162151447          39704\n",
       "29398604           39132\n",
       "98537597           39008\n",
       "2164884            38780\n",
       "2562832            38424\n",
       "50448              37406\n",
       "67016485           37322"
      ]
     },
     "execution_count": 42,
     "metadata": {},
     "output_type": "execute_result"
    }
   ],
   "source": [
    "df_users = df.groupby('USERID').agg({'num_of_rating': 'sum'})\n",
    "df_users = df_users.sort_values(by='num_of_rating', ascending=False)\n",
    "top_users = df_users.head(15)\n",
    "top_users"
   ]
  },
  {
   "cell_type": "markdown",
   "metadata": {
    "id": "hfJ3N4iCD4F6"
   },
   "source": [
    "### Popular Genres"
   ]
  },
  {
   "cell_type": "code",
   "execution_count": 43,
   "metadata": {
    "colab": {
     "base_uri": "https://localhost:8080/",
     "height": 707
    },
    "id": "en-Oe2JpD4F6",
    "outputId": "ef2c0ef6-a8dd-4b27-ed2e-7e0e6879f693"
   },
   "outputs": [
    {
     "data": {
      "text/html": [
       "<div>\n",
       "<style scoped>\n",
       "    .dataframe tbody tr th:only-of-type {\n",
       "        vertical-align: middle;\n",
       "    }\n",
       "\n",
       "    .dataframe tbody tr th {\n",
       "        vertical-align: top;\n",
       "    }\n",
       "\n",
       "    .dataframe thead th {\n",
       "        text-align: right;\n",
       "    }\n",
       "</style>\n",
       "<table border=\"1\" class=\"dataframe\">\n",
       "  <thead>\n",
       "    <tr style=\"text-align: right;\">\n",
       "      <th></th>\n",
       "      <th>book_id</th>\n",
       "    </tr>\n",
       "    <tr>\n",
       "      <th>genre</th>\n",
       "      <th></th>\n",
       "    </tr>\n",
       "  </thead>\n",
       "  <tbody>\n",
       "    <tr>\n",
       "      <th>Fiction</th>\n",
       "      <td>40658</td>\n",
       "    </tr>\n",
       "    <tr>\n",
       "      <th>Romance</th>\n",
       "      <td>31975</td>\n",
       "    </tr>\n",
       "    <tr>\n",
       "      <th>Contemporary</th>\n",
       "      <td>23700</td>\n",
       "    </tr>\n",
       "    <tr>\n",
       "      <th>Young Adult</th>\n",
       "      <td>19316</td>\n",
       "    </tr>\n",
       "    <tr>\n",
       "      <th>Nonfiction</th>\n",
       "      <td>19264</td>\n",
       "    </tr>\n",
       "    <tr>\n",
       "      <th>Fantasy</th>\n",
       "      <td>14232</td>\n",
       "    </tr>\n",
       "    <tr>\n",
       "      <th>Contemporary Romance</th>\n",
       "      <td>11591</td>\n",
       "    </tr>\n",
       "    <tr>\n",
       "      <th>Mystery</th>\n",
       "      <td>9855</td>\n",
       "    </tr>\n",
       "    <tr>\n",
       "      <th>Historical Fiction</th>\n",
       "      <td>7246</td>\n",
       "    </tr>\n",
       "    <tr>\n",
       "      <th>Paranormal</th>\n",
       "      <td>6386</td>\n",
       "    </tr>\n",
       "    <tr>\n",
       "      <th>Graphic Novels</th>\n",
       "      <td>5783</td>\n",
       "    </tr>\n",
       "    <tr>\n",
       "      <th>Thriller</th>\n",
       "      <td>5622</td>\n",
       "    </tr>\n",
       "    <tr>\n",
       "      <th>Childrens</th>\n",
       "      <td>5541</td>\n",
       "    </tr>\n",
       "    <tr>\n",
       "      <th>Science Fiction</th>\n",
       "      <td>5147</td>\n",
       "    </tr>\n",
       "    <tr>\n",
       "      <th>New Adult</th>\n",
       "      <td>4929</td>\n",
       "    </tr>\n",
       "    <tr>\n",
       "      <th>Dark</th>\n",
       "      <td>4788</td>\n",
       "    </tr>\n",
       "    <tr>\n",
       "      <th>Classics</th>\n",
       "      <td>4696</td>\n",
       "    </tr>\n",
       "    <tr>\n",
       "      <th>Comics</th>\n",
       "      <td>4171</td>\n",
       "    </tr>\n",
       "    <tr>\n",
       "      <th>LGBT</th>\n",
       "      <td>3702</td>\n",
       "    </tr>\n",
       "    <tr>\n",
       "      <th>History</th>\n",
       "      <td>3552</td>\n",
       "    </tr>\n",
       "  </tbody>\n",
       "</table>\n",
       "</div>"
      ],
      "text/plain": [
       "                      book_id\n",
       "genre                        \n",
       "Fiction                 40658\n",
       "Romance                 31975\n",
       "Contemporary            23700\n",
       "Young Adult             19316\n",
       "Nonfiction              19264\n",
       "Fantasy                 14232\n",
       "Contemporary Romance    11591\n",
       "Mystery                  9855\n",
       "Historical Fiction       7246\n",
       "Paranormal               6386\n",
       "Graphic Novels           5783\n",
       "Thriller                 5622\n",
       "Childrens                5541\n",
       "Science Fiction          5147\n",
       "New Adult                4929\n",
       "Dark                     4788\n",
       "Classics                 4696\n",
       "Comics                   4171\n",
       "LGBT                     3702\n",
       "History                  3552"
      ]
     },
     "execution_count": 43,
     "metadata": {},
     "output_type": "execute_result"
    }
   ],
   "source": [
    "df_genres = df.groupby('genre').agg({'book_id': 'count'})\n",
    "df_genres = df_genres.sort_values(by='book_id', ascending=False)\n",
    "top_genres = df_genres.head(20)\n",
    "top_genres"
   ]
  },
  {
   "cell_type": "markdown",
   "metadata": {
    "id": "zR9wwuGaD4F7"
   },
   "source": [
    "### Genre popularity by user"
   ]
  },
  {
   "cell_type": "code",
   "execution_count": 44,
   "metadata": {
    "colab": {
     "base_uri": "https://localhost:8080/",
     "height": 423
    },
    "id": "MMU3bsAkD4F8",
    "outputId": "9e421d44-7320-4755-a254-eafc4eaa10d5"
   },
   "outputs": [
    {
     "data": {
      "text/html": [
       "<div>\n",
       "<style scoped>\n",
       "    .dataframe tbody tr th:only-of-type {\n",
       "        vertical-align: middle;\n",
       "    }\n",
       "\n",
       "    .dataframe tbody tr th {\n",
       "        vertical-align: top;\n",
       "    }\n",
       "\n",
       "    .dataframe thead th {\n",
       "        text-align: right;\n",
       "    }\n",
       "</style>\n",
       "<table border=\"1\" class=\"dataframe\">\n",
       "  <thead>\n",
       "    <tr style=\"text-align: right;\">\n",
       "      <th></th>\n",
       "      <th>USERID</th>\n",
       "      <th>genre</th>\n",
       "      <th>book_id</th>\n",
       "    </tr>\n",
       "  </thead>\n",
       "  <tbody>\n",
       "    <tr>\n",
       "      <th>2</th>\n",
       "      <td>1045</td>\n",
       "      <td>Fiction</td>\n",
       "      <td>25</td>\n",
       "    </tr>\n",
       "    <tr>\n",
       "      <th>4</th>\n",
       "      <td>1045</td>\n",
       "      <td>Historical Fiction</td>\n",
       "      <td>13</td>\n",
       "    </tr>\n",
       "    <tr>\n",
       "      <th>1</th>\n",
       "      <td>1045</td>\n",
       "      <td>Fantasy</td>\n",
       "      <td>10</td>\n",
       "    </tr>\n",
       "    <tr>\n",
       "      <th>12</th>\n",
       "      <td>1045</td>\n",
       "      <td>Young Adult</td>\n",
       "      <td>7</td>\n",
       "    </tr>\n",
       "    <tr>\n",
       "      <th>9</th>\n",
       "      <td>1045</td>\n",
       "      <td>Science Fiction</td>\n",
       "      <td>3</td>\n",
       "    </tr>\n",
       "    <tr>\n",
       "      <th>...</th>\n",
       "      <td>...</td>\n",
       "      <td>...</td>\n",
       "      <td>...</td>\n",
       "    </tr>\n",
       "    <tr>\n",
       "      <th>127050</th>\n",
       "      <td>162320498</td>\n",
       "      <td>Drama</td>\n",
       "      <td>1</td>\n",
       "    </tr>\n",
       "    <tr>\n",
       "      <th>127052</th>\n",
       "      <td>162320498</td>\n",
       "      <td>Feminism</td>\n",
       "      <td>1</td>\n",
       "    </tr>\n",
       "    <tr>\n",
       "      <th>127054</th>\n",
       "      <td>162320498</td>\n",
       "      <td>Historical Fiction</td>\n",
       "      <td>1</td>\n",
       "    </tr>\n",
       "    <tr>\n",
       "      <th>127056</th>\n",
       "      <td>162320498</td>\n",
       "      <td>Memoir</td>\n",
       "      <td>1</td>\n",
       "    </tr>\n",
       "    <tr>\n",
       "      <th>127058</th>\n",
       "      <td>162320498</td>\n",
       "      <td>female-sexuality</td>\n",
       "      <td>1</td>\n",
       "    </tr>\n",
       "  </tbody>\n",
       "</table>\n",
       "<p>108369 rows × 3 columns</p>\n",
       "</div>"
      ],
      "text/plain": [
       "           USERID               genre  book_id\n",
       "2            1045             Fiction       25\n",
       "4            1045  Historical Fiction       13\n",
       "1            1045             Fantasy       10\n",
       "12           1045         Young Adult        7\n",
       "9            1045     Science Fiction        3\n",
       "...           ...                 ...      ...\n",
       "127050  162320498               Drama        1\n",
       "127052  162320498            Feminism        1\n",
       "127054  162320498  Historical Fiction        1\n",
       "127056  162320498              Memoir        1\n",
       "127058  162320498    female-sexuality        1\n",
       "\n",
       "[108369 rows x 3 columns]"
      ]
     },
     "execution_count": 44,
     "metadata": {},
     "output_type": "execute_result"
    }
   ],
   "source": [
    "df_genre_user = df.groupby(['USERID', 'genre']).agg({'book_id': 'count'})\n",
    "df_genre_user = df_genre_user.reset_index()\n",
    "df_genre_user = df_genre_user.sort_values(by=['USERID', 'book_id'], ascending=[True, False])\n",
    "df_genre_user = df_genre_user.groupby('USERID').head(20)\n",
    "df_genre_user"
   ]
  },
  {
   "cell_type": "markdown",
   "metadata": {
    "id": "ehVR65ZUD4F8"
   },
   "source": [
    "### Distribution of book rating"
   ]
  },
  {
   "cell_type": "code",
   "execution_count": 45,
   "metadata": {
    "colab": {
     "base_uri": "https://localhost:8080/",
     "height": 295
    },
    "id": "JVkgr58BD4F9",
    "outputId": "ce18e2cd-2ba4-4ab9-b565-aca3025f8e9d"
   },
   "outputs": [
    {
     "data": {
      "image/png": "[encoded data removed]",
      "text/plain": [
       "<Figure size 640x480 with 1 Axes>"
      ]
     },
     "metadata": {},
     "output_type": "display_data"
    }
   ],
   "source": [
    "import matplotlib.pyplot as plt\n",
    "\n",
    "plt.hist(df['rating'], bins=20, edgecolor='black')\n",
    "\n",
    "plt.xlabel('Book Ratings')\n",
    "plt.ylabel('Frequency')\n",
    "plt.title('Distribution of Book Ratings')\n",
    "plt.show()\n"
   ]
  },
  {
   "cell_type": "markdown",
   "metadata": {
    "id": "0YHiiptKD4GF"
   },
   "source": [
    "### Top 10 genres based on the number if books in each genre"
   ]
  },
  {
   "cell_type": "code",
   "execution_count": 46,
   "metadata": {
    "colab": {
     "base_uri": "https://localhost:8080/",
     "height": 621
    },
    "id": "L4gYD_-FD4GF",
    "outputId": "2a7db61f-d86a-4ce2-8ab0-8ce175feba46"
   },
   "outputs": [
    {
     "data": {
      "image/png": "[encoded data removed]",
      "text/plain": [
       "<Figure size 1500x1000 with 1 Axes>"
      ]
     },
     "metadata": {},
     "output_type": "display_data"
    }
   ],
   "source": [
    "import matplotlib.pyplot as plt\n",
    "\n",
    "genre_counts = df['genre'].value_counts()\n",
    "\n",
    "top_genres = genre_counts.head(10)\n",
    "fig, ax = plt.subplots(figsize =(15, 10))\n",
    "plt.bar(top_genres.index, top_genres.values)\n",
    "\n",
    "plt.xlabel('Genre')\n",
    "plt.ylabel('Number of Books')\n",
    "plt.title('Top 10 Genres Based on Number of Books')\n",
    "\n",
    "plt.show()\n"
   ]
  },
  {
   "cell_type": "markdown",
   "metadata": {
    "id": "REHu83T6MBN2"
   },
   "source": [
    "### Era of Books Read By A User"
   ]
  },
  {
   "cell_type": "code",
   "execution_count": 47,
   "metadata": {
    "id": "G1vCuqv7D4GG"
   },
   "outputs": [],
   "source": [
    "def user_book_era(user):\n",
    "    userrows=df.loc[df[\"USERID\"]==user]\n",
    "    r=userrows.iloc[:, 3].values\n",
    "    t=userrows.iloc[:,1].values\n",
    "    \n",
    "    years=[]\n",
    "    for i in r:\n",
    "        years.append(int(i))\n",
    "    \n",
    "    titles=[]\n",
    "    for i in t:\n",
    "        titles.append(i)\n",
    "    \n",
    "    titleyears={}\n",
    "    for key in titles:\n",
    "        for value in years:\n",
    "            titleyears[key] = value\n",
    "            years.remove(value)\n",
    "            break\n",
    "    \n",
    "    sortedtitles=sorted(titleyears.items(), key=lambda x:x[1])\n",
    "    titleyears=dict(sortedtitles)\n",
    "    \n",
    "    dates=list(titleyears.values())\n",
    "    titles=list(titleyears.keys())\n",
    "    \n",
    "    stddev=stats.stdev(dates)\n",
    "    era=[round(dates[0]-(2*stddev)),round(dates[-1]+(2*stddev))]\n",
    "    return era"
   ]
  },
  {
   "cell_type": "code",
   "execution_count": 48,
   "metadata": {},
   "outputs": [
    {
     "data": {
      "text/plain": [
       "[1767, 2088]"
      ]
     },
     "execution_count": 48,
     "metadata": {},
     "output_type": "execute_result"
    }
   ],
   "source": [
    "user_book_era(145682680)"
   ]
  },
  {
   "cell_type": "markdown",
   "metadata": {},
   "source": [
    "### Distribution of User’s Preferred Genres\n"
   ]
  },
  {
   "cell_type": "code",
   "execution_count": 49,
   "metadata": {
    "id": "xioCyPGsD4GG"
   },
   "outputs": [],
   "source": [
    "import squarify\n",
    "def usergenres(user):\n",
    "    userrows=df.loc[df[\"USERID\"]==user]\n",
    "    g=userrows.iloc[:,4].values\n",
    "    \n",
    "    count_dict = {}\n",
    "    for item in g:\n",
    "        if item in count_dict:\n",
    "            count_dict[item] += 1\n",
    "        else:\n",
    "            count_dict[item] = 1\n",
    "    \n",
    "    genre=list(count_dict.keys())\n",
    "    count=list(count_dict.values())\n",
    "    \n",
    "    squarify.plot(sizes=count, label=genre, alpha=.8 )\n",
    "    plt.title(\"Distribution of Genres of User's Read Books\")\n"
   ]
  },
  {
   "cell_type": "code",
   "execution_count": 50,
   "metadata": {},
   "outputs": [
    {
     "data": {
      "image/png": "[encoded data removed]",
      "text/plain": [
       "<Figure size 640x480 with 1 Axes>"
      ]
     },
     "metadata": {},
     "output_type": "display_data"
    }
   ],
   "source": [
    "usergenres(145682680)\n"
   ]
  },
  {
   "cell_type": "markdown",
   "metadata": {},
   "source": [
    "### Distribution of Page Count of User’s Read Books\n"
   ]
  },
  {
   "cell_type": "code",
   "execution_count": 51,
   "metadata": {
    "id": "d-JAtbf5D4GH"
   },
   "outputs": [],
   "source": [
    "def pagecountdist(user):\n",
    "    userrows=df.loc[df[\"USERID\"]==user]\n",
    "    p=userrows.iloc[:,5].values\n",
    "    \n",
    "    for i in p:\n",
    "        if i.isnumeric()==False:\n",
    "            p.remove(i)\n",
    "    \n",
    "    pages=[]\n",
    "    for i in p:\n",
    "        pages.append(int(i))\n",
    "        \n",
    "    pages=pd.Series(pages)\n",
    "    \n",
    "    ax = sns.histplot(pages, color='#9d94ba', bins=10, kde=False)\n",
    "    ax.set(title='Distribution of Page Count of User Books')\n",
    "    plt.axvline(pages.mean(), color=\"purple\", label=\"mean\")\n",
    "    plt.text(x = pages.mean()+3, y = max([h.get_height() for h in ax.patches]), s = \"mean: {:.0f}\".format(pages.mean()), color = \"purple\") \n",
    "\n"
   ]
  },
  {
   "cell_type": "code",
   "execution_count": 52,
   "metadata": {
    "colab": {
     "base_uri": "https://localhost:8080/"
    },
    "id": "ysRsb8ZrD4GH",
    "outputId": "4d3824ef-f155-456e-d072-f26856c6f90c"
   },
   "outputs": [
    {
     "data": {
      "image/png": "[encoded data removed]",
      "text/plain": [
       "<Figure size 640x480 with 1 Axes>"
      ]
     },
     "metadata": {},
     "output_type": "display_data"
    }
   ],
   "source": [
    "pagecountdist(1045)"
   ]
  },
  {
   "cell_type": "markdown",
   "metadata": {},
   "source": [
    "### Top Authors by Rating"
   ]
  },
  {
   "cell_type": "code",
   "execution_count": 53,
   "metadata": {},
   "outputs": [
    {
     "name": "stdout",
     "output_type": "stream",
     "text": [
      "James Patterson    742\n",
      "Stephenie Meyer    571\n",
      "Margaret Atwood    561\n",
      "Colleen Hoover     561\n",
      "J.K. Rowling       558\n",
      "Alexa Riley        551\n",
      "Stephen King       539\n",
      "Agatha Christie    528\n",
      "Rina Kent          518\n",
      "Cassandra Clare    511\n",
      "Name: author, dtype: int64\n",
      "author\n",
      "June Pitman-Hayes       5.0\n",
      "Alena Bruzas            5.0\n",
      "E.A.M. Jakab            5.0\n",
      "Kayla McGrath           5.0\n",
      "Wadzanai Mufunde        5.0\n",
      "Ivy Walker              5.0\n",
      "Bess Lewis              5.0\n",
      "Clancy Tucker           5.0\n",
      "Sami Ellis              5.0\n",
      "Lyra  Blizzard Logan    5.0\n",
      "Name: rating, dtype: float64\n"
     ]
    }
   ],
   "source": [
    "author_counts = df[\"author\"].value_counts()\n",
    "top_authors = author_counts[:10]\n",
    "print(top_authors)\n",
    "\n",
    "avg_ratings_by_author = df.groupby(\"author\")[\"rating\"].mean()\n",
    "top_authors_by_rating = avg_ratings_by_author.sort_values(ascending=False)[:10]\n",
    "print(top_authors_by_rating)"
   ]
  },
  {
   "cell_type": "markdown",
   "metadata": {},
   "source": [
    "### Top Countries by Rating"
   ]
  },
  {
   "cell_type": "code",
   "execution_count": 54,
   "metadata": {},
   "outputs": [
    {
     "name": "stdout",
     "output_type": "stream",
     "text": [
      "ll    38168\n",
      "US    35743\n",
      "GB    30560\n",
      "CA    29882\n",
      "AU    29152\n",
      "NZ    25726\n",
      "SG    24865\n",
      "IE    23924\n",
      "DO    21656\n",
      "TT    19646\n",
      "Name: Country, dtype: int64\n",
      "Country\n",
      "LC    4.050084\n",
      "BB    4.045010\n",
      "GY    4.039049\n",
      "TT    4.035964\n",
      "SC    4.031898\n",
      "AU    4.031484\n",
      "NZ    4.023643\n",
      "MT    4.011640\n",
      "GB    4.004563\n",
      "DO    4.004019\n",
      "Name: rating, dtype: float64\n"
     ]
    }
   ],
   "source": [
    "country_counts = df[\"Country\"].value_counts()\n",
    "top_countries = country_counts[:10]\n",
    "print(top_countries)\n",
    "\n",
    "avg_ratings_by_country = df.groupby(\"Country\")[\"rating\"].mean()\n",
    "top_countries_by_rating = avg_ratings_by_country.sort_values(ascending=False)[:10]\n",
    "print(top_countries_by_rating)"
   ]
  },
  {
   "cell_type": "markdown",
   "metadata": {},
   "source": [
    "### Most Reviewed Books"
   ]
  },
  {
   "cell_type": "code",
   "execution_count": 55,
   "metadata": {},
   "outputs": [
    {
     "name": "stdout",
     "output_type": "stream",
     "text": [
      "                                                    title        author  \\\n",
      "184269                                     Kiss Me, Daddy    Quinn Ward   \n",
      "336354  Whatever Happened to the Hall of Fame? Basebal...    Bill James   \n",
      "279377                                       Why Am I Me?   Paige Britt   \n",
      "68503                                La lección de August  R.J. Palacio   \n",
      "149637                Immoveable Feast: A Paris Christmas   John Baxter   \n",
      "336446  God Hates Astronauts, Vol. 1: The Head That Wo...   Ryan Browne   \n",
      "171193                                       Tanners Dell  S.E. England   \n",
      "292084                                   His Sweet Reward   Alexa Riley   \n",
      "124123                                   Forerunner Foray  Andre Norton   \n",
      "124124                                   Forerunner Foray  Andre Norton   \n",
      "\n",
      "        num_of_rating  num_of_review  \n",
      "184269            999            123  \n",
      "336354            999             32  \n",
      "279377            999            260  \n",
      "68503             999             73  \n",
      "149637            999            170  \n",
      "336446            999            157  \n",
      "171193            999            121  \n",
      "292084            999             82  \n",
      "124123            999             40  \n",
      "124124            999             40  \n",
      "                          title            author  num_of_rating  \\\n",
      "44866   Finn Family Moomintroll      Tove Jansson             14   \n",
      "229773            Piece of Work        Staci Hart              7   \n",
      "274142  Finn Family Moomintroll      Tove Jansson             14   \n",
      "234201            Piece of Work        Staci Hart              7   \n",
      "63238           Saga, Volume 10  Brian K. Vaughan              6   \n",
      "333061            Power of Five       Alex Lidell             15   \n",
      "218108            Power of Five       Alex Lidell             15   \n",
      "91254             Piece of Work        Staci Hart              7   \n",
      "91253             Piece of Work        Staci Hart              7   \n",
      "218040            Piece of Work        Staci Hart              7   \n",
      "\n",
      "        num_of_review  \n",
      "44866             999  \n",
      "229773            999  \n",
      "274142            999  \n",
      "234201            999  \n",
      "63238             999  \n",
      "333061            999  \n",
      "218108            999  \n",
      "91254             999  \n",
      "91253             999  \n",
      "218040            999  \n"
     ]
    }
   ],
   "source": [
    "most_rated_books = df.sort_values(by=\"num_of_rating\", ascending=False)[:10]\n",
    "print(most_rated_books[[\"title\", \"author\", \"num_of_rating\", \"num_of_review\"]])\n",
    "\n",
    "most_reviewed_books = df.sort_values(by=\"num_of_review\", ascending=False)[:10]\n",
    "print(most_reviewed_books[[\"title\", \"author\", \"num_of_rating\", \"num_of_review\"]])"
   ]
  }
 ],
 "metadata": {
  "colab": {
   "provenance": []
  },
  "kernelspec": {
   "display_name": "Python 3 (ipykernel)",
   "language": "python",
   "name": "python3"
  },
  "language_info": {
   "codemirror_mode": {
    "name": "ipython",
    "version": 3
   },
   "file_extension": ".py",
   "mimetype": "text/x-python",
   "name": "python",
   "nbconvert_exporter": "python",
   "pygments_lexer": "ipython3",
   "version": "3.8.8"
  }
 },
 "nbformat": 4,
 "nbformat_minor": 1
}
